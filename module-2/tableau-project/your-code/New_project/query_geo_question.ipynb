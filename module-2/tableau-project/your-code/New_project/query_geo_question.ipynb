{
 "cells": [
  {
   "cell_type": "code",
   "execution_count": 35,
   "metadata": {},
   "outputs": [],
   "source": [
    "# Importar librerias.\n",
    "import pandas as pd\n",
    "import numpy as np\n",
    "import pymongo\n",
    "import geopandas"
   ]
  },
  {
   "cell_type": "code",
   "execution_count": 36,
   "metadata": {},
   "outputs": [],
   "source": [
    "# Cargar la base de de MongoDB.\n",
    "MongoClient = pymongo.MongoClient # Llamar a Mongo (conectar con el cliente).\n",
    "client = MongoClient() # Guardar Mongo en variable cliente.\n",
    "db = client['companies'] # Dentro de mongo conecto con base de dato company."
   ]
  },
  {
   "cell_type": "code",
   "execution_count": null,
   "metadata": {},
   "outputs": [],
   "source": [
    "def connect_mongo():\n",
    "    client = MongoClient ('localhost', 27017)\n",
    "    db = client['companies_clean']\n",
    "    return db\n"
   ]
  },
  {
   "cell_type": "code",
   "execution_count": 37,
   "metadata": {},
   "outputs": [],
   "source": [
    "# https://www.expertmarket.com/focus/research/top-tech-cities"
   ]
  },
  {
   "cell_type": "code",
   "execution_count": 38,
   "metadata": {},
   "outputs": [],
   "source": [
    "def geoquery(lat, long, rad):\n",
    "    client = MongoClient() # Guardar Mongo en variable cliente.\n",
    "    db = client['companies'] \n",
    "    \n",
    "    loc = {\"lng\" : long, \"lat\" : lat} \n",
    "\n",
    "\n",
    "    clean_companies = pd.DataFrame(db.clean_companies.find({\n",
    "        \"coords\": {\n",
    "         \"$near\": {\n",
    "           \"$geometry\": {\n",
    "              \"type\": \"Point\" ,\n",
    "              \"coordinates\": [ loc[\"lng\"] , loc[\"lat\"] ]\n",
    "           },\n",
    "           \"$maxDistance\": rad, # In meters\n",
    "         }\n",
    "       }\n",
    "    }))\n",
    "\n",
    "    return clean_companies"
   ]
  },
  {
   "cell_type": "code",
   "execution_count": 39,
   "metadata": {},
   "outputs": [],
   "source": [
    "san_francisco = geoquery(37.418813, -122.092727, 5000)\n",
    "new_york = geoquery(40.719250, -73.998667, 5000)"
   ]
  },
  {
   "cell_type": "code",
   "execution_count": 70,
   "metadata": {},
   "outputs": [],
   "source": [
    "san_francisco.to_csv('san_francisco.csv')"
   ]
  },
  {
   "cell_type": "code",
   "execution_count": 71,
   "metadata": {},
   "outputs": [],
   "source": [
    "new_york.to_csv('new_york.csv')"
   ]
  }
 ],
 "metadata": {
  "kernelspec": {
   "display_name": "Python 3",
   "language": "python",
   "name": "python3"
  },
  "language_info": {
   "codemirror_mode": {
    "name": "ipython",
    "version": 3
   },
   "file_extension": ".py",
   "mimetype": "text/x-python",
   "name": "python",
   "nbconvert_exporter": "python",
   "pygments_lexer": "ipython3",
   "version": "3.7.2"
  }
 },
 "nbformat": 4,
 "nbformat_minor": 2
}
