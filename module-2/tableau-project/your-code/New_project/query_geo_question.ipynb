{
 "cells": [
  {
   "cell_type": "code",
   "execution_count": 1,
   "metadata": {},
   "outputs": [],
   "source": [
    "# Importar librerias.\n",
    "import pandas as pd\n",
    "import numpy as np\n",
    "import pymongo\n",
    "import geopandas"
   ]
  },
  {
   "cell_type": "code",
   "execution_count": 2,
   "metadata": {},
   "outputs": [],
   "source": [
    "# Cargar la base de de MongoDB.\n",
    "MongoClient = pymongo.MongoClient # Llamar a Mongo (conectar con el cliente).\n",
    "client = MongoClient() # Guardar Mongo en variable cliente.\n",
    "db = client['companies'] # Dentro de mongo conecto con base de dato company."
   ]
  },
  {
   "cell_type": "code",
   "execution_count": 4,
   "metadata": {},
   "outputs": [],
   "source": [
    "# https://www.expertmarket.com/focus/research/top-tech-cities"
   ]
  },
  {
   "cell_type": "code",
   "execution_count": 28,
   "metadata": {},
   "outputs": [],
   "source": [
    "def geoquery(lat, long, rad):\n",
    "    client = MongoClient() # Guardar Mongo en variable cliente.\n",
    "    db = client['companies'] \n",
    "    \n",
    "    loc = {\"lng\" : long, \"lat\" : lat} \n",
    "\n",
    "\n",
    "    clean_companies = pd.DataFrame(db.clean_companies.find({\n",
    "        \"coords\": {\n",
    "         \"$near\": {\n",
    "           \"$geometry\": {\n",
    "              \"type\": \"Point\" ,\n",
    "              \"coordinates\": [ loc[\"lng\"] , loc[\"lat\"] ]\n",
    "           },\n",
    "           \"$maxDistance\": rad, # In meters\n",
    "         }\n",
    "       }\n",
    "    }))\n",
    "\n",
    "    return clean_companies"
   ]
  },
  {
   "cell_type": "code",
   "execution_count": 29,
   "metadata": {},
   "outputs": [],
   "source": [
    "san_francisco = geoquery(37.418813, -122.092727, 5000)\n",
    "new_york = geoquery(40.719250, -73.998667, 5000)\n",
    "seattle = geoquery(47.608774, -122.336782, 5000)\n",
    "austin = geoquery(30.277555, -97.739324, 5000)\n",
    "tel_aviv = geoquery(32.163034, 34.809842, 5000)\n",
    "shanghai = geoquery(31.190287, 121.588975, 5000)\n",
    "bangalore = geoquery(12.839807, 77.651596, 5000)\n",
    "london = geoquery(51.525552, -0.086884, 5000)\n",
    "vancouver = geoquery(49.281732, -123.123152, 5000)\n",
    "dublin = geoquery(53.275929, -6.205109, 5000)\n",
    "amesterdam = geoquery(52.352908, 4.797444, 5000)\n"
   ]
  },
  {
   "cell_type": "code",
   "execution_count": 30,
   "metadata": {},
   "outputs": [
    {
     "data": {
      "text/html": [
       "<div>\n",
       "<style scoped>\n",
       "    .dataframe tbody tr th:only-of-type {\n",
       "        vertical-align: middle;\n",
       "    }\n",
       "\n",
       "    .dataframe tbody tr th {\n",
       "        vertical-align: top;\n",
       "    }\n",
       "\n",
       "    .dataframe thead th {\n",
       "        text-align: right;\n",
       "    }\n",
       "</style>\n",
       "<table border=\"1\" class=\"dataframe\">\n",
       "  <thead>\n",
       "    <tr style=\"text-align: right;\">\n",
       "      <th></th>\n",
       "      <th>_id</th>\n",
       "      <th>category</th>\n",
       "      <th>coords</th>\n",
       "      <th>founded_year</th>\n",
       "      <th>latitude</th>\n",
       "      <th>longitude</th>\n",
       "      <th>name</th>\n",
       "      <th>number_of_employees</th>\n",
       "      <th>tamaño_empresa</th>\n",
       "      <th>total_money_raised</th>\n",
       "    </tr>\n",
       "  </thead>\n",
       "  <tbody>\n",
       "    <tr>\n",
       "      <th>0</th>\n",
       "      <td>5cd43dad622ab7376099fe07</td>\n",
       "      <td>software</td>\n",
       "      <td>{'type': 'Point', 'coordinates': [-97.746387, ...</td>\n",
       "      <td>2007</td>\n",
       "      <td>30.276460</td>\n",
       "      <td>-97.746387</td>\n",
       "      <td>Compulsivo</td>\n",
       "      <td>2</td>\n",
       "      <td>startup</td>\n",
       "      <td>$0</td>\n",
       "    </tr>\n",
       "    <tr>\n",
       "      <th>1</th>\n",
       "      <td>5cd43dad622ab737609a02d6</td>\n",
       "      <td>web</td>\n",
       "      <td>{'type': 'Point', 'coordinates': [-97.7443863,...</td>\n",
       "      <td>2007</td>\n",
       "      <td>30.272921</td>\n",
       "      <td>-97.744386</td>\n",
       "      <td>Gowalla</td>\n",
       "      <td>22</td>\n",
       "      <td>small</td>\n",
       "      <td>$10.4M</td>\n",
       "    </tr>\n",
       "    <tr>\n",
       "      <th>2</th>\n",
       "      <td>5cd43dad622ab737609a0415</td>\n",
       "      <td>other</td>\n",
       "      <td>{'type': 'Point', 'coordinates': [-97.740833, ...</td>\n",
       "      <td>2009</td>\n",
       "      <td>30.269967</td>\n",
       "      <td>-97.740833</td>\n",
       "      <td>LaunchPad Coworking</td>\n",
       "      <td>6</td>\n",
       "      <td>startup</td>\n",
       "      <td>$0</td>\n",
       "    </tr>\n",
       "    <tr>\n",
       "      <th>3</th>\n",
       "      <td>5cd43dad622ab7376099ffb1</td>\n",
       "      <td>messaging</td>\n",
       "      <td>{'type': 'Point', 'coordinates': [-97.740395, ...</td>\n",
       "      <td>2008</td>\n",
       "      <td>30.269004</td>\n",
       "      <td>-97.740395</td>\n",
       "      <td>OtherInbox</td>\n",
       "      <td>14</td>\n",
       "      <td>small</td>\n",
       "      <td>$3.8M</td>\n",
       "    </tr>\n",
       "    <tr>\n",
       "      <th>4</th>\n",
       "      <td>5cd43dad622ab737609a00a1</td>\n",
       "      <td>software</td>\n",
       "      <td>{'type': 'Point', 'coordinates': [-97.745209, ...</td>\n",
       "      <td>2008</td>\n",
       "      <td>30.268735</td>\n",
       "      <td>-97.745209</td>\n",
       "      <td>Ninth Yard</td>\n",
       "      <td>1</td>\n",
       "      <td>startup</td>\n",
       "      <td>$0</td>\n",
       "    </tr>\n",
       "  </tbody>\n",
       "</table>\n",
       "</div>"
      ],
      "text/plain": [
       "                        _id   category  \\\n",
       "0  5cd43dad622ab7376099fe07   software   \n",
       "1  5cd43dad622ab737609a02d6        web   \n",
       "2  5cd43dad622ab737609a0415      other   \n",
       "3  5cd43dad622ab7376099ffb1  messaging   \n",
       "4  5cd43dad622ab737609a00a1   software   \n",
       "\n",
       "                                              coords  founded_year   latitude  \\\n",
       "0  {'type': 'Point', 'coordinates': [-97.746387, ...          2007  30.276460   \n",
       "1  {'type': 'Point', 'coordinates': [-97.7443863,...          2007  30.272921   \n",
       "2  {'type': 'Point', 'coordinates': [-97.740833, ...          2009  30.269967   \n",
       "3  {'type': 'Point', 'coordinates': [-97.740395, ...          2008  30.269004   \n",
       "4  {'type': 'Point', 'coordinates': [-97.745209, ...          2008  30.268735   \n",
       "\n",
       "   longitude                 name  number_of_employees tamaño_empresa  \\\n",
       "0 -97.746387           Compulsivo                    2        startup   \n",
       "1 -97.744386              Gowalla                   22          small   \n",
       "2 -97.740833  LaunchPad Coworking                    6        startup   \n",
       "3 -97.740395           OtherInbox                   14          small   \n",
       "4 -97.745209           Ninth Yard                    1        startup   \n",
       "\n",
       "  total_money_raised  \n",
       "0                 $0  \n",
       "1             $10.4M  \n",
       "2                 $0  \n",
       "3              $3.8M  \n",
       "4                 $0  "
      ]
     },
     "execution_count": 30,
     "metadata": {},
     "output_type": "execute_result"
    }
   ],
   "source": [
    "austin.head()"
   ]
  },
  {
   "cell_type": "code",
   "execution_count": 31,
   "metadata": {},
   "outputs": [
    {
     "ename": "SyntaxError",
     "evalue": "invalid syntax (<ipython-input-31-ae8c2cb1f860>, line 1)",
     "output_type": "error",
     "traceback": [
      "\u001b[0;36m  File \u001b[0;32m\"<ipython-input-31-ae8c2cb1f860>\"\u001b[0;36m, line \u001b[0;32m1\u001b[0m\n\u001b[0;31m    frames = [san_francisco, new_york, seattle, austin tel_aviv, shanghai, bangalore, london, vancouver, dublin, amesterdam]\u001b[0m\n\u001b[0m                                                              ^\u001b[0m\n\u001b[0;31mSyntaxError\u001b[0m\u001b[0;31m:\u001b[0m invalid syntax\n"
     ]
    }
   ],
   "source": [
    "frames = [san_francisco, new_york, seattle, austin tel_aviv, shanghai, bangalore, london, vancouver, dublin, amesterdam]\n",
    "result = pd.concat(frames).reset_index(drop=True)\n",
    "result.head()\n"
   ]
  },
  {
   "cell_type": "code",
   "execution_count": null,
   "metadata": {},
   "outputs": [],
   "source": []
  },
  {
   "cell_type": "code",
   "execution_count": 27,
   "metadata": {},
   "outputs": [],
   "source": [
    "result.to_csv('prueba_final.csv')"
   ]
  },
  {
   "cell_type": "code",
   "execution_count": null,
   "metadata": {},
   "outputs": [],
   "source": []
  }
 ],
 "metadata": {
  "kernelspec": {
   "display_name": "Python 3",
   "language": "python",
   "name": "python3"
  },
  "language_info": {
   "codemirror_mode": {
    "name": "ipython",
    "version": 3
   },
   "file_extension": ".py",
   "mimetype": "text/x-python",
   "name": "python",
   "nbconvert_exporter": "python",
   "pygments_lexer": "ipython3",
   "version": "3.7.2"
  }
 },
 "nbformat": 4,
 "nbformat_minor": 2
}
