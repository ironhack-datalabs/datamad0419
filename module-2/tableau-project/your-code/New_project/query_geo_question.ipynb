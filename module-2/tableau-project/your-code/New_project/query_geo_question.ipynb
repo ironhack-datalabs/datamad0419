{
 "cells": [
  {
   "cell_type": "code",
   "execution_count": 1,
   "metadata": {},
   "outputs": [],
   "source": [
    "# Importar librerias.\n",
    "import pandas as pd\n",
    "import numpy as np\n",
    "import pymongo\n",
    "import geopandas"
   ]
  },
  {
   "cell_type": "code",
   "execution_count": 2,
   "metadata": {},
   "outputs": [],
   "source": [
    "# Cargar la base de de MongoDB.\n",
    "MongoClient = pymongo.MongoClient # Llamar a Mongo (conectar con el cliente).\n",
    "client = MongoClient() # Guardar Mongo en variable cliente.\n",
    "db = client['companies'] # Dentro de mongo conecto con base de dato company."
   ]
  },
  {
   "cell_type": "code",
   "execution_count": 17,
   "metadata": {},
   "outputs": [],
   "source": [
    "def geoquery(lat, long, rad):\n",
    "    client = MongoClient() # Guardar Mongo en variable cliente.\n",
    "    db = client['companies'] \n",
    "    \n",
    "    loc = {\"lng\" : long, \"lat\" : lat} \n",
    "\n",
    "\n",
    "    clean_companies = pd.DataFrame(db.clean_companies.find({\n",
    "        \"coords\": {\n",
    "         \"$near\": {\n",
    "           \"$geometry\": {\n",
    "              \"type\": \"Point\" ,\n",
    "              \"coordinates\": [ loc[\"lng\"] , loc[\"lat\"] ]\n",
    "           },\n",
    "           \"$maxDistance\": rad, # In meters\n",
    "         }\n",
    "       }\n",
    "    }))\n",
    "\n",
    "    return clean_companies"
   ]
  },
  {
   "cell_type": "code",
   "execution_count": 18,
   "metadata": {},
   "outputs": [],
   "source": [
    "# https://www.expertmarket.com/focus/research/top-tech-cities"
   ]
  },
  {
   "cell_type": "code",
   "execution_count": 19,
   "metadata": {},
   "outputs": [],
   "source": [
    "san_francisco = geoquery(37.418813, -122.092727, 5000)\n",
    "new_york = geoquery(40.719250, -73.998667, 5000)\n",
    "seattle = geoquery(47.608774, -122.336782, 5000)\n",
    "berlin = geoquery(52.529916, 13.384525, 5000)\n",
    "tel_aviv = geoquery(32.163034, 34.809842, 5000)\n",
    "shanghai = geoquery(31.190287, 121.588975, 5000)\n",
    "bangalore = geoquery(12.839807, 77.651596, 5000)\n",
    "london = geoquery(51.525552, -0.086884, 5000)\n",
    "vancouver = geoquery(49.281732, -123.123152, 5000)\n",
    "dublin = geoquery(53.275929, -6.205109, 5000)\n",
    "amesterdam = geoquery(52.352908, 4.797444, 5000)\n"
   ]
  },
  {
   "cell_type": "code",
   "execution_count": 22,
   "metadata": {},
   "outputs": [
    {
     "data": {
      "text/html": [
       "<div>\n",
       "<style scoped>\n",
       "    .dataframe tbody tr th:only-of-type {\n",
       "        vertical-align: middle;\n",
       "    }\n",
       "\n",
       "    .dataframe tbody tr th {\n",
       "        vertical-align: top;\n",
       "    }\n",
       "\n",
       "    .dataframe thead th {\n",
       "        text-align: right;\n",
       "    }\n",
       "</style>\n",
       "<table border=\"1\" class=\"dataframe\">\n",
       "  <thead>\n",
       "    <tr style=\"text-align: right;\">\n",
       "      <th></th>\n",
       "      <th>_id</th>\n",
       "      <th>category</th>\n",
       "      <th>coords</th>\n",
       "      <th>founded_year</th>\n",
       "      <th>latitude</th>\n",
       "      <th>longitude</th>\n",
       "      <th>name</th>\n",
       "      <th>number_of_employees</th>\n",
       "      <th>tamaño_empresa</th>\n",
       "      <th>total_money_raised</th>\n",
       "    </tr>\n",
       "  </thead>\n",
       "  <tbody>\n",
       "    <tr>\n",
       "      <th>0</th>\n",
       "      <td>5cd43dad622ab737609a0040</td>\n",
       "      <td>mobile</td>\n",
       "      <td>{'type': 'Point', 'coordinates': [-122.0937686...</td>\n",
       "      <td>2006</td>\n",
       "      <td>37.418610</td>\n",
       "      <td>-122.093769</td>\n",
       "      <td>Jibe Mobile</td>\n",
       "      <td>10</td>\n",
       "      <td>startup</td>\n",
       "      <td>$9.1M</td>\n",
       "    </tr>\n",
       "    <tr>\n",
       "      <th>1</th>\n",
       "      <td>5cd43dad622ab737609a0771</td>\n",
       "      <td>medical</td>\n",
       "      <td>{'type': 'Point', 'coordinates': [-122.0933053...</td>\n",
       "      <td>2009</td>\n",
       "      <td>37.420207</td>\n",
       "      <td>-122.093305</td>\n",
       "      <td>drchrono</td>\n",
       "      <td>50</td>\n",
       "      <td>small</td>\n",
       "      <td>$4.13M</td>\n",
       "    </tr>\n",
       "    <tr>\n",
       "      <th>2</th>\n",
       "      <td>5cd43dad622ab737609a066e</td>\n",
       "      <td>network_hosting</td>\n",
       "      <td>{'type': 'Point', 'coordinates': [-122.0884286...</td>\n",
       "      <td>2009</td>\n",
       "      <td>37.418907</td>\n",
       "      <td>-122.088429</td>\n",
       "      <td>Gridstore</td>\n",
       "      <td>31</td>\n",
       "      <td>small</td>\n",
       "      <td>€25M</td>\n",
       "    </tr>\n",
       "    <tr>\n",
       "      <th>3</th>\n",
       "      <td>5cd43dad622ab7376099ffde</td>\n",
       "      <td>web</td>\n",
       "      <td>{'type': 'Point', 'coordinates': [-122.087471,...</td>\n",
       "      <td>2007</td>\n",
       "      <td>37.419041</td>\n",
       "      <td>-122.087471</td>\n",
       "      <td>Crowd Science</td>\n",
       "      <td>25</td>\n",
       "      <td>small</td>\n",
       "      <td>$2M</td>\n",
       "    </tr>\n",
       "    <tr>\n",
       "      <th>4</th>\n",
       "      <td>5cd43dad622ab737609a0388</td>\n",
       "      <td>enterprise</td>\n",
       "      <td>{'type': 'Point', 'coordinates': [-122.087417,...</td>\n",
       "      <td>2006</td>\n",
       "      <td>37.418616</td>\n",
       "      <td>-122.087417</td>\n",
       "      <td>SOASTA</td>\n",
       "      <td>100</td>\n",
       "      <td>small</td>\n",
       "      <td>$63.6M</td>\n",
       "    </tr>\n",
       "  </tbody>\n",
       "</table>\n",
       "</div>"
      ],
      "text/plain": [
       "                        _id         category  \\\n",
       "0  5cd43dad622ab737609a0040           mobile   \n",
       "1  5cd43dad622ab737609a0771          medical   \n",
       "2  5cd43dad622ab737609a066e  network_hosting   \n",
       "3  5cd43dad622ab7376099ffde              web   \n",
       "4  5cd43dad622ab737609a0388       enterprise   \n",
       "\n",
       "                                              coords  founded_year   latitude  \\\n",
       "0  {'type': 'Point', 'coordinates': [-122.0937686...          2006  37.418610   \n",
       "1  {'type': 'Point', 'coordinates': [-122.0933053...          2009  37.420207   \n",
       "2  {'type': 'Point', 'coordinates': [-122.0884286...          2009  37.418907   \n",
       "3  {'type': 'Point', 'coordinates': [-122.087471,...          2007  37.419041   \n",
       "4  {'type': 'Point', 'coordinates': [-122.087417,...          2006  37.418616   \n",
       "\n",
       "    longitude           name  number_of_employees tamaño_empresa  \\\n",
       "0 -122.093769    Jibe Mobile                   10        startup   \n",
       "1 -122.093305       drchrono                   50          small   \n",
       "2 -122.088429      Gridstore                   31          small   \n",
       "3 -122.087471  Crowd Science                   25          small   \n",
       "4 -122.087417         SOASTA                  100          small   \n",
       "\n",
       "  total_money_raised  \n",
       "0              $9.1M  \n",
       "1             $4.13M  \n",
       "2               €25M  \n",
       "3                $2M  \n",
       "4             $63.6M  "
      ]
     },
     "execution_count": 22,
     "metadata": {},
     "output_type": "execute_result"
    }
   ],
   "source": [
    "san_francisco.head()"
   ]
  },
  {
   "cell_type": "code",
   "execution_count": null,
   "metadata": {},
   "outputs": [],
   "source": [
    "clean_companies.to_csv('query_geo_question.csv')"
   ]
  },
  {
   "cell_type": "code",
   "execution_count": null,
   "metadata": {},
   "outputs": [],
   "source": []
  }
 ],
 "metadata": {
  "kernelspec": {
   "display_name": "Python 3",
   "language": "python",
   "name": "python3"
  },
  "language_info": {
   "codemirror_mode": {
    "name": "ipython",
    "version": 3
   },
   "file_extension": ".py",
   "mimetype": "text/x-python",
   "name": "python",
   "nbconvert_exporter": "python",
   "pygments_lexer": "ipython3",
   "version": "3.7.2"
  }
 },
 "nbformat": 4,
 "nbformat_minor": 2
}
