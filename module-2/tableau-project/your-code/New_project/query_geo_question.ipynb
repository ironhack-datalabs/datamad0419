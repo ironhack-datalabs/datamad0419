{
 "cells": [
  {
   "cell_type": "code",
   "execution_count": 5,
   "metadata": {},
   "outputs": [],
   "source": [
    "# Importar librerias.\n",
    "import pandas as pd\n",
    "import numpy as np\n",
    "import pymongo\n",
    "import geopandas"
   ]
  },
  {
   "cell_type": "code",
   "execution_count": 8,
   "metadata": {},
   "outputs": [],
   "source": [
    "# Cargar la base de de MongoDB.\n",
    "MongoClient = pymongo.MongoClient # Llamar a Mongo (conectar con el cliente).\n",
    "client = MongoClient() # Guardar Mongo en variable cliente.\n",
    "db = client['companies'] # Dentro de mongo conecto con base de dato company."
   ]
  },
  {
   "cell_type": "code",
   "execution_count": 12,
   "metadata": {},
   "outputs": [
    {
     "data": {
      "text/plain": [
       "142"
      ]
     },
     "execution_count": 12,
     "metadata": {},
     "output_type": "execute_result"
    }
   ],
   "source": [
    "nearLocation = {\n",
    "    \"lng\": 40.717432,\n",
    "    \"lat\": -73.994943\n",
    "}\n",
    "\n",
    " = pd.DataFrame(db.clean_companies.find({\n",
    "    \"coords\": {\n",
    "     \"$near\": {\n",
    "       \"$geometry\": {\n",
    "          \"type\": \"Point\" ,\n",
    "          \"coordinates\": [ nearLocation[\"lat\"] , nearLocation[\"lng\"] ]\n",
    "       },\n",
    "       \"$maxDistance\": 5000, # In meters\n",
    "     }\n",
    "   }\n",
    "}))\n",
    "\n",
    "len(clean_companies)"
   ]
  },
  {
   "cell_type": "code",
   "execution_count": 13,
   "metadata": {},
   "outputs": [
    {
     "data": {
      "text/html": [
       "<div>\n",
       "<style scoped>\n",
       "    .dataframe tbody tr th:only-of-type {\n",
       "        vertical-align: middle;\n",
       "    }\n",
       "\n",
       "    .dataframe tbody tr th {\n",
       "        vertical-align: top;\n",
       "    }\n",
       "\n",
       "    .dataframe thead th {\n",
       "        text-align: right;\n",
       "    }\n",
       "</style>\n",
       "<table border=\"1\" class=\"dataframe\">\n",
       "  <thead>\n",
       "    <tr style=\"text-align: right;\">\n",
       "      <th></th>\n",
       "      <th>_id</th>\n",
       "      <th>category</th>\n",
       "      <th>coords</th>\n",
       "      <th>founded_year</th>\n",
       "      <th>latitude</th>\n",
       "      <th>longitude</th>\n",
       "      <th>name</th>\n",
       "      <th>number_of_employees</th>\n",
       "      <th>tamaño_empresa</th>\n",
       "      <th>total_money_raised</th>\n",
       "    </tr>\n",
       "  </thead>\n",
       "  <tbody>\n",
       "    <tr>\n",
       "      <th>0</th>\n",
       "      <td>5cd43dad622ab737609a06b2</td>\n",
       "      <td>finance</td>\n",
       "      <td>{'type': 'Point', 'coordinates': [-73.9983139,...</td>\n",
       "      <td>2008</td>\n",
       "      <td>40.720391</td>\n",
       "      <td>-73.998314</td>\n",
       "      <td>Kapitall</td>\n",
       "      <td>15</td>\n",
       "      <td>small</td>\n",
       "      <td>$7.3M</td>\n",
       "    </tr>\n",
       "    <tr>\n",
       "      <th>1</th>\n",
       "      <td>5cd43dad622ab7376099fe52</td>\n",
       "      <td>web</td>\n",
       "      <td>{'type': 'Point', 'coordinates': [-74.00118, 4...</td>\n",
       "      <td>2007</td>\n",
       "      <td>40.718871</td>\n",
       "      <td>-74.001180</td>\n",
       "      <td>Thrive</td>\n",
       "      <td>15</td>\n",
       "      <td>small</td>\n",
       "      <td>$0</td>\n",
       "    </tr>\n",
       "    <tr>\n",
       "      <th>2</th>\n",
       "      <td>5cd43dad622ab737609a02d9</td>\n",
       "      <td>public_relations</td>\n",
       "      <td>{'type': 'Point', 'coordinates': [-73.9973, 40...</td>\n",
       "      <td>2007</td>\n",
       "      <td>40.722118</td>\n",
       "      <td>-73.997300</td>\n",
       "      <td>GroundRez</td>\n",
       "      <td>20</td>\n",
       "      <td>small</td>\n",
       "      <td>$0</td>\n",
       "    </tr>\n",
       "    <tr>\n",
       "      <th>3</th>\n",
       "      <td>5cd43dad622ab737609a062b</td>\n",
       "      <td>other</td>\n",
       "      <td>{'type': 'Point', 'coordinates': [-73.9964376,...</td>\n",
       "      <td>2007</td>\n",
       "      <td>40.723714</td>\n",
       "      <td>-73.996438</td>\n",
       "      <td>Undercurrent</td>\n",
       "      <td>18</td>\n",
       "      <td>small</td>\n",
       "      <td>$0</td>\n",
       "    </tr>\n",
       "    <tr>\n",
       "      <th>4</th>\n",
       "      <td>5cd43dad622ab7376099fe9d</td>\n",
       "      <td>enterprise</td>\n",
       "      <td>{'type': 'Point', 'coordinates': [-73.997026, ...</td>\n",
       "      <td>2007</td>\n",
       "      <td>40.724421</td>\n",
       "      <td>-73.997026</td>\n",
       "      <td>Trendrr</td>\n",
       "      <td>20</td>\n",
       "      <td>small</td>\n",
       "      <td>$0</td>\n",
       "    </tr>\n",
       "  </tbody>\n",
       "</table>\n",
       "</div>"
      ],
      "text/plain": [
       "                        _id          category  \\\n",
       "0  5cd43dad622ab737609a06b2           finance   \n",
       "1  5cd43dad622ab7376099fe52               web   \n",
       "2  5cd43dad622ab737609a02d9  public_relations   \n",
       "3  5cd43dad622ab737609a062b             other   \n",
       "4  5cd43dad622ab7376099fe9d        enterprise   \n",
       "\n",
       "                                              coords  founded_year   latitude  \\\n",
       "0  {'type': 'Point', 'coordinates': [-73.9983139,...          2008  40.720391   \n",
       "1  {'type': 'Point', 'coordinates': [-74.00118, 4...          2007  40.718871   \n",
       "2  {'type': 'Point', 'coordinates': [-73.9973, 40...          2007  40.722118   \n",
       "3  {'type': 'Point', 'coordinates': [-73.9964376,...          2007  40.723714   \n",
       "4  {'type': 'Point', 'coordinates': [-73.997026, ...          2007  40.724421   \n",
       "\n",
       "   longitude          name  number_of_employees tamaño_empresa  \\\n",
       "0 -73.998314      Kapitall                   15          small   \n",
       "1 -74.001180        Thrive                   15          small   \n",
       "2 -73.997300     GroundRez                   20          small   \n",
       "3 -73.996438  Undercurrent                   18          small   \n",
       "4 -73.997026       Trendrr                   20          small   \n",
       "\n",
       "  total_money_raised  \n",
       "0              $7.3M  \n",
       "1                 $0  \n",
       "2                 $0  \n",
       "3                 $0  \n",
       "4                 $0  "
      ]
     },
     "execution_count": 13,
     "metadata": {},
     "output_type": "execute_result"
    }
   ],
   "source": [
    "clean_companies.head()"
   ]
  },
  {
   "cell_type": "code",
   "execution_count": 15,
   "metadata": {},
   "outputs": [],
   "source": [
    "clean_companies.to_csv('query_geo_question.csv')"
   ]
  },
  {
   "cell_type": "code",
   "execution_count": null,
   "metadata": {},
   "outputs": [],
   "source": []
  }
 ],
 "metadata": {
  "kernelspec": {
   "display_name": "Python 3",
   "language": "python",
   "name": "python3"
  },
  "language_info": {
   "codemirror_mode": {
    "name": "ipython",
    "version": 3
   },
   "file_extension": ".py",
   "mimetype": "text/x-python",
   "name": "python",
   "nbconvert_exporter": "python",
   "pygments_lexer": "ipython3",
   "version": "3.7.2"
  }
 },
 "nbformat": 4,
 "nbformat_minor": 2
}
