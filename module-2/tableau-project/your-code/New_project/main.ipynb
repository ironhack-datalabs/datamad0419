{
 "cells": [
  {
   "cell_type": "markdown",
   "metadata": {},
   "source": [
    "### Establecer la localización más óptima para las oficinas de una empresa de video juegos con los siguientes condiciones:\n",
    "\n",
    "##### -Es una compañía de software que crea videojuegos.\n",
    "##### -Tiene 50 empleados. Los roles dentro de la nueva compañía son: 20 desarrolladores, 20 diseñadores/creativos/UX-UI y 10 ejecutivos/managers.\n",
    "##### -Debe haber ingenieros de software trabajando alrededor, así como diseñadores, desarrolladores y ejecutivos para cubrir los intereses del equipo.\n",
    "##### -Debe haber un buen ratio de empresas grandes vs. startups.\n",
    "##### -Se prefieren empresas de reciente creación.\n",
    "\n",
    "\n"
   ]
  },
  {
   "cell_type": "code",
   "execution_count": 24,
   "metadata": {},
   "outputs": [],
   "source": [
    "# Importar librerias.\n",
    "import pandas as pd\n",
    "import numpy as np\n",
    "import pymongo\n",
    "import geopandas"
   ]
  },
  {
   "cell_type": "code",
   "execution_count": 2,
   "metadata": {},
   "outputs": [],
   "source": [
    "# Cargar la base de de MongoDB.\n",
    "MongoClient = pymongo.MongoClient # Llamar a Mongo (conectar con el cliente).\n",
    "client = MongoClient() # Guardar Mongo en variable cliente.\n",
    "db = client.companies # Dentro de mongo conecto con base de dato company."
   ]
  },
  {
   "cell_type": "code",
   "execution_count": 3,
   "metadata": {},
   "outputs": [
    {
     "name": "stdout",
     "output_type": "stream",
     "text": [
      "['enterprise', 'software', 'web', 'news', 'network_hosting', 'games_video', 'music', 'mobile', 'social', 'search', 'messaging', 'advertising', 'security', 'photo_video', 'finance', 'ecommerce', 'travel', 'hardware', 'public_relations', 'other', 'real_estate', 'semiconductor', 'analytics', 'health', 'legal', 'sports', 'biotech', 'cleantech', 'education', 'consulting', 'transportation', None, 'hospitality', 'fashion', 'nonprofit', 'nanotech', 'automotive', 'design', 'manufacturing', 'government', 'local', 'medical']\n"
     ]
    }
   ],
   "source": [
    "# Imprimo todas las categorias para ver que tengo.\n",
    "cursor = db.companies.find({'category_code':{'$exists': 'true'}}) # Creo mi cursor para iterar secuencialmente los resultados obtenidos de la query.\n",
    "categories = list(map(lambda x:x['category_code'], list(cursor))) # Creo función lambda para que me consiga todos mis category_code que debo convertir en lista ya que es un objeto.\n",
    "\n",
    "category_codes = [] # Asigno y creo lista vacia a category_codes.\n",
    "for element in categories: # Para cada elemento en categories \n",
    "    if element not in category_codes: # si el elemento no esta en category_codes\n",
    "        category_codes.append(element) # Entonces mi lista vacia de category_codes le voy a .append(agregar) el elemento\n",
    "    else:                              # si no.\n",
    "        pass                           # pasa.\n",
    "print(category_codes)   # Display todas las catergory_codes de mi lista.  "
   ]
  },
  {
   "cell_type": "code",
   "execution_count": 4,
   "metadata": {},
   "outputs": [],
   "source": [
    "# Creando cursor con los parametros que necesito\n",
    "# Pongo deadpooled_year: None ya que no me interesa que aparezca en mi data frame las empresas que estan o irán a quiebra.\n",
    "#companies_interest_cursor = list(db.companies.find({\"deadpooled_year\": None},\n",
    "                                       #{\"_id\":0,\"name\":1,\"category_code\":1,\"number_of_employees\":1,\n",
    "                                       #\"total_money_raised\":1,\"founded_year\":1,\n",
    "                                       #\"offices.latitude\":1,\"offices.longitude\":1}))\n"
   ]
  },
  {
   "cell_type": "code",
   "execution_count": 8,
   "metadata": {},
   "outputs": [],
   "source": [
    "companies_interest_cursor = db.companies.find({\"$and\": \n",
    "                               [{\"offices.latitude\": {\"$exists\": True}}, {\"offices.latitude\": {\"$ne\": None}},\n",
    "                                {\"offices.longitude\": {\"$exists\": True}}, {\"offices.longitude\": {\"$ne\": None}},\n",
    "                                {\"category_code\": {\"$exists\": True}}, {\"category_code\": {\"$ne\": None}},\n",
    "                                {\"name\": {\"$exists\": True}}, {\"name\": {\"$ne\": None}},\n",
    "                                {\"deadpooled_year\": {\"$ne\": None}},\n",
    "                                {\"founded_year\": {\"$gte\": 2008}}, \n",
    "                                {\"category_code\": {\"$ne\": [\"enterprise\", \"news\", \"music\", \"social\", \"mobile\",\n",
    "                                                          \"advertising\", \"security\", \"messaging\", \"finance\",\n",
    "                                                          \"ecommerce\", \"travel\", \"public_relations\",\"other\", \n",
    "                                                           \"real_estate\",\"semiconductor\", \"analytics\", \"health\",\n",
    "                                                          \"legal\", \"sports\", \"education\", \"consulting\",\n",
    "                                                           \"transportation\", \"None\", \"hospitality\", \"fashion\"\n",
    "                                                          \"nonprofit\", \"automotive\", \"design\", \"manufacturing\"\n",
    "                                                          \"government\", \"local\", \"medical\"]}}]}, \n",
    "                              \n",
    "                                {\"_id\":1, \n",
    "                                 \"category_code\":1,\n",
    "                                 \"founded_year\":1,\n",
    "                                 \"ipo.valuation_amount\":1, \n",
    "                                 \"name\":1,\n",
    "                                 \"number_of_employees\":1,\n",
    "                                 \"offices.latitude\":1,\n",
    "                                 \"offices.longitude\":1,\n",
    "                                 \"total_money_raised\":1})"
   ]
  },
  {
   "cell_type": "code",
   "execution_count": 9,
   "metadata": {},
   "outputs": [
    {
     "data": {
      "text/plain": [
       "(118, 7)"
      ]
     },
     "metadata": {},
     "output_type": "display_data"
    }
   ],
   "source": [
    "df_companies = pd.DataFrame(companies_interest_cursor) # Creando dataframe con companies_interest_cursor\n",
    "\n",
    "display(df_companies.shape) # Mostrando el tamaño de mi dataframe."
   ]
  },
  {
   "cell_type": "code",
   "execution_count": 10,
   "metadata": {},
   "outputs": [
    {
     "data": {
      "text/html": [
       "<div>\n",
       "<style scoped>\n",
       "    .dataframe tbody tr th:only-of-type {\n",
       "        vertical-align: middle;\n",
       "    }\n",
       "\n",
       "    .dataframe tbody tr th {\n",
       "        vertical-align: top;\n",
       "    }\n",
       "\n",
       "    .dataframe thead th {\n",
       "        text-align: right;\n",
       "    }\n",
       "</style>\n",
       "<table border=\"1\" class=\"dataframe\">\n",
       "  <thead>\n",
       "    <tr style=\"text-align: right;\">\n",
       "      <th></th>\n",
       "      <th>_id</th>\n",
       "      <th>category_code</th>\n",
       "      <th>founded_year</th>\n",
       "      <th>name</th>\n",
       "      <th>number_of_employees</th>\n",
       "      <th>offices</th>\n",
       "      <th>total_money_raised</th>\n",
       "    </tr>\n",
       "  </thead>\n",
       "  <tbody>\n",
       "    <tr>\n",
       "      <th>0</th>\n",
       "      <td>52cdef7c4bab8bd6752980bb</td>\n",
       "      <td>enterprise</td>\n",
       "      <td>2010</td>\n",
       "      <td>Needium</td>\n",
       "      <td>15.0</td>\n",
       "      <td>[{'latitude': 45.5049305, 'longitude': -73.568...</td>\n",
       "      <td>$1M</td>\n",
       "    </tr>\n",
       "    <tr>\n",
       "      <th>1</th>\n",
       "      <td>52cdef7c4bab8bd6752982d4</td>\n",
       "      <td>advertising</td>\n",
       "      <td>2013</td>\n",
       "      <td>Advaliant</td>\n",
       "      <td>60.0</td>\n",
       "      <td>[{'latitude': 43.646599, 'longitude': -79.4030...</td>\n",
       "      <td>$100k</td>\n",
       "    </tr>\n",
       "    <tr>\n",
       "      <th>2</th>\n",
       "      <td>52cdef7c4bab8bd6752982ec</td>\n",
       "      <td>web</td>\n",
       "      <td>2008</td>\n",
       "      <td>8aweek</td>\n",
       "      <td>NaN</td>\n",
       "      <td>[{'latitude': 37.09024, 'longitude': -95.712891}]</td>\n",
       "      <td>$0</td>\n",
       "    </tr>\n",
       "    <tr>\n",
       "      <th>3</th>\n",
       "      <td>52cdef7c4bab8bd675298367</td>\n",
       "      <td>web</td>\n",
       "      <td>2008</td>\n",
       "      <td>JackPot Rewards</td>\n",
       "      <td>NaN</td>\n",
       "      <td>[{'latitude': 42.337037, 'longitude': -71.2517...</td>\n",
       "      <td>$16.7M</td>\n",
       "    </tr>\n",
       "    <tr>\n",
       "      <th>4</th>\n",
       "      <td>52cdef7c4bab8bd6752984a6</td>\n",
       "      <td>web</td>\n",
       "      <td>2008</td>\n",
       "      <td>CityIN</td>\n",
       "      <td>11.0</td>\n",
       "      <td>[{'latitude': 35.86166, 'longitude': 104.195397}]</td>\n",
       "      <td>$0</td>\n",
       "    </tr>\n",
       "    <tr>\n",
       "      <th>5</th>\n",
       "      <td>52cdef7c4bab8bd675298577</td>\n",
       "      <td>mobile</td>\n",
       "      <td>2008</td>\n",
       "      <td>Tapioca Mobile</td>\n",
       "      <td>NaN</td>\n",
       "      <td>[{'latitude': 32.88945, 'longitude': -117.1669...</td>\n",
       "      <td>$5M</td>\n",
       "    </tr>\n",
       "    <tr>\n",
       "      <th>6</th>\n",
       "      <td>52cdef7c4bab8bd6752985ac</td>\n",
       "      <td>mobile</td>\n",
       "      <td>2011</td>\n",
       "      <td>Moblica</td>\n",
       "      <td>NaN</td>\n",
       "      <td>[{'latitude': 32.0554, 'longitude': 34.7595}]</td>\n",
       "      <td>$6M</td>\n",
       "    </tr>\n",
       "    <tr>\n",
       "      <th>7</th>\n",
       "      <td>52cdef7c4bab8bd675298693</td>\n",
       "      <td>web</td>\n",
       "      <td>2008</td>\n",
       "      <td>Wakozi</td>\n",
       "      <td>5.0</td>\n",
       "      <td>[{'latitude': 40.755409, 'longitude': -73.9927...</td>\n",
       "      <td>$0</td>\n",
       "    </tr>\n",
       "    <tr>\n",
       "      <th>8</th>\n",
       "      <td>52cdef7c4bab8bd67529881b</td>\n",
       "      <td>web</td>\n",
       "      <td>2008</td>\n",
       "      <td>Twitlinks</td>\n",
       "      <td>NaN</td>\n",
       "      <td>[{'latitude': -33.329799, 'longitude': 151.505...</td>\n",
       "      <td>$0</td>\n",
       "    </tr>\n",
       "    <tr>\n",
       "      <th>9</th>\n",
       "      <td>52cdef7d4bab8bd675298893</td>\n",
       "      <td>web</td>\n",
       "      <td>2008</td>\n",
       "      <td>StrawPoll</td>\n",
       "      <td>3.0</td>\n",
       "      <td>[{'latitude': 36.0073, 'longitude': -78.9206}]</td>\n",
       "      <td>$0</td>\n",
       "    </tr>\n",
       "  </tbody>\n",
       "</table>\n",
       "</div>"
      ],
      "text/plain": [
       "                        _id category_code  founded_year             name  \\\n",
       "0  52cdef7c4bab8bd6752980bb    enterprise          2010          Needium   \n",
       "1  52cdef7c4bab8bd6752982d4   advertising          2013        Advaliant   \n",
       "2  52cdef7c4bab8bd6752982ec           web          2008           8aweek   \n",
       "3  52cdef7c4bab8bd675298367           web          2008  JackPot Rewards   \n",
       "4  52cdef7c4bab8bd6752984a6           web          2008           CityIN   \n",
       "5  52cdef7c4bab8bd675298577        mobile          2008   Tapioca Mobile   \n",
       "6  52cdef7c4bab8bd6752985ac        mobile          2011          Moblica   \n",
       "7  52cdef7c4bab8bd675298693           web          2008           Wakozi   \n",
       "8  52cdef7c4bab8bd67529881b           web          2008        Twitlinks   \n",
       "9  52cdef7d4bab8bd675298893           web          2008        StrawPoll   \n",
       "\n",
       "   number_of_employees                                            offices  \\\n",
       "0                 15.0  [{'latitude': 45.5049305, 'longitude': -73.568...   \n",
       "1                 60.0  [{'latitude': 43.646599, 'longitude': -79.4030...   \n",
       "2                  NaN  [{'latitude': 37.09024, 'longitude': -95.712891}]   \n",
       "3                  NaN  [{'latitude': 42.337037, 'longitude': -71.2517...   \n",
       "4                 11.0  [{'latitude': 35.86166, 'longitude': 104.195397}]   \n",
       "5                  NaN  [{'latitude': 32.88945, 'longitude': -117.1669...   \n",
       "6                  NaN      [{'latitude': 32.0554, 'longitude': 34.7595}]   \n",
       "7                  5.0  [{'latitude': 40.755409, 'longitude': -73.9927...   \n",
       "8                  NaN  [{'latitude': -33.329799, 'longitude': 151.505...   \n",
       "9                  3.0     [{'latitude': 36.0073, 'longitude': -78.9206}]   \n",
       "\n",
       "  total_money_raised  \n",
       "0                $1M  \n",
       "1              $100k  \n",
       "2                 $0  \n",
       "3             $16.7M  \n",
       "4                 $0  \n",
       "5                $5M  \n",
       "6                $6M  \n",
       "7                 $0  \n",
       "8                 $0  \n",
       "9                 $0  "
      ]
     },
     "execution_count": 10,
     "metadata": {},
     "output_type": "execute_result"
    }
   ],
   "source": [
    "df_companies.head(10) # Mostrar las 10 primeras filas de mi dataframe."
   ]
  },
  {
   "cell_type": "code",
   "execution_count": 11,
   "metadata": {},
   "outputs": [
    {
     "data": {
      "text/html": [
       "<div>\n",
       "<style scoped>\n",
       "    .dataframe tbody tr th:only-of-type {\n",
       "        vertical-align: middle;\n",
       "    }\n",
       "\n",
       "    .dataframe tbody tr th {\n",
       "        vertical-align: top;\n",
       "    }\n",
       "\n",
       "    .dataframe thead th {\n",
       "        text-align: right;\n",
       "    }\n",
       "</style>\n",
       "<table border=\"1\" class=\"dataframe\">\n",
       "  <thead>\n",
       "    <tr style=\"text-align: right;\">\n",
       "      <th></th>\n",
       "      <th>category</th>\n",
       "      <th>name</th>\n",
       "      <th>coords</th>\n",
       "      <th>number_of_employees</th>\n",
       "      <th>founded_year</th>\n",
       "      <th>total_money_raised</th>\n",
       "    </tr>\n",
       "  </thead>\n",
       "  <tbody>\n",
       "    <tr>\n",
       "      <th>0</th>\n",
       "      <td>enterprise</td>\n",
       "      <td>Needium</td>\n",
       "      <td>[{'latitude': 45.5049305, 'longitude': -73.568...</td>\n",
       "      <td>15.0</td>\n",
       "      <td>2010</td>\n",
       "      <td>$1M</td>\n",
       "    </tr>\n",
       "    <tr>\n",
       "      <th>1</th>\n",
       "      <td>advertising</td>\n",
       "      <td>Advaliant</td>\n",
       "      <td>[{'latitude': 43.646599, 'longitude': -79.4030...</td>\n",
       "      <td>60.0</td>\n",
       "      <td>2013</td>\n",
       "      <td>$100k</td>\n",
       "    </tr>\n",
       "    <tr>\n",
       "      <th>2</th>\n",
       "      <td>web</td>\n",
       "      <td>8aweek</td>\n",
       "      <td>[{'latitude': 37.09024, 'longitude': -95.712891}]</td>\n",
       "      <td>NaN</td>\n",
       "      <td>2008</td>\n",
       "      <td>$0</td>\n",
       "    </tr>\n",
       "    <tr>\n",
       "      <th>3</th>\n",
       "      <td>web</td>\n",
       "      <td>JackPot Rewards</td>\n",
       "      <td>[{'latitude': 42.337037, 'longitude': -71.2517...</td>\n",
       "      <td>NaN</td>\n",
       "      <td>2008</td>\n",
       "      <td>$16.7M</td>\n",
       "    </tr>\n",
       "    <tr>\n",
       "      <th>4</th>\n",
       "      <td>web</td>\n",
       "      <td>CityIN</td>\n",
       "      <td>[{'latitude': 35.86166, 'longitude': 104.195397}]</td>\n",
       "      <td>11.0</td>\n",
       "      <td>2008</td>\n",
       "      <td>$0</td>\n",
       "    </tr>\n",
       "  </tbody>\n",
       "</table>\n",
       "</div>"
      ],
      "text/plain": [
       "      category             name  \\\n",
       "0   enterprise          Needium   \n",
       "1  advertising        Advaliant   \n",
       "2          web           8aweek   \n",
       "3          web  JackPot Rewards   \n",
       "4          web           CityIN   \n",
       "\n",
       "                                              coords  number_of_employees  \\\n",
       "0  [{'latitude': 45.5049305, 'longitude': -73.568...                 15.0   \n",
       "1  [{'latitude': 43.646599, 'longitude': -79.4030...                 60.0   \n",
       "2  [{'latitude': 37.09024, 'longitude': -95.712891}]                  NaN   \n",
       "3  [{'latitude': 42.337037, 'longitude': -71.2517...                  NaN   \n",
       "4  [{'latitude': 35.86166, 'longitude': 104.195397}]                 11.0   \n",
       "\n",
       "   founded_year total_money_raised  \n",
       "0          2010                $1M  \n",
       "1          2013              $100k  \n",
       "2          2008                 $0  \n",
       "3          2008             $16.7M  \n",
       "4          2008                 $0  "
      ]
     },
     "execution_count": 11,
     "metadata": {},
     "output_type": "execute_result"
    }
   ],
   "source": [
    "# cambio el nombre de la columna category_code a category y offices a coordenadas(cords) para visualizarlo mejor.\n",
    "df_companies = df_companies.rename(index=str, columns={\"category_code\": \"category\", \"offices\": \"coords\"})\n",
    "# cambio el orden de las columnas para visualizar mejor el dataframe.\n",
    "df_companies = df_companies.reindex(['category', 'name', 'coords', 'number_of_employees', 'founded_year', 'total_money_raised'],axis=1)\n",
    "df_companies.head() # Mostrar las 5 primeras filas de mi dataframe.\n"
   ]
  },
  {
   "cell_type": "code",
   "execution_count": 12,
   "metadata": {},
   "outputs": [
    {
     "data": {
      "text/plain": [
       "category                object\n",
       "name                    object\n",
       "coords                  object\n",
       "number_of_employees    float64\n",
       "founded_year             int64\n",
       "total_money_raised      object\n",
       "dtype: object"
      ]
     },
     "execution_count": 12,
     "metadata": {},
     "output_type": "execute_result"
    }
   ],
   "source": [
    "df_companies.dtypes # Veo de que tipo son mis columnas."
   ]
  },
  {
   "cell_type": "code",
   "execution_count": 13,
   "metadata": {},
   "outputs": [],
   "source": [
    "#Creo funcion para transformar datos.\n",
    "\n",
    "def float_to_int(flt):    #Transforma un dato tipo float a uno tipo int.\n",
    "    integer = int(flt)\n",
    "    return integer"
   ]
  },
  {
   "cell_type": "code",
   "execution_count": 14,
   "metadata": {},
   "outputs": [],
   "source": [
    "df_companies['number_of_employees'].fillna(0, inplace=True) # Relleno todos los NAN en columna number_of_employees.\n",
    "df_companies['founded_year'].fillna(0, inplace=True) # Relleno todos los NAN en columna founded_year.\n"
   ]
  },
  {
   "cell_type": "code",
   "execution_count": 18,
   "metadata": {},
   "outputs": [],
   "source": [
    "# Aplico la función para transformar mis datos a enteros.\n",
    "df_companies['number_of_employees'] = df_companies['number_of_employees'].apply(float_to_int)\n",
    "df_companies['founded_year'] = df_companies['founded_year'].apply(float_to_int)"
   ]
  },
  {
   "cell_type": "code",
   "execution_count": 19,
   "metadata": {},
   "outputs": [
    {
     "data": {
      "text/plain": [
       "category               object\n",
       "name                   object\n",
       "coords                 object\n",
       "number_of_employees     int64\n",
       "founded_year            int64\n",
       "total_money_raised     object\n",
       "dtype: object"
      ]
     },
     "execution_count": 19,
     "metadata": {},
     "output_type": "execute_result"
    }
   ],
   "source": [
    "df_companies.dtypes # Veo de que tipo son mis columnas para ver si el cambio se aplico."
   ]
  },
  {
   "cell_type": "code",
   "execution_count": 20,
   "metadata": {},
   "outputs": [
    {
     "data": {
      "text/plain": [
       "tamaño_empresa\n",
       "startup    74\n",
       "small       9\n",
       "medium      0\n",
       "big         0\n",
       "Name: name, dtype: int64"
      ]
     },
     "execution_count": 20,
     "metadata": {},
     "output_type": "execute_result"
    }
   ],
   "source": [
    "# Crear unos bins para ver el tamaño de la empresa segun los'number_of_employees': startup, small, medium y big\n",
    "\n",
    "bins = [0,10,100,1000,100000] # Creo categorias de el bin\n",
    "labels = [\"startup\",\"small\",\"medium\",\"big\"] # Creo nombre para las categorias del bin\n",
    "df_companies['tamaño_empresa'] = pd.cut(df_companies['number_of_employees'], bins=bins, labels=labels)\n",
    "df_companies.dropna(subset=['tamaño_empresa'], inplace=True)\n",
    "df_companies.groupby(df_companies.tamaño_empresa)['name'].nunique() \n"
   ]
  },
  {
   "cell_type": "code",
   "execution_count": 21,
   "metadata": {},
   "outputs": [
    {
     "data": {
      "text/html": [
       "<div>\n",
       "<style scoped>\n",
       "    .dataframe tbody tr th:only-of-type {\n",
       "        vertical-align: middle;\n",
       "    }\n",
       "\n",
       "    .dataframe tbody tr th {\n",
       "        vertical-align: top;\n",
       "    }\n",
       "\n",
       "    .dataframe thead th {\n",
       "        text-align: right;\n",
       "    }\n",
       "</style>\n",
       "<table border=\"1\" class=\"dataframe\">\n",
       "  <thead>\n",
       "    <tr style=\"text-align: right;\">\n",
       "      <th></th>\n",
       "      <th>category</th>\n",
       "      <th>name</th>\n",
       "      <th>coords</th>\n",
       "      <th>number_of_employees</th>\n",
       "      <th>founded_year</th>\n",
       "      <th>total_money_raised</th>\n",
       "      <th>tamaño_empresa</th>\n",
       "    </tr>\n",
       "  </thead>\n",
       "  <tbody>\n",
       "    <tr>\n",
       "      <th>0</th>\n",
       "      <td>enterprise</td>\n",
       "      <td>Needium</td>\n",
       "      <td>[{'latitude': 45.5049305, 'longitude': -73.568...</td>\n",
       "      <td>15</td>\n",
       "      <td>2010</td>\n",
       "      <td>$1M</td>\n",
       "      <td>small</td>\n",
       "    </tr>\n",
       "    <tr>\n",
       "      <th>1</th>\n",
       "      <td>advertising</td>\n",
       "      <td>Advaliant</td>\n",
       "      <td>[{'latitude': 43.646599, 'longitude': -79.4030...</td>\n",
       "      <td>60</td>\n",
       "      <td>2013</td>\n",
       "      <td>$100k</td>\n",
       "      <td>small</td>\n",
       "    </tr>\n",
       "    <tr>\n",
       "      <th>4</th>\n",
       "      <td>web</td>\n",
       "      <td>CityIN</td>\n",
       "      <td>[{'latitude': 35.86166, 'longitude': 104.195397}]</td>\n",
       "      <td>11</td>\n",
       "      <td>2008</td>\n",
       "      <td>$0</td>\n",
       "      <td>small</td>\n",
       "    </tr>\n",
       "    <tr>\n",
       "      <th>7</th>\n",
       "      <td>web</td>\n",
       "      <td>Wakozi</td>\n",
       "      <td>[{'latitude': 40.755409, 'longitude': -73.9927...</td>\n",
       "      <td>5</td>\n",
       "      <td>2008</td>\n",
       "      <td>$0</td>\n",
       "      <td>startup</td>\n",
       "    </tr>\n",
       "    <tr>\n",
       "      <th>9</th>\n",
       "      <td>web</td>\n",
       "      <td>StrawPoll</td>\n",
       "      <td>[{'latitude': 36.0073, 'longitude': -78.9206}]</td>\n",
       "      <td>3</td>\n",
       "      <td>2008</td>\n",
       "      <td>$0</td>\n",
       "      <td>startup</td>\n",
       "    </tr>\n",
       "  </tbody>\n",
       "</table>\n",
       "</div>"
      ],
      "text/plain": [
       "      category       name                                             coords  \\\n",
       "0   enterprise    Needium  [{'latitude': 45.5049305, 'longitude': -73.568...   \n",
       "1  advertising  Advaliant  [{'latitude': 43.646599, 'longitude': -79.4030...   \n",
       "4          web     CityIN  [{'latitude': 35.86166, 'longitude': 104.195397}]   \n",
       "7          web     Wakozi  [{'latitude': 40.755409, 'longitude': -73.9927...   \n",
       "9          web  StrawPoll     [{'latitude': 36.0073, 'longitude': -78.9206}]   \n",
       "\n",
       "   number_of_employees  founded_year total_money_raised tamaño_empresa  \n",
       "0                   15          2010                $1M          small  \n",
       "1                   60          2013              $100k          small  \n",
       "4                   11          2008                 $0          small  \n",
       "7                    5          2008                 $0        startup  \n",
       "9                    3          2008                 $0        startup  "
      ]
     },
     "execution_count": 21,
     "metadata": {},
     "output_type": "execute_result"
    }
   ],
   "source": [
    "df_companies.head()"
   ]
  },
  {
   "cell_type": "code",
   "execution_count": 23,
   "metadata": {},
   "outputs": [],
   "source": [
    "df_companies.to_json('prueba.json', orient=\"records\", lines=True)"
   ]
  },
  {
   "cell_type": "code",
   "execution_count": null,
   "metadata": {},
   "outputs": [],
   "source": []
  },
  {
   "cell_type": "code",
   "execution_count": null,
   "metadata": {},
   "outputs": [],
   "source": []
  },
  {
   "cell_type": "code",
   "execution_count": null,
   "metadata": {},
   "outputs": [],
   "source": []
  },
  {
   "cell_type": "code",
   "execution_count": null,
   "metadata": {},
   "outputs": [],
   "source": []
  },
  {
   "cell_type": "code",
   "execution_count": null,
   "metadata": {},
   "outputs": [],
   "source": []
  },
  {
   "cell_type": "code",
   "execution_count": null,
   "metadata": {},
   "outputs": [],
   "source": []
  },
  {
   "cell_type": "code",
   "execution_count": null,
   "metadata": {},
   "outputs": [],
   "source": []
  },
  {
   "cell_type": "code",
   "execution_count": null,
   "metadata": {},
   "outputs": [],
   "source": []
  },
  {
   "cell_type": "code",
   "execution_count": null,
   "metadata": {},
   "outputs": [],
   "source": []
  },
  {
   "cell_type": "code",
   "execution_count": null,
   "metadata": {},
   "outputs": [],
   "source": []
  },
  {
   "cell_type": "code",
   "execution_count": null,
   "metadata": {},
   "outputs": [],
   "source": []
  },
  {
   "cell_type": "code",
   "execution_count": null,
   "metadata": {},
   "outputs": [],
   "source": []
  },
  {
   "cell_type": "code",
   "execution_count": null,
   "metadata": {},
   "outputs": [],
   "source": []
  },
  {
   "cell_type": "code",
   "execution_count": null,
   "metadata": {},
   "outputs": [],
   "source": []
  },
  {
   "cell_type": "code",
   "execution_count": null,
   "metadata": {},
   "outputs": [],
   "source": []
  },
  {
   "cell_type": "code",
   "execution_count": null,
   "metadata": {},
   "outputs": [],
   "source": []
  }
 ],
 "metadata": {
  "kernelspec": {
   "display_name": "Python 3",
   "language": "python",
   "name": "python3"
  },
  "language_info": {
   "codemirror_mode": {
    "name": "ipython",
    "version": 3
   },
   "file_extension": ".py",
   "mimetype": "text/x-python",
   "name": "python",
   "nbconvert_exporter": "python",
   "pygments_lexer": "ipython3",
   "version": "3.7.2"
  }
 },
 "nbformat": 4,
 "nbformat_minor": 2
}
