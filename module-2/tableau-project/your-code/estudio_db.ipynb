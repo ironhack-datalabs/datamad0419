{
 "cells": [
  {
   "cell_type": "code",
   "execution_count": 1,
   "metadata": {},
   "outputs": [],
   "source": [
    "%matplotlib inline\n",
    "import pandas as pd\n",
    "import numpy as np\n",
    "import matplotlib.pyplot as plt\n",
    "import seaborn as sns\n",
    "\n",
    "pd.set_option('display.max_columns', 30)\n",
    "pd.set_option('display.max_rows', 500)"
   ]
  },
  {
   "cell_type": "code",
   "execution_count": 2,
   "metadata": {},
   "outputs": [
    {
     "data": {
      "text/html": [
       "<div>\n",
       "<style scoped>\n",
       "    .dataframe tbody tr th:only-of-type {\n",
       "        vertical-align: middle;\n",
       "    }\n",
       "\n",
       "    .dataframe tbody tr th {\n",
       "        vertical-align: top;\n",
       "    }\n",
       "\n",
       "    .dataframe thead th {\n",
       "        text-align: right;\n",
       "    }\n",
       "</style>\n",
       "<table border=\"1\" class=\"dataframe\">\n",
       "  <thead>\n",
       "    <tr style=\"text-align: right;\">\n",
       "      <th></th>\n",
       "      <th>Unnamed: 0</th>\n",
       "      <th>journey_id</th>\n",
       "      <th>vehicle_type_id</th>\n",
       "      <th>start_type</th>\n",
       "      <th>start_at</th>\n",
       "      <th>start_lat</th>\n",
       "      <th>start_lon</th>\n",
       "      <th>end_at</th>\n",
       "      <th>end_lat</th>\n",
       "      <th>end_lon</th>\n",
       "      <th>end_state</th>\n",
       "      <th>price</th>\n",
       "      <th>price_distance</th>\n",
       "      <th>price_duration</th>\n",
       "      <th>distance</th>\n",
       "      <th>duration</th>\n",
       "      <th>source</th>\n",
       "      <th>rider_waiting_time</th>\n",
       "      <th>driver_waiting_time</th>\n",
       "      <th>price_supplements</th>\n",
       "      <th>discount</th>\n",
       "      <th>rating</th>\n",
       "    </tr>\n",
       "  </thead>\n",
       "  <tbody>\n",
       "    <tr>\n",
       "      <th>0</th>\n",
       "      <td>0</td>\n",
       "      <td>93e6d216088af74c32183283d4bb2953</td>\n",
       "      <td>077866c3fd1a75f51ca7f8eae166ae32</td>\n",
       "      <td>asap</td>\n",
       "      <td>2017-12-16 11:08:59</td>\n",
       "      <td>19.431363</td>\n",
       "      <td>-99.195362</td>\n",
       "      <td>2017-12-16 11:37:32</td>\n",
       "      <td>19.406438</td>\n",
       "      <td>-99.175260</td>\n",
       "      <td>drop off</td>\n",
       "      <td>5,866</td>\n",
       "      <td>5,204</td>\n",
       "      <td>0</td>\n",
       "      <td>7,943</td>\n",
       "      <td>1,058</td>\n",
       "      <td>Android</td>\n",
       "      <td>590</td>\n",
       "      <td>48</td>\n",
       "      <td>662</td>\n",
       "      <td>0</td>\n",
       "      <td>9.0</td>\n",
       "    </tr>\n",
       "    <tr>\n",
       "      <th>1</th>\n",
       "      <td>1</td>\n",
       "      <td>444b084ec64244919afadfba879876a3</td>\n",
       "      <td>077866c3fd1a75f51ca7f8eae166ae32</td>\n",
       "      <td>asap</td>\n",
       "      <td>2017-12-16 11:06:16</td>\n",
       "      <td>19.431567</td>\n",
       "      <td>-99.195368</td>\n",
       "      <td>2017-12-16 11:07:21</td>\n",
       "      <td>NaN</td>\n",
       "      <td>NaN</td>\n",
       "      <td>rider cancel</td>\n",
       "      <td>0</td>\n",
       "      <td>0</td>\n",
       "      <td>0</td>\n",
       "      <td>0</td>\n",
       "      <td>0</td>\n",
       "      <td>iPhone</td>\n",
       "      <td>NaN</td>\n",
       "      <td>NaN</td>\n",
       "      <td>0</td>\n",
       "      <td>0</td>\n",
       "      <td>9.0</td>\n",
       "    </tr>\n",
       "    <tr>\n",
       "      <th>2</th>\n",
       "      <td>2</td>\n",
       "      <td>dbcc57f4e7606a71c74c6e4666a977a4</td>\n",
       "      <td>077866c3fd1a75f51ca7f8eae166ae32</td>\n",
       "      <td>asap</td>\n",
       "      <td>2017-11-24 22:58:37</td>\n",
       "      <td>19.422052</td>\n",
       "      <td>-99.174499</td>\n",
       "      <td>2017-11-24 23:27:05</td>\n",
       "      <td>19.438666</td>\n",
       "      <td>-99.180821</td>\n",
       "      <td>drop off</td>\n",
       "      <td>4,000</td>\n",
       "      <td>3,552</td>\n",
       "      <td>0</td>\n",
       "      <td>3,054</td>\n",
       "      <td>689</td>\n",
       "      <td>Android</td>\n",
       "      <td>923</td>\n",
       "      <td>4</td>\n",
       "      <td>0</td>\n",
       "      <td>0</td>\n",
       "      <td>10.0</td>\n",
       "    </tr>\n",
       "    <tr>\n",
       "      <th>3</th>\n",
       "      <td>3</td>\n",
       "      <td>1ffe9a24033847148c683574985df56c</td>\n",
       "      <td>077866c3fd1a75f51ca7f8eae166ae32</td>\n",
       "      <td>asap</td>\n",
       "      <td>2017-12-16 09:17:08</td>\n",
       "      <td>19.433119</td>\n",
       "      <td>-99.154844</td>\n",
       "      <td>2017-12-16 09:17:30</td>\n",
       "      <td>19.290148</td>\n",
       "      <td>-99.144407</td>\n",
       "      <td>rider cancel</td>\n",
       "      <td>0</td>\n",
       "      <td>0</td>\n",
       "      <td>0</td>\n",
       "      <td>0</td>\n",
       "      <td>0</td>\n",
       "      <td>iPhone</td>\n",
       "      <td>NaN</td>\n",
       "      <td>NaN</td>\n",
       "      <td>0</td>\n",
       "      <td>0</td>\n",
       "      <td>9.0</td>\n",
       "    </tr>\n",
       "    <tr>\n",
       "      <th>4</th>\n",
       "      <td>4</td>\n",
       "      <td>fb1ef7d070724482a33be41f27737ea5</td>\n",
       "      <td>077866c3fd1a75f51ca7f8eae166ae32</td>\n",
       "      <td>asap</td>\n",
       "      <td>2017-11-24 18:11:00</td>\n",
       "      <td>19.440996</td>\n",
       "      <td>-99.183581</td>\n",
       "      <td>2017-11-24 18:31:31</td>\n",
       "      <td>19.422815</td>\n",
       "      <td>-99.174865</td>\n",
       "      <td>drop off</td>\n",
       "      <td>4,000</td>\n",
       "      <td>2,974</td>\n",
       "      <td>12</td>\n",
       "      <td>2,859</td>\n",
       "      <td>887</td>\n",
       "      <td>iPhone</td>\n",
       "      <td>329</td>\n",
       "      <td>36</td>\n",
       "      <td>0</td>\n",
       "      <td>0</td>\n",
       "      <td>8.0</td>\n",
       "    </tr>\n",
       "  </tbody>\n",
       "</table>\n",
       "</div>"
      ],
      "text/plain": [
       "   Unnamed: 0                        journey_id  \\\n",
       "0           0  93e6d216088af74c32183283d4bb2953   \n",
       "1           1  444b084ec64244919afadfba879876a3   \n",
       "2           2  dbcc57f4e7606a71c74c6e4666a977a4   \n",
       "3           3  1ffe9a24033847148c683574985df56c   \n",
       "4           4  fb1ef7d070724482a33be41f27737ea5   \n",
       "\n",
       "                    vehicle_type_id start_type             start_at  \\\n",
       "0  077866c3fd1a75f51ca7f8eae166ae32       asap  2017-12-16 11:08:59   \n",
       "1  077866c3fd1a75f51ca7f8eae166ae32       asap  2017-12-16 11:06:16   \n",
       "2  077866c3fd1a75f51ca7f8eae166ae32       asap  2017-11-24 22:58:37   \n",
       "3  077866c3fd1a75f51ca7f8eae166ae32       asap  2017-12-16 09:17:08   \n",
       "4  077866c3fd1a75f51ca7f8eae166ae32       asap  2017-11-24 18:11:00   \n",
       "\n",
       "   start_lat  start_lon               end_at    end_lat    end_lon  \\\n",
       "0  19.431363 -99.195362  2017-12-16 11:37:32  19.406438 -99.175260   \n",
       "1  19.431567 -99.195368  2017-12-16 11:07:21        NaN        NaN   \n",
       "2  19.422052 -99.174499  2017-11-24 23:27:05  19.438666 -99.180821   \n",
       "3  19.433119 -99.154844  2017-12-16 09:17:30  19.290148 -99.144407   \n",
       "4  19.440996 -99.183581  2017-11-24 18:31:31  19.422815 -99.174865   \n",
       "\n",
       "      end_state  price price_distance price_duration distance duration  \\\n",
       "0      drop off  5,866          5,204              0    7,943    1,058   \n",
       "1  rider cancel      0              0              0        0        0   \n",
       "2      drop off  4,000          3,552              0    3,054      689   \n",
       "3  rider cancel      0              0              0        0        0   \n",
       "4      drop off  4,000          2,974             12    2,859      887   \n",
       "\n",
       "    source rider_waiting_time driver_waiting_time price_supplements discount  \\\n",
       "0  Android                590                  48               662        0   \n",
       "1   iPhone                NaN                 NaN                 0        0   \n",
       "2  Android                923                   4                 0        0   \n",
       "3   iPhone                NaN                 NaN                 0        0   \n",
       "4   iPhone                329                  36                 0        0   \n",
       "\n",
       "   rating  \n",
       "0     9.0  \n",
       "1     9.0  \n",
       "2    10.0  \n",
       "3     9.0  \n",
       "4     8.0  "
      ]
     },
     "execution_count": 2,
     "metadata": {},
     "output_type": "execute_result"
    }
   ],
   "source": [
    "df = pd.read_csv('tableau_project.csv')\n",
    "df.head()"
   ]
  },
  {
   "cell_type": "code",
   "execution_count": null,
   "metadata": {},
   "outputs": [],
   "source": [
    "df.info()"
   ]
  },
  {
   "cell_type": "markdown",
   "metadata": {},
   "source": [
    "Eliminamos la columna Unnamed"
   ]
  },
  {
   "cell_type": "code",
   "execution_count": null,
   "metadata": {},
   "outputs": [],
   "source": [
    "df = df.drop(['Unnamed: 0'], axis=1)"
   ]
  },
  {
   "cell_type": "markdown",
   "metadata": {},
   "source": [
    "Tras examinar el dataset entendemos que: \n",
    "    el tiempo está expresado en segundos, \n",
    "    el precio en centavos de peso\n",
    "    y la distancia en metros"
   ]
  },
  {
   "cell_type": "code",
   "execution_count": null,
   "metadata": {},
   "outputs": [],
   "source": [
    "null_cols = df.isnull().sum()\n",
    "null_cols[null_cols > 0]"
   ]
  },
  {
   "cell_type": "markdown",
   "metadata": {},
   "source": [
    "Podemos ver que hay columnas con bastantes nulo, pero estas en su mayoría coinciden con las carreras no realizadas o canceladas. Aunque en las columnas end_lat y end_lon, aparecen menos nulos que en el caso general."
   ]
  },
  {
   "cell_type": "code",
   "execution_count": null,
   "metadata": {},
   "outputs": [],
   "source": [
    "null_cols = df[(df.end_state != 'drop off')].isnull().sum()\n",
    "null_cols[null_cols > 0]"
   ]
  },
  {
   "cell_type": "markdown",
   "metadata": {},
   "source": [
    "Eliminamos los nulos de la latitud y longitud, y pasamos el resto de nulos a cero "
   ]
  },
  {
   "cell_type": "code",
   "execution_count": null,
   "metadata": {},
   "outputs": [],
   "source": [
    "df_new = df[pd.notnull(df['end_lat'])]\n",
    "df_new.fillna(0, inplace = True)"
   ]
  },
  {
   "cell_type": "code",
   "execution_count": null,
   "metadata": {},
   "outputs": [],
   "source": [
    "null_cols = df_new.isnull().sum()\n",
    "null_cols[null_cols > 0]\n"
   ]
  },
  {
   "cell_type": "markdown",
   "metadata": {},
   "source": [
    "Podemos ver que hay bastantes columnas que contienen datos numéricos que tienen tipo object, estas las vamos a pasar a int64"
   ]
  },
  {
   "cell_type": "code",
   "execution_count": null,
   "metadata": {},
   "outputs": [],
   "source": [
    "columnas = ['price', 'price_distance', \n",
    "            'price_duration', 'price_supplements', \n",
    "            'distance', 'duration', \n",
    "            'rider_waiting_time', 'driver_waiting_time', 'discount']\n",
    "\n",
    "for columna in columnas:\n",
    "    df_new[columna] = df_new[columna].map(lambda x : str(x).replace(',', ''))\n",
    "    df_new[columna] = df_new[columna].astype('int64')\n",
    "\n",
    "df_new.head()"
   ]
  },
  {
   "cell_type": "code",
   "execution_count": null,
   "metadata": {},
   "outputs": [],
   "source": [
    "df_new.info()"
   ]
  },
  {
   "cell_type": "markdown",
   "metadata": {},
   "source": [
    "Cambiamos los valores para la columna vehicle_type_id"
   ]
  },
  {
   "cell_type": "code",
   "execution_count": null,
   "metadata": {},
   "outputs": [],
   "source": [
    "df_new['vehicle_type_id'] = df_new['vehicle_type_id'].str.replace('077866c3fd1a75f51ca7f8eae166ae32', 'vehiculo A')\n",
    "df_new['vehicle_type_id'] = df_new['vehicle_type_id'].str.replace('21620ea5749f2e0679a8c72c7fbafb9e', 'vehiculo B')"
   ]
  },
  {
   "cell_type": "code",
   "execution_count": null,
   "metadata": {},
   "outputs": [],
   "source": [
    "df_new['end_state'].value_counts()"
   ]
  },
  {
   "cell_type": "code",
   "execution_count": null,
   "metadata": {},
   "outputs": [],
   "source": [
    "valores = ['rider cancel', 'not found', 'no show', 'driver cancel']\n",
    "\n",
    "for v in valores:\n",
    "    if v in valores:\n",
    "        df_new['end_state'] = df_new['end_state'].str.replace(v, 'No completed')\n",
    "\n",
    "df_new['end_state'].value_counts()"
   ]
  },
  {
   "cell_type": "code",
   "execution_count": null,
   "metadata": {},
   "outputs": [],
   "source": [
    "df_new.to_csv('tableau_project_nuevo.csv', index=False)"
   ]
  },
  {
   "cell_type": "code",
   "execution_count": null,
   "metadata": {},
   "outputs": [],
   "source": []
  },
  {
   "cell_type": "code",
   "execution_count": null,
   "metadata": {},
   "outputs": [],
   "source": []
  }
 ],
 "metadata": {
  "kernelspec": {
   "display_name": "Python 3",
   "language": "python",
   "name": "python3"
  },
  "language_info": {
   "codemirror_mode": {
    "name": "ipython",
    "version": 3
   },
   "file_extension": ".py",
   "mimetype": "text/x-python",
   "name": "python",
   "nbconvert_exporter": "python",
   "pygments_lexer": "ipython3",
   "version": "3.7.3"
  }
 },
 "nbformat": 4,
 "nbformat_minor": 2
}
