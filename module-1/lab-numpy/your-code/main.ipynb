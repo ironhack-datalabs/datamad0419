{
 "cells": [
  {
   "cell_type": "code",
   "execution_count": 31,
   "metadata": {},
   "outputs": [],
   "source": [
    "import numpy as np"
   ]
  },
  {
   "cell_type": "code",
   "execution_count": 32,
   "metadata": {},
   "outputs": [
    {
     "name": "stdout",
     "output_type": "stream",
     "text": [
      "1.16.2\n"
     ]
    }
   ],
   "source": [
    "print(np.version.version)"
   ]
  },
  {
   "cell_type": "code",
   "execution_count": 33,
   "metadata": {},
   "outputs": [
    {
     "name": "stdout",
     "output_type": "stream",
     "text": [
      "[[[0.38630563 0.39978957 0.83226628 0.79918764 0.38006256]\n",
      "  [0.79474936 0.75308878 0.8702721  0.92219956 0.38618723]\n",
      "  [0.1762507  0.6384198  0.66115038 0.83107821 0.59301724]]\n",
      "\n",
      " [[0.83873188 0.9486791  0.71676915 0.2755627  0.62050999]\n",
      "  [0.10261962 0.38155323 0.19338313 0.24909099 0.69791527]\n",
      "  [0.04618378 0.55879839 0.24743238 0.98070713 0.93589514]]]\n"
     ]
    }
   ],
   "source": [
    "a=np.random.rand(2,3,5)\n",
    "print(a)"
   ]
  },
  {
   "cell_type": "code",
   "execution_count": 34,
   "metadata": {},
   "outputs": [
    {
     "name": "stdout",
     "output_type": "stream",
     "text": [
      "[[[1 1 1]\n",
      "  [1 1 1]]\n",
      "\n",
      " [[1 1 1]\n",
      "  [1 1 1]]\n",
      "\n",
      " [[1 1 1]\n",
      "  [1 1 1]]\n",
      "\n",
      " [[1 1 1]\n",
      "  [1 1 1]]\n",
      "\n",
      " [[1 1 1]\n",
      "  [1 1 1]]]\n"
     ]
    }
   ],
   "source": [
    "b = np.full((5,2,3),1)\n",
    "print(b)"
   ]
  },
  {
   "cell_type": "code",
   "execution_count": 49,
   "metadata": {},
   "outputs": [
    {
     "name": "stdout",
     "output_type": "stream",
     "text": [
      "Equal\n"
     ]
    }
   ],
   "source": [
    "a_size=a.size\n",
    "b_size=b.size\n",
    "if a_size == b_size:\n",
    "    print(\"Equal\")"
   ]
  },
  {
   "cell_type": "code",
   "execution_count": 58,
   "metadata": {},
   "outputs": [
    {
     "name": "stdout",
     "output_type": "stream",
     "text": [
      "[[[1 1 1]\n",
      "  [1 1 1]]\n",
      "\n",
      " [[1 1 1]\n",
      "  [1 1 1]]\n",
      "\n",
      " [[1 1 1]\n",
      "  [1 1 1]]\n",
      "\n",
      " [[1 1 1]\n",
      "  [1 1 1]]\n",
      "\n",
      " [[1 1 1]\n",
      "  [1 1 1]]]\n"
     ]
    }
   ],
   "source": [
    "c=b.transpose(1,2,0)\n",
    "print(b)"
   ]
  },
  {
   "cell_type": "code",
   "execution_count": 61,
   "metadata": {},
   "outputs": [
    {
     "name": "stdout",
     "output_type": "stream",
     "text": [
      "[[[1.38630563 1.39978957 1.83226628 1.79918764 1.38006256]\n",
      "  [1.79474936 1.75308878 1.8702721  1.92219956 1.38618723]\n",
      "  [1.1762507  1.6384198  1.66115038 1.83107821 1.59301724]]\n",
      "\n",
      " [[1.83873188 1.9486791  1.71676915 1.2755627  1.62050999]\n",
      "  [1.10261962 1.38155323 1.19338313 1.24909099 1.69791527]\n",
      "  [1.04618378 1.55879839 1.24743238 1.98070713 1.93589514]]]\n"
     ]
    }
   ],
   "source": [
    "d=np.add(a,c)\n",
    "print(d)"
   ]
  },
  {
   "cell_type": "code",
   "execution_count": 62,
   "metadata": {},
   "outputs": [
    {
     "name": "stdout",
     "output_type": "stream",
     "text": [
      "[[[0.38630563 0.39978957 0.83226628 0.79918764 0.38006256]\n",
      "  [0.79474936 0.75308878 0.8702721  0.92219956 0.38618723]\n",
      "  [0.1762507  0.6384198  0.66115038 0.83107821 0.59301724]]\n",
      "\n",
      " [[0.83873188 0.9486791  0.71676915 0.2755627  0.62050999]\n",
      "  [0.10261962 0.38155323 0.19338313 0.24909099 0.69791527]\n",
      "  [0.04618378 0.55879839 0.24743238 0.98070713 0.93589514]]]\n",
      "[[[1.38630563 1.39978957 1.83226628 1.79918764 1.38006256]\n",
      "  [1.79474936 1.75308878 1.8702721  1.92219956 1.38618723]\n",
      "  [1.1762507  1.6384198  1.66115038 1.83107821 1.59301724]]\n",
      "\n",
      " [[1.83873188 1.9486791  1.71676915 1.2755627  1.62050999]\n",
      "  [1.10261962 1.38155323 1.19338313 1.24909099 1.69791527]\n",
      "  [1.04618378 1.55879839 1.24743238 1.98070713 1.93589514]]]\n"
     ]
    }
   ],
   "source": [
    "print(a)\n",
    "print(d)"
   ]
  },
  {
   "cell_type": "code",
   "execution_count": 63,
   "metadata": {},
   "outputs": [
    {
     "name": "stdout",
     "output_type": "stream",
     "text": [
      "[[[0.38630563 0.39978957 0.83226628 0.79918764 0.38006256]\n",
      "  [0.79474936 0.75308878 0.8702721  0.92219956 0.38618723]\n",
      "  [0.1762507  0.6384198  0.66115038 0.83107821 0.59301724]]\n",
      "\n",
      " [[0.83873188 0.9486791  0.71676915 0.2755627  0.62050999]\n",
      "  [0.10261962 0.38155323 0.19338313 0.24909099 0.69791527]\n",
      "  [0.04618378 0.55879839 0.24743238 0.98070713 0.93589514]]]\n"
     ]
    }
   ],
   "source": [
    "e=np.multiply(a,c)\n",
    "print(e)"
   ]
  },
  {
   "cell_type": "code",
   "execution_count": 64,
   "metadata": {},
   "outputs": [
    {
     "name": "stdout",
     "output_type": "stream",
     "text": [
      "1.5739285632535187\n",
      "1.0461837769015885\n",
      "1.9807071349570982\n"
     ]
    }
   ],
   "source": [
    "d_mean=np.mean(d)\n",
    "d_min=np.min(d)\n",
    "d_max=np.max(d)\n",
    "print(d_mean)\n",
    "print(d_min)\n",
    "print(d_max)"
   ]
  },
  {
   "cell_type": "code",
   "execution_count": 66,
   "metadata": {},
   "outputs": [
    {
     "name": "stdout",
     "output_type": "stream",
     "text": [
      "[[[0.38630563 0.39978957 0.83226628 0.79918764 0.38006256]\n",
      "  [0.79474936 0.75308878 0.8702721  0.92219956 0.38618723]\n",
      "  [0.1762507  0.6384198  0.66115038 0.83107821 0.59301724]]\n",
      "\n",
      " [[0.83873188 0.9486791  0.71676915 0.2755627  0.62050999]\n",
      "  [0.10261962 0.38155323 0.19338313 0.24909099 0.69791527]\n",
      "  [0.04618378 0.55879839 0.24743238 0.98070713 0.93589514]]]\n"
     ]
    }
   ],
   "source": [
    "f=np.empty((2,3,5))\n",
    "print(f)"
   ]
  },
  {
   "cell_type": "code",
   "execution_count": 71,
   "metadata": {},
   "outputs": [
    {
     "name": "stdout",
     "output_type": "stream",
     "text": [
      "[[[ 25.  25.  75.  75.  25.]\n",
      "  [ 75.  75.  75.  75.  25.]\n",
      "  [ 25.  75.  75.  75.  75.]]\n",
      "\n",
      " [[ 75.  75.  75.  25.  75.]\n",
      "  [ 25.  25.  25.  25.  75.]\n",
      "  [  0.  25.  25. 100.  75.]]]\n"
     ]
    }
   ],
   "source": [
    "for i in range(f.shape[0]):\n",
    "    for ii in range(f.shape[1]):\n",
    "        for iii in range (f.shape[2]):\n",
    "            if d[i,ii,iii]>d_min and d[i,ii,iii]<d_mean:\n",
    "                f[i,ii,iii]=25\n",
    "            elif d[i,ii,iii]>d_mean and d[i,ii,iii]<d_max:\n",
    "                f[i,ii,iii]=75\n",
    "            elif d[i,ii,iii]==d_mean:\n",
    "                f[i,ii,iii]=50\n",
    "            elif d[i,ii,iii]==d_min:\n",
    "                f[i,ii,iii]=0\n",
    "            elif d[i,ii,iii]==d_max:\n",
    "                f[i,ii,iii]=100\n",
    "print(f)"
   ]
  },
  {
   "cell_type": "code",
   "execution_count": null,
   "metadata": {},
   "outputs": [],
   "source": []
  },
  {
   "cell_type": "code",
   "execution_count": null,
   "metadata": {},
   "outputs": [],
   "source": []
  },
  {
   "cell_type": "code",
   "execution_count": null,
   "metadata": {},
   "outputs": [],
   "source": []
  }
 ],
 "metadata": {
  "kernelspec": {
   "display_name": "Python 3",
   "language": "python",
   "name": "python3"
  },
  "language_info": {
   "codemirror_mode": {
    "name": "ipython",
    "version": 3
   },
   "file_extension": ".py",
   "mimetype": "text/x-python",
   "name": "python",
   "nbconvert_exporter": "python",
   "pygments_lexer": "ipython3",
   "version": "3.7.2"
  }
 },
 "nbformat": 4,
 "nbformat_minor": 2
}
