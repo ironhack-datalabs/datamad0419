{
 "cells": [
  {
   "cell_type": "code",
   "execution_count": 1,
   "metadata": {},
   "outputs": [],
   "source": [
    "#1. Import the NUMPY package under the name np.\n",
    "\n",
    "import numpy as np"
   ]
  },
  {
   "cell_type": "code",
   "execution_count": 2,
   "metadata": {},
   "outputs": [
    {
     "data": {
      "text/plain": [
       "'1.16.2'"
      ]
     },
     "execution_count": 2,
     "metadata": {},
     "output_type": "execute_result"
    }
   ],
   "source": [
    "np.version.version"
   ]
  },
  {
   "cell_type": "code",
   "execution_count": 3,
   "metadata": {
    "scrolled": true
   },
   "outputs": [
    {
     "name": "stdout",
     "output_type": "stream",
     "text": [
      "[[[0.47592502 0.13611024 0.46396332 0.61691147 0.7120992 ]\n",
      "  [0.80819878 0.23626634 0.27663945 0.65025424 0.74353673]\n",
      "  [0.76667668 0.77089386 0.45803839 0.65992756 0.07786613]]\n",
      "\n",
      " [[0.53674063 0.22122071 0.88866233 0.42863905 0.65826686]\n",
      "  [0.60124757 0.77324343 0.3704526  0.26047368 0.38688279]\n",
      "  [0.03971415 0.18761548 0.4947753  0.84556098 0.9081654 ]]]\n"
     ]
    }
   ],
   "source": [
    "a = np.random.random((2,3,5))\n",
    "print(a)"
   ]
  },
  {
   "cell_type": "code",
   "execution_count": 14,
   "metadata": {},
   "outputs": [],
   "source": [
    "b= np.ones((5,2,3)*1)\n"
   ]
  },
  {
   "cell_type": "code",
   "execution_count": 15,
   "metadata": {},
   "outputs": [
    {
     "name": "stdout",
     "output_type": "stream",
     "text": [
      "[[[1. 1. 1.]\n",
      "  [1. 1. 1.]]\n",
      "\n",
      " [[1. 1. 1.]\n",
      "  [1. 1. 1.]]\n",
      "\n",
      " [[1. 1. 1.]\n",
      "  [1. 1. 1.]]\n",
      "\n",
      " [[1. 1. 1.]\n",
      "  [1. 1. 1.]]\n",
      "\n",
      " [[1. 1. 1.]\n",
      "  [1. 1. 1.]]]\n"
     ]
    }
   ],
   "source": [
    "print(b)"
   ]
  },
  {
   "cell_type": "code",
   "execution_count": 16,
   "metadata": {},
   "outputs": [
    {
     "name": "stdout",
     "output_type": "stream",
     "text": [
      "30\n",
      "30\n",
      "son iguales\n"
     ]
    }
   ],
   "source": [
    "print(a.size)\n",
    "print(b.size)\n",
    "if (a.size) == b.size:\n",
    "    print(\"son iguales\")\n",
    "else:\n",
    "    print (\"son distintos\")"
   ]
  },
  {
   "cell_type": "code",
   "execution_count": 20,
   "metadata": {},
   "outputs": [
    {
     "name": "stdout",
     "output_type": "stream",
     "text": [
      "[[[1. 1. 1. 1. 1.]\n",
      "  [1. 1. 1. 1. 1.]\n",
      "  [1. 1. 1. 1. 1.]]\n",
      "\n",
      " [[1. 1. 1. 1. 1.]\n",
      "  [1. 1. 1. 1. 1.]\n",
      "  [1. 1. 1. 1. 1.]]]\n"
     ]
    }
   ],
   "source": [
    "c = np.ones_like(a) \n",
    "print(c)"
   ]
  },
  {
   "cell_type": "code",
   "execution_count": 18,
   "metadata": {},
   "outputs": [
    {
     "name": "stdout",
     "output_type": "stream",
     "text": [
      "(2, 3, 5)\n"
     ]
    }
   ],
   "source": [
    "print(c.shape)"
   ]
  },
  {
   "cell_type": "code",
   "execution_count": 28,
   "metadata": {},
   "outputs": [],
   "source": [
    "c =np.transpose(b,(1,2,0))\n"
   ]
  },
  {
   "cell_type": "code",
   "execution_count": 29,
   "metadata": {},
   "outputs": [
    {
     "name": "stdout",
     "output_type": "stream",
     "text": [
      "(2, 3, 5)\n"
     ]
    }
   ],
   "source": [
    "print(c.shape)"
   ]
  },
  {
   "cell_type": "code",
   "execution_count": 31,
   "metadata": {},
   "outputs": [],
   "source": [
    "d = a +c"
   ]
  },
  {
   "cell_type": "code",
   "execution_count": 32,
   "metadata": {},
   "outputs": [
    {
     "name": "stdout",
     "output_type": "stream",
     "text": [
      "[[[1.47592502 1.13611024 1.46396332 1.61691147 1.7120992 ]\n",
      "  [1.80819878 1.23626634 1.27663945 1.65025424 1.74353673]\n",
      "  [1.76667668 1.77089386 1.45803839 1.65992756 1.07786613]]\n",
      "\n",
      " [[1.53674063 1.22122071 1.88866233 1.42863905 1.65826686]\n",
      "  [1.60124757 1.77324343 1.3704526  1.26047368 1.38688279]\n",
      "  [1.03971415 1.18761548 1.4947753  1.84556098 1.9081654 ]]]\n"
     ]
    }
   ],
   "source": [
    "print(d)"
   ]
  },
  {
   "cell_type": "code",
   "execution_count": 58,
   "metadata": {},
   "outputs": [
    {
     "name": "stdout",
     "output_type": "stream",
     "text": [
      "la suma de los valores de a ( 15.454968378418418 )es distinta a la suma de los valores de d (30.0)\n"
     ]
    }
   ],
   "source": [
    "a == d\n",
    "print(\"la suma de los valores de a ( \" + str(np.sum(a)) + \" )es distinta a la suma de los valores de d (\" + str(np.sum(c)) +\")\")"
   ]
  },
  {
   "cell_type": "code",
   "execution_count": 45,
   "metadata": {},
   "outputs": [],
   "source": [
    "e = a* c"
   ]
  },
  {
   "cell_type": "code",
   "execution_count": 47,
   "metadata": {},
   "outputs": [
    {
     "name": "stdout",
     "output_type": "stream",
     "text": [
      "[[[0.47592502 0.13611024 0.46396332 0.61691147 0.7120992 ]\n",
      "  [0.80819878 0.23626634 0.27663945 0.65025424 0.74353673]\n",
      "  [0.76667668 0.77089386 0.45803839 0.65992756 0.07786613]]\n",
      "\n",
      " [[0.53674063 0.22122071 0.88866233 0.42863905 0.65826686]\n",
      "  [0.60124757 0.77324343 0.3704526  0.26047368 0.38688279]\n",
      "  [0.03971415 0.18761548 0.4947753  0.84556098 0.9081654 ]]]\n",
      "[[[0.47592502 0.13611024 0.46396332 0.61691147 0.7120992 ]\n",
      "  [0.80819878 0.23626634 0.27663945 0.65025424 0.74353673]\n",
      "  [0.76667668 0.77089386 0.45803839 0.65992756 0.07786613]]\n",
      "\n",
      " [[0.53674063 0.22122071 0.88866233 0.42863905 0.65826686]\n",
      "  [0.60124757 0.77324343 0.3704526  0.26047368 0.38688279]\n",
      "  [0.03971415 0.18761548 0.4947753  0.84556098 0.9081654 ]]]\n"
     ]
    }
   ],
   "source": [
    "print(e)\n",
    "print(a)"
   ]
  },
  {
   "cell_type": "code",
   "execution_count": 48,
   "metadata": {},
   "outputs": [
    {
     "data": {
      "text/plain": [
       "array([[[ True,  True,  True,  True,  True],\n",
       "        [ True,  True,  True,  True,  True],\n",
       "        [ True,  True,  True,  True,  True]],\n",
       "\n",
       "       [[ True,  True,  True,  True,  True],\n",
       "        [ True,  True,  True,  True,  True],\n",
       "        [ True,  True,  True,  True,  True]]])"
      ]
     },
     "execution_count": 48,
     "metadata": {},
     "output_type": "execute_result"
    }
   ],
   "source": [
    "a == e"
   ]
  },
  {
   "cell_type": "code",
   "execution_count": 53,
   "metadata": {},
   "outputs": [],
   "source": [
    "d_max= d.max()\n",
    "d_min= d.min()\n",
    "d_mean= d.mean()"
   ]
  },
  {
   "cell_type": "code",
   "execution_count": 54,
   "metadata": {},
   "outputs": [
    {
     "name": "stdout",
     "output_type": "stream",
     "text": [
      "1.9081654029738093 1.0397141458954116 1.5151656126139474\n"
     ]
    }
   ],
   "source": [
    "print(d_max, d_min, d_mean)"
   ]
  },
  {
   "cell_type": "code",
   "execution_count": 63,
   "metadata": {},
   "outputs": [],
   "source": [
    "f = np.empty((2,3,5))"
   ]
  },
  {
   "cell_type": "code",
   "execution_count": 78,
   "metadata": {},
   "outputs": [],
   "source": [
    "for x in range(len(d)):\n",
    "    for y in range(len(d[x])):\n",
    "        for z in range(len(d[x][y])):\n",
    "            if d[x][y][z] == d_min:\n",
    "                   d[x][y][z] = 0\n",
    "            elif d_min < d[x][y][z] < d_mean:\n",
    "                   d[x][y][z] = 25\n",
    "            elif d[x][y][z] == d_mean:\n",
    "                   d[x][y][z] = 50\n",
    "            elif d[x][y][z] < d_max:\n",
    "                   d[x][y][z] = 75\n",
    "            else:\n",
    "                   d[x][y][z]= 100\n",
    "    \n",
    "    "
   ]
  },
  {
   "cell_type": "code",
   "execution_count": null,
   "metadata": {},
   "outputs": [],
   "source": [
    "\n",
    "    "
   ]
  }
 ],
 "metadata": {
  "kernelspec": {
   "display_name": "Python 3",
   "language": "python",
   "name": "python3"
  },
  "language_info": {
   "codemirror_mode": {
    "name": "ipython",
    "version": 3
   },
   "file_extension": ".py",
   "mimetype": "text/x-python",
   "name": "python",
   "nbconvert_exporter": "python",
   "pygments_lexer": "ipython3",
   "version": "3.5.2"
  }
 },
 "nbformat": 4,
 "nbformat_minor": 2
}
