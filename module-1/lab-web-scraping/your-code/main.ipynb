{
 "cells": [
  {
   "cell_type": "markdown",
   "metadata": {},
   "source": [
    "# Web Scraping Lab\n",
    "\n",
    "You will find in this notebook some scrapy exercises to practise your scraping skills.\n",
    "\n",
    "**Tips:**\n",
    "\n",
    "- Check the response status code for each request to ensure you have obtained the intended contennt.\n",
    "- Print the response text in each request to understand the kind of info you are getting and its format.\n",
    "- Check for patterns in the response text to extract the data/info requested in each question.\n",
    "- Visit each url and take a look at its source through Chrome DevTools. You'll need to identify the html tags, special class names etc. used for the html content you are expected to extract."
   ]
  },
  {
   "cell_type": "markdown",
   "metadata": {},
   "source": [
    "- [Requests library](http://docs.python-requests.org/en/master/#the-user-guide) documentation \n",
    "- [Beautiful Soup Doc](https://www.crummy.com/software/BeautifulSoup/bs4/doc/)\n",
    "- [Urllib](https://docs.python.org/3/library/urllib.html#module-urllib)\n",
    "- [re lib](https://docs.python.org/3/library/re.html)\n",
    "- [lxml lib](https://lxml.de/)\n",
    "- [Scrapy](https://scrapy.org/)\n",
    "- [List of HTTP status codes](https://en.wikipedia.org/wiki/List_of_HTTP_status_codes)\n",
    "- [HTML basics](http://www.simplehtmlguide.com/cheatsheet.php)\n",
    "- [CSS basics](https://www.cssbasics.com/#page_start)"
   ]
  },
  {
   "cell_type": "markdown",
   "metadata": {},
   "source": [
    "#### Below are the libraries and modules you may need. `requests`,  `BeautifulSoup` and `pandas` are imported for you. If you prefer to use additional libraries feel free to uncomment them."
   ]
  },
  {
   "cell_type": "code",
   "execution_count": 3,
   "metadata": {},
   "outputs": [],
   "source": [
    "import requests\n",
    "from bs4 import BeautifulSoup\n",
    "import pandas as pd\n",
    "# from pprint import pprint\n",
    "# from lxml import html\n",
    "# from lxml.html import fromstring\n",
    "# import urllib.request\n",
    "from urllib.request import urlopen\n",
    "# import random\n",
    "import re\n",
    "# import scrapy"
   ]
  },
  {
   "cell_type": "markdown",
   "metadata": {},
   "source": [
    "#### Download, parse (using BeautifulSoup), and print the content from the Trending Developers page from GitHub:"
   ]
  },
  {
   "cell_type": "code",
   "execution_count": 442,
   "metadata": {},
   "outputs": [],
   "source": [
    "# This is the url you will scrape in this exercise\n",
    "url = 'https://github.com/trending/developers'"
   ]
  },
  {
   "cell_type": "code",
   "execution_count": 443,
   "metadata": {},
   "outputs": [],
   "source": [
    "#your code\n",
    "github_html = requests.get(url).text\n",
    "soup = BeautifulSoup(github_html, \"html.parser\")\n",
    "#print(soup)"
   ]
  },
  {
   "cell_type": "markdown",
   "metadata": {},
   "source": [
    "#### Display the names of the trending developers retrieved in the previous step.\n",
    "\n",
    "Your output should be a Python list of developer names. Each name should not contain any html tag.\n",
    "\n",
    "**Instructions:**\n",
    "\n",
    "1. Find out the html tag and class names used for the developer names. You can achieve this using Chrome DevTools.\n",
    "\n",
    "1. Use BeautifulSoup to extract all the html elements that contain the developer names.\n",
    "\n",
    "1. Use string manipulation techniques to replace whitespaces and linebreaks (i.e. `\\n`) in the *text* of each html element. Use a list to store the clean names.\n",
    "\n",
    "1. Print the list of names.\n",
    "\n",
    "Your output should look like below:\n",
    "\n",
    "```\n",
    "['trimstray (@trimstray)',\n",
    " 'joewalnes (JoeWalnes)',\n",
    " 'charlax (Charles-AxelDein)',\n",
    " 'ForrestKnight (ForrestKnight)',\n",
    " 'revery-ui (revery-ui)',\n",
    " 'alibaba (Alibaba)',\n",
    " 'Microsoft (Microsoft)',\n",
    " 'github (GitHub)',\n",
    " 'facebook (Facebook)',\n",
    " 'boazsegev (Bo)',\n",
    " 'google (Google)',\n",
    " 'cloudfetch',\n",
    " 'sindresorhus (SindreSorhus)',\n",
    " 'tensorflow',\n",
    " 'apache (TheApacheSoftwareFoundation)',\n",
    " 'DevonCrawford (DevonCrawford)',\n",
    " 'ARMmbed (ArmMbed)',\n",
    " 'vuejs (vuejs)',\n",
    " 'fastai (fast.ai)',\n",
    " 'QiShaoXuan (Qi)',\n",
    " 'joelparkerhenderson (JoelParkerHenderson)',\n",
    " 'torvalds (LinusTorvalds)',\n",
    " 'CyC2018',\n",
    " 'komeiji-satori (神楽坂覚々)',\n",
    " 'script-8']\n",
    " ```"
   ]
  },
  {
   "cell_type": "code",
   "execution_count": 492,
   "metadata": {},
   "outputs": [
    {
     "data": {
      "text/plain": [
       "['996icu',\n",
       " 'MSWorkers (MicrosoftWorkers)',\n",
       " 'cool-RR (RamRachum)',\n",
       " 'Microsoft (Microsoft)',\n",
       " 'Alikhll (AliKhalili)',\n",
       " 'gcla',\n",
       " 'dotnet (.NETFoundation)',\n",
       " 'rhysd (Linda_pp)',\n",
       " 'apache (TheApacheSoftwareFoundation)',\n",
       " 'sveltejs (Svelte)',\n",
       " 'google (Google)',\n",
       " 'alibaba (Alibaba)',\n",
       " 'facebook (Facebook)',\n",
       " 'haoel (HaoChen)',\n",
       " 'jackfrued (骆昊)',\n",
       " 'Quorafind (Bon)',\n",
       " 'TheAlgorithms (TheAlgorithms)',\n",
       " 'github (GitHub)',\n",
       " 'codercom (Coder)',\n",
       " 'tensorflow',\n",
       " 'bilibili (bilibili)',\n",
       " 'flutter (Flutter)',\n",
       " 'EtherDream (EtherDream)',\n",
       " 'vuejs (vuejs)',\n",
       " 'cloudkj (KelvinJiang)',\n",
       " 'Product',\n",
       " 'Platform',\n",
       " 'Support',\n",
       " 'Company']"
      ]
     },
     "execution_count": 492,
     "metadata": {},
     "output_type": "execute_result"
    }
   ],
   "source": [
    "#your code\n",
    "#h2 = soup.find_all('h2')\n",
    "#developers = []\n",
    "#for a in h2:\n",
    "#    parte1 = a.find_all('a')\n",
    "#    for dev in parte1:\n",
    "#        parte2 = dev.find_all('span')\n",
    "#        nick = dev.text.strip().replace('\\n', '')\n",
    "#        nick = nick.split()\n",
    "#        if parte2:\n",
    "#            for empresa in parte2:\n",
    "#                temp = empresa.text.strip().replace('\\n', '')\n",
    "#                developers.append(nick[0] + ' ' + temp)\n",
    "#        else:\n",
    "#            developers.append(nick[0])\n",
    "        \n",
    "#developers\n",
    "\n",
    "def elimina(t):\n",
    "    t = re.sub(' ','',t)\n",
    "    t = re.sub('\\n\\n',' ',t)\n",
    "    return t.strip()\n",
    "\n",
    "dev2 = [d.text for d in soup.find_all('h2')]\n",
    "dev2 = list(map(elimina, dev2))\n",
    "\n",
    "dev2"
   ]
  },
  {
   "cell_type": "markdown",
   "metadata": {},
   "source": [
    "#### Display the trending Python repositories in GitHub\n",
    "\n",
    "The steps to solve this problem is similar to the previous one except that you need to find out the repository names instead of developer names."
   ]
  },
  {
   "cell_type": "code",
   "execution_count": 498,
   "metadata": {},
   "outputs": [],
   "source": [
    "# This is the url you will scrape in this exercise\n",
    "url = 'https://github.com/trending/python?since=daily'"
   ]
  },
  {
   "cell_type": "code",
   "execution_count": 499,
   "metadata": {},
   "outputs": [],
   "source": [
    "#your code\n",
    "\n",
    "github_html_py = requests.get(url).text\n",
    "soup_py = BeautifulSoup(github_html_py, \"html.parser\")"
   ]
  },
  {
   "cell_type": "code",
   "execution_count": 507,
   "metadata": {},
   "outputs": [
    {
     "data": {
      "text/plain": [
       "['cool-RR - PySnooper',\n",
       " 'jackfrued - Python-100-Days',\n",
       " 'TheAlgorithms - Python',\n",
       " 'nubank - fklearn',\n",
       " 'apachecn - AiLearning',\n",
       " 'hzwer - LearningToPaint',\n",
       " 'openai - sparse_attention',\n",
       " 'databricks - koalas',\n",
       " 'itsKindred - procSpy',\n",
       " '3b1b - manim',\n",
       " 'tensorflow - models',\n",
       " 'shengqiangzhang - examples-of-web-crawlers',\n",
       " 'wubinzzu - NeuRec',\n",
       " 'OWASP - CheatSheetSeries',\n",
       " 'ytdl-org - youtube-dl',\n",
       " 'zhaoolee - ChromeAppHeroes',\n",
       " 'donnemartin - system-design-primer',\n",
       " 'jas502n - CNVD-C-2019-48814',\n",
       " 'facebookresearch - OctConv',\n",
       " 'Northxw - Dianping',\n",
       " 'opensec-cn - vtest',\n",
       " 'vinta - awesome-python',\n",
       " 'keras-team - keras',\n",
       " 'localstack - localstack',\n",
       " 'toddmotto - public-apis']"
      ]
     },
     "execution_count": 507,
     "metadata": {},
     "output_type": "execute_result"
    }
   ],
   "source": [
    "#h3 = soup_py.find_all('h3')\n",
    "#repository = []\n",
    "#for a in h3:\n",
    "#    parte1 = a.find_all('a')\n",
    "#    for fila in parte1:\n",
    "#        repo = fila.text.strip().replace('\\n', '').replace('/', '')\n",
    "#        repository.append(repo)      \n",
    "#repository\n",
    "\n",
    "def elimina_p(t):\n",
    "    t = re.sub(' ','',t)\n",
    "    t = re.sub('\\n','',t)\n",
    "    t = re.sub('/',' - ',t)\n",
    "    return t\n",
    "\n",
    "repository = [r.text for r in soup_py.find_all('h3')]\n",
    "repository = list(map(elimina_p, repository))\n",
    "repository"
   ]
  },
  {
   "cell_type": "markdown",
   "metadata": {},
   "source": [
    "#### Display all the image links from Walt Disney wikipedia page"
   ]
  },
  {
   "cell_type": "code",
   "execution_count": 11,
   "metadata": {},
   "outputs": [],
   "source": [
    "# This is the url you will scrape in this exercise\n",
    "url = 'https://en.wikipedia.org/wiki/Walt_Disney'"
   ]
  },
  {
   "cell_type": "code",
   "execution_count": 12,
   "metadata": {},
   "outputs": [],
   "source": [
    "#your code\n",
    "\n",
    "disney_html = requests.get(url).text\n",
    "soup_disney = BeautifulSoup(disney_html, \"html.parser\")"
   ]
  },
  {
   "cell_type": "code",
   "execution_count": 13,
   "metadata": {},
   "outputs": [
    {
     "data": {
      "text/plain": [
       "['upload.wikimedia.org/wikipedia/en/thumb/e/e7/Cscr-featured.svg/20px-Cscr-featured.svg.png',\n",
       " 'upload.wikimedia.org/wikipedia/en/thumb/1/1b/Semi-protection-shackle.svg/20px-Semi-protection-shackle.svg.png',\n",
       " 'upload.wikimedia.org/wikipedia/commons/thumb/d/df/Walt_Disney_1946.JPG/220px-Walt_Disney_1946.JPG',\n",
       " 'upload.wikimedia.org/wikipedia/commons/thumb/8/87/Walt_Disney_1942_signature.svg/150px-Walt_Disney_1942_signature.svg.png',\n",
       " 'upload.wikimedia.org/wikipedia/commons/thumb/c/c4/Walt_Disney_envelope_ca._1921.jpg/220px-Walt_Disney_envelope_ca._1921.jpg',\n",
       " 'upload.wikimedia.org/wikipedia/commons/thumb/4/4d/Newman_Laugh-O-Gram_%281921%29.webm/220px-seek%3D2-Newman_Laugh-O-Gram_%281921%29.webm.jpg',\n",
       " 'upload.wikimedia.org/wikipedia/commons/thumb/0/0d/Trolley_Troubles_poster.jpg/170px-Trolley_Troubles_poster.jpg',\n",
       " 'upload.wikimedia.org/wikipedia/commons/thumb/7/71/Walt_Disney_and_his_cartoon_creation_%22Mickey_Mouse%22_-_National_Board_of_Review_Magazine.jpg/170px-Walt_Disney_and_his_cartoon_creation_%22Mickey_Mouse%22_-_National_Board_of_Review_Magazine.jpg',\n",
       " 'upload.wikimedia.org/wikipedia/en/thumb/4/4e/Steamboat-willie.jpg/170px-Steamboat-willie.jpg',\n",
       " 'upload.wikimedia.org/wikipedia/commons/thumb/5/57/Walt_Disney_1935.jpg/170px-Walt_Disney_1935.jpg',\n",
       " 'upload.wikimedia.org/wikipedia/commons/thumb/c/cd/Walt_Disney_Snow_white_1937_trailer_screenshot_%2813%29.jpg/220px-Walt_Disney_Snow_white_1937_trailer_screenshot_%2813%29.jpg',\n",
       " 'upload.wikimedia.org/wikipedia/commons/thumb/1/15/Disney_drawing_goofy.jpg/170px-Disney_drawing_goofy.jpg',\n",
       " 'upload.wikimedia.org/wikipedia/commons/thumb/1/13/DisneySchiphol1951.jpg/220px-DisneySchiphol1951.jpg',\n",
       " 'upload.wikimedia.org/wikipedia/commons/thumb/8/8c/WaltDisneyplansDisneylandDec1954.jpg/220px-WaltDisneyplansDisneylandDec1954.jpg',\n",
       " 'upload.wikimedia.org/wikipedia/commons/thumb/f/ff/Walt_disney_portrait_right.jpg/170px-Walt_disney_portrait_right.jpg',\n",
       " 'upload.wikimedia.org/wikipedia/commons/thumb/1/1a/Walt_Disney_Grave.JPG/170px-Walt_Disney_Grave.JPG',\n",
       " 'upload.wikimedia.org/wikipedia/commons/thumb/2/2d/Roy_O._Disney_with_Company_at_Press_Conference.jpg/170px-Roy_O._Disney_with_Company_at_Press_Conference.jpg',\n",
       " 'upload.wikimedia.org/wikipedia/commons/thumb/a/a9/Disney_Display_Case.JPG/170px-Disney_Display_Case.JPG',\n",
       " 'upload.wikimedia.org/wikipedia/commons/thumb/6/6c/Disney1968.jpg/170px-Disney1968.jpg',\n",
       " 'upload.wikimedia.org/wikipedia/commons/thumb/7/73/Blue_pencil.svg/10px-Blue_pencil.svg.png',\n",
       " 'upload.wikimedia.org/wikipedia/en/thumb/6/69/P_vip.svg/29px-P_vip.svg.png',\n",
       " 'upload.wikimedia.org/wikipedia/en/thumb/e/e7/Video-x-generic.svg/30px-Video-x-generic.svg.png',\n",
       " 'upload.wikimedia.org/wikipedia/commons/thumb/a/a3/Flag_of_Los_Angeles_County%2C_California.svg/30px-Flag_of_Los_Angeles_County%2C_California.svg.png',\n",
       " 'upload.wikimedia.org/wikipedia/commons/thumb/a/a3/USA_flag_on_television.svg/30px-USA_flag_on_television.svg.png',\n",
       " 'upload.wikimedia.org/wikipedia/en/thumb/4/4a/Commons-logo.svg/22px-Commons-logo.svg.png',\n",
       " 'upload.wikimedia.org/wikipedia/commons/thumb/f/fa/Wikiquote-logo.svg/25px-Wikiquote-logo.svg.png',\n",
       " 'upload.wikimedia.org/wikipedia/commons/thumb/f/ff/Wikidata-logo.svg/30px-Wikidata-logo.svg.png',\n",
       " 'upload.wikimedia.org/wikipedia/commons/thumb/7/73/Blue_pencil.svg/10px-Blue_pencil.svg.png',\n",
       " 'en.wikipedia.org/wiki/Special:CentralAutoLogin/start?type=1x1',\n",
       " '/static/images/wikimedia-button.png',\n",
       " '/static/images/poweredby_mediawiki_88x31.png']"
      ]
     },
     "execution_count": 13,
     "metadata": {},
     "output_type": "execute_result"
    }
   ],
   "source": [
    "enlaces = soup_disney.find_all('img')\n",
    "images_src = [img['src'].replace('//', '') for img in soup_disney.findAll('img')]\n",
    "images_src"
   ]
  },
  {
   "cell_type": "markdown",
   "metadata": {},
   "source": [
    "#### Retrieve an arbitary Wikipedia page of \"Python\" and create a list of links on that page"
   ]
  },
  {
   "cell_type": "code",
   "execution_count": 19,
   "metadata": {},
   "outputs": [],
   "source": [
    "# This is the url you will scrape in this exercise\n",
    "url ='https://en.wikipedia.org/wiki/Python' "
   ]
  },
  {
   "cell_type": "code",
   "execution_count": 23,
   "metadata": {},
   "outputs": [],
   "source": [
    "#your code\n",
    "python_html = requests.get(url).text\n",
    "soup_py = BeautifulSoup(python_html, \"html.parser\")"
   ]
  },
  {
   "cell_type": "code",
   "execution_count": 37,
   "metadata": {},
   "outputs": [
    {
     "data": {
      "text/plain": [
       "[None,\n",
       " '#mw-head',\n",
       " '#p-search',\n",
       " 'https://en.wiktionary.org/wiki/Python',\n",
       " 'https://en.wiktionary.org/wiki/python',\n",
       " '#Snakes',\n",
       " '#Ancient_Greece',\n",
       " '#Media_and_entertainment',\n",
       " '#Computing',\n",
       " '#Engineering',\n",
       " '#Roller_coasters',\n",
       " '#Vehicles',\n",
       " '#Weaponry',\n",
       " '#People',\n",
       " '#Other_uses',\n",
       " '#See_also',\n",
       " '/w/index.php?title=Python&action=edit&section=1',\n",
       " '/wiki/Pythonidae',\n",
       " '/wiki/Python_(genus)',\n",
       " '/w/index.php?title=Python&action=edit&section=2',\n",
       " '/wiki/Python_(mythology)',\n",
       " '/wiki/Python_of_Aenus',\n",
       " '/wiki/Python_(painter)',\n",
       " '/wiki/Python_of_Byzantium',\n",
       " '/wiki/Python_of_Catana',\n",
       " '/w/index.php?title=Python&action=edit&section=3',\n",
       " '/wiki/Python_(film)',\n",
       " '/wiki/Pythons_2',\n",
       " '/wiki/Monty_Python',\n",
       " '/wiki/Python_(Monty)_Pictures',\n",
       " '/w/index.php?title=Python&action=edit&section=4',\n",
       " '/wiki/Python_(programming_language)',\n",
       " '/wiki/CPython',\n",
       " '/wiki/CMU_Common_Lisp',\n",
       " '/wiki/PERQ#PERQ_3',\n",
       " '/w/index.php?title=Python&action=edit&section=5',\n",
       " '/w/index.php?title=Python&action=edit&section=6',\n",
       " '/wiki/Python_(Busch_Gardens_Tampa_Bay)',\n",
       " '/wiki/Python_(Coney_Island,_Cincinnati,_Ohio)',\n",
       " '/wiki/Python_(Efteling)',\n",
       " '/w/index.php?title=Python&action=edit&section=7',\n",
       " '/wiki/Python_(automobile_maker)',\n",
       " '/wiki/Python_(Ford_prototype)',\n",
       " '/w/index.php?title=Python&action=edit&section=8',\n",
       " '/wiki/Colt_Python',\n",
       " '/wiki/Python_(missile)',\n",
       " '/wiki/Python_(nuclear_primary)',\n",
       " '/w/index.php?title=Python&action=edit&section=9',\n",
       " '/wiki/Python_Anghelo',\n",
       " '/w/index.php?title=Python&action=edit&section=10',\n",
       " '/wiki/PYTHON',\n",
       " '/w/index.php?title=Python&action=edit&section=11',\n",
       " '/wiki/Cython',\n",
       " '/wiki/Pyton',\n",
       " '/wiki/File:Disambig_gray.svg',\n",
       " '/wiki/Help:Disambiguation',\n",
       " '//en.wikipedia.org/w/index.php?title=Special:WhatLinksHere/Python&namespace=0',\n",
       " 'https://en.wikipedia.org/w/index.php?title=Python&oldid=893749572',\n",
       " '/wiki/Help:Category',\n",
       " '/wiki/Category:Disambiguation_pages',\n",
       " '/wiki/Category:Disambiguation_pages_with_short_description',\n",
       " '/wiki/Category:All_article_disambiguation_pages',\n",
       " '/wiki/Category:All_disambiguation_pages',\n",
       " '/wiki/Category:Animal_common_name_disambiguation_pages',\n",
       " '/wiki/Special:MyTalk',\n",
       " '/wiki/Special:MyContributions',\n",
       " '/w/index.php?title=Special:CreateAccount&returnto=Python',\n",
       " '/w/index.php?title=Special:UserLogin&returnto=Python',\n",
       " '/wiki/Python',\n",
       " '/wiki/Talk:Python',\n",
       " '/wiki/Python',\n",
       " '/w/index.php?title=Python&action=edit',\n",
       " '/w/index.php?title=Python&action=history',\n",
       " '/wiki/Main_Page',\n",
       " '/wiki/Main_Page',\n",
       " '/wiki/Portal:Contents',\n",
       " '/wiki/Portal:Featured_content',\n",
       " '/wiki/Portal:Current_events',\n",
       " '/wiki/Special:Random',\n",
       " 'https://donate.wikimedia.org/wiki/Special:FundraiserRedirector?utm_source=donate&utm_medium=sidebar&utm_campaign=C13_en.wikipedia.org&uselang=en',\n",
       " '//shop.wikimedia.org',\n",
       " '/wiki/Help:Contents',\n",
       " '/wiki/Wikipedia:About',\n",
       " '/wiki/Wikipedia:Community_portal',\n",
       " '/wiki/Special:RecentChanges',\n",
       " '//en.wikipedia.org/wiki/Wikipedia:Contact_us',\n",
       " '/wiki/Special:WhatLinksHere/Python',\n",
       " '/wiki/Special:RecentChangesLinked/Python',\n",
       " '/wiki/Wikipedia:File_Upload_Wizard',\n",
       " '/wiki/Special:SpecialPages',\n",
       " '/w/index.php?title=Python&oldid=893749572',\n",
       " '/w/index.php?title=Python&action=info',\n",
       " 'https://www.wikidata.org/wiki/Special:EntityPage/Q747452',\n",
       " '/w/index.php?title=Special:CiteThisPage&page=Python&id=893749572',\n",
       " '/w/index.php?title=Special:Book&bookcmd=book_creator&referer=Python',\n",
       " '/w/index.php?title=Special:ElectronPdf&page=Python&action=show-download-screen',\n",
       " '/w/index.php?title=Python&printable=yes',\n",
       " 'https://commons.wikimedia.org/wiki/Category:Python',\n",
       " 'https://af.wikipedia.org/wiki/Python',\n",
       " 'https://als.wikipedia.org/wiki/Python',\n",
       " 'https://az.wikipedia.org/wiki/Python',\n",
       " 'https://bn.wikipedia.org/wiki/%E0%A6%AA%E0%A6%BE%E0%A6%87%E0%A6%A5%E0%A6%A8_(%E0%A6%A6%E0%A7%8D%E0%A6%AC%E0%A7%8D%E0%A6%AF%E0%A6%B0%E0%A7%8D%E0%A6%A5%E0%A6%A4%E0%A6%BE_%E0%A6%A8%E0%A6%BF%E0%A6%B0%E0%A6%B8%E0%A6%A8)',\n",
       " 'https://be.wikipedia.org/wiki/Python',\n",
       " 'https://bg.wikipedia.org/wiki/%D0%9F%D0%B8%D1%82%D0%BE%D0%BD_(%D0%BF%D0%BE%D1%8F%D1%81%D0%BD%D0%B5%D0%BD%D0%B8%D0%B5)',\n",
       " 'https://cs.wikipedia.org/wiki/Python_(rozcestn%C3%ADk)',\n",
       " 'https://da.wikipedia.org/wiki/Python',\n",
       " 'https://de.wikipedia.org/wiki/Python',\n",
       " 'https://eo.wikipedia.org/wiki/Pitono_(apartigilo)',\n",
       " 'https://eu.wikipedia.org/wiki/Python_(argipena)',\n",
       " 'https://fa.wikipedia.org/wiki/%D9%BE%D8%A7%DB%8C%D8%AA%D9%88%D9%86',\n",
       " 'https://fr.wikipedia.org/wiki/Python',\n",
       " 'https://ko.wikipedia.org/wiki/%ED%8C%8C%EC%9D%B4%EC%84%A0',\n",
       " 'https://hr.wikipedia.org/wiki/Python_(razdvojba)',\n",
       " 'https://io.wikipedia.org/wiki/Pitono',\n",
       " 'https://id.wikipedia.org/wiki/Python',\n",
       " 'https://ia.wikipedia.org/wiki/Python_(disambiguation)',\n",
       " 'https://is.wikipedia.org/wiki/Python',\n",
       " 'https://it.wikipedia.org/wiki/Python_(disambigua)',\n",
       " 'https://he.wikipedia.org/wiki/%D7%A4%D7%99%D7%AA%D7%95%D7%9F',\n",
       " 'https://ka.wikipedia.org/wiki/%E1%83%9E%E1%83%98%E1%83%97%E1%83%9D%E1%83%9C%E1%83%98_(%E1%83%9B%E1%83%A0%E1%83%90%E1%83%95%E1%83%90%E1%83%9A%E1%83%9B%E1%83%9C%E1%83%98%E1%83%A8%E1%83%95%E1%83%9C%E1%83%94%E1%83%9A%E1%83%9D%E1%83%95%E1%83%90%E1%83%9C%E1%83%98)',\n",
       " 'https://kg.wikipedia.org/wiki/Mboma_(nyoka)',\n",
       " 'https://la.wikipedia.org/wiki/Python_(discretiva)',\n",
       " 'https://lb.wikipedia.org/wiki/Python',\n",
       " 'https://hu.wikipedia.org/wiki/Python_(egy%C3%A9rtelm%C5%B1s%C3%ADt%C5%91_lap)',\n",
       " 'https://mr.wikipedia.org/wiki/%E0%A4%AA%E0%A4%BE%E0%A4%AF%E0%A4%A5%E0%A5%89%E0%A4%A8_(%E0%A4%86%E0%A4%9C%E0%A5%8D%E0%A4%9E%E0%A4%BE%E0%A4%B5%E0%A4%B2%E0%A5%80_%E0%A4%AD%E0%A4%BE%E0%A4%B7%E0%A4%BE)',\n",
       " 'https://nl.wikipedia.org/wiki/Python',\n",
       " 'https://ja.wikipedia.org/wiki/%E3%83%91%E3%82%A4%E3%82%BD%E3%83%B3',\n",
       " 'https://no.wikipedia.org/wiki/Pyton',\n",
       " 'https://pl.wikipedia.org/wiki/Pyton',\n",
       " 'https://pt.wikipedia.org/wiki/Python_(desambigua%C3%A7%C3%A3o)',\n",
       " 'https://ru.wikipedia.org/wiki/Python_(%D0%B7%D0%BD%D0%B0%D1%87%D0%B5%D0%BD%D0%B8%D1%8F)',\n",
       " 'https://sd.wikipedia.org/wiki/%D8%A7%D8%B1%DA%99',\n",
       " 'https://sk.wikipedia.org/wiki/Python',\n",
       " 'https://sh.wikipedia.org/wiki/Python',\n",
       " 'https://fi.wikipedia.org/wiki/Python',\n",
       " 'https://sv.wikipedia.org/wiki/Pyton',\n",
       " 'https://th.wikipedia.org/wiki/%E0%B9%84%E0%B8%9E%E0%B8%97%E0%B8%AD%E0%B8%99',\n",
       " 'https://tr.wikipedia.org/wiki/Python',\n",
       " 'https://uk.wikipedia.org/wiki/%D0%9F%D1%96%D1%84%D0%BE%D0%BD',\n",
       " 'https://ur.wikipedia.org/wiki/%D9%BE%D8%A7%D8%A6%DB%8C%D8%AA%DA%BE%D9%88%D9%86',\n",
       " 'https://vi.wikipedia.org/wiki/Python',\n",
       " 'https://zh.wikipedia.org/wiki/Python_(%E6%B6%88%E6%AD%A7%E4%B9%89)',\n",
       " 'https://www.wikidata.org/wiki/Special:EntityPage/Q747452#sitelinks-wikipedia',\n",
       " '//en.wikipedia.org/wiki/Wikipedia:Text_of_Creative_Commons_Attribution-ShareAlike_3.0_Unported_License',\n",
       " '//creativecommons.org/licenses/by-sa/3.0/',\n",
       " '//foundation.wikimedia.org/wiki/Terms_of_Use',\n",
       " '//foundation.wikimedia.org/wiki/Privacy_policy',\n",
       " '//www.wikimediafoundation.org/',\n",
       " 'https://foundation.wikimedia.org/wiki/Privacy_policy',\n",
       " '/wiki/Wikipedia:About',\n",
       " '/wiki/Wikipedia:General_disclaimer',\n",
       " '//en.wikipedia.org/wiki/Wikipedia:Contact_us',\n",
       " 'https://www.mediawiki.org/wiki/Special:MyLanguage/How_to_contribute',\n",
       " 'https://foundation.wikimedia.org/wiki/Cookie_statement',\n",
       " '//en.m.wikipedia.org/w/index.php?title=Python&mobileaction=toggle_view_mobile',\n",
       " 'https://wikimediafoundation.org/',\n",
       " '//www.mediawiki.org/']"
      ]
     },
     "execution_count": 37,
     "metadata": {},
     "output_type": "execute_result"
    }
   ],
   "source": [
    "enlaces_url = [a.get('href') for a in soup_py.find_all('a')]\n",
    "enlaces_url"
   ]
  },
  {
   "cell_type": "markdown",
   "metadata": {},
   "source": [
    "#### Number of Titles that have changed in the United States Code since its last release point "
   ]
  },
  {
   "cell_type": "code",
   "execution_count": 171,
   "metadata": {},
   "outputs": [],
   "source": [
    "# This is the url you will scrape in this exercise\n",
    "url = 'http://uscode.house.gov/download/download.shtml'"
   ]
  },
  {
   "cell_type": "code",
   "execution_count": 172,
   "metadata": {},
   "outputs": [],
   "source": [
    "#your code\n",
    "titles_html = requests.get(url).text\n",
    "soup_title = BeautifulSoup(titles_html, \"html.parser\")"
   ]
  },
  {
   "cell_type": "code",
   "execution_count": 175,
   "metadata": {},
   "outputs": [
    {
     "name": "stdout",
     "output_type": "stream",
     "text": [
      "1\n"
     ]
    },
    {
     "data": {
      "text/plain": [
       "['Title 42 - The Public Health and Welfare']"
      ]
     },
     "execution_count": 175,
     "metadata": {},
     "output_type": "execute_result"
    }
   ],
   "source": [
    "titles = [t.text.strip().replace('\\n', '') for t in soup_title.find_all('div', class_= 'usctitlechanged')]\n",
    "print(len(titles))\n",
    "titles"
   ]
  },
  {
   "cell_type": "markdown",
   "metadata": {},
   "source": [
    "#### A Python list with the top ten FBI's Most Wanted names "
   ]
  },
  {
   "cell_type": "code",
   "execution_count": 39,
   "metadata": {},
   "outputs": [],
   "source": [
    "# This is the url you will scrape in this exercise\n",
    "url = 'https://www.fbi.gov/wanted/topten'"
   ]
  },
  {
   "cell_type": "code",
   "execution_count": 40,
   "metadata": {},
   "outputs": [],
   "source": [
    "#your code \n",
    "fbi_html = requests.get(url).text\n",
    "soup_fbi = BeautifulSoup(fbi_html, \"html.parser\")"
   ]
  },
  {
   "cell_type": "code",
   "execution_count": 41,
   "metadata": {},
   "outputs": [
    {
     "data": {
      "text/plain": [
       "['JASON DEREK BROWN',\n",
       " 'RAFAEL CARO-QUINTERO',\n",
       " 'ALEXIS FLORES',\n",
       " 'SANTIAGO VILLALBA MEDEROS',\n",
       " 'ROBERT WILLIAM FISHER',\n",
       " 'BHADRESHKUMAR CHETANBHAI PATEL',\n",
       " 'ALEJANDRO ROSALES CASTILLO',\n",
       " 'YASER ABDEL SAID',\n",
       " 'LAMONT STEPHENSON',\n",
       " 'GREG ALYN CARLSON']"
      ]
     },
     "execution_count": 41,
     "metadata": {},
     "output_type": "execute_result"
    }
   ],
   "source": [
    "buscados = [f.text.strip().replace('\\n', '') for f in soup_fbi.find_all('h3', class_= 'title')]\n",
    "buscados"
   ]
  },
  {
   "cell_type": "markdown",
   "metadata": {},
   "source": [
    "####  20 latest earthquakes info (date, time, latitude, longitude and region name) by the EMSC as a pandas dataframe"
   ]
  },
  {
   "cell_type": "code",
   "execution_count": 43,
   "metadata": {},
   "outputs": [],
   "source": [
    "# This is the url you will scrape in this exercise\n",
    "url = 'https://www.emsc-csem.org/Earthquake/'"
   ]
  },
  {
   "cell_type": "code",
   "execution_count": 160,
   "metadata": {},
   "outputs": [],
   "source": [
    "#your code\n",
    "ea_html = requests.get(url).text\n",
    "soup_ea = BeautifulSoup(ea_html, \"html.parser\")"
   ]
  },
  {
   "cell_type": "code",
   "execution_count": 343,
   "metadata": {},
   "outputs": [
    {
     "data": {
      "text/html": [
       "<div>\n",
       "<style scoped>\n",
       "    .dataframe tbody tr th:only-of-type {\n",
       "        vertical-align: middle;\n",
       "    }\n",
       "\n",
       "    .dataframe tbody tr th {\n",
       "        vertical-align: top;\n",
       "    }\n",
       "\n",
       "    .dataframe thead th {\n",
       "        text-align: right;\n",
       "    }\n",
       "</style>\n",
       "<table border=\"1\" class=\"dataframe\">\n",
       "  <thead>\n",
       "    <tr style=\"text-align: right;\">\n",
       "      <th></th>\n",
       "      <th>date</th>\n",
       "      <th>time</th>\n",
       "      <th>latitude</th>\n",
       "      <th>longitude</th>\n",
       "      <th>region</th>\n",
       "    </tr>\n",
       "  </thead>\n",
       "  <tbody>\n",
       "    <tr>\n",
       "      <th>0</th>\n",
       "      <td>2019-04-25</td>\n",
       "      <td>18:09:30.9</td>\n",
       "      <td>36.90 N</td>\n",
       "      <td>121.63 W</td>\n",
       "      <td>CENTRAL CALIFORNIA</td>\n",
       "    </tr>\n",
       "    <tr>\n",
       "      <th>1</th>\n",
       "      <td>2019-04-25</td>\n",
       "      <td>17:59:01.0</td>\n",
       "      <td>33.88 S</td>\n",
       "      <td>72.14 W</td>\n",
       "      <td>OFFSHORE O'HIGGINS, CHILE</td>\n",
       "    </tr>\n",
       "    <tr>\n",
       "      <th>2</th>\n",
       "      <td>2019-04-25</td>\n",
       "      <td>17:22:54.0</td>\n",
       "      <td>38.58 N</td>\n",
       "      <td>29.17 W</td>\n",
       "      <td>AZORES ISLANDS, PORTUGAL</td>\n",
       "    </tr>\n",
       "    <tr>\n",
       "      <th>3</th>\n",
       "      <td>2019-04-25</td>\n",
       "      <td>17:04:07.5</td>\n",
       "      <td>19.34 N</td>\n",
       "      <td>155.18 W</td>\n",
       "      <td>ISLAND OF HAWAII, HAWAII</td>\n",
       "    </tr>\n",
       "    <tr>\n",
       "      <th>4</th>\n",
       "      <td>2019-04-25</td>\n",
       "      <td>16:45:50.3</td>\n",
       "      <td>5.29 S</td>\n",
       "      <td>151.45 E</td>\n",
       "      <td>NEW BRITAIN REGION, P.N.G.</td>\n",
       "    </tr>\n",
       "    <tr>\n",
       "      <th>5</th>\n",
       "      <td>2019-04-25</td>\n",
       "      <td>16:25:49.0</td>\n",
       "      <td>0.13 S</td>\n",
       "      <td>80.73 W</td>\n",
       "      <td>NEAR COAST OF ECUADOR</td>\n",
       "    </tr>\n",
       "    <tr>\n",
       "      <th>6</th>\n",
       "      <td>2019-04-25</td>\n",
       "      <td>15:16:29.0</td>\n",
       "      <td>18.56 N</td>\n",
       "      <td>68.92 W</td>\n",
       "      <td>DOMINICAN REPUBLIC</td>\n",
       "    </tr>\n",
       "    <tr>\n",
       "      <th>7</th>\n",
       "      <td>2019-04-25</td>\n",
       "      <td>15:15:52.4</td>\n",
       "      <td>57.69 S</td>\n",
       "      <td>23.90 W</td>\n",
       "      <td>SOUTH SANDWICH ISLANDS REGION</td>\n",
       "    </tr>\n",
       "    <tr>\n",
       "      <th>8</th>\n",
       "      <td>2019-04-25</td>\n",
       "      <td>15:09:31.8</td>\n",
       "      <td>33.50 N</td>\n",
       "      <td>116.45 W</td>\n",
       "      <td>SOUTHERN CALIFORNIA</td>\n",
       "    </tr>\n",
       "    <tr>\n",
       "      <th>9</th>\n",
       "      <td>2019-04-25</td>\n",
       "      <td>15:03:18.3</td>\n",
       "      <td>30.64 N</td>\n",
       "      <td>57.42 E</td>\n",
       "      <td>EASTERN IRAN</td>\n",
       "    </tr>\n",
       "    <tr>\n",
       "      <th>10</th>\n",
       "      <td>2019-04-25</td>\n",
       "      <td>15:00:32.0</td>\n",
       "      <td>2.88 S</td>\n",
       "      <td>126.72 E</td>\n",
       "      <td>CERAM SEA, INDONESIA</td>\n",
       "    </tr>\n",
       "    <tr>\n",
       "      <th>11</th>\n",
       "      <td>2019-04-25</td>\n",
       "      <td>14:12:23.0</td>\n",
       "      <td>0.18 S</td>\n",
       "      <td>80.68 W</td>\n",
       "      <td>NEAR COAST OF ECUADOR</td>\n",
       "    </tr>\n",
       "    <tr>\n",
       "      <th>12</th>\n",
       "      <td>2019-04-25</td>\n",
       "      <td>14:02:30.2</td>\n",
       "      <td>19.33 N</td>\n",
       "      <td>155.18 W</td>\n",
       "      <td>ISLAND OF HAWAII, HAWAII</td>\n",
       "    </tr>\n",
       "    <tr>\n",
       "      <th>13</th>\n",
       "      <td>2019-04-25</td>\n",
       "      <td>13:56:42.0</td>\n",
       "      <td>33.09 N</td>\n",
       "      <td>117.71 W</td>\n",
       "      <td>GULF OF SANTA CATALINA, CALIF.</td>\n",
       "    </tr>\n",
       "    <tr>\n",
       "      <th>14</th>\n",
       "      <td>2019-04-25</td>\n",
       "      <td>13:22:50.9</td>\n",
       "      <td>19.43 N</td>\n",
       "      <td>155.26 W</td>\n",
       "      <td>ISLAND OF HAWAII, HAWAII</td>\n",
       "    </tr>\n",
       "    <tr>\n",
       "      <th>15</th>\n",
       "      <td>2019-04-25</td>\n",
       "      <td>12:59:30.0</td>\n",
       "      <td>8.36 N</td>\n",
       "      <td>82.84 W</td>\n",
       "      <td>PANAMA-COSTA RICA BORDER REGION</td>\n",
       "    </tr>\n",
       "    <tr>\n",
       "      <th>16</th>\n",
       "      <td>2019-04-25</td>\n",
       "      <td>12:49:51.6</td>\n",
       "      <td>37.33 N</td>\n",
       "      <td>22.12 E</td>\n",
       "      <td>SOUTHERN GREECE</td>\n",
       "    </tr>\n",
       "    <tr>\n",
       "      <th>17</th>\n",
       "      <td>2019-04-25</td>\n",
       "      <td>12:46:47.0</td>\n",
       "      <td>34.14 S</td>\n",
       "      <td>72.23 W</td>\n",
       "      <td>OFFSHORE O'HIGGINS, CHILE</td>\n",
       "    </tr>\n",
       "    <tr>\n",
       "      <th>18</th>\n",
       "      <td>2019-04-25</td>\n",
       "      <td>12:39:28.4</td>\n",
       "      <td>37.62 N</td>\n",
       "      <td>20.57 E</td>\n",
       "      <td>IONIAN SEA</td>\n",
       "    </tr>\n",
       "    <tr>\n",
       "      <th>19</th>\n",
       "      <td>2019-04-25</td>\n",
       "      <td>12:38:58.3</td>\n",
       "      <td>34.33 S</td>\n",
       "      <td>72.32 W</td>\n",
       "      <td>OFFSHORE O'HIGGINS, CHILE</td>\n",
       "    </tr>\n",
       "  </tbody>\n",
       "</table>\n",
       "</div>"
      ],
      "text/plain": [
       "          date        time   latitude   longitude  \\\n",
       "0   2019-04-25  18:09:30.9  36.90 N    121.63 W     \n",
       "1   2019-04-25  17:59:01.0  33.88 S     72.14 W     \n",
       "2   2019-04-25  17:22:54.0  38.58 N     29.17 W     \n",
       "3   2019-04-25  17:04:07.5  19.34 N    155.18 W     \n",
       "4   2019-04-25  16:45:50.3   5.29 S    151.45 E     \n",
       "5   2019-04-25  16:25:49.0   0.13 S     80.73 W     \n",
       "6   2019-04-25  15:16:29.0  18.56 N     68.92 W     \n",
       "7   2019-04-25  15:15:52.4  57.69 S     23.90 W     \n",
       "8   2019-04-25  15:09:31.8  33.50 N    116.45 W     \n",
       "9   2019-04-25  15:03:18.3  30.64 N     57.42 E     \n",
       "10  2019-04-25  15:00:32.0   2.88 S    126.72 E     \n",
       "11  2019-04-25  14:12:23.0   0.18 S     80.68 W     \n",
       "12  2019-04-25  14:02:30.2  19.33 N    155.18 W     \n",
       "13  2019-04-25  13:56:42.0  33.09 N    117.71 W     \n",
       "14  2019-04-25  13:22:50.9  19.43 N    155.26 W     \n",
       "15  2019-04-25  12:59:30.0   8.36 N     82.84 W     \n",
       "16  2019-04-25  12:49:51.6  37.33 N     22.12 E     \n",
       "17  2019-04-25  12:46:47.0  34.14 S     72.23 W     \n",
       "18  2019-04-25  12:39:28.4  37.62 N     20.57 E     \n",
       "19  2019-04-25  12:38:58.3  34.33 S     72.32 W     \n",
       "\n",
       "                              region  \n",
       "0                 CENTRAL CALIFORNIA  \n",
       "1          OFFSHORE O'HIGGINS, CHILE  \n",
       "2           AZORES ISLANDS, PORTUGAL  \n",
       "3           ISLAND OF HAWAII, HAWAII  \n",
       "4         NEW BRITAIN REGION, P.N.G.  \n",
       "5              NEAR COAST OF ECUADOR  \n",
       "6                 DOMINICAN REPUBLIC  \n",
       "7      SOUTH SANDWICH ISLANDS REGION  \n",
       "8                SOUTHERN CALIFORNIA  \n",
       "9                       EASTERN IRAN  \n",
       "10              CERAM SEA, INDONESIA  \n",
       "11             NEAR COAST OF ECUADOR  \n",
       "12          ISLAND OF HAWAII, HAWAII  \n",
       "13    GULF OF SANTA CATALINA, CALIF.  \n",
       "14          ISLAND OF HAWAII, HAWAII  \n",
       "15   PANAMA-COSTA RICA BORDER REGION  \n",
       "16                   SOUTHERN GREECE  \n",
       "17         OFFSHORE O'HIGGINS, CHILE  \n",
       "18                        IONIAN SEA  \n",
       "19         OFFSHORE O'HIGGINS, CHILE  "
      ]
     },
     "execution_count": 343,
     "metadata": {},
     "output_type": "execute_result"
    }
   ],
   "source": [
    "data = []\n",
    "table = soup_ea.find_all('tr', class_= 'normal')\n",
    "\n",
    "for td in table:\n",
    "    #print(td)\n",
    "    temp_fecha = td.contents[3].find('a').text\n",
    "    temp_fecha = temp_fecha.split()\n",
    "    fecha = temp_fecha[0]\n",
    "    hora = temp_fecha[1]\n",
    "    \n",
    "    latitud = td.contents[4].text + td.contents[5].text\n",
    "    longitud = td.contents[6].text + td.contents[7].text\n",
    "    region = td.contents[11].text\n",
    "    \n",
    "    data.append([fecha, hora, latitud, longitud, region])\n",
    "\n",
    "terremotos = pd.DataFrame(data, columns = ['date', 'time', 'latitude', 'longitude','region'])\n",
    "terremotos.head(20)\n"
   ]
  },
  {
   "cell_type": "markdown",
   "metadata": {},
   "source": [
    "#### Display the date, days, title, city, country of next 25 hackathon events as a Pandas dataframe table"
   ]
  },
  {
   "cell_type": "code",
   "execution_count": 182,
   "metadata": {},
   "outputs": [],
   "source": [
    "# This is the url you will scrape in this exercise\n",
    "url ='https://hackevents.co/hackathons'\n",
    "url_hack = 'https://hackevents.co/search/anything/anywhere/anytime' "
   ]
  },
  {
   "cell_type": "code",
   "execution_count": 196,
   "metadata": {},
   "outputs": [],
   "source": [
    "#your code\n",
    "hack_html = requests.get(url_hack).text\n",
    "soup_hack = BeautifulSoup(hack_html, \"html.parser\")"
   ]
  },
  {
   "cell_type": "code",
   "execution_count": 242,
   "metadata": {},
   "outputs": [
    {
     "data": {
      "text/html": [
       "<div>\n",
       "<style scoped>\n",
       "    .dataframe tbody tr th:only-of-type {\n",
       "        vertical-align: middle;\n",
       "    }\n",
       "\n",
       "    .dataframe tbody tr th {\n",
       "        vertical-align: top;\n",
       "    }\n",
       "\n",
       "    .dataframe thead th {\n",
       "        text-align: right;\n",
       "    }\n",
       "</style>\n",
       "<table border=\"1\" class=\"dataframe\">\n",
       "  <thead>\n",
       "    <tr style=\"text-align: right;\">\n",
       "      <th></th>\n",
       "      <th>date</th>\n",
       "      <th>title</th>\n",
       "      <th>city</th>\n",
       "      <th>country</th>\n",
       "    </tr>\n",
       "  </thead>\n",
       "  <tbody>\n",
       "    <tr>\n",
       "      <th>0</th>\n",
       "      <td>Del 4/23/2019 al 4/26/2019</td>\n",
       "      <td>StoHack</td>\n",
       "      <td>Mannheim</td>\n",
       "      <td>Germany</td>\n",
       "    </tr>\n",
       "    <tr>\n",
       "      <th>1</th>\n",
       "      <td>Del 5/10/2019 al 5/12/2019</td>\n",
       "      <td>I-COM Data Science Hackathons 2019</td>\n",
       "      <td>Malaga</td>\n",
       "      <td>Spain</td>\n",
       "    </tr>\n",
       "    <tr>\n",
       "      <th>2</th>\n",
       "      <td>Del 5/11/2019 al 5/12/2019</td>\n",
       "      <td>Hacktival</td>\n",
       "      <td>Karlsruhe</td>\n",
       "      <td>Germany</td>\n",
       "    </tr>\n",
       "    <tr>\n",
       "      <th>3</th>\n",
       "      <td>Del 5/13/2019 al 5/15/2019</td>\n",
       "      <td>Bosch ConnectedExperience (BCX) 2019</td>\n",
       "      <td>Berlin</td>\n",
       "      <td>Germany</td>\n",
       "    </tr>\n",
       "    <tr>\n",
       "      <th>4</th>\n",
       "      <td>Del 2/21/2019 al 5/17/2019</td>\n",
       "      <td>Canon Developer Community Virtual Hackathan</td>\n",
       "      <td>Online</td>\n",
       "      <td>United States</td>\n",
       "    </tr>\n",
       "    <tr>\n",
       "      <th>5</th>\n",
       "      <td>Del 5/17/2019 al 5/19/2019</td>\n",
       "      <td>Open Source ERPS Hackathon</td>\n",
       "      <td>Brooklyn</td>\n",
       "      <td>United States</td>\n",
       "    </tr>\n",
       "    <tr>\n",
       "      <th>6</th>\n",
       "      <td>Del 5/16/2019 al 5/19/2019</td>\n",
       "      <td>WTF IS INFRAHACK? A HACKATHON IN 3 CITIES OVER...</td>\n",
       "      <td>London</td>\n",
       "      <td>United Kingdom</td>\n",
       "    </tr>\n",
       "    <tr>\n",
       "      <th>7</th>\n",
       "      <td>Del 5/18/2019 al 5/20/2019</td>\n",
       "      <td>HackHPI about://social.good</td>\n",
       "      <td>Potsdam</td>\n",
       "      <td>Germany</td>\n",
       "    </tr>\n",
       "    <tr>\n",
       "      <th>8</th>\n",
       "      <td>Del 6/13/2019 al 6/13/2019</td>\n",
       "      <td>EU Datathon 2019</td>\n",
       "      <td>Brussels</td>\n",
       "      <td>Belgium</td>\n",
       "    </tr>\n",
       "    <tr>\n",
       "      <th>9</th>\n",
       "      <td>Del 1/31/2019 al 9/30/2019</td>\n",
       "      <td>Galileo App Competition</td>\n",
       "      <td>Prague</td>\n",
       "      <td>Czech Republic</td>\n",
       "    </tr>\n",
       "  </tbody>\n",
       "</table>\n",
       "</div>"
      ],
      "text/plain": [
       "                         date  \\\n",
       "0  Del 4/23/2019 al 4/26/2019   \n",
       "1  Del 5/10/2019 al 5/12/2019   \n",
       "2  Del 5/11/2019 al 5/12/2019   \n",
       "3  Del 5/13/2019 al 5/15/2019   \n",
       "4  Del 2/21/2019 al 5/17/2019   \n",
       "5  Del 5/17/2019 al 5/19/2019   \n",
       "6  Del 5/16/2019 al 5/19/2019   \n",
       "7  Del 5/18/2019 al 5/20/2019   \n",
       "8  Del 6/13/2019 al 6/13/2019   \n",
       "9  Del 1/31/2019 al 9/30/2019   \n",
       "\n",
       "                                               title         city  \\\n",
       "0                                           StoHack     Mannheim    \n",
       "1                 I-COM Data Science Hackathons 2019       Malaga   \n",
       "2                                          Hacktival    Karlsruhe   \n",
       "3               Bosch ConnectedExperience (BCX) 2019       Berlin   \n",
       "4       Canon Developer Community Virtual Hackathan       Online    \n",
       "5                         Open Source ERPS Hackathon     Brooklyn   \n",
       "6  WTF IS INFRAHACK? A HACKATHON IN 3 CITIES OVER...       London   \n",
       "7                        HackHPI about://social.good      Potsdam   \n",
       "8                                   EU Datathon 2019     Brussels   \n",
       "9                            Galileo App Competition       Prague   \n",
       "\n",
       "           country  \n",
       "0          Germany  \n",
       "1            Spain  \n",
       "2          Germany  \n",
       "3          Germany  \n",
       "4    United States  \n",
       "5    United States  \n",
       "6   United Kingdom  \n",
       "7          Germany  \n",
       "8          Belgium  \n",
       "9   Czech Republic  "
      ]
     },
     "metadata": {},
     "output_type": "display_data"
    }
   ],
   "source": [
    "data_hack = []\n",
    "hack = soup_hack.find_all('div', class_= 'card-body')\n",
    "\n",
    "for temp in hack:\n",
    "    titulo = temp.find('h3').text\n",
    "    \n",
    "    parrafos = temp.find_all('p')\n",
    "    lugar = parrafos[0].text.split(',')\n",
    "    ciudad = lugar[0]\n",
    "    pais = lugar[1]\n",
    "    \n",
    "    fecha_ini = parrafos[1].text.replace('Starts', '').strip()\n",
    "    fecha_fin = parrafos[2].text.replace('Ends', '').strip()\n",
    "    fechas = 'Del {} al {}'.format(fecha_ini, fecha_fin)\n",
    "    \n",
    "    data_hack.append([fechas, titulo, ciudad, pais])\n",
    "\n",
    "hackathon = pd.DataFrame(data_hack, columns = ['date', 'title', 'city', 'country'])\n",
    "display(hackathon)"
   ]
  },
  {
   "cell_type": "markdown",
   "metadata": {},
   "source": [
    "#### Count number of tweets by a given Twitter account."
   ]
  },
  {
   "cell_type": "markdown",
   "metadata": {},
   "source": [
    "You will need to include a ***try/except block*** for account names not found. \n",
    "<br>***Hint:*** the program should count the number of tweets for any provided account"
   ]
  },
  {
   "cell_type": "code",
   "execution_count": 261,
   "metadata": {},
   "outputs": [],
   "source": [
    "# This is the url you will scrape in this exercise \n",
    "# You will need to add the account credentials to this url\n",
    "url = 'https://twitter.com/europapress'"
   ]
  },
  {
   "cell_type": "code",
   "execution_count": 262,
   "metadata": {},
   "outputs": [
    {
     "name": "stdout",
     "output_type": "stream",
     "text": [
      "337 mil\n"
     ]
    }
   ],
   "source": [
    "#your code\n",
    "try:\n",
    "    twitter_html = requests.get(url).text\n",
    "    soup_twitter = BeautifulSoup(twitter_html, \"html.parser\")\n",
    "    tweets = [e.text.strip() for e in soup_twitter.find_all('span', class_= 'ProfileNav-value')]\n",
    "    \n",
    "    print(tweets[0].replace('\\xa0', ' '))\n",
    "    \n",
    "except Exception as e:\n",
    "    print('Error: ' + str(e))\n"
   ]
  },
  {
   "cell_type": "markdown",
   "metadata": {},
   "source": [
    "#### Number of followers of a given twitter account"
   ]
  },
  {
   "cell_type": "markdown",
   "metadata": {},
   "source": [
    "You will need to include a ***try/except block*** in case account/s name not found. \n",
    "<br>***Hint:*** the program should count the followers for any provided account"
   ]
  },
  {
   "cell_type": "code",
   "execution_count": null,
   "metadata": {},
   "outputs": [],
   "source": [
    "# This is the url you will scrape in this exercise \n",
    "# You will need to add the account credentials to this url\n",
    "url = 'https://twitter.com/europapress'"
   ]
  },
  {
   "cell_type": "code",
   "execution_count": 258,
   "metadata": {},
   "outputs": [
    {
     "name": "stdout",
     "output_type": "stream",
     "text": [
      "1,14 M\n"
     ]
    }
   ],
   "source": [
    "#your code\n",
    "try:\n",
    "    twitter_html = requests.get(url).text\n",
    "    soup_twitter = BeautifulSoup(twitter_html, \"html.parser\")\n",
    "    tweets = [e.text.strip() for e in soup_twitter.find_all('span', class_= 'ProfileNav-value')]\n",
    "    \n",
    "    print(tweets[2].replace('\\xa0', ' '))\n",
    "    \n",
    "except Exception as e:\n",
    "    print('Error: ' + str(e))"
   ]
  },
  {
   "cell_type": "markdown",
   "metadata": {},
   "source": [
    "#### List all language names and number of related articles in the order they appear in wikipedia.org"
   ]
  },
  {
   "cell_type": "code",
   "execution_count": 508,
   "metadata": {},
   "outputs": [],
   "source": [
    "# This is the url you will scrape in this exercise\n",
    "url = 'https://www.wikipedia.org/'"
   ]
  },
  {
   "cell_type": "code",
   "execution_count": 509,
   "metadata": {},
   "outputs": [],
   "source": [
    "#your code\n",
    "wiki_html = urlopen(url)\n",
    "#wiki_html = requests.get(url).text\n",
    "soup_wiki = BeautifulSoup(wiki_html, \"html.parser\")"
   ]
  },
  {
   "cell_type": "code",
   "execution_count": 513,
   "metadata": {},
   "outputs": [
    {
     "data": {
      "text/plain": [
       "[['English', '5844000'],\n",
       " ['Español', '1517000'],\n",
       " ['日本語', '1147000'],\n",
       " ['Deutsch', '2293000'],\n",
       " ['Русский', '1540000'],\n",
       " ['Français', '2099000'],\n",
       " ['Italiano', '1522000'],\n",
       " ['中文', '1050000'],\n",
       " ['Português', '1002000'],\n",
       " ['Polski', '1331000']]"
      ]
     },
     "execution_count": 513,
     "metadata": {},
     "output_type": "execute_result"
    }
   ],
   "source": [
    "contenido = soup_wiki.find_all('div', class_= 'central-featured')\n",
    "\n",
    "idioma = contenido[0].find_all('strong')\n",
    "articulos = contenido[0].find_all('bdi')\n",
    "\n",
    "idi_art = []\n",
    "for i in (range(len(idioma))):\n",
    "    idi = idioma[i].text\n",
    "    art = re.sub('\\xa0', '', articulos[i].text )\n",
    "    art = re.sub('[^0-9]+','', art)\n",
    "    idi_art.append( [idi, art] )\n",
    "                \n",
    "idi_art\n"
   ]
  },
  {
   "cell_type": "markdown",
   "metadata": {},
   "source": [
    "#### A list with the different kind of datasets available in data.gov.uk "
   ]
  },
  {
   "cell_type": "code",
   "execution_count": 313,
   "metadata": {},
   "outputs": [],
   "source": [
    "# This is the url you will scrape in this exercise\n",
    "url = 'https://data.gov.uk/'"
   ]
  },
  {
   "cell_type": "code",
   "execution_count": 315,
   "metadata": {},
   "outputs": [],
   "source": [
    "#your code\n",
    "gov_html = requests.get(url).text\n",
    "soup_gov = BeautifulSoup(gov_html, \"html.parser\")"
   ]
  },
  {
   "cell_type": "code",
   "execution_count": 319,
   "metadata": {},
   "outputs": [
    {
     "data": {
      "text/plain": [
       "['Business and economy',\n",
       " 'Crime and justice',\n",
       " 'Defence',\n",
       " 'Education',\n",
       " 'Environment',\n",
       " 'Government',\n",
       " 'Government spending',\n",
       " 'Health',\n",
       " 'Mapping',\n",
       " 'Society',\n",
       " 'Towns and cities',\n",
       " 'Transport']"
      ]
     },
     "execution_count": 319,
     "metadata": {},
     "output_type": "execute_result"
    }
   ],
   "source": [
    "datos_tipo = [tipo.text for tipo in soup_gov.find_all('h2')]\n",
    "datos_tipo"
   ]
  },
  {
   "cell_type": "markdown",
   "metadata": {},
   "source": [
    "#### Top 10 languages by number of native speakers stored in a Pandas Dataframe"
   ]
  },
  {
   "cell_type": "code",
   "execution_count": 321,
   "metadata": {},
   "outputs": [],
   "source": [
    "# This is the url you will scrape in this exercise\n",
    "url = 'https://en.wikipedia.org/wiki/List_of_languages_by_number_of_native_speakers'"
   ]
  },
  {
   "cell_type": "code",
   "execution_count": 323,
   "metadata": {},
   "outputs": [],
   "source": [
    "#your code\n",
    "widi_html = requests.get(url).text\n",
    "soup_widi = BeautifulSoup(widi_html, \"html.parser\")"
   ]
  },
  {
   "cell_type": "code",
   "execution_count": 436,
   "metadata": {},
   "outputs": [
    {
     "data": {
      "text/html": [
       "<div>\n",
       "<style scoped>\n",
       "    .dataframe tbody tr th:only-of-type {\n",
       "        vertical-align: middle;\n",
       "    }\n",
       "\n",
       "    .dataframe tbody tr th {\n",
       "        vertical-align: top;\n",
       "    }\n",
       "\n",
       "    .dataframe thead th {\n",
       "        text-align: right;\n",
       "    }\n",
       "</style>\n",
       "<table border=\"1\" class=\"dataframe\">\n",
       "  <thead>\n",
       "    <tr style=\"text-align: right;\">\n",
       "      <th></th>\n",
       "      <th>Idioma</th>\n",
       "    </tr>\n",
       "  </thead>\n",
       "  <tbody>\n",
       "    <tr>\n",
       "      <th>0</th>\n",
       "      <td>Mandarin</td>\n",
       "    </tr>\n",
       "    <tr>\n",
       "      <th>1</th>\n",
       "      <td>Spanish</td>\n",
       "    </tr>\n",
       "    <tr>\n",
       "      <th>2</th>\n",
       "      <td>English</td>\n",
       "    </tr>\n",
       "    <tr>\n",
       "      <th>3</th>\n",
       "      <td>Hindi</td>\n",
       "    </tr>\n",
       "    <tr>\n",
       "      <th>4</th>\n",
       "      <td>Arabic</td>\n",
       "    </tr>\n",
       "    <tr>\n",
       "      <th>5</th>\n",
       "      <td>Portuguese</td>\n",
       "    </tr>\n",
       "    <tr>\n",
       "      <th>6</th>\n",
       "      <td>Bengali</td>\n",
       "    </tr>\n",
       "    <tr>\n",
       "      <th>7</th>\n",
       "      <td>Russian</td>\n",
       "    </tr>\n",
       "    <tr>\n",
       "      <th>8</th>\n",
       "      <td>Japanese</td>\n",
       "    </tr>\n",
       "    <tr>\n",
       "      <th>9</th>\n",
       "      <td>Punjabi</td>\n",
       "    </tr>\n",
       "  </tbody>\n",
       "</table>\n",
       "</div>"
      ],
      "text/plain": [
       "       Idioma\n",
       "0    Mandarin\n",
       "1     Spanish\n",
       "2     English\n",
       "3       Hindi\n",
       "4      Arabic\n",
       "5  Portuguese\n",
       "6     Bengali\n",
       "7     Russian\n",
       "8    Japanese\n",
       "9     Punjabi"
      ]
     },
     "metadata": {},
     "output_type": "display_data"
    }
   ],
   "source": [
    "data = []\n",
    "table = soup_widi.find_all('table', class_= 'wikitable')\n",
    "\n",
    "table_idi = [idioma.text for idioma in table[1].find_all('a') if len(idioma.text) > 3]\n",
    "    \n",
    "idiomas_num = pd.DataFrame(table_idi, columns = ['Idioma'])\n",
    "display(idiomas_num[:10])"
   ]
  },
  {
   "cell_type": "markdown",
   "metadata": {},
   "source": [
    "### BONUS QUESTIONS"
   ]
  },
  {
   "cell_type": "markdown",
   "metadata": {},
   "source": [
    "#### Scrape a certain number of tweets of a given Twitter account."
   ]
  },
  {
   "cell_type": "code",
   "execution_count": 1,
   "metadata": {},
   "outputs": [],
   "source": [
    "# This is the url you will scrape in this exercise \n",
    "# You will need to add the account credentials to this url\n",
    "url = 'https://twitter.com/europapress'"
   ]
  },
  {
   "cell_type": "code",
   "execution_count": 55,
   "metadata": {},
   "outputs": [
    {
     "data": {
      "text/plain": [
       "['WhatsApp se retracta y mantiene el cierre \"permanente\" de las cuentas de Podemos que usaba para la campaña\\n \\nLa compañía dice que el anuncio de la restauración de la cuenta fue un \"error\" de un trabajadorhttps://www.europapress.es/nacional/noticia-whatsapp-retracta-mantiene-cierre-permanente-cuentas-podemos-usaba-campana-20190426094140.html\\xa0…',\n",
       " 'Enfrentamientos entre la Policía y manifestantes en Bogotá en medio del paro nacional contra el Gobierno https://bit.ly/2UVLQoV\\xa0pic.twitter.com/Y4cNsObP2G',\n",
       " 'El alcalde de Ottawa declara el estado de emergencia debido a las inundacioneshttps://www.europapress.es/internacional/noticia-alcalde-ottawa-declara-estado-emergencia-debido-inundaciones-20190426025059.html\\xa0…',\n",
       " 'Si tienes diabetes, y no te cuidas, esto es lo que puede pasarte ->\\n\\nhttps://www.infosalus.com/salud-investigacion/noticia-si-tienes-diabetes-no-te-cuidas-esto-puede-pasarte-20190426082152.html\\xa0…pic.twitter.com/pGSEDaCkUF',\n",
       " 'Bruce Springsteen regresa con Hello Sunshine, delicado y luminoso primer single de su nuevo disco https://www.europapress.es/cultura/musica-00129/noticia-bruce-springsteen-regresa-hello-sunshine-delicado-luminoso-primer-single-nuevo-disco-20190426091031.html\\xa0… Dentro vídeo #FelizFinde',\n",
       " 'Cortan la Ronda de Dalt (Barcelona) por el incendio de una furgoneta https://bit.ly/2Vm7W3v\\xa0pic.twitter.com/nYrO5rtnG2',\n",
       " '¡Buenos días! Estas son las portadas de los periódicos económicos de hoy, viernes 26 de abril\\nhttps://www.europapress.es/economia/noticia-portadas-periodicos-economicos-hoy-viernes-26-abril-20190426085721.html\\xa0…pic.twitter.com/URLf8jgbIr',\n",
       " 'Las autoridades aseguran que el cerebro de los atentados de Sri Lanka murió en uno de los ataqueshttps://www.europapress.es/internacional/noticia-autoridades-aseguran-cerebro-atentados-sri-lanka-murio-ataques-20190426085219.html\\xa0…',\n",
       " 'Finaliza el rescate de las 33 víctimas por un deslizamiento de tierra en el oeste de Colombiahttps://www.europapress.es/internacional/noticia-finaliza-rescate-33-victimas-deslizamiento-tierra-oeste-colombia-20190426045756.html\\xa0…',\n",
       " 'El riesgo por fuerte oleaje afectará hoy a las siete provincias de la costa norte y noroeste y vuelve la estabilidad https://bit.ly/2UHEPmC\\xa0\\n Así ha evolucionado el tiempo durante las últimas 12 horas:pic.twitter.com/KxVpaOJoRe',\n",
       " 'Concluye la primera visita de Kim Jong Un a Rusiahttps://www.europapress.es/internacional/noticia-concluye-primera-visita-kim-jong-rusia-20190426074701.html\\xa0…',\n",
       " 'Estas son las portadas de los periódicos de este viernes, 26 de abril de 2019 https://bit.ly/2vonrsU\\xa0pic.twitter.com/z0H9kgFsW3',\n",
       " 'Ecuador enviará buques y aviones por la presencia de una flota pesquera china cerca de Galápagoshttps://www.europapress.es/internacional/noticia-ecuador-enviara-buques-aviones-presencia-flota-pesquera-china-cerca-galapagos-20190426040256.html\\xa0…',\n",
       " '#LoMásLeído | Juan Carlos Quer, a Sánchez e Iglesias: \"Mi hija Diana dijo \"no es no” y fue brutalmente asesinada tras ser violada\" https://bit.ly/2VqmAqn\\xa0pic.twitter.com/Uc7uDjCSsK',\n",
       " 'Cuba niega tener tropas en Venezuela y califica a Bolton de \"mentiroso patológico\"https://www.europapress.es/internacional/noticia-cuba-niega-tener-tropas-venezuela-califica-bolton-mentiroso-patologico-20190426052259.html\\xa0…',\n",
       " 'El presidente de Sri Lanka asegura que hay entre 130 y 140 sospechosos vinculados a Estado Islámico en el paíshttps://www.europapress.es/internacional/noticia-presidente-sri-lanka-asegura-hay-130-140-sospechosos-vinculados-estado-islamico-pais-20190426071320.html\\xa0…',\n",
       " 'Nueva York investiga a Facebook por almacenamiento \"no autorizado\" de contactos de correos electrónicoshttps://www.europapress.es/internacional/noticia-nueva-york-investiga-facebook-almacenamiento-no-autorizado-contactos-correos-electronicos-20190426012842.html\\xa0…',\n",
       " '#LoMásLeído | La Asociación Circos Reunidos dice que el Ministerio de Cultura es \"oportunista\" tras anunciar que dejará de subvencionar en 2022 a circos que utilicen animales salvajeshttp://ow.ly/mlBI30oxypC\\xa0',\n",
       " 'Feijóo asegura que \"nadie se puede fiar\" de Ciudadanos tras fichar a Ángel Garrido y dice que \"no sabe\" si la formación naranja \"va a ser socio de Casado o de Sánchez\"http://ow.ly/pDkU30oxmvU\\xa0',\n",
       " 'Abascal defiende que \"solo hay dos opciones\" el 28A: la \"continuidad histórica\" de España o un \"frente popular\"http://ow.ly/PrjM30oxEQ4\\xa0']"
      ]
     },
     "metadata": {},
     "output_type": "display_data"
    }
   ],
   "source": [
    "# your code\n",
    "try:\n",
    "    tweets_list = []\n",
    "    twitter_html = requests.get(url).text\n",
    "    soup_tweets = BeautifulSoup(twitter_html, \"html.parser\")\n",
    "    tweets = soup_tweets.find_all('div', class_='content')\n",
    "    #tweets = [e.text.strip() for e in soup_twitter.find_all('span', class_= 'ProfileNav-value')]\n",
    "    #print(len(tweets))\n",
    "    #t = tweets[0].find_all('p')\n",
    "    #print(t[0].text)\n",
    "    \n",
    "    for subt in tweets:\n",
    "        parrafo = subt.find_all('p')\n",
    "        for t in parrafo:\n",
    "            tweets_list.append(t.text)\n",
    "        #print(tweet.find_all('div', class_='tweet-text'))\n",
    "        #print(tweet.find_all('h2'))\n",
    "       \n",
    "    #print(tweets[0].replace('\\xa0', ' '))\n",
    "    display(tweets_list)\n",
    "except Exception as e:\n",
    "    print('Error: ' + str(e))\n"
   ]
  },
  {
   "cell_type": "markdown",
   "metadata": {},
   "source": [
    "#### IMDB's Top 250 data (movie name, Initial release, director name and stars) as a pandas dataframe"
   ]
  },
  {
   "cell_type": "code",
   "execution_count": null,
   "metadata": {},
   "outputs": [],
   "source": [
    "# This is the url you will scrape in this exercise \n",
    "url = 'https://www.imdb.com/chart/top'"
   ]
  },
  {
   "cell_type": "code",
   "execution_count": null,
   "metadata": {},
   "outputs": [],
   "source": [
    "# your code"
   ]
  },
  {
   "cell_type": "markdown",
   "metadata": {},
   "source": [
    "#### Movie name, year and a brief summary of the top 10 random movies (IMDB) as a pandas dataframe."
   ]
  },
  {
   "cell_type": "code",
   "execution_count": null,
   "metadata": {},
   "outputs": [],
   "source": [
    "#This is the url you will scrape in this exercise\n",
    "url = 'http://www.imdb.com/chart/top'"
   ]
  },
  {
   "cell_type": "code",
   "execution_count": null,
   "metadata": {},
   "outputs": [],
   "source": [
    "#your code"
   ]
  },
  {
   "cell_type": "markdown",
   "metadata": {},
   "source": [
    "#### Find the live weather report (temperature, wind speed, description and weather) of a given city."
   ]
  },
  {
   "cell_type": "code",
   "execution_count": null,
   "metadata": {},
   "outputs": [],
   "source": [
    "#https://openweathermap.org/current\n",
    "city = city=input('Enter the city:')\n",
    "url = 'http://api.openweathermap.org/data/2.5/weather?'+'q='+city+'&APPID=b35975e18dc93725acb092f7272cc6b8&units=metric'"
   ]
  },
  {
   "cell_type": "code",
   "execution_count": null,
   "metadata": {},
   "outputs": [],
   "source": [
    "# your code"
   ]
  },
  {
   "cell_type": "markdown",
   "metadata": {},
   "source": [
    "#### Book name,price and stock availability as a pandas dataframe."
   ]
  },
  {
   "cell_type": "code",
   "execution_count": null,
   "metadata": {},
   "outputs": [],
   "source": [
    "# This is the url you will scrape in this exercise. \n",
    "# It is a fictional bookstore created to be scraped. \n",
    "url = 'http://books.toscrape.com/'"
   ]
  },
  {
   "cell_type": "code",
   "execution_count": null,
   "metadata": {},
   "outputs": [],
   "source": [
    "#your code"
   ]
  }
 ],
 "metadata": {
  "kernelspec": {
   "display_name": "Python 3",
   "language": "python",
   "name": "python3"
  },
  "language_info": {
   "codemirror_mode": {
    "name": "ipython",
    "version": 3
   },
   "file_extension": ".py",
   "mimetype": "text/x-python",
   "name": "python",
   "nbconvert_exporter": "python",
   "pygments_lexer": "ipython3",
   "version": "3.7.3"
  }
 },
 "nbformat": 4,
 "nbformat_minor": 2
}
