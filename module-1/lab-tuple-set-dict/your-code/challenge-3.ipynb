{
 "cells": [
  {
   "cell_type": "markdown",
   "metadata": {},
   "source": [
    "## Challenge 3: Dictionaries\n",
    "\n",
    "In this challenge you will practice how to manipulate Python dictionaries. Before starting on this challenge, you are encouraged to review W3School's [Python Dictionary Examples and Methods](https://www.w3schools.com/python/python_dictionaries.asp).\n",
    "\n",
    "First thing you will practice is how to sort the keys in a dictionary. Unlike the list object, Python dictionary does not have a built-in *sort* method. You'll need to use FOR loops to to sort dictionaries either by key or by value.\n",
    "\n",
    "The dictionary below is a summary of the word frequency of Ed Sheeran's song *Shape of You*. Each key is a word in the lyrics and the value is the number of times that word appears in the lyrics."
   ]
  },
  {
   "cell_type": "code",
   "execution_count": 31,
   "metadata": {},
   "outputs": [],
   "source": [
    "word_freq = {'love': 25, 'conversation': 1, 'every': 6, \"we're\": 1, 'plate': 1, 'sour': 1, 'jukebox': 1, 'now': 11, 'taxi': 1, 'fast': 1, 'bag': 1, 'man': 1, 'push': 3, 'baby': 14, 'going': 1, 'you': 16, \"don't\": 2, 'one': 1, 'mind': 2, 'backseat': 1, 'friends': 1, 'then': 3, 'know': 2, 'take': 1, 'play': 1, 'okay': 1, 'so': 2, 'begin': 1, 'start': 2, 'over': 1, 'body': 17, 'boy': 2, 'just': 1, 'we': 7, 'are': 1, 'girl': 2, 'tell': 1, 'singing': 2, 'drinking': 1, 'put': 3, 'our': 1, 'where': 1, \"i'll\": 1, 'all': 1, \"isn't\": 1, 'make': 1, 'lover': 1, 'get': 1, 'radio': 1, 'give': 1, \"i'm\": 23, 'like': 10, 'can': 1, 'doing': 2, 'with': 22, 'club': 1, 'come': 37, 'it': 1, 'somebody': 2, 'handmade': 2, 'out': 1, 'new': 6, 'room': 3, 'chance': 1, 'follow': 6, 'in': 27, 'may': 2, 'brand': 6, 'that': 2, 'magnet': 3, 'up': 3, 'first': 1, 'and': 23, 'pull': 3, 'of': 6, 'table': 1, 'much': 2, 'last': 3, 'i': 6, 'thrifty': 1, 'grab': 2, 'was': 2, 'driver': 1, 'slow': 1, 'dance': 1, 'the': 18, 'say': 2, 'trust': 1, 'family': 1, 'week': 1, 'date': 1, 'me': 10, 'do': 3, 'waist': 2, 'smell': 3, 'day': 6, 'although': 3, 'your': 21, 'leave': 1, 'want': 2, \"let's\": 2, 'lead': 6, 'at': 1, 'hand': 1, 'how': 1, 'talk': 4, 'not': 2, 'eat': 1, 'falling': 3, 'about': 1, 'story': 1, 'sweet': 1, 'best': 1, 'crazy': 2, 'let': 1, 'too': 5, 'van': 1, 'shots': 1, 'go': 2, 'to': 2, 'a': 8, 'my': 33, 'is': 5, 'place': 1, 'find': 1, 'shape': 6, 'on': 40, 'kiss': 1, 'were': 3, 'night': 3, 'heart': 3, 'for': 3, 'discovering': 6, 'something': 6, 'be': 16, 'bedsheets': 3, 'fill': 2, 'hours': 2, 'stop': 1, 'bar': 1}"
   ]
  },
  {
   "cell_type": "markdown",
   "metadata": {},
   "source": [
    "#### Sort the keys of `word_freq` ascendingly.\n",
    "\n",
    "Please create a new dictionary called `word_freq2` based on `word_freq` with the keys sorted ascedingly.\n",
    "\n",
    "There are several ways to achieve that goal but many of the ways are beyond what we have covered so far in the course. There is one way that we'll describe employing what you have learned. Please feel free to use this way or any other way you want.\n",
    "\n",
    "1. First extract the keys of `word_freq` and convert it to a list called `keys`.\n",
    "\n",
    "1. Sort the `keys` list.\n",
    "\n",
    "1. Create an empty dictionary `word_freq2`.\n",
    "\n",
    "1. Use a FOR loop to iterate each value in `keys`. For each key iterated, find the corresponding value in `word_freq` and insert the key-value pair to `word_freq2`.\n",
    "\n",
    "Print out `word_freq2` to examine its keys and values. Your output should be:\n",
    "\n",
    "```python\n",
    "{'a': 8, 'about': 1, 'all': 1, 'although': 3, 'and': 23, 'are': 1, 'at': 1, 'baby': 14, 'backseat': 1, 'bag': 1, 'bar': 1, 'be': 16, 'bedsheets': 3, 'begin': 1, 'best': 1, 'body': 17, 'boy': 2, 'brand': 6, 'can': 1, 'chance': 1, 'club': 1, 'come': 37, 'conversation': 1, 'crazy': 2, 'dance': 1, 'date': 1, 'day': 6, 'discovering': 6, 'do': 3, 'doing': 2, \"don't\": 2, 'drinking': 1, 'driver': 1, 'eat': 1, 'every': 6, 'falling': 3, 'family': 1, 'fast': 1, 'fill': 2, 'find': 1, 'first': 1, 'follow': 6, 'for': 3, 'friends': 1, 'get': 1, 'girl': 2, 'give': 1, 'go': 2, 'going': 1, 'grab': 2, 'hand': 1, 'handmade': 2, 'heart': 3, 'hours': 2, 'how': 1, 'i': 6, \"i'll\": 1, \"i'm\": 23, 'in': 27, 'is': 5, \"isn't\": 1, 'it': 1, 'jukebox': 1, 'just': 1, 'kiss': 1, 'know': 2, 'last': 3, 'lead': 6, 'leave': 1, 'let': 1, \"let's\": 2, 'like': 10, 'love': 25, 'lover': 1, 'magnet': 3, 'make': 1, 'man': 1, 'may': 2, 'me': 10, 'mind': 2, 'much': 2, 'my': 33, 'new': 6, 'night': 3, 'not': 2, 'now': 11, 'of': 6, 'okay': 1, 'on': 40, 'one': 1, 'our': 1, 'out': 1, 'over': 1, 'place': 1, 'plate': 1, 'play': 1, 'pull': 3, 'push': 3, 'put': 3, 'radio': 1, 'room': 3, 'say': 2, 'shape': 6, 'shots': 1, 'singing': 2, 'slow': 1, 'smell': 3, 'so': 2, 'somebody': 2, 'something': 6, 'sour': 1, 'start': 2, 'stop': 1, 'story': 1, 'sweet': 1, 'table': 1, 'take': 1, 'talk': 4, 'taxi': 1, 'tell': 1, 'that': 2, 'the': 18, 'then': 3, 'thrifty': 1, 'to': 2, 'too': 5, 'trust': 1, 'up': 3, 'van': 1, 'waist': 2, 'want': 2, 'was': 2, 'we': 7, \"we're\": 1, 'week': 1, 'were': 3, 'where': 1, 'with': 22, 'you': 16, 'your': 21}\n",
    "```"
   ]
  },
  {
   "cell_type": "code",
   "execution_count": 32,
   "metadata": {
    "scrolled": true
   },
   "outputs": [
    {
     "name": "stdout",
     "output_type": "stream",
     "text": [
      "{'take': 1, 'find': 1, 'waist': 2, 'was': 2, 'much': 2, 'tell': 1, 'boy': 2, 'every': 6, 'then': 3, 'so': 2, 'backseat': 1, 'slow': 1, 'out': 1, 'follow': 6, 'falling': 3, 'doing': 2, 'friends': 1, 'know': 2, 'were': 3, 'love': 25, 'where': 1, 'the': 18, 'can': 1, 'plate': 1, 'hand': 1, 'shape': 6, 'going': 1, 'body': 17, 'trust': 1, 'something': 6, 'dance': 1, 'van': 1, 'girl': 2, 'place': 1, 'night': 3, 'man': 1, 'let': 1, 'one': 1, 'do': 3, 'week': 1, 'you': 16, 'may': 2, 'how': 1, 'bar': 1, 'are': 1, \"let's\": 2, 'crazy': 2, 'hours': 2, 'magnet': 3, 'make': 1, 'in': 27, 'lover': 1, 'radio': 1, 'we': 7, 'a': 8, 'go': 2, 'of': 6, 'discovering': 6, 'talk': 4, 'smell': 3, 'say': 2, 'pull': 3, 'conversation': 1, 'last': 3, 'kiss': 1, 'okay': 1, 'handmade': 2, 'best': 1, 'mind': 2, 'family': 1, 'over': 1, 'somebody': 2, 'stop': 1, 'about': 1, 'i': 6, 'be': 16, 'new': 6, 'not': 2, \"don't\": 2, \"isn't\": 1, 'brand': 6, 'play': 1, 'all': 1, 'my': 33, 'with': 22, 'want': 2, 'at': 1, 'that': 2, 'shots': 1, 'for': 3, 'and': 23, 'date': 1, 'jukebox': 1, 'like': 10, 'eat': 1, 'come': 37, 'our': 1, 'too': 5, 'to': 2, 'fill': 2, 'lead': 6, 'your': 21, 'driver': 1, 'bag': 1, 'table': 1, 'up': 3, 'heart': 3, 'give': 1, 'drinking': 1, 'first': 1, 'fast': 1, 'just': 1, 'me': 10, 'although': 3, 'put': 3, 'push': 3, 'begin': 1, 'it': 1, 'is': 5, 'thrifty': 1, 'on': 40, 'room': 3, 'start': 2, 'leave': 1, 'now': 11, 'day': 6, 'club': 1, 'sweet': 1, 'baby': 14, 'taxi': 1, 'chance': 1, 'story': 1, 'sour': 1, 'singing': 2, \"we're\": 1, \"i'll\": 1, 'grab': 2, 'get': 1, 'bedsheets': 3, \"i'm\": 23}\n"
     ]
    }
   ],
   "source": [
    "keys= sorted(word_freq)\n",
    "\n",
    "word_freq2={}\n",
    "\n",
    "for i in keys:\n",
    "\n",
    "    word_freq2[i] = word_freq[i]\n",
    "\n",
    "print(word_freq2)\n"
   ]
  },
  {
   "cell_type": "markdown",
   "metadata": {},
   "source": [
    "#### Sort the values of `word_freq` ascendingly.\n",
    "\n",
    "Sorting the values of a dictionary is more tricky than sorting the keys because a dictionary's values are not unique. Therefore you cannot use the same way you sorted dict keys to sort dict values.\n",
    "\n",
    "The way to sort a dict by value is to utilize the `sorted` and `operator.itemgetter` functions. The following code snippet is provided to you to try. It will give you a list of tuples in which each tuple contains the key and value of a dict item. And the list is sorted based on the dict value ([reference](http://thomas-cokelaer.info/blog/2017/12/how-to-sort-a-dictionary-by-values-in-python/)\n",
    ").\n",
    "\n",
    "```python\n",
    "import operator\n",
    "sorted_tups = sorted(word_freq.items(), key=operator.itemgetter(1))\n",
    "print(sorted_tups)\n",
    "```\n",
    "\n",
    "Therefore, the steps to sort `word_freq` by value are:\n",
    "\n",
    "* Using `sorted` and `operator.itemgetter`, obtain a list of tuples of the dict key-value pairs which is sorted on the value.\n",
    "\n",
    "* Create an empty dictionary named `word_freq2`.\n",
    "\n",
    "* Iterate the list of tuples. Insert each key-value pair into `word_freq2` as an object.\n",
    "\n",
    "Print `word_freq2` to confirm your dictionary has its values sorted. Your output should be:\n",
    "\n",
    "```python\n",
    "{'conversation': 1, \"we're\": 1, 'plate': 1, 'sour': 1, 'jukebox': 1, 'taxi': 1, 'fast': 1, 'bag': 1, 'man': 1, 'going': 1, 'one': 1, 'backseat': 1, 'friends': 1, 'take': 1, 'play': 1, 'okay': 1, 'begin': 1, 'over': 1, 'just': 1, 'are': 1, 'tell': 1, 'drinking': 1, 'our': 1, 'where': 1, \"i'll\": 1, 'all': 1, \"isn't\": 1, 'make': 1, 'lover': 1, 'get': 1, 'radio': 1, 'give': 1, 'can': 1, 'club': 1, 'it': 1, 'out': 1, 'chance': 1, 'first': 1, 'table': 1, 'thrifty': 1, 'driver': 1, 'slow': 1, 'dance': 1, 'trust': 1, 'family': 1, 'week': 1, 'date': 1, 'leave': 1, 'at': 1, 'hand': 1, 'how': 1, 'eat': 1, 'about': 1, 'story': 1, 'sweet': 1, 'best': 1, 'let': 1, 'van': 1, 'shots': 1, 'place': 1, 'find': 1, 'kiss': 1, 'stop': 1, 'bar': 1, \"don't\": 2, 'mind': 2, 'know': 2, 'so': 2, 'start': 2, 'boy': 2, 'girl': 2, 'singing': 2, 'doing': 2, 'somebody': 2, 'handmade': 2, 'may': 2, 'that': 2, 'much': 2, 'grab': 2, 'was': 2, 'say': 2, 'waist': 2, 'want': 2, \"let's\": 2, 'not': 2, 'crazy': 2, 'go': 2, 'to': 2, 'fill': 2, 'hours': 2, 'push': 3, 'then': 3, 'put': 3, 'room': 3, 'magnet': 3, 'up': 3, 'pull': 3, 'last': 3, 'do': 3, 'smell': 3, 'although': 3, 'falling': 3, 'were': 3, 'night': 3, 'heart': 3, 'for': 3, 'bedsheets': 3, 'talk': 4, 'too': 5, 'is': 5, 'every': 6, 'new': 6, 'follow': 6, 'brand': 6, 'of': 6, 'i': 6, 'day': 6, 'lead': 6, 'shape': 6, 'discovering': 6, 'something': 6, 'we': 7, 'a': 8, 'like': 10, 'me': 10, 'now': 11, 'baby': 14, 'you': 16, 'be': 16, 'body': 17, 'the': 18, 'your': 21, 'with': 22, \"i'm\": 23, 'and': 23, 'love': 25, 'in': 27, 'my': 33, 'come': 37, 'on': 40}\n",
    "```"
   ]
  },
  {
   "cell_type": "code",
   "execution_count": 34,
   "metadata": {
    "scrolled": true
   },
   "outputs": [
    {
     "name": "stdout",
     "output_type": "stream",
     "text": [
      "[('find', 1), ('tell', 1), ('eat', 1), ('begin', 1), ('sour', 1), ('out', 1), ('hand', 1), ('can', 1), ('plate', 1), ('where', 1), (\"we're\", 1), ('trust', 1), ('take', 1), ('thrifty', 1), ('our', 1), ('man', 1), ('let', 1), ('lover', 1), ('week', 1), ('leave', 1), (\"i'll\", 1), ('are', 1), ('club', 1), ('friends', 1), ('going', 1), ('make', 1), ('one', 1), ('radio', 1), ('over', 1), ('dance', 1), ('conversation', 1), ('kiss', 1), ('okay', 1), ('best', 1), ('taxi', 1), ('family', 1), ('stop', 1), ('about', 1), (\"isn't\", 1), ('play', 1), ('all', 1), ('slow', 1), ('at', 1), ('shots', 1), ('date', 1), ('jukebox', 1), ('driver', 1), ('bag', 1), ('table', 1), ('give', 1), ('drinking', 1), ('first', 1), ('fast', 1), ('just', 1), ('how', 1), ('get', 1), ('van', 1), ('place', 1), ('sweet', 1), ('chance', 1), ('story', 1), ('bar', 1), ('it', 1), ('backseat', 1), ('waist', 2), ('was', 2), ('much', 2), ('so', 2), ('start', 2), ('doing', 2), ('singing', 2), ('know', 2), ('fill', 2), ('want', 2), ('girl', 2), ('may', 2), ('crazy', 2), ('boy', 2), ('mind', 2), ('handmade', 2), ('go', 2), ('somebody', 2), ('to', 2), ('not', 2), (\"don't\", 2), ('that', 2), ('say', 2), ('hours', 2), ('grab', 2), (\"let's\", 2), ('then', 3), ('magnet', 3), ('were', 3), ('do', 3), ('bedsheets', 3), ('smell', 3), ('pull', 3), ('for', 3), ('night', 3), ('falling', 3), ('up', 3), ('heart', 3), ('put', 3), ('although', 3), ('push', 3), ('room', 3), ('last', 3), ('talk', 4), ('too', 5), ('is', 5), ('every', 6), ('shape', 6), ('brand', 6), ('of', 6), ('i', 6), ('new', 6), ('follow', 6), ('discovering', 6), ('lead', 6), ('something', 6), ('day', 6), ('we', 7), ('a', 8), ('like', 10), ('me', 10), ('now', 11), ('baby', 14), ('be', 16), ('you', 16), ('body', 17), ('the', 18), ('your', 21), ('with', 22), ('and', 23), (\"i'm\", 23), ('love', 25), ('in', 27), ('my', 33), ('come', 37), ('on', 40)]\n"
     ]
    }
   ],
   "source": [
    "import operator\n",
    "word_freq2 = {}\n",
    "word_freq2 = sorted(word_freq.items(), key=operator.itemgetter(1))\n",
    "print(word_freq2)\n"
   ]
  },
  {
   "cell_type": "markdown",
   "metadata": {},
   "source": [
    "#### Convert `word_freq` into Pandas dataframes\n",
    "\n",
    "In your future work, you may need to convert Python dictionaries to Pandas dataframes. So let's practice this by converting `word_freq`.\n",
    "\n",
    "**First, import the `pandas` library.**"
   ]
  },
  {
   "cell_type": "code",
   "execution_count": 38,
   "metadata": {},
   "outputs": [],
   "source": [
    "import pandas as pd"
   ]
  },
  {
   "cell_type": "markdown",
   "metadata": {},
   "source": [
    "**Then, use the `pd.DataFrame()` constructor to convert `word_freq` into a dataframe.**\n",
    "\n",
    "Here's a [reference](https://stackoverflow.com/questions/18837262/convert-python-dict-into-a-dataframe) to show you how to accomplish this. Also name the two columns of the dataframe as `word` and `freq`.\n",
    "\n",
    "Assign the converted value to a variable called `df`. The first few rows of `df` should look like this:\n",
    "\n",
    "![df](df.png)"
   ]
  },
  {
   "cell_type": "code",
   "execution_count": 80,
   "metadata": {},
   "outputs": [
    {
     "name": "stdout",
     "output_type": "stream",
     "text": [
      "          word  freq\n",
      "0         find     1\n",
      "1        waist     2\n",
      "2          was     2\n",
      "3         much     2\n",
      "4           be    16\n",
      "5         tell     1\n",
      "6          eat     1\n",
      "7        begin     1\n",
      "8        every     6\n",
      "9         then     3\n",
      "10          so     2\n",
      "11        sour     1\n",
      "12         out     1\n",
      "13       start     2\n",
      "14      magnet     3\n",
      "15       doing     2\n",
      "16     singing     2\n",
      "17        know     2\n",
      "18        were     3\n",
      "19        love    25\n",
      "20        hand     1\n",
      "21         the    18\n",
      "22         can     1\n",
      "23       plate     1\n",
      "24       where     1\n",
      "25       shape     6\n",
      "26       we're     1\n",
      "27        body    17\n",
      "28       trust     1\n",
      "29        fill     2\n",
      "..         ...   ...\n",
      "110   drinking     1\n",
      "111      first     1\n",
      "112  something     6\n",
      "113       fast     1\n",
      "114       just     1\n",
      "115        put     3\n",
      "116        how     1\n",
      "117   although     3\n",
      "118      hours     2\n",
      "119         me    10\n",
      "120       push     3\n",
      "121         is     5\n",
      "122         on    40\n",
      "123       room     3\n",
      "124        get     1\n",
      "125        now    11\n",
      "126        day     6\n",
      "127        van     1\n",
      "128       last     3\n",
      "129      place     1\n",
      "130      sweet     1\n",
      "131       baby    14\n",
      "132       grab     2\n",
      "133     chance     1\n",
      "134      story     1\n",
      "135        bar     1\n",
      "136         it     1\n",
      "137   backseat     1\n",
      "138      let's     2\n",
      "139        i'm    23\n",
      "\n",
      "[140 rows x 2 columns]\n"
     ]
    }
   ],
   "source": [
    "df=pd.DataFrame(word_freq.items(), columns =['word','freq'])\n",
    "print(df)"
   ]
  },
  {
   "cell_type": "markdown",
   "metadata": {},
   "source": [
    "With the Pandas DataFrame, you can sort the values easily with the built-in method `sort_values` ([reference](https://pandas.pydata.org/pandas-docs/stable/generated/pandas.DataFrame.sort_values.html)).\n",
    "\n",
    "#### Sort `df` ascendingly based on column `word`."
   ]
  },
  {
   "cell_type": "code",
   "execution_count": 81,
   "metadata": {},
   "outputs": [
    {
     "name": "stdout",
     "output_type": "stream",
     "text": [
      "             word  freq\n",
      "53              a     8\n",
      "74          about     1\n",
      "83            all     1\n",
      "117      although     3\n",
      "91            and    23\n",
      "45            are     1\n",
      "87             at     1\n",
      "131          baby    14\n",
      "137      backseat     1\n",
      "105           bag     1\n",
      "135           bar     1\n",
      "4              be    16\n",
      "56      bedsheets     3\n",
      "7           begin     1\n",
      "68           best     1\n",
      "27           body    17\n",
      "51            boy     2\n",
      "31          brand     6\n",
      "22            can     1\n",
      "133        chance     1\n",
      "46           club     1\n",
      "98           come    37\n",
      "63   conversation     1\n",
      "47          crazy     2\n",
      "62          dance     1\n",
      "93           date     1\n",
      "126           day     6\n",
      "94    discovering     6\n",
      "39             do     3\n",
      "15          doing     2\n",
      "..            ...   ...\n",
      "11           sour     1\n",
      "13          start     2\n",
      "73           stop     1\n",
      "134         story     1\n",
      "130         sweet     1\n",
      "106         table     1\n",
      "30           take     1\n",
      "61           talk     4\n",
      "69           taxi     1\n",
      "5            tell     1\n",
      "88           that     2\n",
      "21            the    18\n",
      "9            then     3\n",
      "34        thrifty     1\n",
      "76             to     2\n",
      "100           too     5\n",
      "28          trust     1\n",
      "107            up     3\n",
      "127           van     1\n",
      "1           waist     2\n",
      "32           want     2\n",
      "2             was     2\n",
      "55             we     7\n",
      "26          we're     1\n",
      "40           week     1\n",
      "18           were     3\n",
      "24          where     1\n",
      "85           with    22\n",
      "41            you    16\n",
      "103          your    21\n",
      "\n",
      "[140 rows x 2 columns]\n"
     ]
    }
   ],
   "source": [
    "df=df.sort_values(by=['word'], ascending=True)\n",
    "print(df)"
   ]
  },
  {
   "cell_type": "markdown",
   "metadata": {},
   "source": [
    "#### Sort `df` ascendingly based on column `freq`."
   ]
  },
  {
   "cell_type": "code",
   "execution_count": 82,
   "metadata": {},
   "outputs": [
    {
     "name": "stdout",
     "output_type": "stream",
     "text": [
      "            word  freq\n",
      "37           let     1\n",
      "28         trust     1\n",
      "36           man     1\n",
      "50          make     1\n",
      "38         lover     1\n",
      "127          van     1\n",
      "43         leave     1\n",
      "65          kiss     1\n",
      "66          okay     1\n",
      "114         just     1\n",
      "136           it     1\n",
      "44          i'll     1\n",
      "116          how     1\n",
      "20          hand     1\n",
      "49         going     1\n",
      "109         give     1\n",
      "124          get     1\n",
      "95       jukebox     1\n",
      "48       friends     1\n",
      "34       thrifty     1\n",
      "35           our     1\n",
      "5           tell     1\n",
      "69          taxi     1\n",
      "30          take     1\n",
      "106        table     1\n",
      "130        sweet     1\n",
      "134        story     1\n",
      "73          stop     1\n",
      "52           one     1\n",
      "11          sour     1\n",
      "..           ...   ...\n",
      "60            of     6\n",
      "8          every     6\n",
      "126          day     6\n",
      "94   discovering     6\n",
      "77           new     6\n",
      "31         brand     6\n",
      "75             i     6\n",
      "25         shape     6\n",
      "92        follow     6\n",
      "112    something     6\n",
      "102         lead     6\n",
      "55            we     7\n",
      "53             a     8\n",
      "119           me    10\n",
      "96          like    10\n",
      "125          now    11\n",
      "131         baby    14\n",
      "41           you    16\n",
      "4             be    16\n",
      "27          body    17\n",
      "21           the    18\n",
      "103         your    21\n",
      "85          with    22\n",
      "91           and    23\n",
      "139          i'm    23\n",
      "19          love    25\n",
      "64            in    27\n",
      "84            my    33\n",
      "98          come    37\n",
      "122           on    40\n",
      "\n",
      "[140 rows x 2 columns]\n"
     ]
    }
   ],
   "source": [
    "df=df.sort_values(by=['freq'], ascending=True)\n",
    "print(df)"
   ]
  },
  {
   "cell_type": "code",
   "execution_count": null,
   "metadata": {},
   "outputs": [],
   "source": []
  }
 ],
 "metadata": {
  "kernelspec": {
   "display_name": "Python 3",
   "language": "python",
   "name": "python3"
  },
  "language_info": {
   "codemirror_mode": {
    "name": "ipython",
    "version": 3
   },
   "file_extension": ".py",
   "mimetype": "text/x-python",
   "name": "python",
   "nbconvert_exporter": "python",
   "pygments_lexer": "ipython3",
   "version": "3.5.2"
  }
 },
 "nbformat": 4,
 "nbformat_minor": 2
}
