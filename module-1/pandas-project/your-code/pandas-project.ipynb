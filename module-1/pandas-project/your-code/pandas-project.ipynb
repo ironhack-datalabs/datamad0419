{
 "cells": [
  {
   "cell_type": "code",
   "execution_count": null,
   "metadata": {},
   "outputs": [],
   "source": [
    "#Ataques de tiburones durante la WWI y WWII en los paises donde había batalla "
   ]
  },
  {
   "cell_type": "code",
   "execution_count": null,
   "metadata": {},
   "outputs": [],
   "source": [
    "#Importo las librerias y abró el csv\""
   ]
  },
  {
   "cell_type": "code",
   "execution_count": 1,
   "metadata": {},
   "outputs": [],
   "source": [
    "import numpy as np\n",
    "import pandas as pd\n",
    "datos=pd.read_csv(\"/home/vicente/projectspandas/GSAF5.csv\", encoding = \"ISO-8859-1\")\n",
    "df=pd.DataFrame(datos)"
   ]
  },
  {
   "cell_type": "code",
   "execution_count": null,
   "metadata": {},
   "outputs": [],
   "source": [
    "#Ver el nombre de las columnas, tipo de las variables y cuantos null tienen \""
   ]
  },
  {
   "cell_type": "code",
   "execution_count": null,
   "metadata": {},
   "outputs": [],
   "source": [
    "df.info()"
   ]
  },
  {
   "cell_type": "code",
   "execution_count": null,
   "metadata": {},
   "outputs": [],
   "source": [
    "#Veo como estan los datos metidos"
   ]
  },
  {
   "cell_type": "code",
   "execution_count": null,
   "metadata": {},
   "outputs": [],
   "source": [
    "df.head()"
   ]
  },
  {
   "cell_type": "code",
   "execution_count": null,
   "metadata": {},
   "outputs": [],
   "source": [
    "#Ver en que paises existen ataques registrados"
   ]
  },
  {
   "cell_type": "code",
   "execution_count": null,
   "metadata": {},
   "outputs": [],
   "source": [
    "df[\"Country\"].value_counts()"
   ]
  },
  {
   "cell_type": "code",
   "execution_count": null,
   "metadata": {},
   "outputs": [],
   "source": [
    "#Años que existen registros de ataques"
   ]
  },
  {
   "cell_type": "code",
   "execution_count": null,
   "metadata": {},
   "outputs": [],
   "source": [
    "df[\"Year\"].value_counts()"
   ]
  },
  {
   "cell_type": "code",
   "execution_count": null,
   "metadata": {},
   "outputs": [],
   "source": [
    "#antes de filtrar la variable por los años me quedo con las columnas que pueden ser interesantes"
   ]
  },
  {
   "cell_type": "code",
   "execution_count": 2,
   "metadata": {},
   "outputs": [],
   "source": [
    "columnas=('Date','Year','Type','Country','Area','Location','Activity','Name','Sex','Age','Injury','Fatal','Species')\n",
    "dfc=pd.DataFrame(df,columns=columnas)"
   ]
  },
  {
   "cell_type": "code",
   "execution_count": null,
   "metadata": {},
   "outputs": [],
   "source": [
    "dfc.head()"
   ]
  },
  {
   "cell_type": "code",
   "execution_count": null,
   "metadata": {},
   "outputs": [],
   "source": [
    "#Filtro por los años que me interesan , 1ª pongo los años como indice para poder filtrar y tenerla de\",\n",
    "#referente, visualizo en que paises han sido los ataques\""
   ]
  },
  {
   "cell_type": "code",
   "execution_count": 3,
   "metadata": {},
   "outputs": [],
   "source": [
    "dfc.set_index(\"Year\", inplace=True)"
   ]
  },
  {
   "cell_type": "code",
   "execution_count": null,
   "metadata": {},
   "outputs": [],
   "source": [
    "dfc.head()"
   ]
  },
  {
   "cell_type": "code",
   "execution_count": 37,
   "metadata": {},
   "outputs": [],
   "source": [
    "iniciowwi=1914\n",
    "finalwwi= 1918\n",
    "dfwwi=dfc.loc[finalwwi:iniciowwi]\n",
    "inicioentre=1919\n",
    "finalentre= 1938\n",
    "dfentre=dfc.loc[finalentre:inicioentre]\n",
    "iniciowwii=1939\n",
    "finalwwii= 1945\n",
    "dfwwii=dfc.loc[finalwwii:iniciowwii]\n",
    "iniciodatos=1914\n",
    "finaldatos=1945\n",
    "dfperiodo=dfc.loc[finaldatos:iniciodatos]"
   ]
  },
  {
   "cell_type": "code",
   "execution_count": null,
   "metadata": {},
   "outputs": [],
   "source": [
    "dfentre.info()"
   ]
  },
  {
   "cell_type": "code",
   "execution_count": null,
   "metadata": {},
   "outputs": [],
   "source": [
    "#dado que no existen datos en unas columnas las elimino, pensé en quitarlas en la selección de columnas\n",
    "#pero podía no entenderse porque no escojo esas columnas"
   ]
  },
  {
   "cell_type": "code",
   "execution_count": 32,
   "metadata": {},
   "outputs": [],
   "source": [
    "dfwwi = dfwwi.drop(['Sex', 'Fatal','Species'], axis=1)\n",
    "dfwwii = dfwwii.drop(['Sex', 'Fatal','Species'], axis=1)\n",
    "dfentre = dfentre.drop(['Sex', 'Fatal','Species'], axis=1)\n",
    "dfperiodo = dfperiodo.drop(['Sex', 'Fatal','Species'], axis=1)"
   ]
  },
  {
   "cell_type": "code",
   "execution_count": null,
   "metadata": {},
   "outputs": [],
   "source": [
    "dfwwi.info()"
   ]
  },
  {
   "cell_type": "code",
   "execution_count": null,
   "metadata": {},
   "outputs": [],
   "source": [
    "#quitamos nulos de existir"
   ]
  },
  {
   "cell_type": "code",
   "execution_count": null,
   "metadata": {},
   "outputs": [],
   "source": [
    "before = len(dfperiodo)\n",
    "dfperiodo2 = dfperiodo.drop_duplicates()\n",
    "after = len(dfperiodo)\n",
    "print('Number of duplicate records dropped: ', str(before - after))\n"
   ]
  },
  {
   "cell_type": "code",
   "execution_count": null,
   "metadata": {},
   "outputs": [],
   "source": [
    "#como las fechas de las guerras son:\n",
    "#WWI - 28-VII-1914---11-XI-1918\n",
    "#WWII 1-IX-1939------2-IX-1945\n",
    "#por ello tomando la variable \"Date\" se deben de quitar o incorporar en entreguerras los días que están\n",
    "#en este ámbito"
   ]
  },
  {
   "cell_type": "code",
   "execution_count": 61,
   "metadata": {},
   "outputs": [],
   "source": [
    "df14=dfc.loc[1914]\n",
    "df18=dfc.loc[1918]\n",
    "df39=dfc.loc[1939]\n",
    "df45=dfc.loc[1945]"
   ]
  },
  {
   "cell_type": "code",
   "execution_count": null,
   "metadata": {},
   "outputs": [],
   "source": [
    "#con expresiones regulares homogeinizo la variable \"día\""
   ]
  },
  {
   "cell_type": "code",
   "execution_count": 136,
   "metadata": {
    "scrolled": true
   },
   "outputs": [],
   "source": [
    "import re \n",
    "def data_new14(Date):\n",
    "    parather = \"^\\w+. \\D*\"\n",
    "    new_date= re.sub(parather,\"\",Date)\n",
    "    parather2= \"-19\"\n",
    "    new_date=re.sub(parather2,\"-\",new_date)\n",
    "    parather3= \"1914\"\n",
    "    new_date=re.sub(parather3,\"31-Dec-14\",new_date)\n",
    "    parather4= \"-\"\n",
    "    new_date=re.sub(parather4,\"\",new_date)\n",
    "    return new_date\n",
    "def data_new18(Date):\n",
    "    parather = \"1918\"\n",
    "    new_date18= re.sub(parather,\"31-Dec-18\",Date)\n",
    "    parather2 = \"^\\s*\"\n",
    "    new_date18= re.sub(parather2,\"30-\",new_date18)\n",
    "    parather3 = \"30-\\d\"\n",
    "    new_date18= re.sub(parather3,\"1\",new_date18)\n",
    "    parather4= \"-\"\n",
    "    new_date18=re.sub(parather4,\"\",new_date18)\n",
    "    return new_date18\n",
    "def data_new39(Date):\n",
    "    parather = \"^\\w+. \\D*\"\n",
    "    new_date39= re.sub(parather,\"-\",Date)\n",
    "    parather4= \"-19\"\n",
    "    new_data39=re.sub(parather4,\"-\",new_date39)\n",
    "    parather2= \"-\"\n",
    "    new_date39=re.sub(parather2,\"\",new_date39)\n",
    "    parather3= \"1939\"\n",
    "    new_date39= re.sub(parather3,\"31-Dec-39\",new_date39)\n",
    "    return new_date39\n",
    "def data_new45(Date):\n",
    "    parather = \" 1945\"\n",
    "    new_data45= re.sub(parather,\"31-Dec-45\",Date)\n",
    "    parather2= \"-19\"\n",
    "    new_data45=re.sub(parather2,\"-\",new_data45)\n",
    "    parather3 = \"^\\s*\"\n",
    "    new_data45= re.sub(parather3,\"30-\",new_data45)\n",
    "    parather4 = \"30-\\d\"\n",
    "    new_data45= re.sub(parather4,\"1\",new_data45)\n",
    "    return new_data45\n",
    "    \n",
    "    "
   ]
  },
  {
   "cell_type": "code",
   "execution_count": 137,
   "metadata": {},
   "outputs": [],
   "source": [
    "df14nueva= df14.Date.apply(data_new14)\n",
    "df18nueva= df18.Date.apply(data_new18)\n",
    "df39nueva= df39.Date.apply(data_new39)\n",
    "df45nueva= df45.Date.apply(data_new45)\n"
   ]
  },
  {
   "cell_type": "code",
   "execution_count": 139,
   "metadata": {},
   "outputs": [
    {
     "data": {
      "text/plain": [
       "Year\n",
       "1918    30Nov18\n",
       "1918    30Nov18\n",
       "1918    19Sep18\n",
       "1918    12Mar18\n",
       "1918    11Dec18\n",
       "Name: Date, dtype: object"
      ]
     },
     "execution_count": 139,
     "metadata": {},
     "output_type": "execute_result"
    }
   ],
   "source": [
    "df18nueva"
   ]
  },
  {
   "cell_type": "code",
   "execution_count": null,
   "metadata": {},
   "outputs": [],
   "source": [
    "#creo dos nuevas variables con los días del año que coinciden con cada periodo"
   ]
  },
  {
   "cell_type": "code",
   "execution_count": 106,
   "metadata": {},
   "outputs": [
    {
     "data": {
      "text/plain": [
       "Timestamp('2018-11-30 00:00:00')"
      ]
     },
     "execution_count": 106,
     "metadata": {},
     "output_type": "execute_result"
    }
   ],
   "source": [
    "a=pd.to_datetime(\"30Nov18\", format='%d%b%y')\n",
    "a"
   ]
  },
  {
   "cell_type": "code",
   "execution_count": null,
   "metadata": {},
   "outputs": [],
   "source": [
    "#dfwwi= dfwwi + df14wwi + df18wwi\n",
    "#dfentre= df18entre + dfentre + df39entre\n",
    "#dfwwii= df39wwii + dfwwii + df45wii"
   ]
  },
  {
   "cell_type": "code",
   "execution_count": null,
   "metadata": {},
   "outputs": [],
   "source": [
    "#una vez obtenida estos datos podemos ver el numero de casos de ataques que hubo en la WWI, entre guerras \n",
    "# y en la WWII"
   ]
  },
  {
   "cell_type": "code",
   "execution_count": 38,
   "metadata": {},
   "outputs": [],
   "source": [
    "dfentre = dfentre.drop(dfentre[dfentre['Age']=='?    &   14'].index)"
   ]
  },
  {
   "cell_type": "code",
   "execution_count": 39,
   "metadata": {},
   "outputs": [
    {
     "name": "stderr",
     "output_type": "stream",
     "text": [
      "/home/vicente/.local/lib/python3.5/site-packages/ipykernel_launcher.py:2: SettingWithCopyWarning: \n",
      "A value is trying to be set on a copy of a slice from a DataFrame.\n",
      "Try using .loc[row_indexer,col_indexer] = value instead\n",
      "\n",
      "See the caveats in the documentation: http://pandas.pydata.org/pandas-docs/stable/indexing.html#indexing-view-versus-copy\n",
      "  \n",
      "/home/vicente/.local/lib/python3.5/site-packages/ipykernel_launcher.py:11: SettingWithCopyWarning: \n",
      "A value is trying to be set on a copy of a slice from a DataFrame.\n",
      "Try using .loc[row_indexer,col_indexer] = value instead\n",
      "\n",
      "See the caveats in the documentation: http://pandas.pydata.org/pandas-docs/stable/indexing.html#indexing-view-versus-copy\n",
      "  # This is added back by InteractiveShellApp.init_path()\n",
      "/home/vicente/.local/lib/python3.5/site-packages/ipykernel_launcher.py:12: SettingWithCopyWarning: \n",
      "A value is trying to be set on a copy of a slice from a DataFrame.\n",
      "Try using .loc[row_indexer,col_indexer] = value instead\n",
      "\n",
      "See the caveats in the documentation: http://pandas.pydata.org/pandas-docs/stable/indexing.html#indexing-view-versus-copy\n",
      "  if sys.path[0] == '':\n",
      "/home/vicente/.local/lib/python3.5/site-packages/ipykernel_launcher.py:13: SettingWithCopyWarning: \n",
      "A value is trying to be set on a copy of a slice from a DataFrame.\n",
      "Try using .loc[row_indexer,col_indexer] = value instead\n",
      "\n",
      "See the caveats in the documentation: http://pandas.pydata.org/pandas-docs/stable/indexing.html#indexing-view-versus-copy\n",
      "  del sys.path[0]\n",
      "/home/vicente/.local/lib/python3.5/site-packages/ipykernel_launcher.py:17: SettingWithCopyWarning: \n",
      "A value is trying to be set on a copy of a slice from a DataFrame.\n",
      "Try using .loc[row_indexer,col_indexer] = value instead\n",
      "\n",
      "See the caveats in the documentation: http://pandas.pydata.org/pandas-docs/stable/indexing.html#indexing-view-versus-copy\n",
      "/home/vicente/.local/lib/python3.5/site-packages/ipykernel_launcher.py:18: SettingWithCopyWarning: \n",
      "A value is trying to be set on a copy of a slice from a DataFrame.\n",
      "Try using .loc[row_indexer,col_indexer] = value instead\n",
      "\n",
      "See the caveats in the documentation: http://pandas.pydata.org/pandas-docs/stable/indexing.html#indexing-view-versus-copy\n"
     ]
    }
   ],
   "source": [
    "#homogeneizamos las edades para poder hacer una categorización posterior\n",
    "dfwwi['Age'] = dfwwi['Age'].str.replace('10 or 12', '11')\n",
    "dfentre['Age'] = dfentre['Age'].str.replace('A.M.', '-1')\n",
    "dfentre['Age'] = dfentre['Age'].str.replace('36 & 23', '36')\n",
    "dfentre['Age'] = dfentre['Age'].str.replace('50s', '50')\n",
    "dfentre['Age'] = dfentre['Age'].str.replace('9 or 10', '10')\n",
    "dfentre['Age'] = dfentre['Age'].str.replace('Teen','15')\n",
    "dfentre['Age'] = dfentre['Age'].str.replace('young', '16')\n",
    "dfentre['Age'] = dfentre['Age'].str.replace('  ', '14')\n",
    "dfentre['Age'] = dfentre['Age'].str.replace('1414', '-1')\n",
    "dfwwii['Age'] = dfwwii['Age'].str.replace('F', '-1')\n",
    "dfwwii['Age'] = dfwwii['Age'].str.replace('Both 11', '28')\n",
    "dfwwii['Age'] = dfwwii['Age'].str.replace('8 or 10', '10')\n",
    "\n",
    "\n",
    "dfentre['Age'] = dfentre['Age'].fillna('-1')\n",
    "dfwwi['Age'] = dfwwi['Age'].fillna('-1')\n",
    "dfwwii['Age'] = dfwwii['Age'].fillna('-1')\n",
    "\n",
    "\n"
   ]
  },
  {
   "cell_type": "code",
   "execution_count": 8,
   "metadata": {
    "scrolled": true
   },
   "outputs": [
    {
     "data": {
      "text/plain": [
       "-1    296\n",
       "18     14\n",
       "17     14\n",
       "16     10\n",
       "38      8\n",
       "15      8\n",
       "19      8\n",
       "20      8\n",
       "14      7\n",
       "13      7\n",
       "12      5\n",
       "22      4\n",
       "27      4\n",
       "24      4\n",
       "21      4\n",
       "25      4\n",
       "23      4\n",
       "50      4\n",
       "26      3\n",
       "10      2\n",
       "32      2\n",
       "39      2\n",
       "40      2\n",
       "8       2\n",
       "29      2\n",
       "34      1\n",
       "5       1\n",
       "70      1\n",
       "28      1\n",
       "47      1\n",
       "54      1\n",
       "31      1\n",
       "45      1\n",
       "33      1\n",
       "78      1\n",
       "9       1\n",
       "55      1\n",
       "43      1\n",
       "11      1\n",
       "30      1\n",
       "53      1\n",
       "49      1\n",
       "36      1\n",
       "42      1\n",
       "Name: Age, dtype: int64"
      ]
     },
     "execution_count": 8,
     "metadata": {},
     "output_type": "execute_result"
    }
   ],
   "source": [
    "dfentre[\"Age\"].value_counts()"
   ]
  },
  {
   "cell_type": "code",
   "execution_count": null,
   "metadata": {},
   "outputs": [],
   "source": [
    "#cambio el tipo a int de \"Age\" y se realizan los cortes por edad y etiqueta"
   ]
  },
  {
   "cell_type": "code",
   "execution_count": 40,
   "metadata": {},
   "outputs": [
    {
     "name": "stderr",
     "output_type": "stream",
     "text": [
      "/home/vicente/.local/lib/python3.5/site-packages/ipykernel_launcher.py:1: SettingWithCopyWarning: \n",
      "A value is trying to be set on a copy of a slice from a DataFrame.\n",
      "Try using .loc[row_indexer,col_indexer] = value instead\n",
      "\n",
      "See the caveats in the documentation: http://pandas.pydata.org/pandas-docs/stable/indexing.html#indexing-view-versus-copy\n",
      "  \"\"\"Entry point for launching an IPython kernel.\n",
      "/home/vicente/.local/lib/python3.5/site-packages/ipykernel_launcher.py:5: SettingWithCopyWarning: \n",
      "A value is trying to be set on a copy of a slice from a DataFrame.\n",
      "Try using .loc[row_indexer,col_indexer] = value instead\n",
      "\n",
      "See the caveats in the documentation: http://pandas.pydata.org/pandas-docs/stable/indexing.html#indexing-view-versus-copy\n",
      "  \"\"\"\n"
     ]
    }
   ],
   "source": [
    "dfwwi['Age'] = dfwwi['Age'].astype('int')\n",
    "etiquetas= ['Unknown','Joven','Adulto','Mayor']\n",
    "cortes = [-100,-1,20,60,1000]\n",
    "dfwwicat = pd.cut(dfwwi['Age'],cortes, labels=etiquetas)\n",
    "dfwwii['Age'] = dfwwii['Age'].astype('int')\n",
    "etiquetas= ['Unknown','Joven','Adulto','Mayor']\n",
    "cortes = [-100,-1,20,60,1000]\n",
    "dfwwiicat = pd.cut(dfwwii['Age'],cortes, labels=etiquetas)\n",
    "dfentre['Age'] = dfentre['Age'].astype('int')\n",
    "etiquetas= ['Unknown','Joven','Adulto','Mayor']\n",
    "cortes = [-100,-1,20,60,1000]\n",
    "dfentrecat = pd.cut(dfentre['Age'],cortes, labels=etiquetas)\n",
    "\n"
   ]
  },
  {
   "cell_type": "code",
   "execution_count": 83,
   "metadata": {},
   "outputs": [],
   "source": [
    "dfwwicatv = dfwwicat.value_counts()*100/len(dfwwicat)"
   ]
  },
  {
   "cell_type": "code",
   "execution_count": 84,
   "metadata": {},
   "outputs": [],
   "source": [
    "dfentrecatv = dfentrecat.value_counts()*100/len(dfentrecat)"
   ]
  },
  {
   "cell_type": "code",
   "execution_count": 85,
   "metadata": {},
   "outputs": [],
   "source": [
    "dfwwiicatv = dfwwiicat.value_counts()*100/len(dfwwiicat)"
   ]
  },
  {
   "cell_type": "code",
   "execution_count": 52,
   "metadata": {},
   "outputs": [],
   "source": [
    "dfentrecat2 = dfentrecat.drop(dfentrecat[dfentrecat == \"Unknown\"].index)"
   ]
  },
  {
   "cell_type": "code",
   "execution_count": 93,
   "metadata": {},
   "outputs": [
    {
     "name": "stdout",
     "output_type": "stream",
     "text": [
      "WWI Unknown    78.571429\n",
      "Adulto     11.428571\n",
      "Joven      10.000000\n",
      "Mayor       0.000000\n",
      "Name: Age, dtype: float64 Entreguerras Unknown    66.219239\n",
      "Joven      19.686801\n",
      "Adulto     13.646532\n",
      "Mayor       0.447427\n",
      "Name: Age, dtype: float64 WWII Unknown    67.015707\n",
      "Joven      18.848168\n",
      "Adulto     13.612565\n",
      "Mayor       0.523560\n",
      "Name: Age, dtype: float64\n"
     ]
    }
   ],
   "source": [
    "print(\"WWI\",dfwwicatv,\"Entreguerras\",dfentrecatv,\"WWII\" ,dfwwiicatv )"
   ]
  },
  {
   "cell_type": "code",
   "execution_count": 113,
   "metadata": {},
   "outputs": [],
   "source": [
    "dfentre = pd.merge(dfentre, dfentrecat, on='Year')\n",
    "dfwwi = pd.merge(dfwwi, dfwwicat, on='Year')\n",
    "dfwwii = pd.merge(dfwwii, dfwwiicat, on='Year')"
   ]
  },
  {
   "cell_type": "code",
   "execution_count": 112,
   "metadata": {},
   "outputs": [
    {
     "data": {
      "text/html": [
       "<div>\n",
       "<style scoped>\n",
       "    .dataframe tbody tr th:only-of-type {\n",
       "        vertical-align: middle;\n",
       "    }\n",
       "\n",
       "    .dataframe tbody tr th {\n",
       "        vertical-align: top;\n",
       "    }\n",
       "\n",
       "    .dataframe thead th {\n",
       "        text-align: right;\n",
       "    }\n",
       "</style>\n",
       "<table border=\"1\" class=\"dataframe\">\n",
       "  <thead>\n",
       "    <tr style=\"text-align: right;\">\n",
       "      <th></th>\n",
       "      <th>Date</th>\n",
       "      <th>Type</th>\n",
       "      <th>Country</th>\n",
       "      <th>Area</th>\n",
       "      <th>Location</th>\n",
       "      <th>Activity</th>\n",
       "      <th>Name</th>\n",
       "      <th>Sex</th>\n",
       "      <th>Age_x</th>\n",
       "      <th>Injury</th>\n",
       "      <th>Fatal</th>\n",
       "      <th>Species</th>\n",
       "      <th>Age_y</th>\n",
       "    </tr>\n",
       "    <tr>\n",
       "      <th>Year</th>\n",
       "      <th></th>\n",
       "      <th></th>\n",
       "      <th></th>\n",
       "      <th></th>\n",
       "      <th></th>\n",
       "      <th></th>\n",
       "      <th></th>\n",
       "      <th></th>\n",
       "      <th></th>\n",
       "      <th></th>\n",
       "      <th></th>\n",
       "      <th></th>\n",
       "      <th></th>\n",
       "    </tr>\n",
       "  </thead>\n",
       "  <tbody>\n",
       "    <tr>\n",
       "      <th>1938</th>\n",
       "      <td>27-Dec-38</td>\n",
       "      <td>Unprovoked</td>\n",
       "      <td>AUSTRALIA</td>\n",
       "      <td>New South Wales</td>\n",
       "      <td>North Beach, Belligen River</td>\n",
       "      <td>Swimming</td>\n",
       "      <td>Daniel Graham</td>\n",
       "      <td>NaN</td>\n",
       "      <td>19</td>\n",
       "      <td>FATAL, thought to have been taken by a shark</td>\n",
       "      <td>NaN</td>\n",
       "      <td>NaN</td>\n",
       "      <td>Joven</td>\n",
       "    </tr>\n",
       "    <tr>\n",
       "      <th>1938</th>\n",
       "      <td>27-Dec-38</td>\n",
       "      <td>Unprovoked</td>\n",
       "      <td>AUSTRALIA</td>\n",
       "      <td>New South Wales</td>\n",
       "      <td>North Beach, Belligen River</td>\n",
       "      <td>Swimming</td>\n",
       "      <td>Daniel Graham</td>\n",
       "      <td>NaN</td>\n",
       "      <td>19</td>\n",
       "      <td>FATAL, thought to have been taken by a shark</td>\n",
       "      <td>NaN</td>\n",
       "      <td>NaN</td>\n",
       "      <td>Joven</td>\n",
       "    </tr>\n",
       "    <tr>\n",
       "      <th>1938</th>\n",
       "      <td>27-Dec-38</td>\n",
       "      <td>Unprovoked</td>\n",
       "      <td>AUSTRALIA</td>\n",
       "      <td>New South Wales</td>\n",
       "      <td>North Beach, Belligen River</td>\n",
       "      <td>Swimming</td>\n",
       "      <td>Daniel Graham</td>\n",
       "      <td>NaN</td>\n",
       "      <td>19</td>\n",
       "      <td>FATAL, thought to have been taken by a shark</td>\n",
       "      <td>NaN</td>\n",
       "      <td>NaN</td>\n",
       "      <td>Unknown</td>\n",
       "    </tr>\n",
       "    <tr>\n",
       "      <th>1938</th>\n",
       "      <td>27-Dec-38</td>\n",
       "      <td>Unprovoked</td>\n",
       "      <td>AUSTRALIA</td>\n",
       "      <td>New South Wales</td>\n",
       "      <td>North Beach, Belligen River</td>\n",
       "      <td>Swimming</td>\n",
       "      <td>Daniel Graham</td>\n",
       "      <td>NaN</td>\n",
       "      <td>19</td>\n",
       "      <td>FATAL, thought to have been taken by a shark</td>\n",
       "      <td>NaN</td>\n",
       "      <td>NaN</td>\n",
       "      <td>Unknown</td>\n",
       "    </tr>\n",
       "    <tr>\n",
       "      <th>1938</th>\n",
       "      <td>27-Dec-38</td>\n",
       "      <td>Unprovoked</td>\n",
       "      <td>AUSTRALIA</td>\n",
       "      <td>New South Wales</td>\n",
       "      <td>North Beach, Belligen River</td>\n",
       "      <td>Swimming</td>\n",
       "      <td>Daniel Graham</td>\n",
       "      <td>NaN</td>\n",
       "      <td>19</td>\n",
       "      <td>FATAL, thought to have been taken by a shark</td>\n",
       "      <td>NaN</td>\n",
       "      <td>NaN</td>\n",
       "      <td>Unknown</td>\n",
       "    </tr>\n",
       "  </tbody>\n",
       "</table>\n",
       "</div>"
      ],
      "text/plain": [
       "           Date        Type    Country             Area  \\\n",
       "Year                                                      \n",
       "1938  27-Dec-38  Unprovoked  AUSTRALIA  New South Wales   \n",
       "1938  27-Dec-38  Unprovoked  AUSTRALIA  New South Wales   \n",
       "1938  27-Dec-38  Unprovoked  AUSTRALIA  New South Wales   \n",
       "1938  27-Dec-38  Unprovoked  AUSTRALIA  New South Wales   \n",
       "1938  27-Dec-38  Unprovoked  AUSTRALIA  New South Wales   \n",
       "\n",
       "                         Location  Activity           Name  Sex  Age_x  \\\n",
       "Year                                                                     \n",
       "1938  North Beach, Belligen River  Swimming  Daniel Graham  NaN     19   \n",
       "1938  North Beach, Belligen River  Swimming  Daniel Graham  NaN     19   \n",
       "1938  North Beach, Belligen River  Swimming  Daniel Graham  NaN     19   \n",
       "1938  North Beach, Belligen River  Swimming  Daniel Graham  NaN     19   \n",
       "1938  North Beach, Belligen River  Swimming  Daniel Graham  NaN     19   \n",
       "\n",
       "                                             Injury  Fatal  Species    Age_y  \n",
       "Year                                                                          \n",
       "1938  FATAL, thought to have been taken by a shark     NaN      NaN    Joven  \n",
       "1938  FATAL, thought to have been taken by a shark     NaN      NaN    Joven  \n",
       "1938  FATAL, thought to have been taken by a shark     NaN      NaN  Unknown  \n",
       "1938  FATAL, thought to have been taken by a shark     NaN      NaN  Unknown  \n",
       "1938  FATAL, thought to have been taken by a shark     NaN      NaN  Unknown  "
      ]
     },
     "execution_count": 112,
     "metadata": {},
     "output_type": "execute_result"
    }
   ],
   "source": []
  },
  {
   "cell_type": "code",
   "execution_count": null,
   "metadata": {},
   "outputs": [],
   "source": []
  }
 ],
 "metadata": {
  "kernelspec": {
   "display_name": "Python 3",
   "language": "python",
   "name": "python3"
  },
  "language_info": {
   "codemirror_mode": {
    "name": "ipython",
    "version": 3
   },
   "file_extension": ".py",
   "mimetype": "text/x-python",
   "name": "python",
   "nbconvert_exporter": "python",
   "pygments_lexer": "ipython3",
   "version": "3.5.2"
  }
 },
 "nbformat": 4,
 "nbformat_minor": 2
}
