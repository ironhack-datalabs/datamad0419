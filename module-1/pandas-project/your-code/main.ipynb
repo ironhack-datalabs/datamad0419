{
 "cells": [
  {
   "cell_type": "code",
   "execution_count": 1,
   "metadata": {},
   "outputs": [],
   "source": [
    "import pandas as pd\n",
    "import numpy as np\n",
    "import csv\n",
    "import re\n",
    "import matplotlib.pyplot as plt\n",
    "import seaborn as sns\n",
    "import string as str"
   ]
  },
  {
   "cell_type": "markdown",
   "metadata": {},
   "source": [
    "# LECTURA DE LOS DATOS"
   ]
  },
  {
   "cell_type": "code",
   "execution_count": 2,
   "metadata": {},
   "outputs": [
    {
     "data": {
      "text/html": [
       "<div>\n",
       "<style scoped>\n",
       "    .dataframe tbody tr th:only-of-type {\n",
       "        vertical-align: middle;\n",
       "    }\n",
       "\n",
       "    .dataframe tbody tr th {\n",
       "        vertical-align: top;\n",
       "    }\n",
       "\n",
       "    .dataframe thead th {\n",
       "        text-align: right;\n",
       "    }\n",
       "</style>\n",
       "<table border=\"1\" class=\"dataframe\">\n",
       "  <thead>\n",
       "    <tr style=\"text-align: right;\">\n",
       "      <th></th>\n",
       "      <th>Case Number</th>\n",
       "      <th>Date</th>\n",
       "      <th>Year</th>\n",
       "      <th>Type</th>\n",
       "      <th>Country</th>\n",
       "      <th>Area</th>\n",
       "      <th>Location</th>\n",
       "      <th>Activity</th>\n",
       "      <th>Name</th>\n",
       "      <th>Sex</th>\n",
       "      <th>...</th>\n",
       "      <th>Species</th>\n",
       "      <th>Investigator or Source</th>\n",
       "      <th>pdf</th>\n",
       "      <th>href formula</th>\n",
       "      <th>href</th>\n",
       "      <th>Case Number.1</th>\n",
       "      <th>Case Number.2</th>\n",
       "      <th>original order</th>\n",
       "      <th>Unnamed: 22</th>\n",
       "      <th>Unnamed: 23</th>\n",
       "    </tr>\n",
       "  </thead>\n",
       "  <tbody>\n",
       "    <tr>\n",
       "      <th>0</th>\n",
       "      <td>2016.09.18.c</td>\n",
       "      <td>18-Sep-16</td>\n",
       "      <td>2016</td>\n",
       "      <td>Unprovoked</td>\n",
       "      <td>USA</td>\n",
       "      <td>Florida</td>\n",
       "      <td>New Smyrna Beach, Volusia County</td>\n",
       "      <td>Surfing</td>\n",
       "      <td>male</td>\n",
       "      <td>M</td>\n",
       "      <td>...</td>\n",
       "      <td>NaN</td>\n",
       "      <td>Orlando Sentinel, 9/19/2016</td>\n",
       "      <td>2016.09.18.c-NSB.pdf</td>\n",
       "      <td>http://sharkattackfile.net/spreadsheets/pdf_di...</td>\n",
       "      <td>http://sharkattackfile.net/spreadsheets/pdf_di...</td>\n",
       "      <td>2016.09.18.c</td>\n",
       "      <td>2016.09.18.c</td>\n",
       "      <td>5993</td>\n",
       "      <td>NaN</td>\n",
       "      <td>NaN</td>\n",
       "    </tr>\n",
       "  </tbody>\n",
       "</table>\n",
       "<p>1 rows × 24 columns</p>\n",
       "</div>"
      ],
      "text/plain": [
       "    Case Number       Date  Year        Type Country     Area  \\\n",
       "0  2016.09.18.c  18-Sep-16  2016  Unprovoked     USA  Florida   \n",
       "\n",
       "                           Location Activity  Name Sex   ... Species   \\\n",
       "0  New Smyrna Beach, Volusia County  Surfing  male    M  ...      NaN   \n",
       "\n",
       "        Investigator or Source                   pdf  \\\n",
       "0  Orlando Sentinel, 9/19/2016  2016.09.18.c-NSB.pdf   \n",
       "\n",
       "                                        href formula  \\\n",
       "0  http://sharkattackfile.net/spreadsheets/pdf_di...   \n",
       "\n",
       "                                                href Case Number.1  \\\n",
       "0  http://sharkattackfile.net/spreadsheets/pdf_di...  2016.09.18.c   \n",
       "\n",
       "  Case Number.2 original order Unnamed: 22 Unnamed: 23  \n",
       "0  2016.09.18.c           5993         NaN         NaN  \n",
       "\n",
       "[1 rows x 24 columns]"
      ]
     },
     "execution_count": 2,
     "metadata": {},
     "output_type": "execute_result"
    }
   ],
   "source": [
    "with open('GSAF5.csv') as csvfile:   \n",
    "    raw_data = pd.read_csv('GSAF5.csv', encoding='latin-1')\n",
    "raw_data.head(1)"
   ]
  },
  {
   "cell_type": "markdown",
   "metadata": {},
   "source": [
    "# DATOS EXPLORATORIOS"
   ]
  },
  {
   "cell_type": "markdown",
   "metadata": {},
   "source": [
    "### AÑOS CON MÁS ATAQUES: el mayor número de ataques sucede durante los últimos años."
   ]
  },
  {
   "cell_type": "code",
   "execution_count": 3,
   "metadata": {},
   "outputs": [
    {
     "data": {
      "text/html": [
       "<div>\n",
       "<style scoped>\n",
       "    .dataframe tbody tr th:only-of-type {\n",
       "        vertical-align: middle;\n",
       "    }\n",
       "\n",
       "    .dataframe tbody tr th {\n",
       "        vertical-align: top;\n",
       "    }\n",
       "\n",
       "    .dataframe thead th {\n",
       "        text-align: right;\n",
       "    }\n",
       "</style>\n",
       "<table border=\"1\" class=\"dataframe\">\n",
       "  <thead>\n",
       "    <tr style=\"text-align: right;\">\n",
       "      <th></th>\n",
       "      <th>Year</th>\n",
       "      <th>#Attacks</th>\n",
       "    </tr>\n",
       "  </thead>\n",
       "  <tbody>\n",
       "    <tr>\n",
       "      <th>0</th>\n",
       "      <td>2015</td>\n",
       "      <td>139</td>\n",
       "    </tr>\n",
       "    <tr>\n",
       "      <th>1</th>\n",
       "      <td>2011</td>\n",
       "      <td>128</td>\n",
       "    </tr>\n",
       "    <tr>\n",
       "      <th>2</th>\n",
       "      <td>2014</td>\n",
       "      <td>125</td>\n",
       "    </tr>\n",
       "    <tr>\n",
       "      <th>3</th>\n",
       "      <td>0</td>\n",
       "      <td>124</td>\n",
       "    </tr>\n",
       "    <tr>\n",
       "      <th>4</th>\n",
       "      <td>2013</td>\n",
       "      <td>122</td>\n",
       "    </tr>\n",
       "    <tr>\n",
       "      <th>5</th>\n",
       "      <td>2008</td>\n",
       "      <td>121</td>\n",
       "    </tr>\n",
       "    <tr>\n",
       "      <th>6</th>\n",
       "      <td>2009</td>\n",
       "      <td>120</td>\n",
       "    </tr>\n",
       "    <tr>\n",
       "      <th>7</th>\n",
       "      <td>2012</td>\n",
       "      <td>117</td>\n",
       "    </tr>\n",
       "    <tr>\n",
       "      <th>8</th>\n",
       "      <td>2007</td>\n",
       "      <td>112</td>\n",
       "    </tr>\n",
       "    <tr>\n",
       "      <th>9</th>\n",
       "      <td>2005</td>\n",
       "      <td>103</td>\n",
       "    </tr>\n",
       "  </tbody>\n",
       "</table>\n",
       "</div>"
      ],
      "text/plain": [
       "   Year  #Attacks\n",
       "0  2015       139\n",
       "1  2011       128\n",
       "2  2014       125\n",
       "3     0       124\n",
       "4  2013       122\n",
       "5  2008       121\n",
       "6  2009       120\n",
       "7  2012       117\n",
       "8  2007       112\n",
       "9  2005       103"
      ]
     },
     "execution_count": 3,
     "metadata": {},
     "output_type": "execute_result"
    }
   ],
   "source": [
    "# Agrupa por años y cuenta, ordena los resultados y añade columna con los mismos.\n",
    "worse_years = raw_data.groupby(['Year'])['Case Number']\\\n",
    "                      .count()\\\n",
    "                      .sort_values(0, ascending=False)\\\n",
    "                      .reset_index(name=\"#Attacks\")\n",
    "worse_years.head(10)"
   ]
  },
  {
   "cell_type": "markdown",
   "metadata": {},
   "source": [
    "### Gráfica de ataques por años desde 2000 "
   ]
  },
  {
   "cell_type": "code",
   "execution_count": 4,
   "metadata": {},
   "outputs": [
    {
     "data": {
      "text/plain": [
       "(array([ 0,  1,  2,  3,  4,  5,  6,  7,  8,  9, 10, 11, 12, 13, 14, 15, 16]),\n",
       " <a list of 17 Text xticklabel objects>)"
      ]
     },
     "execution_count": 4,
     "metadata": {},
     "output_type": "execute_result"
    },
    {
     "data": {
      "image/png": "[encoded data removed]",
      "text/plain": [
       "<Figure size 432x288 with 1 Axes>"
      ]
     },
     "metadata": {
      "needs_background": "light"
     },
     "output_type": "display_data"
    }
   ],
   "source": [
    "# Limita rango de años a mayores de 1999, agrupa por años y cuenta.\n",
    "atacks_by_year = raw_data[raw_data['Year'] > 1999].groupby(['Year'])['Case Number']\\\n",
    "                                                  .count()\\\n",
    "                                                  .reset_index(name=\"#Atacks\")\n",
    "# parámetros del gráfico\n",
    "sns.barplot(data = atacks_by_year, x = 'Year', y = '#Atacks')\n",
    "plt.xticks(rotation=45)"
   ]
  },
  {
   "cell_type": "markdown",
   "metadata": {},
   "source": [
    "### PAISES DONDE SE DA EL MAYOR NÚMERO DE ATAQUES: El primero es EE.UU."
   ]
  },
  {
   "cell_type": "code",
   "execution_count": 5,
   "metadata": {},
   "outputs": [
    {
     "data": {
      "text/plain": [
       "(array([0, 1, 2, 3, 4, 5, 6, 7, 8, 9]), <a list of 10 Text xticklabel objects>)"
      ]
     },
     "execution_count": 5,
     "metadata": {},
     "output_type": "execute_result"
    },
    {
     "data": {
      "image/png": "[encoded data removed]",
      "text/plain": [
       "<Figure size 432x288 with 1 Axes>"
      ]
     },
     "metadata": {
      "needs_background": "light"
     },
     "output_type": "display_data"
    }
   ],
   "source": [
    "attacks_by_countries = raw_data.groupby(['Country'])['Case Number']\\\n",
    "                              .count()\\\n",
    "                              .sort_values(0, ascending=False)\\\n",
    "                              .reset_index(name='#Attacks')\n",
    "\n",
    "# parámetros del gráfico\n",
    "graph_attacks_by_countries = attacks_by_countries.head(10)\n",
    "sns.barplot(data = graph_attacks_by_countries, x = 'Country', y = '#Attacks')\n",
    "plt.xticks(rotation=45)"
   ]
  },
  {
   "cell_type": "markdown",
   "metadata": {},
   "source": [
    "### ÁREAS DE EE.UU. CON MAYOR NÚMERO DE ATAQUES: La primera es Florida."
   ]
  },
  {
   "cell_type": "code",
   "execution_count": 6,
   "metadata": {},
   "outputs": [
    {
     "data": {
      "text/plain": [
       "(array([0, 1, 2, 3, 4, 5, 6, 7, 8, 9]), <a list of 10 Text xticklabel objects>)"
      ]
     },
     "execution_count": 6,
     "metadata": {},
     "output_type": "execute_result"
    },
    {
     "data": {
      "image/png": "[encoded data removed]",
      "text/plain": [
       "<Figure size 432x288 with 1 Axes>"
      ]
     },
     "metadata": {
      "needs_background": "light"
     },
     "output_type": "display_data"
    }
   ],
   "source": [
    "usa = raw_data[raw_data['Country']=='USA']\n",
    "usa_area = usa.groupby(['Area'])['Case Number']\\\n",
    "              .count()\\\n",
    "              .sort_values(0, ascending=False)\\\n",
    "              .reset_index(name='#Attacks')\n",
    "\n",
    "# parámetros del gráfico\n",
    "graph_usa_area = usa_area.head(10)\n",
    "sns.barplot(data = graph_usa_area, x = 'Area', y = '#Attacks')\n",
    "plt.xticks(rotation=45)"
   ]
  },
  {
   "cell_type": "markdown",
   "metadata": {},
   "source": [
    "### ATAQUES POR EMPLAZAMIENTOS EN FLORIDA: la mayoría suceden en New Smyrna Beach, Volusia County"
   ]
  },
  {
   "cell_type": "code",
   "execution_count": 7,
   "metadata": {},
   "outputs": [
    {
     "data": {
      "text/plain": [
       "(array([0, 1, 2, 3, 4, 5, 6, 7, 8, 9]), <a list of 10 Text xticklabel objects>)"
      ]
     },
     "execution_count": 7,
     "metadata": {},
     "output_type": "execute_result"
    },
    {
     "data": {
      "image/png": "[encoded data removed]",
      "text/plain": [
       "<Figure size 432x288 with 1 Axes>"
      ]
     },
     "metadata": {
      "needs_background": "light"
     },
     "output_type": "display_data"
    }
   ],
   "source": [
    "FL = raw_data[raw_data['Area']=='Florida']\n",
    "FL_location = FL.groupby(['Location'])['Case Number']\\\n",
    "                .count()\\\n",
    "                .sort_values(0, ascending=False)\\\n",
    "                .reset_index(name='#Attacks')\n",
    "\n",
    "# parámetros del gráfico\n",
    "graph_FL_location = FL_location.head(10)\n",
    "sns.barplot(data = graph_FL_location, x = 'Location', y = '#Attacks')\n",
    "plt.xticks(rotation=45)"
   ]
  },
  {
   "cell_type": "markdown",
   "metadata": {},
   "source": [
    "### EMPLAZAMIENTOS DEL MUNDO CON MÁS ATAQUES: New Smyrna Beach, Volusia County"
   ]
  },
  {
   "cell_type": "code",
   "execution_count": 8,
   "metadata": {},
   "outputs": [
    {
     "data": {
      "text/html": [
       "<div>\n",
       "<style scoped>\n",
       "    .dataframe tbody tr th:only-of-type {\n",
       "        vertical-align: middle;\n",
       "    }\n",
       "\n",
       "    .dataframe tbody tr th {\n",
       "        vertical-align: top;\n",
       "    }\n",
       "\n",
       "    .dataframe thead th {\n",
       "        text-align: right;\n",
       "    }\n",
       "</style>\n",
       "<table border=\"1\" class=\"dataframe\">\n",
       "  <thead>\n",
       "    <tr style=\"text-align: right;\">\n",
       "      <th></th>\n",
       "      <th>Location</th>\n",
       "      <th>#Attacks</th>\n",
       "    </tr>\n",
       "  </thead>\n",
       "  <tbody>\n",
       "    <tr>\n",
       "      <th>0</th>\n",
       "      <td>New Smyrna Beach, Volusia County</td>\n",
       "      <td>157</td>\n",
       "    </tr>\n",
       "    <tr>\n",
       "      <th>1</th>\n",
       "      <td>Daytona Beach, Volusia County</td>\n",
       "      <td>28</td>\n",
       "    </tr>\n",
       "    <tr>\n",
       "      <th>2</th>\n",
       "      <td>Ponce Inlet, Volusia County</td>\n",
       "      <td>17</td>\n",
       "    </tr>\n",
       "    <tr>\n",
       "      <th>3</th>\n",
       "      <td>Myrtle Beach, Horry County</td>\n",
       "      <td>17</td>\n",
       "    </tr>\n",
       "    <tr>\n",
       "      <th>4</th>\n",
       "      <td>Durban</td>\n",
       "      <td>15</td>\n",
       "    </tr>\n",
       "  </tbody>\n",
       "</table>\n",
       "</div>"
      ],
      "text/plain": [
       "                           Location  #Attacks\n",
       "0  New Smyrna Beach, Volusia County       157\n",
       "1     Daytona Beach, Volusia County        28\n",
       "2       Ponce Inlet, Volusia County        17\n",
       "3        Myrtle Beach, Horry County        17\n",
       "4                            Durban        15"
      ]
     },
     "execution_count": 8,
     "metadata": {},
     "output_type": "execute_result"
    }
   ],
   "source": [
    "worse_location = raw_data.groupby(['Location'])['Case Number']\\\n",
    "                         .count()\\\n",
    "                         .sort_values(0, ascending=False)\\\n",
    "                         .reset_index(name='#Attacks')\n",
    "worse_location.head()"
   ]
  },
  {
   "cell_type": "markdown",
   "metadata": {},
   "source": [
    "# COLUMNS"
   ]
  },
  {
   "cell_type": "markdown",
   "metadata": {},
   "source": [
    "### Nombres de las columnas:"
   ]
  },
  {
   "cell_type": "code",
   "execution_count": 9,
   "metadata": {},
   "outputs": [
    {
     "data": {
      "text/plain": [
       "Index(['Case Number', 'Date', 'Year', 'Type', 'Country', 'Area', 'Location',\n",
       "       'Activity', 'Name', 'Sex ', 'Age', 'Injury', 'Fatal (Y/N)', 'Time',\n",
       "       'Species ', 'Investigator or Source', 'pdf', 'href formula', 'href',\n",
       "       'Case Number.1', 'Case Number.2', 'original order', 'Unnamed: 22',\n",
       "       'Unnamed: 23'],\n",
       "      dtype='object')"
      ]
     },
     "execution_count": 9,
     "metadata": {},
     "output_type": "execute_result"
    }
   ],
   "source": [
    "raw_data.columns"
   ]
  },
  {
   "cell_type": "code",
   "execution_count": 10,
   "metadata": {},
   "outputs": [
    {
     "data": {
      "text/plain": [
       "Index(['case_number', 'date', 'year', 'type', 'country', 'area', 'location',\n",
       "       'activity', 'name', 'sex', 'age', 'injury', 'fatal_y-n', 'time',\n",
       "       'species', 'investigator_or_source', 'pdf', 'href_formula', 'href',\n",
       "       'case_number.1', 'case_number.2', 'original_order', 'unnamed_22',\n",
       "       'unnamed_23'],\n",
       "      dtype='object')"
      ]
     },
     "execution_count": 10,
     "metadata": {},
     "output_type": "execute_result"
    }
   ],
   "source": [
    "# Conviene unificar los nombres de las columnas con un mismo formato. Algunas anomalías detectadas son: \n",
    "#      * espacios en blanco al inicio o al final del nombre, \n",
    "#      * espacios en blanco separando nombres compuestos,\n",
    "#      * caracteres extraños: ':', paréntesis, '/'\n",
    "#      * unos nomvres empiezan con mayúscula y otros con minúscula\n",
    " \n",
    "# Como los nombres de las columnas son un tipo 'Index', podemos usar los StringMethods.\n",
    "raw_data.columns = raw_data.columns.str.strip()\\\n",
    "                                   .str.lower()\\\n",
    "                                   .str.replace(' ', '_')\\\n",
    "                                   .str.replace('(', '')\\\n",
    "                                   .str.replace(')', '')\\\n",
    "                                   .str.replace('/', '-')\\\n",
    "                                   .str.replace(':', '')\n",
    "\n",
    "raw_data.columns   "
   ]
  },
  {
   "cell_type": "markdown",
   "metadata": {},
   "source": [
    "### Número de registros por columnas"
   ]
  },
  {
   "cell_type": "code",
   "execution_count": 11,
   "metadata": {},
   "outputs": [
    {
     "data": {
      "text/plain": [
       "case_number               5992\n",
       "date                      5992\n",
       "year                      5992\n",
       "type                      5992\n",
       "country                   5949\n",
       "area                      5590\n",
       "location                  5496\n",
       "activity                  5465\n",
       "name                      5792\n",
       "sex                       5425\n",
       "age                       3311\n",
       "injury                    5965\n",
       "fatal_y-n                 5973\n",
       "time                      2779\n",
       "species                   3058\n",
       "investigator_or_source    5977\n",
       "pdf                       5992\n",
       "href_formula              5991\n",
       "href                      5989\n",
       "case_number.1             5992\n",
       "case_number.2             5992\n",
       "original_order            5992\n",
       "unnamed_22                   1\n",
       "unnamed_23                   2\n",
       "dtype: int64"
      ]
     },
     "execution_count": 11,
     "metadata": {},
     "output_type": "execute_result"
    }
   ],
   "source": [
    "raw_data.count() "
   ]
  },
  {
   "cell_type": "markdown",
   "metadata": {},
   "source": [
    "### Las columnas 'unnamed_22' y 'unnamed_23' tienen sólo 1 y 2 registros, se borran:"
   ]
  },
  {
   "cell_type": "code",
   "execution_count": 12,
   "metadata": {},
   "outputs": [
    {
     "data": {
      "text/html": [
       "<div>\n",
       "<style scoped>\n",
       "    .dataframe tbody tr th:only-of-type {\n",
       "        vertical-align: middle;\n",
       "    }\n",
       "\n",
       "    .dataframe tbody tr th {\n",
       "        vertical-align: top;\n",
       "    }\n",
       "\n",
       "    .dataframe thead th {\n",
       "        text-align: right;\n",
       "    }\n",
       "</style>\n",
       "<table border=\"1\" class=\"dataframe\">\n",
       "  <thead>\n",
       "    <tr style=\"text-align: right;\">\n",
       "      <th></th>\n",
       "      <th>case_number</th>\n",
       "      <th>date</th>\n",
       "      <th>year</th>\n",
       "      <th>type</th>\n",
       "      <th>country</th>\n",
       "      <th>area</th>\n",
       "      <th>location</th>\n",
       "      <th>activity</th>\n",
       "      <th>name</th>\n",
       "      <th>sex</th>\n",
       "      <th>...</th>\n",
       "      <th>fatal_y-n</th>\n",
       "      <th>time</th>\n",
       "      <th>species</th>\n",
       "      <th>investigator_or_source</th>\n",
       "      <th>pdf</th>\n",
       "      <th>href_formula</th>\n",
       "      <th>href</th>\n",
       "      <th>case_number.1</th>\n",
       "      <th>case_number.2</th>\n",
       "      <th>original_order</th>\n",
       "    </tr>\n",
       "  </thead>\n",
       "  <tbody>\n",
       "    <tr>\n",
       "      <th>0</th>\n",
       "      <td>2016.09.18.c</td>\n",
       "      <td>18-Sep-16</td>\n",
       "      <td>2016</td>\n",
       "      <td>Unprovoked</td>\n",
       "      <td>USA</td>\n",
       "      <td>Florida</td>\n",
       "      <td>New Smyrna Beach, Volusia County</td>\n",
       "      <td>Surfing</td>\n",
       "      <td>male</td>\n",
       "      <td>M</td>\n",
       "      <td>...</td>\n",
       "      <td>N</td>\n",
       "      <td>13h00</td>\n",
       "      <td>NaN</td>\n",
       "      <td>Orlando Sentinel, 9/19/2016</td>\n",
       "      <td>2016.09.18.c-NSB.pdf</td>\n",
       "      <td>http://sharkattackfile.net/spreadsheets/pdf_di...</td>\n",
       "      <td>http://sharkattackfile.net/spreadsheets/pdf_di...</td>\n",
       "      <td>2016.09.18.c</td>\n",
       "      <td>2016.09.18.c</td>\n",
       "      <td>5993</td>\n",
       "    </tr>\n",
       "    <tr>\n",
       "      <th>1</th>\n",
       "      <td>2016.09.18.b</td>\n",
       "      <td>18-Sep-16</td>\n",
       "      <td>2016</td>\n",
       "      <td>Unprovoked</td>\n",
       "      <td>USA</td>\n",
       "      <td>Florida</td>\n",
       "      <td>New Smyrna Beach, Volusia County</td>\n",
       "      <td>Surfing</td>\n",
       "      <td>Chucky Luciano</td>\n",
       "      <td>M</td>\n",
       "      <td>...</td>\n",
       "      <td>N</td>\n",
       "      <td>11h00</td>\n",
       "      <td>NaN</td>\n",
       "      <td>Orlando Sentinel, 9/19/2016</td>\n",
       "      <td>2016.09.18.b-Luciano.pdf</td>\n",
       "      <td>http://sharkattackfile.net/spreadsheets/pdf_di...</td>\n",
       "      <td>http://sharkattackfile.net/spreadsheets/pdf_di...</td>\n",
       "      <td>2016.09.18.b</td>\n",
       "      <td>2016.09.18.b</td>\n",
       "      <td>5992</td>\n",
       "    </tr>\n",
       "    <tr>\n",
       "      <th>2</th>\n",
       "      <td>2016.09.18.a</td>\n",
       "      <td>18-Sep-16</td>\n",
       "      <td>2016</td>\n",
       "      <td>Unprovoked</td>\n",
       "      <td>USA</td>\n",
       "      <td>Florida</td>\n",
       "      <td>New Smyrna Beach, Volusia County</td>\n",
       "      <td>Surfing</td>\n",
       "      <td>male</td>\n",
       "      <td>M</td>\n",
       "      <td>...</td>\n",
       "      <td>N</td>\n",
       "      <td>10h43</td>\n",
       "      <td>NaN</td>\n",
       "      <td>Orlando Sentinel, 9/19/2016</td>\n",
       "      <td>2016.09.18.a-NSB.pdf</td>\n",
       "      <td>http://sharkattackfile.net/spreadsheets/pdf_di...</td>\n",
       "      <td>http://sharkattackfile.net/spreadsheets/pdf_di...</td>\n",
       "      <td>2016.09.18.a</td>\n",
       "      <td>2016.09.18.a</td>\n",
       "      <td>5991</td>\n",
       "    </tr>\n",
       "    <tr>\n",
       "      <th>3</th>\n",
       "      <td>2016.09.17</td>\n",
       "      <td>17-Sep-16</td>\n",
       "      <td>2016</td>\n",
       "      <td>Unprovoked</td>\n",
       "      <td>AUSTRALIA</td>\n",
       "      <td>Victoria</td>\n",
       "      <td>Thirteenth Beach</td>\n",
       "      <td>Surfing</td>\n",
       "      <td>Rory Angiolella</td>\n",
       "      <td>M</td>\n",
       "      <td>...</td>\n",
       "      <td>N</td>\n",
       "      <td>NaN</td>\n",
       "      <td>NaN</td>\n",
       "      <td>The Age, 9/18/2016</td>\n",
       "      <td>2016.09.17-Angiolella.pdf</td>\n",
       "      <td>http://sharkattackfile.net/spreadsheets/pdf_di...</td>\n",
       "      <td>http://sharkattackfile.net/spreadsheets/pdf_di...</td>\n",
       "      <td>2016.09.17</td>\n",
       "      <td>2016.09.17</td>\n",
       "      <td>5990</td>\n",
       "    </tr>\n",
       "    <tr>\n",
       "      <th>4</th>\n",
       "      <td>2016.09.15</td>\n",
       "      <td>16-Sep-16</td>\n",
       "      <td>2016</td>\n",
       "      <td>Unprovoked</td>\n",
       "      <td>AUSTRALIA</td>\n",
       "      <td>Victoria</td>\n",
       "      <td>Bells Beach</td>\n",
       "      <td>Surfing</td>\n",
       "      <td>male</td>\n",
       "      <td>M</td>\n",
       "      <td>...</td>\n",
       "      <td>N</td>\n",
       "      <td>NaN</td>\n",
       "      <td>2 m shark</td>\n",
       "      <td>The Age, 9/16/2016</td>\n",
       "      <td>2016.09.16-BellsBeach.pdf</td>\n",
       "      <td>http://sharkattackfile.net/spreadsheets/pdf_di...</td>\n",
       "      <td>http://sharkattackfile.net/spreadsheets/pdf_di...</td>\n",
       "      <td>2016.09.16</td>\n",
       "      <td>2016.09.15</td>\n",
       "      <td>5989</td>\n",
       "    </tr>\n",
       "  </tbody>\n",
       "</table>\n",
       "<p>5 rows × 22 columns</p>\n",
       "</div>"
      ],
      "text/plain": [
       "    case_number       date  year        type    country      area  \\\n",
       "0  2016.09.18.c  18-Sep-16  2016  Unprovoked        USA   Florida   \n",
       "1  2016.09.18.b  18-Sep-16  2016  Unprovoked        USA   Florida   \n",
       "2  2016.09.18.a  18-Sep-16  2016  Unprovoked        USA   Florida   \n",
       "3    2016.09.17  17-Sep-16  2016  Unprovoked  AUSTRALIA  Victoria   \n",
       "4    2016.09.15  16-Sep-16  2016  Unprovoked  AUSTRALIA  Victoria   \n",
       "\n",
       "                           location activity             name sex  ...  \\\n",
       "0  New Smyrna Beach, Volusia County  Surfing             male   M  ...   \n",
       "1  New Smyrna Beach, Volusia County  Surfing   Chucky Luciano   M  ...   \n",
       "2  New Smyrna Beach, Volusia County  Surfing             male   M  ...   \n",
       "3                  Thirteenth Beach  Surfing  Rory Angiolella   M  ...   \n",
       "4                       Bells Beach  Surfing             male   M  ...   \n",
       "\n",
       "  fatal_y-n   time    species       investigator_or_source  \\\n",
       "0         N  13h00        NaN  Orlando Sentinel, 9/19/2016   \n",
       "1         N  11h00        NaN  Orlando Sentinel, 9/19/2016   \n",
       "2         N  10h43        NaN  Orlando Sentinel, 9/19/2016   \n",
       "3         N    NaN        NaN           The Age, 9/18/2016   \n",
       "4         N    NaN  2 m shark           The Age, 9/16/2016   \n",
       "\n",
       "                         pdf  \\\n",
       "0       2016.09.18.c-NSB.pdf   \n",
       "1   2016.09.18.b-Luciano.pdf   \n",
       "2       2016.09.18.a-NSB.pdf   \n",
       "3  2016.09.17-Angiolella.pdf   \n",
       "4  2016.09.16-BellsBeach.pdf   \n",
       "\n",
       "                                        href_formula  \\\n",
       "0  http://sharkattackfile.net/spreadsheets/pdf_di...   \n",
       "1  http://sharkattackfile.net/spreadsheets/pdf_di...   \n",
       "2  http://sharkattackfile.net/spreadsheets/pdf_di...   \n",
       "3  http://sharkattackfile.net/spreadsheets/pdf_di...   \n",
       "4  http://sharkattackfile.net/spreadsheets/pdf_di...   \n",
       "\n",
       "                                                href case_number.1  \\\n",
       "0  http://sharkattackfile.net/spreadsheets/pdf_di...  2016.09.18.c   \n",
       "1  http://sharkattackfile.net/spreadsheets/pdf_di...  2016.09.18.b   \n",
       "2  http://sharkattackfile.net/spreadsheets/pdf_di...  2016.09.18.a   \n",
       "3  http://sharkattackfile.net/spreadsheets/pdf_di...    2016.09.17   \n",
       "4  http://sharkattackfile.net/spreadsheets/pdf_di...    2016.09.16   \n",
       "\n",
       "  case_number.2 original_order  \n",
       "0  2016.09.18.c           5993  \n",
       "1  2016.09.18.b           5992  \n",
       "2  2016.09.18.a           5991  \n",
       "3    2016.09.17           5990  \n",
       "4    2016.09.15           5989  \n",
       "\n",
       "[5 rows x 22 columns]"
      ]
     },
     "execution_count": 12,
     "metadata": {},
     "output_type": "execute_result"
    }
   ],
   "source": [
    "cols_to_drop = ['unnamed_22', 'unnamed_23']\n",
    "raw_data.drop(cols_to_drop, axis=1, inplace=True)  \n",
    "# Se utiliza el parámetro 'inplace' para que la eliminación de la columna se efectúe de inmediato. Así se evita la \n",
    "# asignación a un nuevo dataframe.\n",
    "raw_data.head()"
   ]
  },
  {
   "cell_type": "markdown",
   "metadata": {},
   "source": [
    "### Aparente repetición de columnas: 'case_number', 'case_number.1' y 'case_number.2'. Los nombres son similares y el número de registros idéntico (en una hoja de cálculo se ve claramente  que son columnas duplicadas)"
   ]
  },
  {
   "cell_type": "markdown",
   "metadata": {},
   "source": [
    "### Comprobación 1: 'case_number' y 'case_number.1'"
   ]
  },
  {
   "cell_type": "code",
   "execution_count": 13,
   "metadata": {},
   "outputs": [
    {
     "data": {
      "text/html": [
       "<div>\n",
       "<style scoped>\n",
       "    .dataframe tbody tr th:only-of-type {\n",
       "        vertical-align: middle;\n",
       "    }\n",
       "\n",
       "    .dataframe tbody tr th {\n",
       "        vertical-align: top;\n",
       "    }\n",
       "\n",
       "    .dataframe thead th {\n",
       "        text-align: right;\n",
       "    }\n",
       "</style>\n",
       "<table border=\"1\" class=\"dataframe\">\n",
       "  <thead>\n",
       "    <tr style=\"text-align: right;\">\n",
       "      <th></th>\n",
       "      <th>case_number</th>\n",
       "      <th>case_number.1</th>\n",
       "    </tr>\n",
       "  </thead>\n",
       "  <tbody>\n",
       "    <tr>\n",
       "      <th>0</th>\n",
       "      <td>2016.09.18.c</td>\n",
       "      <td>2016.09.18.c</td>\n",
       "    </tr>\n",
       "    <tr>\n",
       "      <th>1</th>\n",
       "      <td>2016.09.18.b</td>\n",
       "      <td>2016.09.18.b</td>\n",
       "    </tr>\n",
       "    <tr>\n",
       "      <th>2</th>\n",
       "      <td>2016.09.18.a</td>\n",
       "      <td>2016.09.18.a</td>\n",
       "    </tr>\n",
       "    <tr>\n",
       "      <th>3</th>\n",
       "      <td>2016.09.17</td>\n",
       "      <td>2016.09.17</td>\n",
       "    </tr>\n",
       "    <tr>\n",
       "      <th>4</th>\n",
       "      <td>2016.09.15</td>\n",
       "      <td>2016.09.16</td>\n",
       "    </tr>\n",
       "  </tbody>\n",
       "</table>\n",
       "</div>"
      ],
      "text/plain": [
       "    case_number case_number.1\n",
       "0  2016.09.18.c  2016.09.18.c\n",
       "1  2016.09.18.b  2016.09.18.b\n",
       "2  2016.09.18.a  2016.09.18.a\n",
       "3    2016.09.17    2016.09.17\n",
       "4    2016.09.15    2016.09.16"
      ]
     },
     "execution_count": 13,
     "metadata": {},
     "output_type": "execute_result"
    }
   ],
   "source": [
    "raw_data.loc[:, ['case_number', 'case_number.1']].head()"
   ]
  },
  {
   "cell_type": "code",
   "execution_count": 14,
   "metadata": {},
   "outputs": [
    {
     "name": "stdout",
     "output_type": "stream",
     "text": [
      "Las columnas son muy parecidas, se borra \"case_number.1\"\n"
     ]
    }
   ],
   "source": [
    "same_cols = []\n",
    "for col in raw_data:\n",
    "    if ['case_number'] != ['case_number.1']:\n",
    "        same_cols.append(1)\n",
    "if sum(same_cols) == len('case_number') == len('case_number.1'):\n",
    "    print('\"case_number\" y \"case_number.1\" son columnas idénticas, se borra \"case_number.1\"')\n",
    "    raw_data.drop(['case_number.1'], axis=1, inplace=True)\n",
    "elif sum(same_cols) / len(['case_number']) > 0.80 and sum(same_cols) / len(['case_number.1']) > 0.80:  # coincidencia del 80%\n",
    "    print('Las columnas son muy parecidas, se borra \"case_number.1\"')\n",
    "    raw_data.drop(['case_number.1'], axis=1, inplace=True)\n",
    "else:\n",
    "    print('Las columnas no son similares, ninguna acción a realizar')\n"
   ]
  },
  {
   "cell_type": "code",
   "execution_count": 15,
   "metadata": {},
   "outputs": [],
   "source": [
    "# Creé una función para esa tarea, pero salta error al aplicarla al dataframe\n",
    "def similar_cols(col1, col2):\n",
    "    same_cols = []\n",
    "    for col in raw_data:\n",
    "        if col1 != col2:\n",
    "            same_cols.append(1)\n",
    "    if sum(same_cols) == len(col1) == len(col2):\n",
    "        print('{} y {} son columnas idénticas'.format(col1, col2))\n",
    "        raw_data.drop(col1, axis=1, inplace=True)\n",
    "    elif sum(same_cols) / len(col1) > 0.80 and sum(same_cols) / len(col2) > 0.80:  # coincidencia del 80%\n",
    "        print('Las columnas son muy parecidas')\n",
    "        raw_data.drop(col1, axis=1, inplace=True)\n",
    "    else:\n",
    "        print('Las columnas no son similares, ninguna acción a realizar')"
   ]
  },
  {
   "cell_type": "code",
   "execution_count": 16,
   "metadata": {},
   "outputs": [],
   "source": [
    "#raw_data.loc[:,['case_number', 'case;number.1']].apply(similar_cols(raw_data['case_number'], raw_data['case_number.1'])\\\n",
    "#                                                                                                               , axis=1)\n",
    "\n",
    "# ValueError: The truth value of a Series is ambiguous. Use a.empty, a.bool(), a.item(), a.any() or a.all()."
   ]
  },
  {
   "cell_type": "markdown",
   "metadata": {},
   "source": [
    "### Comprobación 2: 'case_number' y 'case_number.2'"
   ]
  },
  {
   "cell_type": "code",
   "execution_count": 17,
   "metadata": {},
   "outputs": [],
   "source": [
    "# Caso igual que el anterior. Se borra 'case_number.2'\n",
    "raw_data.drop(['case_number.2'], axis=1, inplace=True)"
   ]
  },
  {
   "cell_type": "markdown",
   "metadata": {},
   "source": [
    "### Aparente repetición de columnas: 'href formula' y 'href'. Los nombres son similares y el número de registros casi idéntico. "
   ]
  },
  {
   "cell_type": "code",
   "execution_count": 18,
   "metadata": {},
   "outputs": [],
   "source": [
    "# Caso igual que el anterior. Se borra 'href'\n",
    "raw_data.drop(['href'], axis=1, inplace=True)"
   ]
  },
  {
   "cell_type": "markdown",
   "metadata": {},
   "source": [
    "### Aparente repetición de columnas: 'pdf' y 'href'. Contienen la misma información "
   ]
  },
  {
   "cell_type": "code",
   "execution_count": 19,
   "metadata": {},
   "outputs": [],
   "source": [
    "# Caso igual que el anterior. Se borra 'pdf'\n",
    "raw_data.drop(['pdf'], axis=1, inplace=True)"
   ]
  },
  {
   "cell_type": "markdown",
   "metadata": {},
   "source": [
    "### El dataframe queda así:"
   ]
  },
  {
   "cell_type": "code",
   "execution_count": 20,
   "metadata": {},
   "outputs": [
    {
     "data": {
      "text/html": [
       "<div>\n",
       "<style scoped>\n",
       "    .dataframe tbody tr th:only-of-type {\n",
       "        vertical-align: middle;\n",
       "    }\n",
       "\n",
       "    .dataframe tbody tr th {\n",
       "        vertical-align: top;\n",
       "    }\n",
       "\n",
       "    .dataframe thead th {\n",
       "        text-align: right;\n",
       "    }\n",
       "</style>\n",
       "<table border=\"1\" class=\"dataframe\">\n",
       "  <thead>\n",
       "    <tr style=\"text-align: right;\">\n",
       "      <th></th>\n",
       "      <th>case_number</th>\n",
       "      <th>date</th>\n",
       "      <th>year</th>\n",
       "      <th>country</th>\n",
       "      <th>area</th>\n",
       "      <th>location</th>\n",
       "    </tr>\n",
       "  </thead>\n",
       "  <tbody>\n",
       "    <tr>\n",
       "      <th>0</th>\n",
       "      <td>2016.09.18.c</td>\n",
       "      <td>18-Sep-16</td>\n",
       "      <td>2016</td>\n",
       "      <td>USA</td>\n",
       "      <td>Florida</td>\n",
       "      <td>New Smyrna Beach, Volusia County</td>\n",
       "    </tr>\n",
       "    <tr>\n",
       "      <th>1</th>\n",
       "      <td>2016.09.18.b</td>\n",
       "      <td>18-Sep-16</td>\n",
       "      <td>2016</td>\n",
       "      <td>USA</td>\n",
       "      <td>Florida</td>\n",
       "      <td>New Smyrna Beach, Volusia County</td>\n",
       "    </tr>\n",
       "    <tr>\n",
       "      <th>2</th>\n",
       "      <td>2016.09.18.a</td>\n",
       "      <td>18-Sep-16</td>\n",
       "      <td>2016</td>\n",
       "      <td>USA</td>\n",
       "      <td>Florida</td>\n",
       "      <td>New Smyrna Beach, Volusia County</td>\n",
       "    </tr>\n",
       "    <tr>\n",
       "      <th>3</th>\n",
       "      <td>2016.09.17</td>\n",
       "      <td>17-Sep-16</td>\n",
       "      <td>2016</td>\n",
       "      <td>AUSTRALIA</td>\n",
       "      <td>Victoria</td>\n",
       "      <td>Thirteenth Beach</td>\n",
       "    </tr>\n",
       "    <tr>\n",
       "      <th>4</th>\n",
       "      <td>2016.09.15</td>\n",
       "      <td>16-Sep-16</td>\n",
       "      <td>2016</td>\n",
       "      <td>AUSTRALIA</td>\n",
       "      <td>Victoria</td>\n",
       "      <td>Bells Beach</td>\n",
       "    </tr>\n",
       "  </tbody>\n",
       "</table>\n",
       "</div>"
      ],
      "text/plain": [
       "    case_number       date  year    country      area  \\\n",
       "0  2016.09.18.c  18-Sep-16  2016        USA   Florida   \n",
       "1  2016.09.18.b  18-Sep-16  2016        USA   Florida   \n",
       "2  2016.09.18.a  18-Sep-16  2016        USA   Florida   \n",
       "3    2016.09.17  17-Sep-16  2016  AUSTRALIA  Victoria   \n",
       "4    2016.09.15  16-Sep-16  2016  AUSTRALIA  Victoria   \n",
       "\n",
       "                           location  \n",
       "0  New Smyrna Beach, Volusia County  \n",
       "1  New Smyrna Beach, Volusia County  \n",
       "2  New Smyrna Beach, Volusia County  \n",
       "3                  Thirteenth Beach  \n",
       "4                       Bells Beach  "
      ]
     },
     "execution_count": 20,
     "metadata": {},
     "output_type": "execute_result"
    }
   ],
   "source": [
    "columns = ['case_number', 'date', 'year','country', 'area', 'location']\n",
    "data = raw_data[columns]\n",
    "data.head()"
   ]
  },
  {
   "cell_type": "code",
   "execution_count": 21,
   "metadata": {},
   "outputs": [
    {
     "data": {
      "text/plain": [
       "<bound method NDFrame.head of 0                                               18-Sep-16\n",
       "1                                               18-Sep-16\n",
       "2                                               18-Sep-16\n",
       "3                                               17-Sep-16\n",
       "4                                               16-Sep-16\n",
       "5                                               15-Sep-16\n",
       "6                                               11-Sep-16\n",
       "7                                               07-Sep-16\n",
       "8                                               06-Sep-16\n",
       "9                                               05-Sep-16\n",
       "10                                              05-Sep-16\n",
       "11                                              04-Sep-16\n",
       "12                                              01-Sep-16\n",
       "13                                              29-Aug-16\n",
       "14                                              29-Aug-16\n",
       "15                                              27-Aug-16\n",
       "16                                              25-Aug-16\n",
       "17                                              07-Aug-16\n",
       "18                                              06-Aug-16\n",
       "19                                              04-Aug-16\n",
       "20                                              29-Jul-16\n",
       "21                                              28-Jul-16\n",
       "22                                              28-Jul-16\n",
       "23                                              27-Jul-16\n",
       "24                                              26-Jul-16\n",
       "25                                              24-Jul-16\n",
       "26                                              23-Jul-16\n",
       "27                                              23-Jul-16\n",
       "28                                              20-Jul-16\n",
       "29                                              17-Jul-16\n",
       "                              ...                        \n",
       "5962                                         World War II\n",
       "5963                                          Before 1905\n",
       "5964                              A few years before 1938\n",
       "5965                                              No date\n",
       "5966                                          Early 1930s\n",
       "5967                                          Before 1927\n",
       "5968                                  Between 1918 & 1939\n",
       "5969                                              No date\n",
       "5970                                              No date\n",
       "5971                                              No date\n",
       "5972                                           1920 -1923\n",
       "5973                                          Before 1921\n",
       "5974                                          Before 1911\n",
       "5975                                          Before 1921\n",
       "5976                                          Before 1921\n",
       "5977                                          Before 1917\n",
       "5978                          Before          17-Jul-1916\n",
       "5979    No date (3 days after preceding incident) & pr...\n",
       "5980                          Before          19-Jul-1913\n",
       "5981                                          Before 1911\n",
       "5982                                           Circa 1862\n",
       "5983                                          Before 1906\n",
       "5984                                          Before 1906\n",
       "5985                                          Before 1906\n",
       "5986                                          Before 1906\n",
       "5987                                          Before 1903\n",
       "5988                                          Before 1903\n",
       "5989                                            1900-1905\n",
       "5990                                            1883-1889\n",
       "5991                                            1845-1853\n",
       "Name: date, Length: 5992, dtype: object>"
      ]
     },
     "execution_count": 21,
     "metadata": {},
     "output_type": "execute_result"
    }
   ],
   "source": [
    "raw_data['date'].head"
   ]
  },
  {
   "cell_type": "code",
   "execution_count": null,
   "metadata": {},
   "outputs": [],
   "source": []
  },
  {
   "cell_type": "markdown",
   "metadata": {},
   "source": [
    "# MISSING VALUES"
   ]
  },
  {
   "cell_type": "markdown",
   "metadata": {},
   "source": [
    "### Función que muestra el porcentaje de missing values por columnas"
   ]
  },
  {
   "cell_type": "code",
   "execution_count": null,
   "metadata": {},
   "outputs": [],
   "source": [
    "def calculate_missing_pct(dataframe):   \n",
    "    # devuelve el número de registros del dataframe:\n",
    "    total_values = dataframe.count() \n",
    "    # número de valores nulos por columna. Valores nulos valen 0, no nulos valen 1. sum() suma los unos:\n",
    "    missing_values = dataframe.isnull().sum() \n",
    "    # valores nulos por columnas respecto al total de registros, en orden descendiente:\n",
    "    missing_pct = (missing_values / total_values * 100).sort_values(0, ascending=False)    \n",
    "    return missing_pct  \n",
    "\n",
    "calculate_missing_pct(raw_data)"
   ]
  },
  {
   "cell_type": "code",
   "execution_count": null,
   "metadata": {},
   "outputs": [],
   "source": [
    "# El porcentaje de valores nulos de las columnas 'time', 'species y 'age' resulta muy llamativo.\n",
    "# Vale la pena realizar un análisis de cada caso.\n",
    "# Se tendrá en cuenta, además la idoneidad del tipo de datos para cada columna."
   ]
  },
  {
   "cell_type": "code",
   "execution_count": null,
   "metadata": {},
   "outputs": [],
   "source": [
    "raw_data.dtypes"
   ]
  }
 ],
 "metadata": {
  "kernelspec": {
   "display_name": "Python 3",
   "language": "python",
   "name": "python3"
  },
  "language_info": {
   "codemirror_mode": {
    "name": "ipython",
    "version": 3
   },
   "file_extension": ".py",
   "mimetype": "text/x-python",
   "name": "python",
   "nbconvert_exporter": "python",
   "pygments_lexer": "ipython3",
   "version": "3.5.2"
  }
 },
 "nbformat": 4,
 "nbformat_minor": 2
}
