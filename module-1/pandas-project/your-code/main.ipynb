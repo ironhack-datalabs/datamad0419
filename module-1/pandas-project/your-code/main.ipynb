{
 "cells": [
  {
   "cell_type": "markdown",
   "metadata": {},
   "source": [
    "## Ataques de tiburones:\n",
    "Vamos a determinar el número de ataques distribuidos por decada a partir del año 1900 y contabilizando el tipo de ataques\n",
    "y si estos han sido fatales.\n",
    "Ver que meses son los más peligrosos y sexo etc\n"
   ]
  },
  {
   "cell_type": "code",
   "execution_count": 1,
   "metadata": {},
   "outputs": [],
   "source": [
    "import pandas as pd\n",
    "import numpy as np\n",
    "import re\n",
    "import matplotlib.pyplot as plt"
   ]
  },
  {
   "cell_type": "markdown",
   "metadata": {},
   "source": [
    "**Se ha de añadir la codificación para obtener los datos correctamente del csv. (ISO-8859-1)**"
   ]
  },
  {
   "cell_type": "code",
   "execution_count": 2,
   "metadata": {},
   "outputs": [
    {
     "data": {
      "text/html": [
       "<div>\n",
       "<style scoped>\n",
       "    .dataframe tbody tr th:only-of-type {\n",
       "        vertical-align: middle;\n",
       "    }\n",
       "\n",
       "    .dataframe tbody tr th {\n",
       "        vertical-align: top;\n",
       "    }\n",
       "\n",
       "    .dataframe thead th {\n",
       "        text-align: right;\n",
       "    }\n",
       "</style>\n",
       "<table border=\"1\" class=\"dataframe\">\n",
       "  <thead>\n",
       "    <tr style=\"text-align: right;\">\n",
       "      <th></th>\n",
       "      <th>Case Number</th>\n",
       "      <th>Date</th>\n",
       "      <th>Year</th>\n",
       "      <th>Type</th>\n",
       "      <th>Country</th>\n",
       "      <th>Area</th>\n",
       "      <th>Location</th>\n",
       "      <th>Activity</th>\n",
       "      <th>Name</th>\n",
       "      <th>Sex</th>\n",
       "      <th>...</th>\n",
       "      <th>Species</th>\n",
       "      <th>Investigator or Source</th>\n",
       "      <th>pdf</th>\n",
       "      <th>href formula</th>\n",
       "      <th>href</th>\n",
       "      <th>Case Number.1</th>\n",
       "      <th>Case Number.2</th>\n",
       "      <th>original order</th>\n",
       "      <th>Unnamed: 22</th>\n",
       "      <th>Unnamed: 23</th>\n",
       "    </tr>\n",
       "  </thead>\n",
       "  <tbody>\n",
       "    <tr>\n",
       "      <th>0</th>\n",
       "      <td>2016.09.18.c</td>\n",
       "      <td>18-Sep-16</td>\n",
       "      <td>2016</td>\n",
       "      <td>Unprovoked</td>\n",
       "      <td>USA</td>\n",
       "      <td>Florida</td>\n",
       "      <td>New Smyrna Beach, Volusia County</td>\n",
       "      <td>Surfing</td>\n",
       "      <td>male</td>\n",
       "      <td>M</td>\n",
       "      <td>...</td>\n",
       "      <td>NaN</td>\n",
       "      <td>Orlando Sentinel, 9/19/2016</td>\n",
       "      <td>2016.09.18.c-NSB.pdf</td>\n",
       "      <td>http://sharkattackfile.net/spreadsheets/pdf_di...</td>\n",
       "      <td>http://sharkattackfile.net/spreadsheets/pdf_di...</td>\n",
       "      <td>2016.09.18.c</td>\n",
       "      <td>2016.09.18.c</td>\n",
       "      <td>5993</td>\n",
       "      <td>NaN</td>\n",
       "      <td>NaN</td>\n",
       "    </tr>\n",
       "    <tr>\n",
       "      <th>1</th>\n",
       "      <td>2016.09.18.b</td>\n",
       "      <td>18-Sep-16</td>\n",
       "      <td>2016</td>\n",
       "      <td>Unprovoked</td>\n",
       "      <td>USA</td>\n",
       "      <td>Florida</td>\n",
       "      <td>New Smyrna Beach, Volusia County</td>\n",
       "      <td>Surfing</td>\n",
       "      <td>Chucky Luciano</td>\n",
       "      <td>M</td>\n",
       "      <td>...</td>\n",
       "      <td>NaN</td>\n",
       "      <td>Orlando Sentinel, 9/19/2016</td>\n",
       "      <td>2016.09.18.b-Luciano.pdf</td>\n",
       "      <td>http://sharkattackfile.net/spreadsheets/pdf_di...</td>\n",
       "      <td>http://sharkattackfile.net/spreadsheets/pdf_di...</td>\n",
       "      <td>2016.09.18.b</td>\n",
       "      <td>2016.09.18.b</td>\n",
       "      <td>5992</td>\n",
       "      <td>NaN</td>\n",
       "      <td>NaN</td>\n",
       "    </tr>\n",
       "    <tr>\n",
       "      <th>2</th>\n",
       "      <td>2016.09.18.a</td>\n",
       "      <td>18-Sep-16</td>\n",
       "      <td>2016</td>\n",
       "      <td>Unprovoked</td>\n",
       "      <td>USA</td>\n",
       "      <td>Florida</td>\n",
       "      <td>New Smyrna Beach, Volusia County</td>\n",
       "      <td>Surfing</td>\n",
       "      <td>male</td>\n",
       "      <td>M</td>\n",
       "      <td>...</td>\n",
       "      <td>NaN</td>\n",
       "      <td>Orlando Sentinel, 9/19/2016</td>\n",
       "      <td>2016.09.18.a-NSB.pdf</td>\n",
       "      <td>http://sharkattackfile.net/spreadsheets/pdf_di...</td>\n",
       "      <td>http://sharkattackfile.net/spreadsheets/pdf_di...</td>\n",
       "      <td>2016.09.18.a</td>\n",
       "      <td>2016.09.18.a</td>\n",
       "      <td>5991</td>\n",
       "      <td>NaN</td>\n",
       "      <td>NaN</td>\n",
       "    </tr>\n",
       "    <tr>\n",
       "      <th>3</th>\n",
       "      <td>2016.09.17</td>\n",
       "      <td>17-Sep-16</td>\n",
       "      <td>2016</td>\n",
       "      <td>Unprovoked</td>\n",
       "      <td>AUSTRALIA</td>\n",
       "      <td>Victoria</td>\n",
       "      <td>Thirteenth Beach</td>\n",
       "      <td>Surfing</td>\n",
       "      <td>Rory Angiolella</td>\n",
       "      <td>M</td>\n",
       "      <td>...</td>\n",
       "      <td>NaN</td>\n",
       "      <td>The Age, 9/18/2016</td>\n",
       "      <td>2016.09.17-Angiolella.pdf</td>\n",
       "      <td>http://sharkattackfile.net/spreadsheets/pdf_di...</td>\n",
       "      <td>http://sharkattackfile.net/spreadsheets/pdf_di...</td>\n",
       "      <td>2016.09.17</td>\n",
       "      <td>2016.09.17</td>\n",
       "      <td>5990</td>\n",
       "      <td>NaN</td>\n",
       "      <td>NaN</td>\n",
       "    </tr>\n",
       "    <tr>\n",
       "      <th>4</th>\n",
       "      <td>2016.09.15</td>\n",
       "      <td>16-Sep-16</td>\n",
       "      <td>2016</td>\n",
       "      <td>Unprovoked</td>\n",
       "      <td>AUSTRALIA</td>\n",
       "      <td>Victoria</td>\n",
       "      <td>Bells Beach</td>\n",
       "      <td>Surfing</td>\n",
       "      <td>male</td>\n",
       "      <td>M</td>\n",
       "      <td>...</td>\n",
       "      <td>2 m shark</td>\n",
       "      <td>The Age, 9/16/2016</td>\n",
       "      <td>2016.09.16-BellsBeach.pdf</td>\n",
       "      <td>http://sharkattackfile.net/spreadsheets/pdf_di...</td>\n",
       "      <td>http://sharkattackfile.net/spreadsheets/pdf_di...</td>\n",
       "      <td>2016.09.16</td>\n",
       "      <td>2016.09.15</td>\n",
       "      <td>5989</td>\n",
       "      <td>NaN</td>\n",
       "      <td>NaN</td>\n",
       "    </tr>\n",
       "  </tbody>\n",
       "</table>\n",
       "<p>5 rows × 24 columns</p>\n",
       "</div>"
      ],
      "text/plain": [
       "    Case Number       Date  Year        Type    Country      Area  \\\n",
       "0  2016.09.18.c  18-Sep-16  2016  Unprovoked        USA   Florida   \n",
       "1  2016.09.18.b  18-Sep-16  2016  Unprovoked        USA   Florida   \n",
       "2  2016.09.18.a  18-Sep-16  2016  Unprovoked        USA   Florida   \n",
       "3    2016.09.17  17-Sep-16  2016  Unprovoked  AUSTRALIA  Victoria   \n",
       "4    2016.09.15  16-Sep-16  2016  Unprovoked  AUSTRALIA  Victoria   \n",
       "\n",
       "                           Location Activity             Name Sex   ...  \\\n",
       "0  New Smyrna Beach, Volusia County  Surfing             male    M  ...   \n",
       "1  New Smyrna Beach, Volusia County  Surfing   Chucky Luciano    M  ...   \n",
       "2  New Smyrna Beach, Volusia County  Surfing             male    M  ...   \n",
       "3                  Thirteenth Beach  Surfing  Rory Angiolella    M  ...   \n",
       "4                       Bells Beach  Surfing             male    M  ...   \n",
       "\n",
       "    Species        Investigator or Source                        pdf  \\\n",
       "0        NaN  Orlando Sentinel, 9/19/2016       2016.09.18.c-NSB.pdf   \n",
       "1        NaN  Orlando Sentinel, 9/19/2016   2016.09.18.b-Luciano.pdf   \n",
       "2        NaN  Orlando Sentinel, 9/19/2016       2016.09.18.a-NSB.pdf   \n",
       "3        NaN           The Age, 9/18/2016  2016.09.17-Angiolella.pdf   \n",
       "4  2 m shark           The Age, 9/16/2016  2016.09.16-BellsBeach.pdf   \n",
       "\n",
       "                                        href formula  \\\n",
       "0  http://sharkattackfile.net/spreadsheets/pdf_di...   \n",
       "1  http://sharkattackfile.net/spreadsheets/pdf_di...   \n",
       "2  http://sharkattackfile.net/spreadsheets/pdf_di...   \n",
       "3  http://sharkattackfile.net/spreadsheets/pdf_di...   \n",
       "4  http://sharkattackfile.net/spreadsheets/pdf_di...   \n",
       "\n",
       "                                                href Case Number.1  \\\n",
       "0  http://sharkattackfile.net/spreadsheets/pdf_di...  2016.09.18.c   \n",
       "1  http://sharkattackfile.net/spreadsheets/pdf_di...  2016.09.18.b   \n",
       "2  http://sharkattackfile.net/spreadsheets/pdf_di...  2016.09.18.a   \n",
       "3  http://sharkattackfile.net/spreadsheets/pdf_di...    2016.09.17   \n",
       "4  http://sharkattackfile.net/spreadsheets/pdf_di...    2016.09.16   \n",
       "\n",
       "  Case Number.2 original order Unnamed: 22 Unnamed: 23  \n",
       "0  2016.09.18.c           5993         NaN         NaN  \n",
       "1  2016.09.18.b           5992         NaN         NaN  \n",
       "2  2016.09.18.a           5991         NaN         NaN  \n",
       "3    2016.09.17           5990         NaN         NaN  \n",
       "4    2016.09.15           5989         NaN         NaN  \n",
       "\n",
       "[5 rows x 24 columns]"
      ]
     },
     "execution_count": 2,
     "metadata": {},
     "output_type": "execute_result"
    }
   ],
   "source": [
    "data = pd.read_csv('./data/GSAF5.csv', encoding='ISO-8859-1')\n",
    "data.head()"
   ]
  },
  {
   "cell_type": "markdown",
   "metadata": {},
   "source": [
    "# Limpieza de datos\n",
    "Consultamos la información del dataframe, para ver los nombre de las columnas y los tipos de datos"
   ]
  },
  {
   "cell_type": "code",
   "execution_count": 3,
   "metadata": {},
   "outputs": [
    {
     "name": "stdout",
     "output_type": "stream",
     "text": [
      "<class 'pandas.core.frame.DataFrame'>\n",
      "RangeIndex: 5992 entries, 0 to 5991\n",
      "Data columns (total 24 columns):\n",
      "Case Number               5992 non-null object\n",
      "Date                      5992 non-null object\n",
      "Year                      5992 non-null int64\n",
      "Type                      5992 non-null object\n",
      "Country                   5949 non-null object\n",
      "Area                      5590 non-null object\n",
      "Location                  5496 non-null object\n",
      "Activity                  5465 non-null object\n",
      "Name                      5792 non-null object\n",
      "Sex                       5425 non-null object\n",
      "Age                       3311 non-null object\n",
      "Injury                    5965 non-null object\n",
      "Fatal (Y/N)               5973 non-null object\n",
      "Time                      2779 non-null object\n",
      "Species                   3058 non-null object\n",
      "Investigator or Source    5977 non-null object\n",
      "pdf                       5992 non-null object\n",
      "href formula              5991 non-null object\n",
      "href                      5989 non-null object\n",
      "Case Number.1             5992 non-null object\n",
      "Case Number.2             5992 non-null object\n",
      "original order            5992 non-null int64\n",
      "Unnamed: 22               1 non-null object\n",
      "Unnamed: 23               2 non-null object\n",
      "dtypes: int64(2), object(22)\n",
      "memory usage: 1.1+ MB\n",
      "None\n"
     ]
    }
   ],
   "source": [
    "print(data.info())"
   ]
  },
  {
   "cell_type": "markdown",
   "metadata": {},
   "source": [
    "**Análisis de los valores nulos para decidir que columnas eliminar**"
   ]
  },
  {
   "cell_type": "code",
   "execution_count": 4,
   "metadata": {},
   "outputs": [
    {
     "name": "stdout",
     "output_type": "stream",
     "text": [
      "Country                     43\n",
      "Area                       402\n",
      "Location                   496\n",
      "Activity                   527\n",
      "Name                       200\n",
      "Sex                        567\n",
      "Age                       2681\n",
      "Injury                      27\n",
      "Fatal (Y/N)                 19\n",
      "Time                      3213\n",
      "Species                   2934\n",
      "Investigator or Source      15\n",
      "href formula                 1\n",
      "href                         3\n",
      "Unnamed: 22               5991\n",
      "Unnamed: 23               5990\n",
      "dtype: int64\n"
     ]
    }
   ],
   "source": [
    "#He creado una función para poder reutilizarla posteriormente\n",
    "def nulos(dataframe):\n",
    "    null_cols = dataframe.isnull().sum()\n",
    "    print(null_cols[null_cols > 0])\n",
    "    return null_cols\n",
    "\n",
    "null_cols = nulos(data)"
   ]
  },
  {
   "cell_type": "markdown",
   "metadata": {},
   "source": [
    "**Eliminación de las columnas con demasiados nulos y las que no vamos a utilizar en el análisis**"
   ]
  },
  {
   "cell_type": "code",
   "execution_count": 5,
   "metadata": {},
   "outputs": [],
   "source": [
    "#Eliminio las columnas que tienen más de 3000 registros nulos ya que son más del 50% de los registros  \n",
    "drop_cols = list(null_cols[null_cols > 3000].index)\n",
    "nueva_data = data.drop(drop_cols, axis=1)\n"
   ]
  },
  {
   "cell_type": "code",
   "execution_count": 6,
   "metadata": {},
   "outputs": [
    {
     "data": {
      "text/html": [
       "<div>\n",
       "<style scoped>\n",
       "    .dataframe tbody tr th:only-of-type {\n",
       "        vertical-align: middle;\n",
       "    }\n",
       "\n",
       "    .dataframe tbody tr th {\n",
       "        vertical-align: top;\n",
       "    }\n",
       "\n",
       "    .dataframe thead th {\n",
       "        text-align: right;\n",
       "    }\n",
       "</style>\n",
       "<table border=\"1\" class=\"dataframe\">\n",
       "  <thead>\n",
       "    <tr style=\"text-align: right;\">\n",
       "      <th></th>\n",
       "      <th>Case Number</th>\n",
       "      <th>Year</th>\n",
       "      <th>Type</th>\n",
       "      <th>Country</th>\n",
       "      <th>Sex</th>\n",
       "      <th>Fatal (Y/N)</th>\n",
       "    </tr>\n",
       "  </thead>\n",
       "  <tbody>\n",
       "    <tr>\n",
       "      <th>0</th>\n",
       "      <td>2016.09.18.c</td>\n",
       "      <td>2016</td>\n",
       "      <td>Unprovoked</td>\n",
       "      <td>USA</td>\n",
       "      <td>M</td>\n",
       "      <td>N</td>\n",
       "    </tr>\n",
       "    <tr>\n",
       "      <th>1</th>\n",
       "      <td>2016.09.18.b</td>\n",
       "      <td>2016</td>\n",
       "      <td>Unprovoked</td>\n",
       "      <td>USA</td>\n",
       "      <td>M</td>\n",
       "      <td>N</td>\n",
       "    </tr>\n",
       "    <tr>\n",
       "      <th>2</th>\n",
       "      <td>2016.09.18.a</td>\n",
       "      <td>2016</td>\n",
       "      <td>Unprovoked</td>\n",
       "      <td>USA</td>\n",
       "      <td>M</td>\n",
       "      <td>N</td>\n",
       "    </tr>\n",
       "    <tr>\n",
       "      <th>3</th>\n",
       "      <td>2016.09.17</td>\n",
       "      <td>2016</td>\n",
       "      <td>Unprovoked</td>\n",
       "      <td>AUSTRALIA</td>\n",
       "      <td>M</td>\n",
       "      <td>N</td>\n",
       "    </tr>\n",
       "    <tr>\n",
       "      <th>4</th>\n",
       "      <td>2016.09.15</td>\n",
       "      <td>2016</td>\n",
       "      <td>Unprovoked</td>\n",
       "      <td>AUSTRALIA</td>\n",
       "      <td>M</td>\n",
       "      <td>N</td>\n",
       "    </tr>\n",
       "  </tbody>\n",
       "</table>\n",
       "</div>"
      ],
      "text/plain": [
       "    Case Number  Year        Type    Country Sex  Fatal (Y/N)\n",
       "0  2016.09.18.c  2016  Unprovoked        USA    M           N\n",
       "1  2016.09.18.b  2016  Unprovoked        USA    M           N\n",
       "2  2016.09.18.a  2016  Unprovoked        USA    M           N\n",
       "3    2016.09.17  2016  Unprovoked  AUSTRALIA    M           N\n",
       "4    2016.09.15  2016  Unprovoked  AUSTRALIA    M           N"
      ]
     },
     "metadata": {},
     "output_type": "display_data"
    },
    {
     "name": "stdout",
     "output_type": "stream",
     "text": [
      "(5992, 6)\n"
     ]
    }
   ],
   "source": [
    "#También eliminio otras columnas que no voy a utilizar\n",
    "nueva_data = nueva_data.drop(['Area', 'Location', 'Species ', 'Injury', 'Age', 'Activity', 'Name', 'Date', 'Investigator or Source', 'pdf', 'href formula', 'href', 'Case Number.1', 'Case Number.2', 'original order'], axis=1)\n",
    "display(nueva_data.head())\n",
    "print(nueva_data.shape)"
   ]
  },
  {
   "cell_type": "code",
   "execution_count": 7,
   "metadata": {},
   "outputs": [
    {
     "name": "stdout",
     "output_type": "stream",
     "text": [
      "Registros duplicados eliminados: 0\n"
     ]
    },
    {
     "data": {
      "text/html": [
       "<div>\n",
       "<style scoped>\n",
       "    .dataframe tbody tr th:only-of-type {\n",
       "        vertical-align: middle;\n",
       "    }\n",
       "\n",
       "    .dataframe tbody tr th {\n",
       "        vertical-align: top;\n",
       "    }\n",
       "\n",
       "    .dataframe thead th {\n",
       "        text-align: right;\n",
       "    }\n",
       "</style>\n",
       "<table border=\"1\" class=\"dataframe\">\n",
       "  <thead>\n",
       "    <tr style=\"text-align: right;\">\n",
       "      <th></th>\n",
       "    </tr>\n",
       "  </thead>\n",
       "  <tbody>\n",
       "    <tr>\n",
       "      <th>0</th>\n",
       "    </tr>\n",
       "    <tr>\n",
       "      <th>1</th>\n",
       "    </tr>\n",
       "    <tr>\n",
       "      <th>2</th>\n",
       "    </tr>\n",
       "    <tr>\n",
       "      <th>3</th>\n",
       "    </tr>\n",
       "    <tr>\n",
       "      <th>4</th>\n",
       "    </tr>\n",
       "    <tr>\n",
       "      <th>5</th>\n",
       "    </tr>\n",
       "    <tr>\n",
       "      <th>6</th>\n",
       "    </tr>\n",
       "    <tr>\n",
       "      <th>7</th>\n",
       "    </tr>\n",
       "    <tr>\n",
       "      <th>8</th>\n",
       "    </tr>\n",
       "    <tr>\n",
       "      <th>9</th>\n",
       "    </tr>\n",
       "    <tr>\n",
       "      <th>10</th>\n",
       "    </tr>\n",
       "    <tr>\n",
       "      <th>11</th>\n",
       "    </tr>\n",
       "    <tr>\n",
       "      <th>12</th>\n",
       "    </tr>\n",
       "    <tr>\n",
       "      <th>13</th>\n",
       "    </tr>\n",
       "    <tr>\n",
       "      <th>14</th>\n",
       "    </tr>\n",
       "    <tr>\n",
       "      <th>15</th>\n",
       "    </tr>\n",
       "    <tr>\n",
       "      <th>16</th>\n",
       "    </tr>\n",
       "    <tr>\n",
       "      <th>17</th>\n",
       "    </tr>\n",
       "    <tr>\n",
       "      <th>18</th>\n",
       "    </tr>\n",
       "    <tr>\n",
       "      <th>19</th>\n",
       "    </tr>\n",
       "    <tr>\n",
       "      <th>20</th>\n",
       "    </tr>\n",
       "    <tr>\n",
       "      <th>21</th>\n",
       "    </tr>\n",
       "    <tr>\n",
       "      <th>22</th>\n",
       "    </tr>\n",
       "    <tr>\n",
       "      <th>23</th>\n",
       "    </tr>\n",
       "    <tr>\n",
       "      <th>24</th>\n",
       "    </tr>\n",
       "    <tr>\n",
       "      <th>25</th>\n",
       "    </tr>\n",
       "    <tr>\n",
       "      <th>26</th>\n",
       "    </tr>\n",
       "    <tr>\n",
       "      <th>27</th>\n",
       "    </tr>\n",
       "    <tr>\n",
       "      <th>28</th>\n",
       "    </tr>\n",
       "    <tr>\n",
       "      <th>29</th>\n",
       "    </tr>\n",
       "    <tr>\n",
       "      <th>...</th>\n",
       "    </tr>\n",
       "    <tr>\n",
       "      <th>5962</th>\n",
       "    </tr>\n",
       "    <tr>\n",
       "      <th>5963</th>\n",
       "    </tr>\n",
       "    <tr>\n",
       "      <th>5964</th>\n",
       "    </tr>\n",
       "    <tr>\n",
       "      <th>5965</th>\n",
       "    </tr>\n",
       "    <tr>\n",
       "      <th>5966</th>\n",
       "    </tr>\n",
       "    <tr>\n",
       "      <th>5967</th>\n",
       "    </tr>\n",
       "    <tr>\n",
       "      <th>5968</th>\n",
       "    </tr>\n",
       "    <tr>\n",
       "      <th>5969</th>\n",
       "    </tr>\n",
       "    <tr>\n",
       "      <th>5970</th>\n",
       "    </tr>\n",
       "    <tr>\n",
       "      <th>5971</th>\n",
       "    </tr>\n",
       "    <tr>\n",
       "      <th>5972</th>\n",
       "    </tr>\n",
       "    <tr>\n",
       "      <th>5973</th>\n",
       "    </tr>\n",
       "    <tr>\n",
       "      <th>5974</th>\n",
       "    </tr>\n",
       "    <tr>\n",
       "      <th>5975</th>\n",
       "    </tr>\n",
       "    <tr>\n",
       "      <th>5976</th>\n",
       "    </tr>\n",
       "    <tr>\n",
       "      <th>5977</th>\n",
       "    </tr>\n",
       "    <tr>\n",
       "      <th>5978</th>\n",
       "    </tr>\n",
       "    <tr>\n",
       "      <th>5979</th>\n",
       "    </tr>\n",
       "    <tr>\n",
       "      <th>5980</th>\n",
       "    </tr>\n",
       "    <tr>\n",
       "      <th>5981</th>\n",
       "    </tr>\n",
       "    <tr>\n",
       "      <th>5982</th>\n",
       "    </tr>\n",
       "    <tr>\n",
       "      <th>5983</th>\n",
       "    </tr>\n",
       "    <tr>\n",
       "      <th>5984</th>\n",
       "    </tr>\n",
       "    <tr>\n",
       "      <th>5985</th>\n",
       "    </tr>\n",
       "    <tr>\n",
       "      <th>5986</th>\n",
       "    </tr>\n",
       "    <tr>\n",
       "      <th>5987</th>\n",
       "    </tr>\n",
       "    <tr>\n",
       "      <th>5988</th>\n",
       "    </tr>\n",
       "    <tr>\n",
       "      <th>5989</th>\n",
       "    </tr>\n",
       "    <tr>\n",
       "      <th>5990</th>\n",
       "    </tr>\n",
       "    <tr>\n",
       "      <th>5991</th>\n",
       "    </tr>\n",
       "  </tbody>\n",
       "</table>\n",
       "<p>5992 rows × 0 columns</p>\n",
       "</div>"
      ],
      "text/plain": [
       "Empty DataFrame\n",
       "Columns: []\n",
       "Index: [0, 1, 2, 3, 4, 5, 6, 7, 8, 9, 10, 11, 12, 13, 14, 15, 16, 17, 18, 19, 20, 21, 22, 23, 24, 25, 26, 27, 28, 29, 30, 31, 32, 33, 34, 35, 36, 37, 38, 39, 40, 41, 42, 43, 44, 45, 46, 47, 48, 49, 50, 51, 52, 53, 54, 55, 56, 57, 58, 59, 60, 61, 62, 63, 64, 65, 66, 67, 68, 69, 70, 71, 72, 73, 74, 75, 76, 77, 78, 79, 80, 81, 82, 83, 84, 85, 86, 87, 88, 89, 90, 91, 92, 93, 94, 95, 96, 97, 98, 99, ...]\n",
       "\n",
       "[5992 rows x 0 columns]"
      ]
     },
     "execution_count": 7,
     "metadata": {},
     "output_type": "execute_result"
    }
   ],
   "source": [
    "#Realizo una primera comprobación de registros duplicados\n",
    "def remover_duplicados(dataframe, columnas = []):\n",
    "    antes = len(dataframe)\n",
    "    dataframe = dataframe[columnas].drop_duplicates()\n",
    "    despues = len(dataframe)\n",
    "    total = antes - despues\n",
    "    print('Registros duplicados eliminados: {}'.format(total))\n",
    "    return dataframe\n",
    "\n",
    "remover_duplicados(data)"
   ]
  },
  {
   "cell_type": "code",
   "execution_count": 8,
   "metadata": {},
   "outputs": [
    {
     "name": "stdout",
     "output_type": "stream",
     "text": [
      "124\n"
     ]
    }
   ],
   "source": [
    "test = nueva_data[(nueva_data['Year'] == 0)] #valores incorrectos\n",
    "print(len(test))"
   ]
  },
  {
   "cell_type": "code",
   "execution_count": 9,
   "metadata": {},
   "outputs": [
    {
     "name": "stdout",
     "output_type": "stream",
     "text": [
      "Low Variance []\n"
     ]
    },
    {
     "data": {
      "text/html": [
       "<div>\n",
       "<style scoped>\n",
       "    .dataframe tbody tr th:only-of-type {\n",
       "        vertical-align: middle;\n",
       "    }\n",
       "\n",
       "    .dataframe tbody tr th {\n",
       "        vertical-align: top;\n",
       "    }\n",
       "\n",
       "    .dataframe thead th {\n",
       "        text-align: right;\n",
       "    }\n",
       "</style>\n",
       "<table border=\"1\" class=\"dataframe\">\n",
       "  <thead>\n",
       "    <tr style=\"text-align: right;\">\n",
       "      <th></th>\n",
       "      <th>count</th>\n",
       "      <th>mean</th>\n",
       "      <th>std</th>\n",
       "      <th>min</th>\n",
       "      <th>25%</th>\n",
       "      <th>50%</th>\n",
       "      <th>75%</th>\n",
       "      <th>max</th>\n",
       "      <th>IQR</th>\n",
       "    </tr>\n",
       "  </thead>\n",
       "  <tbody>\n",
       "    <tr>\n",
       "      <th>Year</th>\n",
       "      <td>5992.0</td>\n",
       "      <td>1925.204606</td>\n",
       "      <td>286.473712</td>\n",
       "      <td>0.0</td>\n",
       "      <td>1942.0</td>\n",
       "      <td>1975.0</td>\n",
       "      <td>2003.0</td>\n",
       "      <td>2016.0</td>\n",
       "      <td>61.0</td>\n",
       "    </tr>\n",
       "  </tbody>\n",
       "</table>\n",
       "</div>"
      ],
      "text/plain": [
       "       count         mean         std  min     25%     50%     75%     max  \\\n",
       "Year  5992.0  1925.204606  286.473712  0.0  1942.0  1975.0  2003.0  2016.0   \n",
       "\n",
       "       IQR  \n",
       "Year  61.0  "
      ]
     },
     "execution_count": 9,
     "metadata": {},
     "output_type": "execute_result"
    }
   ],
   "source": [
    "#Low variance y Valores extremos\n",
    "low_variance = []\n",
    "\n",
    "for col in nueva_data._get_numeric_data():\n",
    "    minimum = min(nueva_data[col])\n",
    "    ninety_perc = np.percentile(nueva_data[col], 90)\n",
    "    if ninety_perc == minimum:\n",
    "        low_variance.append(col)\n",
    "\n",
    "print('Low Variance', low_variance)\n",
    "\n",
    "stats = nueva_data.describe().transpose()\n",
    "stats['IQR'] = stats['75%'] - stats['25%']\n",
    "stats"
   ]
  },
  {
   "cell_type": "code",
   "execution_count": 11,
   "metadata": {},
   "outputs": [
    {
     "name": "stdout",
     "output_type": "stream",
     "text": [
      "238\n"
     ]
    }
   ],
   "source": [
    "outliers = pd.DataFrame(columns=nueva_data.columns)\n",
    "\n",
    "for col in stats.index:\n",
    "    iqr = stats.at[col,'IQR']\n",
    "    cutoff = iqr * 1.5\n",
    "    lower = stats.at[col,'25%'] - cutoff\n",
    "    upper = stats.at[col,'75%'] + cutoff\n",
    "    results = nueva_data[(nueva_data[col] < lower) | \n",
    "                   (nueva_data[col] > upper)].copy()\n",
    "    results['Outlier'] = col\n",
    "    outliers = outliers.append(results)\n",
    "\n",
    "print(len(outliers))"
   ]
  },
  {
   "cell_type": "markdown",
   "metadata": {},
   "source": [
    "**Estas son las columnas que mantendremos para el análisis**"
   ]
  },
  {
   "cell_type": "code",
   "execution_count": 12,
   "metadata": {},
   "outputs": [
    {
     "name": "stdout",
     "output_type": "stream",
     "text": [
      "Index(['Case Number', 'Year', 'Type', 'Country', 'Sex ', 'Fatal (Y/N)'], dtype='object')\n",
      "6\n"
     ]
    }
   ],
   "source": [
    "#Columnas restantes\n",
    "print(nueva_data.columns)\n",
    "print(len(nueva_data.columns))"
   ]
  },
  {
   "cell_type": "code",
   "execution_count": 13,
   "metadata": {},
   "outputs": [
    {
     "name": "stdout",
     "output_type": "stream",
     "text": [
      "Index(['Case Number', 'Year', 'Type', 'Country', 'Sex', 'Fatal'], dtype='object')\n",
      "(5992, 6)\n"
     ]
    }
   ],
   "source": [
    "#Renombro varias columnas, unas porque tienen un espacio al final y otras porque contienen otros caracteres\n",
    "nueva_data = nueva_data.rename(columns={'Fatal (Y/N)':'Fatal', \n",
    "                                  'Sex ':'Sex'})\n",
    "print(nueva_data.columns)\n",
    "print(nueva_data.shape)"
   ]
  },
  {
   "cell_type": "code",
   "execution_count": 14,
   "metadata": {},
   "outputs": [
    {
     "name": "stdout",
     "output_type": "stream",
     "text": [
      "['Unprovoked' 'Boat' 'Provoked' 'Invalid' 'Sea Disaster' 'Boating']\n"
     ]
    },
    {
     "data": {
      "text/plain": [
       "N          4315\n",
       "Y          1552\n",
       "UNKNOWN      94\n",
       " N            8\n",
       "N             1\n",
       "F             1\n",
       "n             1\n",
       "#VALUE!       1\n",
       "Name: Fatal, dtype: int64"
      ]
     },
     "execution_count": 14,
     "metadata": {},
     "output_type": "execute_result"
    }
   ],
   "source": [
    "#Compruebo los diferentes tipos de ataque y los difrentes valores para la columan Fatal\n",
    "tipos_ataque = nueva_data.Type.unique()\n",
    "print(tipos_ataque)\n",
    "set(nueva_data['Type'])\n",
    "\n",
    "nueva_data['Fatal'].value_counts()\n"
   ]
  },
  {
   "cell_type": "code",
   "execution_count": 15,
   "metadata": {},
   "outputs": [],
   "source": [
    "#Para la columna Country asignamos el valor \"Otro\" a los valores nulos\n",
    "nueva_data['Country'] = nueva_data['Country'].str.strip().str.upper()\n",
    "nueva_data['Country'] = nueva_data['Country'].fillna('Otro')"
   ]
  },
  {
   "cell_type": "code",
   "execution_count": 16,
   "metadata": {},
   "outputs": [
    {
     "name": "stdout",
     "output_type": "stream",
     "text": [
      "{nan, '.', 'lli', 'F', 'N', 'M ', 'M'}\n",
      "{'F', 'M', 'UNKNOWN'}\n",
      "M          4838\n",
      "F           585\n",
      "UNKNOWN     569\n",
      "Name: Sex, dtype: int64\n"
     ]
    }
   ],
   "source": [
    "print(set(nueva_data['Sex']))\n",
    "\n",
    "# N la cambiamos por M ya que al estar la teclas tan próximas lo consideramos un error al introducir los datos\n",
    "# y al ser su número reducido optamos por asignarles M\n",
    "\n",
    "nueva_data['Sex'] = nueva_data['Sex'].str.strip().str.upper()\n",
    "nueva_data['Sex'] = nueva_data['Sex'].str.replace('.', 'UNKNOWN')\n",
    "nueva_data['Sex'] = nueva_data['Sex'].str.replace('N', 'M') \n",
    "nueva_data['Sex'] = nueva_data['Sex'].str.replace('LLI', 'UNKNOWN')\n",
    "nueva_data['Sex'] = nueva_data['Sex'].str.replace('UMKMOWM', 'UNKNOWN')\n",
    "nueva_data['Sex'] = nueva_data['Sex'].fillna('UNKNOWN')\n",
    "\n",
    "print(set(nueva_data['Sex']))\n",
    "print(nueva_data['Sex'].value_counts())"
   ]
  },
  {
   "cell_type": "code",
   "execution_count": 17,
   "metadata": {},
   "outputs": [
    {
     "name": "stdout",
     "output_type": "stream",
     "text": [
      "{'N', 'UNKNOWN', 'Y'}\n",
      "N          4325\n",
      "Y          1552\n",
      "UNKNOWN     115\n",
      "Name: Fatal, dtype: int64\n"
     ]
    }
   ],
   "source": [
    "#Modificamos los datos en la columna Fatal para unificarlos (N, Y, UNKNOWN)\n",
    "nueva_data['Fatal'] = nueva_data['Fatal'].str.strip().str.upper()\n",
    "nueva_data['Fatal'] = nueva_data['Fatal'].str.replace('#VALUE!', 'UNKNOWN')\n",
    "nueva_data['Fatal'] = nueva_data['Fatal'].str.replace('F', 'UNKNOWN')\n",
    "\n",
    "#Los valores nulos también los pasamos a UNKNOWN\n",
    "nueva_data['Fatal'] = nueva_data['Fatal'].fillna('UNKNOWN')\n",
    "print(set(nueva_data['Fatal']))\n",
    "print(nueva_data['Fatal'].value_counts())"
   ]
  },
  {
   "cell_type": "code",
   "execution_count": 18,
   "metadata": {},
   "outputs": [
    {
     "name": "stdout",
     "output_type": "stream",
     "text": [
      "Series([], dtype: int64)\n"
     ]
    },
    {
     "data": {
      "text/plain": [
       "Case Number    0\n",
       "Year           0\n",
       "Type           0\n",
       "Country        0\n",
       "Sex            0\n",
       "Fatal          0\n",
       "dtype: int64"
      ]
     },
     "execution_count": 18,
     "metadata": {},
     "output_type": "execute_result"
    }
   ],
   "source": [
    "#Comprobamos los nulos en el nuevo dataframe \n",
    "nulos(nueva_data)"
   ]
  },
  {
   "cell_type": "code",
   "execution_count": 19,
   "metadata": {},
   "outputs": [
    {
     "name": "stdout",
     "output_type": "stream",
     "text": [
      "5992\n",
      "Registros duplicados eliminados: 4\n",
      "5988\n"
     ]
    }
   ],
   "source": [
    "#Volvemos a comprobar si hay duplicados después del cambio en la columna Fatal\n",
    "print(len(nueva_data))\n",
    "nueva_data = remover_duplicados(nueva_data, nueva_data.columns)\n",
    "print(len(nueva_data))"
   ]
  },
  {
   "cell_type": "markdown",
   "metadata": {},
   "source": [
    "# Datos sobre los que realizaremos el estudio"
   ]
  },
  {
   "cell_type": "markdown",
   "metadata": {},
   "source": [
    "### Se mostrará la evolución de los ataque de tiburón en las decadas del siglo 20"
   ]
  },
  {
   "cell_type": "markdown",
   "metadata": {},
   "source": [
    "<p align=\"center\"><img src=\"http://pngimg.com/uploads/shark/shark_PNG18831.png\" width=\"50%\"  /></p>"
   ]
  },
  {
   "cell_type": "code",
   "execution_count": 20,
   "metadata": {},
   "outputs": [
    {
     "data": {
      "text/html": [
       "<div>\n",
       "<style scoped>\n",
       "    .dataframe tbody tr th:only-of-type {\n",
       "        vertical-align: middle;\n",
       "    }\n",
       "\n",
       "    .dataframe tbody tr th {\n",
       "        vertical-align: top;\n",
       "    }\n",
       "\n",
       "    .dataframe thead th {\n",
       "        text-align: right;\n",
       "    }\n",
       "</style>\n",
       "<table border=\"1\" class=\"dataframe\">\n",
       "  <thead>\n",
       "    <tr style=\"text-align: right;\">\n",
       "      <th></th>\n",
       "      <th>Case Number</th>\n",
       "      <th>Year</th>\n",
       "      <th>Type</th>\n",
       "      <th>Country</th>\n",
       "      <th>Sex</th>\n",
       "      <th>Fatal</th>\n",
       "    </tr>\n",
       "  </thead>\n",
       "  <tbody>\n",
       "    <tr>\n",
       "      <th>5311</th>\n",
       "      <td>1901.00.00</td>\n",
       "      <td>1901</td>\n",
       "      <td>Unprovoked</td>\n",
       "      <td>USA</td>\n",
       "      <td>M</td>\n",
       "      <td>N</td>\n",
       "    </tr>\n",
       "    <tr>\n",
       "      <th>5303</th>\n",
       "      <td>1901.12.01</td>\n",
       "      <td>1901</td>\n",
       "      <td>Unprovoked</td>\n",
       "      <td>AUSTRALIA</td>\n",
       "      <td>M</td>\n",
       "      <td>N</td>\n",
       "    </tr>\n",
       "    <tr>\n",
       "      <th>5304</th>\n",
       "      <td>1901.10.00</td>\n",
       "      <td>1901</td>\n",
       "      <td>Unprovoked</td>\n",
       "      <td>PHILIPPINES</td>\n",
       "      <td>M</td>\n",
       "      <td>N</td>\n",
       "    </tr>\n",
       "    <tr>\n",
       "      <th>5310</th>\n",
       "      <td>1901.01.30</td>\n",
       "      <td>1901</td>\n",
       "      <td>Unprovoked</td>\n",
       "      <td>AUSTRALIA</td>\n",
       "      <td>M</td>\n",
       "      <td>Y</td>\n",
       "    </tr>\n",
       "    <tr>\n",
       "      <th>5306</th>\n",
       "      <td>1901.07.30</td>\n",
       "      <td>1901</td>\n",
       "      <td>Unprovoked</td>\n",
       "      <td>SOUTH AFRICA</td>\n",
       "      <td>M</td>\n",
       "      <td>Y</td>\n",
       "    </tr>\n",
       "  </tbody>\n",
       "</table>\n",
       "</div>"
      ],
      "text/plain": [
       "     Case Number  Year        Type       Country Sex Fatal\n",
       "5311  1901.00.00  1901  Unprovoked           USA   M     N\n",
       "5303  1901.12.01  1901  Unprovoked     AUSTRALIA   M     N\n",
       "5304  1901.10.00  1901  Unprovoked   PHILIPPINES   M     N\n",
       "5310  1901.01.30  1901  Unprovoked     AUSTRALIA   M     Y\n",
       "5306  1901.07.30  1901  Unprovoked  SOUTH AFRICA   M     Y"
      ]
     },
     "execution_count": 20,
     "metadata": {},
     "output_type": "execute_result"
    }
   ],
   "source": [
    "#Se filtran los registros entres a partir de el año 1900, los datos anteriores no los tendremos en cuenta\n",
    "#Para este estudio, a su vez también descartamos los ataques clasificados como Invalid.\n",
    "\n",
    "datos = nueva_data[(nueva_data.Year > 1900) & (nueva_data.Year <= 2000) & (nueva_data.Type != 'Invalid')]\n",
    "datos = datos.sort_values(by=['Year'])\n",
    "datos.head()"
   ]
  },
  {
   "cell_type": "code",
   "execution_count": 21,
   "metadata": {},
   "outputs": [
    {
     "data": {
      "text/html": [
       "<div>\n",
       "<style scoped>\n",
       "    .dataframe tbody tr th:only-of-type {\n",
       "        vertical-align: middle;\n",
       "    }\n",
       "\n",
       "    .dataframe tbody tr th {\n",
       "        vertical-align: top;\n",
       "    }\n",
       "\n",
       "    .dataframe thead th {\n",
       "        text-align: right;\n",
       "    }\n",
       "</style>\n",
       "<table border=\"1\" class=\"dataframe\">\n",
       "  <thead>\n",
       "    <tr style=\"text-align: right;\">\n",
       "      <th></th>\n",
       "      <th>Year</th>\n",
       "      <th>Month</th>\n",
       "      <th>Type</th>\n",
       "      <th>Fatal</th>\n",
       "      <th>Sex</th>\n",
       "      <th>Country</th>\n",
       "      <th>Case Number</th>\n",
       "    </tr>\n",
       "  </thead>\n",
       "  <tbody>\n",
       "    <tr>\n",
       "      <th>5311</th>\n",
       "      <td>1901</td>\n",
       "      <td>00</td>\n",
       "      <td>Unprovoked</td>\n",
       "      <td>N</td>\n",
       "      <td>M</td>\n",
       "      <td>USA</td>\n",
       "      <td>1901.00.00</td>\n",
       "    </tr>\n",
       "    <tr>\n",
       "      <th>5303</th>\n",
       "      <td>1901</td>\n",
       "      <td>12</td>\n",
       "      <td>Unprovoked</td>\n",
       "      <td>N</td>\n",
       "      <td>M</td>\n",
       "      <td>AUSTRALIA</td>\n",
       "      <td>1901.12.01</td>\n",
       "    </tr>\n",
       "    <tr>\n",
       "      <th>5304</th>\n",
       "      <td>1901</td>\n",
       "      <td>10</td>\n",
       "      <td>Unprovoked</td>\n",
       "      <td>N</td>\n",
       "      <td>M</td>\n",
       "      <td>PHILIPPINES</td>\n",
       "      <td>1901.10.00</td>\n",
       "    </tr>\n",
       "    <tr>\n",
       "      <th>5310</th>\n",
       "      <td>1901</td>\n",
       "      <td>01</td>\n",
       "      <td>Unprovoked</td>\n",
       "      <td>Y</td>\n",
       "      <td>M</td>\n",
       "      <td>AUSTRALIA</td>\n",
       "      <td>1901.01.30</td>\n",
       "    </tr>\n",
       "    <tr>\n",
       "      <th>5306</th>\n",
       "      <td>1901</td>\n",
       "      <td>07</td>\n",
       "      <td>Unprovoked</td>\n",
       "      <td>Y</td>\n",
       "      <td>M</td>\n",
       "      <td>SOUTH AFRICA</td>\n",
       "      <td>1901.07.30</td>\n",
       "    </tr>\n",
       "  </tbody>\n",
       "</table>\n",
       "</div>"
      ],
      "text/plain": [
       "      Year Month        Type Fatal Sex       Country Case Number\n",
       "5311  1901    00  Unprovoked     N   M           USA  1901.00.00\n",
       "5303  1901    12  Unprovoked     N   M     AUSTRALIA  1901.12.01\n",
       "5304  1901    10  Unprovoked     N   M   PHILIPPINES  1901.10.00\n",
       "5310  1901    01  Unprovoked     Y   M     AUSTRALIA  1901.01.30\n",
       "5306  1901    07  Unprovoked     Y   M  SOUTH AFRICA  1901.07.30"
      ]
     },
     "execution_count": 21,
     "metadata": {},
     "output_type": "execute_result"
    }
   ],
   "source": [
    "#Vamos a añadir una columna de mes, esta la obtendremos de la columna \"Case Number\"\n",
    "def obtener_mes(fecha):\n",
    "    n = re.findall('[^.]+[0-9]{1}', fecha)\n",
    "    return n[1]\n",
    "    \n",
    "    \n",
    "datos['Month'] = datos['Case Number'].apply(obtener_mes) \n",
    "#Reordenamos las celdas\n",
    "columnas_orden = ['Year', 'Month', 'Type', 'Fatal', 'Sex', 'Country', 'Case Number']\n",
    "datos = datos[columnas_orden]\n",
    "datos.head()\n",
    "#datos.shape"
   ]
  },
  {
   "cell_type": "code",
   "execution_count": 22,
   "metadata": {},
   "outputs": [
    {
     "data": {
      "text/plain": [
       "7     343\n",
       "8     312\n",
       "1     298\n",
       "9     266\n",
       "0     257\n",
       "12    253\n",
       "11    231\n",
       "6     229\n",
       "2     227\n",
       "3     222\n",
       "10    219\n",
       "4     205\n",
       "5     182\n",
       "30      1\n",
       "Name: Month, dtype: int64"
      ]
     },
     "execution_count": 22,
     "metadata": {},
     "output_type": "execute_result"
    }
   ],
   "source": [
    "#Comprobamos los valores insertados en la columna Month además le cambiamos el tipo\n",
    "datos['Month'] = datos['Month'].astype('int')\n",
    "#datos['Month'].value_counts() / len(datos) * 100\n",
    "datos['Month'].value_counts()"
   ]
  },
  {
   "cell_type": "code",
   "execution_count": 23,
   "metadata": {},
   "outputs": [
    {
     "data": {
      "text/html": [
       "<div>\n",
       "<style scoped>\n",
       "    .dataframe tbody tr th:only-of-type {\n",
       "        vertical-align: middle;\n",
       "    }\n",
       "\n",
       "    .dataframe tbody tr th {\n",
       "        vertical-align: top;\n",
       "    }\n",
       "\n",
       "    .dataframe thead th {\n",
       "        text-align: right;\n",
       "    }\n",
       "</style>\n",
       "<table border=\"1\" class=\"dataframe\">\n",
       "  <thead>\n",
       "    <tr style=\"text-align: right;\">\n",
       "      <th></th>\n",
       "      <th>Year</th>\n",
       "      <th>Month</th>\n",
       "      <th>Type</th>\n",
       "      <th>Fatal</th>\n",
       "      <th>Sex</th>\n",
       "      <th>Country</th>\n",
       "      <th>Case Number</th>\n",
       "    </tr>\n",
       "  </thead>\n",
       "  <tbody>\n",
       "    <tr>\n",
       "      <th>5311</th>\n",
       "      <td>1901</td>\n",
       "      <td>6</td>\n",
       "      <td>Unprovoked</td>\n",
       "      <td>N</td>\n",
       "      <td>M</td>\n",
       "      <td>USA</td>\n",
       "      <td>1901.00.00</td>\n",
       "    </tr>\n",
       "    <tr>\n",
       "      <th>5303</th>\n",
       "      <td>1901</td>\n",
       "      <td>12</td>\n",
       "      <td>Unprovoked</td>\n",
       "      <td>N</td>\n",
       "      <td>M</td>\n",
       "      <td>AUSTRALIA</td>\n",
       "      <td>1901.12.01</td>\n",
       "    </tr>\n",
       "    <tr>\n",
       "      <th>5304</th>\n",
       "      <td>1901</td>\n",
       "      <td>10</td>\n",
       "      <td>Unprovoked</td>\n",
       "      <td>N</td>\n",
       "      <td>M</td>\n",
       "      <td>PHILIPPINES</td>\n",
       "      <td>1901.10.00</td>\n",
       "    </tr>\n",
       "    <tr>\n",
       "      <th>5310</th>\n",
       "      <td>1901</td>\n",
       "      <td>1</td>\n",
       "      <td>Unprovoked</td>\n",
       "      <td>Y</td>\n",
       "      <td>M</td>\n",
       "      <td>AUSTRALIA</td>\n",
       "      <td>1901.01.30</td>\n",
       "    </tr>\n",
       "    <tr>\n",
       "      <th>5306</th>\n",
       "      <td>1901</td>\n",
       "      <td>7</td>\n",
       "      <td>Unprovoked</td>\n",
       "      <td>Y</td>\n",
       "      <td>M</td>\n",
       "      <td>SOUTH AFRICA</td>\n",
       "      <td>1901.07.30</td>\n",
       "    </tr>\n",
       "  </tbody>\n",
       "</table>\n",
       "</div>"
      ],
      "text/plain": [
       "      Year  Month        Type Fatal Sex       Country Case Number\n",
       "5311  1901      6  Unprovoked     N   M           USA  1901.00.00\n",
       "5303  1901     12  Unprovoked     N   M     AUSTRALIA  1901.12.01\n",
       "5304  1901     10  Unprovoked     N   M   PHILIPPINES  1901.10.00\n",
       "5310  1901      1  Unprovoked     Y   M     AUSTRALIA  1901.01.30\n",
       "5306  1901      7  Unprovoked     Y   M  SOUTH AFRICA  1901.07.30"
      ]
     },
     "execution_count": 23,
     "metadata": {},
     "output_type": "execute_result"
    }
   ],
   "source": [
    "#Como pudimos ver anteriormente hay demasiados meses con valor 0 y alguno con valor 30\n",
    "#El de valor 30 lo descarto, pero los de valor 0 me planteo que hacer con ellos.\n",
    "#Los cambiaré por el valor de la media\n",
    "\n",
    "datos = datos[(datos.Month != 30)]\n",
    "\n",
    "media_mes = datos['Month'].mean()\n",
    "\n",
    "datos.loc[(datos['Month'] == 0 ), 'Month'] = int(media_mes)\n",
    "datos.head()"
   ]
  },
  {
   "cell_type": "code",
   "execution_count": 24,
   "metadata": {},
   "outputs": [
    {
     "data": {
      "text/plain": [
       "5311    Años 00\n",
       "5303    Años 00\n",
       "5304    Años 00\n",
       "5310    Años 00\n",
       "5306    Años 00\n",
       "Name: Year, dtype: category\n",
       "Categories (10, object): [Años 00 < Años 10 < Años 20 < Años 30 ... Años 60 < Años 70 < Años 80 < Años 90]"
      ]
     },
     "execution_count": 24,
     "metadata": {},
     "output_type": "execute_result"
    }
   ],
   "source": [
    "#Creo bins para las decadas del siglo 20\n",
    "decadas = ['Años 00', 'Años 10', 'Años 20', 'Años 30', 'Años 40', \n",
    "           'Años 50', 'Años 60', 'Años 70', 'Años 80', 'Años 90']\n",
    "cutoffs = [1900, 1910, 1920, 1930, 1940, 1950, 1960, 1970, 1980, 1990, 2001]\n",
    "\n",
    "decadas_bins = pd.cut(datos['Year'], cutoffs, labels = decadas)\n",
    "decadas_bins.head()"
   ]
  },
  {
   "cell_type": "markdown",
   "metadata": {},
   "source": [
    "## Evolución de los ataques"
   ]
  },
  {
   "cell_type": "code",
   "execution_count": 25,
   "metadata": {},
   "outputs": [
    {
     "data": {
      "text/html": [
       "<div>\n",
       "<style scoped>\n",
       "    .dataframe tbody tr th:only-of-type {\n",
       "        vertical-align: middle;\n",
       "    }\n",
       "\n",
       "    .dataframe tbody tr th {\n",
       "        vertical-align: top;\n",
       "    }\n",
       "\n",
       "    .dataframe thead th {\n",
       "        text-align: right;\n",
       "    }\n",
       "</style>\n",
       "<table border=\"1\" class=\"dataframe\">\n",
       "  <thead>\n",
       "    <tr style=\"text-align: right;\">\n",
       "      <th></th>\n",
       "      <th>Year</th>\n",
       "      <th>Month</th>\n",
       "      <th>Type</th>\n",
       "      <th>Fatal</th>\n",
       "      <th>Sex</th>\n",
       "      <th>Country</th>\n",
       "      <th>Case Number</th>\n",
       "      <th>Decade</th>\n",
       "    </tr>\n",
       "  </thead>\n",
       "  <tbody>\n",
       "    <tr>\n",
       "      <th>5311</th>\n",
       "      <td>1901</td>\n",
       "      <td>6</td>\n",
       "      <td>Unprovoked</td>\n",
       "      <td>N</td>\n",
       "      <td>M</td>\n",
       "      <td>USA</td>\n",
       "      <td>1901.00.00</td>\n",
       "      <td>Años 00</td>\n",
       "    </tr>\n",
       "    <tr>\n",
       "      <th>5303</th>\n",
       "      <td>1901</td>\n",
       "      <td>12</td>\n",
       "      <td>Unprovoked</td>\n",
       "      <td>N</td>\n",
       "      <td>M</td>\n",
       "      <td>AUSTRALIA</td>\n",
       "      <td>1901.12.01</td>\n",
       "      <td>Años 00</td>\n",
       "    </tr>\n",
       "    <tr>\n",
       "      <th>5304</th>\n",
       "      <td>1901</td>\n",
       "      <td>10</td>\n",
       "      <td>Unprovoked</td>\n",
       "      <td>N</td>\n",
       "      <td>M</td>\n",
       "      <td>PHILIPPINES</td>\n",
       "      <td>1901.10.00</td>\n",
       "      <td>Años 00</td>\n",
       "    </tr>\n",
       "    <tr>\n",
       "      <th>5310</th>\n",
       "      <td>1901</td>\n",
       "      <td>1</td>\n",
       "      <td>Unprovoked</td>\n",
       "      <td>Y</td>\n",
       "      <td>M</td>\n",
       "      <td>AUSTRALIA</td>\n",
       "      <td>1901.01.30</td>\n",
       "      <td>Años 00</td>\n",
       "    </tr>\n",
       "    <tr>\n",
       "      <th>5306</th>\n",
       "      <td>1901</td>\n",
       "      <td>7</td>\n",
       "      <td>Unprovoked</td>\n",
       "      <td>Y</td>\n",
       "      <td>M</td>\n",
       "      <td>SOUTH AFRICA</td>\n",
       "      <td>1901.07.30</td>\n",
       "      <td>Años 00</td>\n",
       "    </tr>\n",
       "  </tbody>\n",
       "</table>\n",
       "</div>"
      ],
      "text/plain": [
       "      Year  Month        Type Fatal Sex       Country Case Number   Decade\n",
       "5311  1901      6  Unprovoked     N   M           USA  1901.00.00  Años 00\n",
       "5303  1901     12  Unprovoked     N   M     AUSTRALIA  1901.12.01  Años 00\n",
       "5304  1901     10  Unprovoked     N   M   PHILIPPINES  1901.10.00  Años 00\n",
       "5310  1901      1  Unprovoked     Y   M     AUSTRALIA  1901.01.30  Años 00\n",
       "5306  1901      7  Unprovoked     Y   M  SOUTH AFRICA  1901.07.30  Años 00"
      ]
     },
     "execution_count": 25,
     "metadata": {},
     "output_type": "execute_result"
    }
   ],
   "source": [
    "datos_siglo = datos\n",
    "datos_siglo['Decade'] = decadas_bins\n",
    "#datos_siglo.loc[datos_siglo['Year'] == 2000].head()\n",
    "datos_siglo.head()"
   ]
  },
  {
   "cell_type": "code",
   "execution_count": 26,
   "metadata": {},
   "outputs": [],
   "source": [
    "decadas_graf = datos_siglo.Decade.value_counts().sort_index()"
   ]
  },
  {
   "cell_type": "code",
   "execution_count": 27,
   "metadata": {},
   "outputs": [
    {
     "data": {
      "text/plain": [
       "<matplotlib.axes._subplots.AxesSubplot at 0x7f8f54679fd0>"
      ]
     },
     "execution_count": 27,
     "metadata": {},
     "output_type": "execute_result"
    },
    {
     "data": {
      "image/png": "[encoded data removed]",
      "text/plain": [
       "<Figure size 6480x3240 with 1 Axes>"
      ]
     },
     "metadata": {
      "needs_background": "light"
     },
     "output_type": "display_data"
    }
   ],
   "source": [
    "decadas_graf.plot(kind = 'barh', title = '', figsize = (90, 45), fontsize = 50)"
   ]
  },
  {
   "cell_type": "code",
   "execution_count": 28,
   "metadata": {},
   "outputs": [
    {
     "data": {
      "text/html": [
       "<div>\n",
       "<style scoped>\n",
       "    .dataframe tbody tr th:only-of-type {\n",
       "        vertical-align: middle;\n",
       "    }\n",
       "\n",
       "    .dataframe tbody tr th {\n",
       "        vertical-align: top;\n",
       "    }\n",
       "\n",
       "    .dataframe thead th {\n",
       "        text-align: right;\n",
       "    }\n",
       "</style>\n",
       "<table border=\"1\" class=\"dataframe\">\n",
       "  <thead>\n",
       "    <tr style=\"text-align: right;\">\n",
       "      <th></th>\n",
       "      <th>Year</th>\n",
       "      <th>Month</th>\n",
       "      <th>Type</th>\n",
       "      <th>Fatal</th>\n",
       "      <th>Sex</th>\n",
       "      <th>Country</th>\n",
       "      <th>Case Number</th>\n",
       "      <th>Decade</th>\n",
       "    </tr>\n",
       "  </thead>\n",
       "  <tbody>\n",
       "    <tr>\n",
       "      <th>5311</th>\n",
       "      <td>1901</td>\n",
       "      <td>6</td>\n",
       "      <td>Unprovoked</td>\n",
       "      <td>N</td>\n",
       "      <td>M</td>\n",
       "      <td>USA</td>\n",
       "      <td>1901.00.00</td>\n",
       "      <td>Años 00</td>\n",
       "    </tr>\n",
       "    <tr>\n",
       "      <th>5303</th>\n",
       "      <td>1901</td>\n",
       "      <td>12</td>\n",
       "      <td>Unprovoked</td>\n",
       "      <td>N</td>\n",
       "      <td>M</td>\n",
       "      <td>AUSTRALIA</td>\n",
       "      <td>1901.12.01</td>\n",
       "      <td>Años 00</td>\n",
       "    </tr>\n",
       "    <tr>\n",
       "      <th>5304</th>\n",
       "      <td>1901</td>\n",
       "      <td>10</td>\n",
       "      <td>Unprovoked</td>\n",
       "      <td>N</td>\n",
       "      <td>M</td>\n",
       "      <td>PHILIPPINES</td>\n",
       "      <td>1901.10.00</td>\n",
       "      <td>Años 00</td>\n",
       "    </tr>\n",
       "    <tr>\n",
       "      <th>5310</th>\n",
       "      <td>1901</td>\n",
       "      <td>1</td>\n",
       "      <td>Unprovoked</td>\n",
       "      <td>Y</td>\n",
       "      <td>M</td>\n",
       "      <td>AUSTRALIA</td>\n",
       "      <td>1901.01.30</td>\n",
       "      <td>Años 00</td>\n",
       "    </tr>\n",
       "    <tr>\n",
       "      <th>5306</th>\n",
       "      <td>1901</td>\n",
       "      <td>7</td>\n",
       "      <td>Unprovoked</td>\n",
       "      <td>Y</td>\n",
       "      <td>M</td>\n",
       "      <td>SOUTH AFRICA</td>\n",
       "      <td>1901.07.30</td>\n",
       "      <td>Años 00</td>\n",
       "    </tr>\n",
       "  </tbody>\n",
       "</table>\n",
       "</div>"
      ],
      "text/plain": [
       "      Year  Month        Type Fatal Sex       Country Case Number   Decade\n",
       "5311  1901      6  Unprovoked     N   M           USA  1901.00.00  Años 00\n",
       "5303  1901     12  Unprovoked     N   M     AUSTRALIA  1901.12.01  Años 00\n",
       "5304  1901     10  Unprovoked     N   M   PHILIPPINES  1901.10.00  Años 00\n",
       "5310  1901      1  Unprovoked     Y   M     AUSTRALIA  1901.01.30  Años 00\n",
       "5306  1901      7  Unprovoked     Y   M  SOUTH AFRICA  1901.07.30  Años 00"
      ]
     },
     "execution_count": 28,
     "metadata": {},
     "output_type": "execute_result"
    }
   ],
   "source": [
    "datos_siglo.to_csv(\"datos-ataques-siglo20.csv\", index = False)\n",
    "datos_siglo.head()"
   ]
  },
  {
   "cell_type": "markdown",
   "metadata": {},
   "source": [
    "## Tipos de ataque en el siglo 20"
   ]
  },
  {
   "cell_type": "code",
   "execution_count": 29,
   "metadata": {},
   "outputs": [
    {
     "data": {
      "text/plain": [
       "<matplotlib.axes._subplots.AxesSubplot at 0x7f8f294dd6a0>"
      ]
     },
     "execution_count": 29,
     "metadata": {},
     "output_type": "execute_result"
    },
    {
     "data": {
      "image/png": "[encoded data removed]",
      "text/plain": [
       "<Figure size 720x720 with 1 Axes>"
      ]
     },
     "metadata": {},
     "output_type": "display_data"
    }
   ],
   "source": [
    "#Tipos de ataque\n",
    "tipos_ataque = datos_siglo['Type'].value_counts()\n",
    "tipos_ataque.plot.pie(title = '' , figsize = (10, 10), fontsize = 20 )"
   ]
  },
  {
   "cell_type": "markdown",
   "metadata": {},
   "source": [
    "## Ataques por mes"
   ]
  },
  {
   "cell_type": "code",
   "execution_count": 30,
   "metadata": {},
   "outputs": [
    {
     "data": {
      "text/plain": [
       "<matplotlib.axes._subplots.AxesSubplot at 0x7f8f29497fd0>"
      ]
     },
     "execution_count": 30,
     "metadata": {},
     "output_type": "execute_result"
    },
    {
     "data": {
      "image/png": "[encoded data removed]",
      "text/plain": [
       "<Figure size 6480x3240 with 1 Axes>"
      ]
     },
     "metadata": {
      "needs_background": "light"
     },
     "output_type": "display_data"
    }
   ],
   "source": [
    "ataque_mes = datos_siglo.groupby(['Month']).size()\n",
    "ataque_mes.plot(kind = 'bar', title = '', figsize = (90, 45), fontsize = 50)"
   ]
  },
  {
   "cell_type": "code",
   "execution_count": 31,
   "metadata": {},
   "outputs": [
    {
     "name": "stdout",
     "output_type": "stream",
     "text": [
      "Month  Decade \n",
      "6      Años 50    84\n",
      "1      Años 60    75\n",
      "7      Años 90    74\n",
      "6      Años 40    71\n",
      "8      Años 90    71\n",
      "6      Años 90    70\n",
      "       Años 60    66\n",
      "9      Años 90    63\n",
      "7      Años 50    60\n",
      "8      Años 60    50\n",
      "10     Años 90    50\n",
      "8      Años 50    49\n",
      "7      Años 80    47\n",
      "12     Años 60    46\n",
      "6      Años 80    45\n",
      "11     Años 90    45\n",
      "12     Años 50    45\n",
      "10     Años 80    42\n",
      "1      Años 90    42\n",
      "2      Años 60    41\n",
      "6      Años 30    41\n",
      "3      Años 90    41\n",
      "6      Años 70    40\n",
      "9      Años 80    38\n",
      "7      Años 60    38\n",
      "5      Años 90    38\n",
      "4      Años 50    37\n",
      "9      Años 60    37\n",
      "2      Años 80    36\n",
      "4      Años 60    35\n",
      "                  ..\n",
      "10     Años 20    14\n",
      "7      Años 20    14\n",
      "11     Años 10    14\n",
      "       Años 30    14\n",
      "8      Años 00    13\n",
      "10     Años 30    13\n",
      "       Años 40    13\n",
      "4      Años 40    13\n",
      "       Años 30    13\n",
      "9      Años 00    12\n",
      "       Años 10    12\n",
      "10     Años 00    12\n",
      "5      Años 70    12\n",
      "9      Años 20    12\n",
      "5      Años 20    11\n",
      "       Años 10    10\n",
      "8      Años 20    10\n",
      "12     Años 00    10\n",
      "1      Años 00     9\n",
      "12     Años 10     9\n",
      "4      Años 00     8\n",
      "3      Años 00     8\n",
      "       Años 10     8\n",
      "2      Años 00     7\n",
      "       Años 10     7\n",
      "11     Años 00     7\n",
      "8      Años 10     4\n",
      "10     Años 10     4\n",
      "4      Años 10     4\n",
      "5      Años 00     3\n",
      "Length: 120, dtype: int64\n"
     ]
    }
   ],
   "source": [
    "meses_ataques_decada = datos_siglo.groupby([ 'Month', 'Decade']).size().sort_values( ascending = False)\n",
    "print(meses_ataques_decada)"
   ]
  },
  {
   "cell_type": "code",
   "execution_count": 32,
   "metadata": {},
   "outputs": [
    {
     "data": {
      "text/plain": [
       "array([<matplotlib.axes._subplots.AxesSubplot object at 0x7f8f21f128d0>],\n",
       "      dtype=object)"
      ]
     },
     "execution_count": 32,
     "metadata": {},
     "output_type": "execute_result"
    },
    {
     "data": {
      "image/png": "[encoded data removed]",
      "text/plain": [
       "<Figure size 432x288 with 1 Axes>"
      ]
     },
     "metadata": {},
     "output_type": "display_data"
    }
   ],
   "source": [
    "temp = datos_siglo[(datos_siglo.Decade == 'Años 70')]\n",
    "typos = temp.groupby(['Decade', 'Type']).size()\n",
    "typos.plot.pie(subplots=True, title = 'Evolución de los ataques')"
   ]
  },
  {
   "cell_type": "markdown",
   "metadata": {},
   "source": [
    "Los ataques han ido en aumento a lo largo del siglo pasado, esto puede deberse a varios factores\n"
   ]
  },
  {
   "cell_type": "code",
   "execution_count": null,
   "metadata": {},
   "outputs": [],
   "source": []
  },
  {
   "cell_type": "code",
   "execution_count": null,
   "metadata": {},
   "outputs": [],
   "source": []
  }
 ],
 "metadata": {
  "kernelspec": {
   "display_name": "Python 3",
   "language": "python",
   "name": "python3"
  },
  "language_info": {
   "codemirror_mode": {
    "name": "ipython",
    "version": 3
   },
   "file_extension": ".py",
   "mimetype": "text/x-python",
   "name": "python",
   "nbconvert_exporter": "python",
   "pygments_lexer": "ipython3",
   "version": "3.7.3"
  }
 },
 "nbformat": 4,
 "nbformat_minor": 2
}
