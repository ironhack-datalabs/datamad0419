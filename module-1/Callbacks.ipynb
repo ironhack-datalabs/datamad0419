{
 "cells": [
  {
   "cell_type": "code",
   "execution_count": 12,
   "metadata": {},
   "outputs": [
    {
     "name": "stdout",
     "output_type": "stream",
     "text": [
      "<function saluda at 0x10483bf28>\n",
      "<class 'function'>\n",
      "Hola Pepe, tu nota es 6.166666666666667\n",
      "Hola Pepe, tu nota es 6.166666666666667\n",
      "Hola Pepe, tu nota es 6.166666666666667\n",
      "Hola Pepe, tu nota es 6.166666666666667\n",
      "Hola Pepe, tu nota es 6.166666666666667\n",
      "Hola\n"
     ]
    }
   ],
   "source": [
    "\n",
    "def sayHi(name, text):\n",
    "    print(\"Hello {}, {}\".format(name, text))\n",
    "\n",
    "def saluda(name, text):\n",
    "    print(\"Hola {}, {}\".format(name, text))\n",
    "    return \"Hola\"\n",
    "\n",
    "def calculaNota(name, notas, s):\n",
    "    print(s)\n",
    "    print(type(s))\n",
    "    notaFinal = 0\n",
    "    for n in notas:\n",
    "        notaFinal += n\n",
    "    notaFinal = notaFinal/len(notas)\n",
    "\n",
    "    return s(name,\"tu nota es {}\".format(notaFinal))\n",
    "\n",
    "print(calculaNota(\"Pepe\", [4,7,9,2,8,7], saluda))\n"
   ]
  },
  {
   "cell_type": "code",
   "execution_count": null,
   "metadata": {},
   "outputs": [],
   "source": []
  }
 ],
 "metadata": {
  "kernelspec": {
   "display_name": "Python 3",
   "language": "python",
   "name": "python3"
  },
  "language_info": {
   "codemirror_mode": {
    "name": "ipython",
    "version": 3
   },
   "file_extension": ".py",
   "mimetype": "text/x-python",
   "name": "python",
   "nbconvert_exporter": "python",
   "pygments_lexer": "ipython3",
   "version": "3.7.2"
  }
 },
 "nbformat": 4,
 "nbformat_minor": 2
}
