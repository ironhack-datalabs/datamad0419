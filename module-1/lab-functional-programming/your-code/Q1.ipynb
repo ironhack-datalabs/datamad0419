{
 "cells": [
  {
   "cell_type": "markdown",
   "metadata": {},
   "source": [
    "In the cell below, create a Python function that wraps your previous solution for the Bag of Words lab.\n",
    "\n",
    "Requirements:\n",
    "\n",
    "1. Your function should accept the following parameters:\n",
    "    * `docs` [REQUIRED] - array of document paths.\n",
    "    * `stop_words` [OPTIONAL] - array of stop words. The default value is an empty array.\n",
    "\n",
    "1. Your function should return a Python object that contains the following:\n",
    "    * `bag_of_words` - array of strings of normalized unique words in the corpus.\n",
    "    * `term_freq` - array of the term-frequency vectors."
   ]
  },
  {
   "cell_type": "code",
   "execution_count": 11,
   "metadata": {},
   "outputs": [
    {
     "name": "stdout",
     "output_type": "stream",
     "text": [
      "<module 'posixpath' from '/home/sergio/anaconda3/lib/python3.7/posixpath.py'>\n"
     ]
    }
   ],
   "source": [
    "# Import required libraries\n",
    "\n",
    "# Define function\n",
    "def get_bow_from_docs(docs, stop_words=[]):\n",
    "    \n",
    "    # In the function, first define the variables you will use such as `corpus`, `bag_of_words`, and `term_freq`.\n",
    "    corpus = []\n",
    "    bag_of_words = []\n",
    "    term_freq = []\n",
    "    \n",
    "    \n",
    "    \"\"\"\n",
    "    Loop `docs` and read the content of each doc into a string in `corpus`.\n",
    "    Remember to convert the doc content to lowercases and remove punctuation.\n",
    "    \"\"\"\n",
    "    for archivo in docs:\n",
    "        texto = open(archivo,'r')\n",
    "        corpus.append(texto.read().lower().replace('.',''))\n",
    "   \n",
    "    \n",
    "    \"\"\"\n",
    "    Loop `corpus`. Append the terms in each doc into the `bag_of_words` array. The terms in `bag_of_words` \n",
    "    should be unique which means before adding each term you need to check if it's already added to the array.\n",
    "    In addition, check if each term is in the `stop_words` array. Only append the term to `bag_of_words`\n",
    "    if it is not a stop word.\n",
    "    \"\"\"\n",
    "\n",
    "\n",
    "    for frase in corpus:\n",
    "        temp = frase.split()\n",
    "        for palabra in temp:\n",
    "            if palabra not in bag_of_words and palabra not in stop_words:\n",
    "                bag_of_words.append(palabra)\n",
    "   \n",
    "    \n",
    "    \n",
    "    \"\"\"\n",
    "    Loop `corpus` again. For each doc string, count the number of occurrences of each term in `bag_of_words`. \n",
    "    Create an array for each doc's term frequency and append it to `term_freq`.\n",
    "    \"\"\"\n",
    "\n",
    "    for frase in corpus:\n",
    "        sublista = []\n",
    "        temp = frase.split()\n",
    "        for palabra in bag_of_words:\n",
    "            if palabra in temp:\n",
    "                sublista.append(1)\n",
    "            else:\n",
    "                sublista.append(0)\n",
    "        term_freq.append(sublista)    \n",
    "    \n",
    "    # Now return your output as an object\n",
    "    return {\n",
    "        \"bag_of_words\": bag_of_words,\n",
    "        \"term_freq\": term_freq\n",
    "    }\n",
    "    "
   ]
  },
  {
   "cell_type": "markdown",
   "metadata": {},
   "source": [
    "Test your function without stop words. You should see the output like below:\n",
    "\n",
    "```{'bag_of_words': ['ironhack', 'is', 'cool', 'i', 'love', 'am', 'a', 'student', 'at'], 'term_freq': [[1, 1, 1, 0, 0, 0, 0, 0, 0], [1, 0, 0, 1, 1, 0, 0, 0, 0], [1, 0, 0, 1, 0, 1, 1, 1, 1]]}```"
   ]
  },
  {
   "cell_type": "code",
   "execution_count": 24,
   "metadata": {},
   "outputs": [
    {
     "name": "stdout",
     "output_type": "stream",
     "text": [
      "{'bag_of_words': ['ironhack', 'is', 'cool', 'i', 'love', 'am', 'a', 'student', 'at'], 'term_freq': [[1, 1, 1, 0, 0, 0, 0, 0, 0], [1, 0, 0, 1, 1, 0, 0, 0, 0], [1, 0, 0, 1, 0, 1, 1, 1, 1]]}\n"
     ]
    }
   ],
   "source": [
    "# Define doc paths array\n",
    "# Le asigno el path para obtener los archivos desde el otro cuaderno\n",
    "docs = ['../../lab-bag-of-words/your-code/doc1.txt', '../../lab-bag-of-words/your-code/doc2.txt', '../../lab-bag-of-words/your-code/doc3.txt']\n",
    "\n",
    "# Obtain BoW from your function\n",
    "bow = get_bow_from_docs(docs)\n",
    "\n",
    "# Print BoW\n",
    "print(bow)"
   ]
  },
  {
   "cell_type": "markdown",
   "metadata": {},
   "source": [
    "If your attempt above is successful, nice work done!\n",
    "\n",
    "Now test your function again with the stop words. In the previous lab we defined the stop words in a large array. In this lab, we'll import the stop words from Scikit-Learn."
   ]
  },
  {
   "cell_type": "code",
   "execution_count": 19,
   "metadata": {},
   "outputs": [
    {
     "name": "stdout",
     "output_type": "stream",
     "text": [
      "frozenset({'however', 'everything', 'full', 'when', 'over', 'latterly', 'every', 'alone', 'none', 'except', 'moreover', 'was', 'due', 'why', 'they', 'own', 'yours', 'seemed', 'yourself', 'what', 'hasnt', 'through', 'two', 'ours', 'than', 'few', 'via', 'by', 'eight', 'keep', 'now', 'once', 'i', 're', 'serious', 'mostly', 'namely', 'or', 'everyone', 'next', 'elsewhere', 'might', 'up', 'how', 'is', 'whence', 'its', 'she', 'about', 'move', 'give', 'behind', 'become', 'neither', 'on', 'upon', 'down', 'that', 'otherwise', 'else', 'under', 'latter', 'last', 'where', 'also', 'top', 'noone', 'further', 'nine', 'onto', 'no', 'wherever', 'describe', 'made', 'his', 'who', 'hereupon', 'together', 'may', 'very', 'me', 'thereby', 'often', 'at', 'were', 'formerly', 'below', 'cant', 'above', 'less', 'fifteen', 'my', 'among', 'each', 'perhaps', 'another', 'those', 'her', 'four', 'system', 'therefore', 'must', 'un', 'which', 'go', 'all', 'first', 'for', 'whether', 'thru', 'off', 'these', 'had', 'can', 'out', 'although', 'co', 'as', 'per', 'before', 'nevertheless', 'becomes', 'seem', 'them', 'other', 'herself', 'whereby', 'thence', 'a', 'should', 'ten', 'yet', 'already', 'former', 'show', 'an', 'from', 'during', 'hence', 'enough', 'only', 'get', 'well', 'six', 'itself', 'others', 'please', 'anyway', 'since', 'along', 'beside', 'being', 'bottom', 'are', 'with', 'three', 'thin', 'beforehand', 'themselves', 'do', 'most', 'thick', 'mill', 'seeming', 'he', 'to', 'becoming', 'nowhere', 'while', 'found', 'until', 'but', 'if', 'much', 'you', 'amount', 'somehow', 'him', 'fire', 'sixty', 'almost', 'de', 'beyond', 'have', 'side', 'never', 'anything', 'our', 'ie', 'amongst', 'seems', 'without', 'throughout', 'eleven', 'around', 'too', 'detail', 'am', 'forty', 'afterwards', 'part', 'even', 'between', 'meanwhile', 'least', 'towards', 'indeed', 'inc', 'sometimes', 'nothing', 'thereupon', 'fifty', 'whom', 'their', 'anyhow', 'couldnt', 'not', 'then', 'this', 'something', 'besides', 'hereby', 'any', 'cry', 'rather', 'there', 'into', 'call', 'one', 'within', 'somewhere', 'whereupon', 'wherein', 'back', 'whole', 'many', 'your', 'several', 'would', 'after', 'ever', 'interest', 'twelve', 'front', 'thereafter', 'because', 'it', 'thus', 'of', 'ourselves', 'here', 'hers', 'again', 'always', 'third', 'whenever', 'herein', 'ltd', 'nor', 'eg', 'against', 'whither', 'across', 'put', 'whereas', 'yourselves', 'whereafter', 'nobody', 'done', 'still', 'so', 'anyone', 'sincere', 'anywhere', 'more', 'everywhere', 'us', 'see', 'fill', 'five', 'such', 'myself', 'though', 'be', 'con', 'either', 'name', 'whoever', 'could', 'himself', 'whatever', 'bill', 'hereafter', 'has', 'will', 'cannot', 'take', 'hundred', 'and', 'etc', 'the', 'someone', 'therein', 'amoungst', 'same', 'twenty', 'became', 'whose', 'sometime', 'both', 'in', 'mine', 'been', 'find', 'some', 'empty', 'we', 'toward'})\n"
     ]
    }
   ],
   "source": [
    "from sklearn.feature_extraction import stop_words\n",
    "print(stop_words.ENGLISH_STOP_WORDS)"
   ]
  },
  {
   "cell_type": "markdown",
   "metadata": {},
   "source": [
    "You should have seen a large list of words that looks like:\n",
    "\n",
    "```frozenset({'across', 'mine', 'cannot', ...})```\n",
    "\n",
    "`frozenset` is a type of Python object that is immutable. In this lab you can use it just like an array without conversion."
   ]
  },
  {
   "cell_type": "markdown",
   "metadata": {},
   "source": [
    "Next, test your function with supplying `stop_words.ENGLISH_STOP_WORDS` as the second parameter."
   ]
  },
  {
   "cell_type": "code",
   "execution_count": 22,
   "metadata": {},
   "outputs": [
    {
     "name": "stdout",
     "output_type": "stream",
     "text": [
      "{'bag_of_words': ['ironhack', 'cool', 'love', 'student'], 'term_freq': [[1, 1, 0, 0], [1, 0, 1, 0], [1, 0, 0, 1]]}\n"
     ]
    }
   ],
   "source": [
    "bow = get_bow_from_docs(docs, stop_words.ENGLISH_STOP_WORDS)\n",
    "\n",
    "print(bow)"
   ]
  },
  {
   "cell_type": "markdown",
   "metadata": {},
   "source": [
    "You should have seen:\n",
    "\n",
    "```{'bag_of_words': ['ironhack', 'cool', 'love', 'student'], 'term_freq': [[1, 1, 0, 0], [1, 0, 1, 0], [1, 0, 0, 1]]}```"
   ]
  },
  {
   "cell_type": "code",
   "execution_count": null,
   "metadata": {},
   "outputs": [],
   "source": []
  }
 ],
 "metadata": {
  "kernelspec": {
   "display_name": "Python 3",
   "language": "python",
   "name": "python3"
  },
  "language_info": {
   "codemirror_mode": {
    "name": "ipython",
    "version": 3
   },
   "file_extension": ".py",
   "mimetype": "text/x-python",
   "name": "python",
   "nbconvert_exporter": "python",
   "pygments_lexer": "ipython3",
   "version": "3.7.3"
  }
 },
 "nbformat": 4,
 "nbformat_minor": 2
}
