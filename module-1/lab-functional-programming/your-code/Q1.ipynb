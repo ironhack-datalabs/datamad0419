{
 "cells": [
  {
   "cell_type": "markdown",
   "metadata": {},
   "source": [
    "In the cell below, create a Python function that wraps your previous solution for the Bag of Words lab.\n",
    "\n",
    "Requirements:\n",
    "\n",
    "1. Your function should accept the following parameters:\n",
    "    * `docs` [REQUIRED] - array of document paths.\n",
    "    * `stop_words` [OPTIONAL] - array of stop words. The default value is an empty array.\n",
    "\n",
    "1. Your function should return a Python object that contains the following:\n",
    "    * `bag_of_words` - array of strings of normalized unique words in the corpus.\n",
    "    * `term_freq` - array of the term-frequency vectors."
   ]
  },
  {
   "cell_type": "code",
   "execution_count": 14,
   "metadata": {},
   "outputs": [],
   "source": [
    "# Import required libraries\n",
    "from sklearn.feature_extraction import stop_words\n",
    "# Define function\n",
    "def get_bow_from_docs(docs, stop_words=[]):\n",
    "    \n",
    "    # In the function, first define the variables you will use such as `corpus`, `bag_of_words`, and `term_freq`.\n",
    "    corpus = []\n",
    "    bag_of_words = []\n",
    "    term_freq = []\n",
    "    \"\"\"\n",
    "    Loop `docs` and read the content of each doc into a string in `corpus`.\n",
    "    Remember to convert the doc content to lowercases and remove punctuation.\n",
    "    \"\"\"\n",
    "    for doc in docs:\n",
    "        with open(doc, 'r') as f:\n",
    "            corpus.append(f.read())\n",
    "        \n",
    "    corpus=[corpus[i].lower() for i in range(len(corpus))]\n",
    "    corpus=[corpus[i].replace('.', '') for i in range(len(corpus))]\n",
    "    \n",
    "    \"\"\"\n",
    "    Loop `corpus`. Append the terms in each doc into the `bag_of_words` array. The terms in `bag_of_words` \n",
    "    should be unique which means before adding each term you need to check if it's already added to the array.\n",
    "    In addition, check if each term is in the `stop_words` array. Only append the term to `bag_of_words`\n",
    "    if it is not a stop word.\n",
    "    \"\"\"\n",
    "    for e in corpus:\n",
    "        f=e.split(' ')\n",
    "        for g in f:\n",
    "            if g not in bag_of_words and g not in stop_words : bag_of_words.append(g)\n",
    "\n",
    "    \n",
    "    \n",
    "    \n",
    "    \"\"\"\n",
    "    Loop `corpus` again. For each doc string, count the number of occurrences of each term in `bag_of_words`. \n",
    "    Create an array for each doc's term frequency and append it to `term_freq`.\n",
    "    \"\"\"\n",
    "    for e in corpus:\n",
    "        lista=[]\n",
    "        e=e.split()\n",
    "        for f in bag_of_words:\n",
    "            if f in e:\n",
    "                lista.append(1)\n",
    "            else:\n",
    "                lista.append(0)\n",
    "        term_freq.append(lista) \n",
    "\n",
    "    \n",
    "    \n",
    "    # Now return your output as an object\n",
    "    return {\n",
    "        \"bag_of_words\": bag_of_words,\n",
    "        \"term_freq\": term_freq\n",
    "    }\n",
    "    "
   ]
  },
  {
   "cell_type": "markdown",
   "metadata": {},
   "source": [
    "Test your function without stop words. You should see the output like below:\n",
    "\n",
    "```{'bag_of_words': ['ironhack', 'is', 'cool', 'i', 'love', 'am', 'a', 'student', 'at'], 'term_freq': [[1, 1, 1, 0, 0, 0, 0, 0, 0], [1, 0, 0, 1, 1, 0, 0, 0, 0], [1, 0, 0, 1, 0, 1, 1, 1, 1]]}```"
   ]
  },
  {
   "cell_type": "code",
   "execution_count": 15,
   "metadata": {},
   "outputs": [
    {
     "name": "stdout",
     "output_type": "stream",
     "text": [
      "{'bag_of_words': ['ironhack', 'is', 'cool', 'i', 'love', 'am', 'a', 'student', 'at'], 'term_freq': [[1, 1, 1, 0, 0, 0, 0, 0, 0], [1, 0, 0, 1, 1, 0, 0, 0, 0], [1, 0, 0, 1, 0, 1, 1, 1, 1]]}\n"
     ]
    }
   ],
   "source": [
    "# Define doc paths array\n",
    "docs = ['doc1.txt', 'doc2.txt', 'doc3.txt'] \n",
    "\n",
    "\n",
    "# Obtain BoW from your function\n",
    "bow = get_bow_from_docs(docs)\n",
    "\n",
    "# Print BoW\n",
    "print(bow)"
   ]
  },
  {
   "cell_type": "markdown",
   "metadata": {},
   "source": [
    "### If your attempt above is successful, nice work done!\n",
    "\n",
    "Now test your function again with the stop words. In the previous lab we defined the stop words in a large array. In this lab, we'll import the stop words from Scikit-Learn."
   ]
  },
  {
   "cell_type": "code",
   "execution_count": 16,
   "metadata": {},
   "outputs": [
    {
     "name": "stdout",
     "output_type": "stream",
     "text": [
      "frozenset({'co', 'afterwards', 'into', 'am', 'somewhere', 'whose', 'un', 'almost', 'at', 'been', 'take', 'himself', 'very', 'eleven', 'first', 'due', 'top', 'mill', 'a', 'myself', 'sometimes', 'under', 'call', 'whereby', 'anyway', 'thru', 'amongst', 'was', 'but', 'neither', 'of', 'all', 'than', 'something', 'now', 'yourselves', 'others', 'next', 'whence', 'as', 'thus', 'we', 'rather', 'ever', 'cant', 'fifty', 'everyone', 'three', 'via', 'be', 'whom', 'back', 'other', 'she', 'within', 'wherever', 'many', 'your', 'amount', 'not', 'since', 'though', 'even', 'otherwise', 'he', 'around', 'besides', 'ie', 'throughout', 'everything', 'nobody', 'the', 'most', 'whenever', 'six', 'that', 'full', 'part', 'across', 'during', 'their', 'someone', 'whereafter', 'less', 'twenty', 'being', 'empty', 'elsewhere', 'each', 'who', 'his', 'up', 'you', 'nowhere', 'hereafter', 'beforehand', 'these', 'onto', 'it', 'detail', 'forty', 'together', 'how', 'this', 'interest', 'hereupon', 'themselves', 'few', 'hereby', 'might', 'two', 'above', 'never', 'nor', 'beside', 'moreover', 'always', 'after', 'along', 'hence', 'much', 'mine', 'find', 'fire', 'ourselves', 'wherein', 'last', 'per', 'fill', 'may', 'becomes', 'against', 'third', 'such', 'whether', 'once', 'them', 'whoever', 'here', 'down', 'among', 'hasnt', 'herself', 'because', 'whereas', 'becoming', 'again', 'if', 'whither', 'con', 'therefore', 'by', 'will', 'seeming', 'every', 'us', 'side', 'de', 'some', 'thence', 'nothing', 'itself', 'done', 'alone', 'its', 'then', 'anywhere', 'over', 'yourself', 'thick', 'without', 'four', 'no', 'in', 'our', 'why', 'so', 'bottom', 'therein', 'him', 'sincere', 'latterly', 'about', 'to', 'seems', 'hers', 'describe', 'with', 'get', 'an', 'front', 'everywhere', 'cry', 'until', 'and', 'behind', 'nevertheless', 'which', 'system', 'anyone', 'own', 'perhaps', 'bill', 'put', 'whole', 'still', 'anyhow', 'none', 'thereupon', 'seem', 'any', 'eight', 'beyond', 'where', 'out', 'both', 'herein', 'also', 'twelve', 'have', 'etc', 'meanwhile', 'for', 'seemed', 'five', 'move', 'yours', 'enough', 'made', 'except', 'through', 'upon', 'noone', 'before', 're', 'toward', 'formerly', 'another', 'they', 'those', 'thereby', 'see', 'are', 'eg', 'former', 'thin', 'her', 'me', 'already', 'well', 'whatever', 'had', 'between', 'cannot', 'below', 'found', 'latter', 'i', 'go', 'namely', 'could', 'ltd', 'somehow', 'when', 'serious', 'or', 'sometime', 'inc', 'ten', 'often', 'off', 'keep', 'however', 'show', 'while', 'has', 'yet', 'same', 'from', 'become', 'one', 'there', 'either', 'amoungst', 'whereupon', 'ours', 'more', 'mostly', 'several', 'too', 'please', 'fifteen', 'would', 'became', 'anything', 'do', 'further', 'else', 'what', 'on', 'couldnt', 'hundred', 'nine', 'sixty', 'can', 'should', 'thereafter', 'indeed', 'my', 'give', 'although', 'towards', 'least', 'name', 'only', 'is', 'were', 'must'})\n"
     ]
    }
   ],
   "source": [
    "#from sklearn.feature_extraction import stop_words\n",
    "print(stop_words.ENGLISH_STOP_WORDS)"
   ]
  },
  {
   "cell_type": "markdown",
   "metadata": {},
   "source": [
    "You should have seen a large list of words that looks like:\n",
    "\n",
    "```frozenset({'across', 'mine', 'cannot', ...})```\n",
    "\n",
    "`frozenset` is a type of Python object that is immutable. In this lab you can use it just like an array without conversion."
   ]
  },
  {
   "cell_type": "markdown",
   "metadata": {},
   "source": [
    "Next, test your function with supplying `stop_words.ENGLISH_STOP_WORDS` as the second parameter."
   ]
  },
  {
   "cell_type": "code",
   "execution_count": 17,
   "metadata": {},
   "outputs": [
    {
     "ename": "FileNotFoundError",
     "evalue": "[Errno 2] No such file or directory: 'bag_of_words'",
     "output_type": "error",
     "traceback": [
      "\u001b[0;31m---------------------------------------------------------------------------\u001b[0m",
      "\u001b[0;31mFileNotFoundError\u001b[0m                         Traceback (most recent call last)",
      "\u001b[0;32m<ipython-input-17-158d5d02aaa3>\u001b[0m in \u001b[0;36m<module>\u001b[0;34m\u001b[0m\n\u001b[0;32m----> 1\u001b[0;31m \u001b[0mbow\u001b[0m \u001b[0;34m=\u001b[0m \u001b[0mget_bow_from_docs\u001b[0m\u001b[0;34m(\u001b[0m\u001b[0mbow\u001b[0m\u001b[0;34m,\u001b[0m \u001b[0mstop_words\u001b[0m\u001b[0;34m.\u001b[0m\u001b[0mENGLISH_STOP_WORDS\u001b[0m\u001b[0;34m)\u001b[0m\u001b[0;34m\u001b[0m\u001b[0;34m\u001b[0m\u001b[0m\n\u001b[0m\u001b[1;32m      2\u001b[0m \u001b[0;34m\u001b[0m\u001b[0m\n\u001b[1;32m      3\u001b[0m \u001b[0mprint\u001b[0m\u001b[0;34m(\u001b[0m\u001b[0mbow\u001b[0m\u001b[0;34m)\u001b[0m\u001b[0;34m\u001b[0m\u001b[0;34m\u001b[0m\u001b[0m\n",
      "\u001b[0;32m<ipython-input-14-df87e581dee8>\u001b[0m in \u001b[0;36mget_bow_from_docs\u001b[0;34m(docs, stop_words)\u001b[0m\n\u001b[1;32m     13\u001b[0m     \"\"\"\n\u001b[1;32m     14\u001b[0m     \u001b[0;32mfor\u001b[0m \u001b[0mdoc\u001b[0m \u001b[0;32min\u001b[0m \u001b[0mdocs\u001b[0m\u001b[0;34m:\u001b[0m\u001b[0;34m\u001b[0m\u001b[0;34m\u001b[0m\u001b[0m\n\u001b[0;32m---> 15\u001b[0;31m         \u001b[0;32mwith\u001b[0m \u001b[0mopen\u001b[0m\u001b[0;34m(\u001b[0m\u001b[0mdoc\u001b[0m\u001b[0;34m,\u001b[0m \u001b[0;34m'r'\u001b[0m\u001b[0;34m)\u001b[0m \u001b[0;32mas\u001b[0m \u001b[0mf\u001b[0m\u001b[0;34m:\u001b[0m\u001b[0;34m\u001b[0m\u001b[0;34m\u001b[0m\u001b[0m\n\u001b[0m\u001b[1;32m     16\u001b[0m             \u001b[0mcorpus\u001b[0m\u001b[0;34m.\u001b[0m\u001b[0mappend\u001b[0m\u001b[0;34m(\u001b[0m\u001b[0mf\u001b[0m\u001b[0;34m.\u001b[0m\u001b[0mread\u001b[0m\u001b[0;34m(\u001b[0m\u001b[0;34m)\u001b[0m\u001b[0;34m)\u001b[0m\u001b[0;34m\u001b[0m\u001b[0;34m\u001b[0m\u001b[0m\n\u001b[1;32m     17\u001b[0m \u001b[0;34m\u001b[0m\u001b[0m\n",
      "\u001b[0;31mFileNotFoundError\u001b[0m: [Errno 2] No such file or directory: 'bag_of_words'"
     ]
    }
   ],
   "source": [
    "bow = get_bow_from_docs(bow, stop_words.ENGLISH_STOP_WORDS)\n",
    "\n",
    "print(bow)"
   ]
  },
  {
   "cell_type": "markdown",
   "metadata": {},
   "source": [
    "You should have seen:\n",
    "\n",
    "```{'bag_of_words': ['ironhack', 'cool', 'love', 'student'], 'term_freq': [[1, 1, 0, 0], [1, 0, 1, 0], [1, 0, 0, 1]]}```"
   ]
  },
  {
   "cell_type": "code",
   "execution_count": null,
   "metadata": {},
   "outputs": [],
   "source": []
  }
 ],
 "metadata": {
  "kernelspec": {
   "display_name": "Python 3",
   "language": "python",
   "name": "python3"
  },
  "language_info": {
   "codemirror_mode": {
    "name": "ipython",
    "version": 3
   },
   "file_extension": ".py",
   "mimetype": "text/x-python",
   "name": "python",
   "nbconvert_exporter": "python",
   "pygments_lexer": "ipython3",
   "version": "3.7.2"
  }
 },
 "nbformat": 4,
 "nbformat_minor": 2
}
