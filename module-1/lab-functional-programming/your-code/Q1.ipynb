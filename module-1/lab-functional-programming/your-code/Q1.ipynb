{
 "cells": [
  {
   "cell_type": "markdown",
   "metadata": {},
   "source": [
    "In the cell below, create a Python function that wraps your previous solution for the Bag of Words lab.\n",
    "\n",
    "Requirements:\n",
    "\n",
    "1. Your function should accept the following parameters:\n",
    "    * `docs` [REQUIRED] - array of document paths.\n",
    "    * `stop_words` [OPTIONAL] - array of stop words. The default value is an empty array.\n",
    "\n",
    "1. Your function should return a Python object that contains the following:\n",
    "    * `bag_of_words` - array of strings of normalized unique words in the corpus.\n",
    "    * `term_freq` - array of the term-frequency vectors."
   ]
  },
  {
   "cell_type": "code",
   "execution_count": 8,
   "metadata": {},
   "outputs": [],
   "source": [
    "# Import required libraries\n",
    "from sklearn.feature_extraction import stop_words\n",
    "# Define function\n",
    "def get_bow_from_docs(docs, stop_words=[]):\n",
    "    \n",
    "    # In the function, first define the variables you will use such as `corpus`, `bag_of_words`, and `term_freq`.\n",
    "    corpus = []\n",
    "    bag_of_words = []\n",
    "    term_freq = []\n",
    "    \"\"\"\n",
    "    Loop `docs` and read the content of each doc into a string in `corpus`.\n",
    "    Remember to convert the doc content to lowercases and remove punctuation.\n",
    "    \"\"\"\n",
    "    for doc in docs:\n",
    "        with open(doc, 'r') as f:\n",
    "            corpus.append(f.read())\n",
    "        \n",
    "    corpus=[corpus[i].lower() for i in range(len(corpus))]\n",
    "    corpus=[corpus[i].replace('.', '') for i in range(len(corpus))]\n",
    "    \n",
    "    \"\"\"\n",
    "    Loop `corpus`. Append the terms in each doc into the `bag_of_words` array. The terms in `bag_of_words` \n",
    "    should be unique which means before adding each term you need to check if it's already added to the array.\n",
    "    In addition, check if each term is in the `stop_words` array. Only append the term to `bag_of_words`\n",
    "    if it is not a stop word.\n",
    "    \"\"\"\n",
    "    for e in corpus:\n",
    "        f=e.split(' ')\n",
    "        for g in f:\n",
    "            if g not in bag_of_words and g not in stop_words : bag_of_words.append(g)\n",
    "\n",
    "    \n",
    "    \n",
    "    \n",
    "    \"\"\"\n",
    "    Loop `corpus` again. For each doc string, count the number of occurrences of each term in `bag_of_words`. \n",
    "    Create an array for each doc's term frequency and append it to `term_freq`.\n",
    "    \"\"\"\n",
    "    for e in corpus:\n",
    "        lista=[]\n",
    "        e=e.split()\n",
    "        for f in bag_of_words:\n",
    "            if f in e:\n",
    "                lista.append(1)\n",
    "            else:\n",
    "                lista.append(0)\n",
    "        term_freq.append(lista) \n",
    "\n",
    "    \n",
    "    \n",
    "    # Now return your output as an object\n",
    "    return {\n",
    "        \"bag_of_words\": bag_of_words,\n",
    "        \"term_freq\": term_freq\n",
    "    }\n",
    "    "
   ]
  },
  {
   "cell_type": "markdown",
   "metadata": {},
   "source": [
    "Test your function without stop words. You should see the output like below:\n",
    "\n",
    "```{'bag_of_words': ['ironhack', 'is', 'cool', 'i', 'love', 'am', 'a', 'student', 'at'], 'term_freq': [[1, 1, 1, 0, 0, 0, 0, 0, 0], [1, 0, 0, 1, 1, 0, 0, 0, 0], [1, 0, 0, 1, 0, 1, 1, 1, 1]]}```"
   ]
  },
  {
   "cell_type": "code",
   "execution_count": 9,
   "metadata": {},
   "outputs": [
    {
     "name": "stdout",
     "output_type": "stream",
     "text": [
      "{'bag_of_words': ['ironhack', 'is', 'cool', 'i', 'love', 'am', 'a', 'student', 'at'], 'term_freq': [[1, 1, 1, 0, 0, 0, 0, 0, 0], [1, 0, 0, 1, 1, 0, 0, 0, 0], [1, 0, 0, 1, 0, 1, 1, 1, 1]]}\n"
     ]
    }
   ],
   "source": [
    "# Define doc paths array\n",
    "docs = ['doc1.txt', 'doc2.txt', 'doc3.txt'] \n",
    "\n",
    "\n",
    "# Obtain BoW from your function\n",
    "bow = get_bow_from_docs(docs)\n",
    "\n",
    "# Print BoW\n",
    "print(bow)"
   ]
  },
  {
   "cell_type": "markdown",
   "metadata": {},
   "source": [
    "### If your attempt above is successful, nice work done!\n",
    "\n",
    "Now test your function again with the stop words. In the previous lab we defined the stop words in a large array. In this lab, we'll import the stop words from Scikit-Learn."
   ]
  },
  {
   "cell_type": "code",
   "execution_count": 10,
   "metadata": {},
   "outputs": [
    {
     "name": "stdout",
     "output_type": "stream",
     "text": [
      "frozenset({'whatever', 'beyond', 'some', 'so', 'sometimes', 'twelve', 'sometime', 'indeed', 'off', 'empty', 'until', 'alone', 'take', 'any', 'beside', 'hereafter', 'are', 'of', 'ever', 'one', 'elsewhere', 'towards', 'everywhere', 'part', 'himself', 'describe', 'somewhere', 'both', 'twenty', 'among', 'together', 'which', 'to', 'would', 'against', 'mine', 'in', 'and', 'something', 'a', 'therefore', 'thick', 'forty', 'nobody', 'either', 'her', 'namely', 'never', 'them', 'already', 'thru', 'it', 'thereafter', 'etc', 'though', 'cannot', 'seem', 'show', 'nine', 'than', 'beforehand', 'name', 'he', 'many', 'enough', 'nothing', 'fire', 'ten', 'move', 'front', 'last', 'hers', 'least', 'mill', 'becoming', 'other', 'eg', 'well', 'hence', 'ours', 'after', 'their', 'amoungst', 'nevertheless', 'still', 'up', 'side', 'else', 'wherever', 'toward', 'you', 'hasnt', 'at', 'herself', 'via', 'we', 'if', 'here', 'mostly', 'were', 'within', 'un', 'became', 'before', 'will', 'across', 'everything', 'anyone', 'down', 'formerly', 'five', 'too', 'ourselves', 'interest', 'been', 're', 'by', 'she', 'whither', 'seeming', 'moreover', 'under', 'whereupon', 'do', 'could', 'since', 'couldnt', 'due', 'hereupon', 'afterwards', 'con', 'its', 'perhaps', 'always', 'besides', 'while', 'during', 'us', 'my', 'becomes', 'about', 'above', 'thus', 'what', 'neither', 'anyway', 'become', 'all', 'except', 'several', 'done', 'keep', 'from', 'or', 'please', 'without', 'otherwise', 'eight', 'two', 'third', 'again', 'often', 'with', 'thence', 'system', 'someone', 'behind', 'themselves', 'whether', 'therein', 'whence', 'very', 'must', 'fill', 'also', 'co', 'those', 'less', 'bill', 'thereby', 'anywhere', 'am', 'sincere', 'latterly', 'now', 'for', 'this', 'below', 'there', 'de', 'had', 'because', 'how', 'whereby', 'between', 'has', 'me', 'anyhow', 'first', 'may', 'no', 'be', 'detail', 'find', 'next', 'around', 'much', 'per', 'our', 'when', 'where', 'somehow', 'top', 'only', 'rather', 'along', 'then', 'might', 'ltd', 'should', 'throughout', 'nowhere', 'amongst', 'nor', 'put', 'whenever', 'call', 'most', 'hereby', 'further', 'bottom', 'his', 'sixty', 'who', 'former', 'over', 'yourselves', 'whoever', 'every', 'these', 'thin', 'yet', 'same', 'inc', 'almost', 'although', 'hundred', 'as', 'wherein', 'but', 'latter', 'once', 'onto', 'can', 'serious', 'that', 'own', 'myself', 'itself', 'is', 'made', 'four', 'such', 'cry', 'amount', 'everyone', 'even', 'go', 'i', 'meanwhile', 'three', 'yours', 'cant', 'noone', 'through', 'however', 'upon', 'whereafter', 'fifteen', 'few', 'get', 'was', 'not', 'seems', 'have', 'fifty', 'whom', 'each', 'whole', 'an', 'give', 'whereas', 'into', 'yourself', 'being', 'anything', 'on', 'see', 'none', 'ie', 'him', 'out', 'whose', 'found', 'six', 'another', 'why', 'back', 'seemed', 'others', 'they', 'thereupon', 'herein', 'more', 'the', 'your', 'eleven', 'full'})\n"
     ]
    }
   ],
   "source": [
    "#from sklearn.feature_extraction import stop_words\n",
    "print(stop_words.ENGLISH_STOP_WORDS)"
   ]
  },
  {
   "cell_type": "markdown",
   "metadata": {},
   "source": [
    "You should have seen a large list of words that looks like:\n",
    "\n",
    "```frozenset({'across', 'mine', 'cannot', ...})```\n",
    "\n",
    "`frozenset` is a type of Python object that is immutable. In this lab you can use it just like an array without conversion."
   ]
  },
  {
   "cell_type": "markdown",
   "metadata": {},
   "source": [
    "Next, test your function with supplying `stop_words.ENGLISH_STOP_WORDS` as the second parameter."
   ]
  },
  {
   "cell_type": "code",
   "execution_count": 11,
   "metadata": {},
   "outputs": [
    {
     "name": "stdout",
     "output_type": "stream",
     "text": [
      "{'bag_of_words': ['ironhack', 'cool', 'love', 'student'], 'term_freq': [[1, 1, 0, 0], [1, 0, 1, 0], [1, 0, 0, 1]]}\n"
     ]
    }
   ],
   "source": [
    "bow = get_bow_from_docs(docs, stop_words.ENGLISH_STOP_WORDS)\n",
    "\n",
    "print(bow)"
   ]
  },
  {
   "cell_type": "markdown",
   "metadata": {},
   "source": [
    "You should have seen:\n",
    "\n",
    "```{'bag_of_words': ['ironhack', 'cool', 'love', 'student'], 'term_freq': [[1, 1, 0, 0], [1, 0, 1, 0], [1, 0, 0, 1]]}```"
   ]
  },
  {
   "cell_type": "code",
   "execution_count": null,
   "metadata": {},
   "outputs": [],
   "source": []
  }
 ],
 "metadata": {
  "kernelspec": {
   "display_name": "Python 3",
   "language": "python",
   "name": "python3"
  },
  "language_info": {
   "codemirror_mode": {
    "name": "ipython",
    "version": 3
   },
   "file_extension": ".py",
   "mimetype": "text/x-python",
   "name": "python",
   "nbconvert_exporter": "python",
   "pygments_lexer": "ipython3",
   "version": "3.7.2"
  }
 },
 "nbformat": 4,
 "nbformat_minor": 2
}
