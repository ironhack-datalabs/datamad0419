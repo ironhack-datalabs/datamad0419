{
 "cells": [
  {
   "cell_type": "code",
   "execution_count": 31,
   "metadata": {},
   "outputs": [
    {
     "name": "stdout",
     "output_type": "stream",
     "text": [
      "Hola Pepe?\n",
      "Salut Juan!\n",
      "No se ha definido el idioma\n",
      "Hola Pepe?\n",
      "No se ha definido el idioma\n",
      "Salut Juan!\n"
     ]
    }
   ],
   "source": [
    "def saluda(nombre, lang=\"es\", puntuacion=\"!\"):\n",
    "    if lang == \"es\":\n",
    "        print(\"Hola {}{}\".format(nombre, puntuacion))\n",
    "    elif lang == \"fr\":\n",
    "        print(\"Salut {}{}\".format(nombre, puntuacion))\n",
    "    else:\n",
    "        print(\"No se ha definido el idioma\")\n",
    "\n",
    "\n",
    "    \n",
    "saluda(\"Pepe\", puntuacion=\"?\")\n",
    "saluda(\"Juan\", \"fr\")\n",
    "saluda(\"Juan\", \"gr\")\n",
    "saluda(puntuacion=\"?\", nombre=\"Pepe\")\n",
    "saluda(\"Pepe\",None,\"?\")\n",
    "\n",
    "a = [\"Juan\", \"fr\"]\n",
    "saluda(*a)\n",
    "\n"
   ]
  },
  {
   "cell_type": "code",
   "execution_count": 30,
   "metadata": {},
   "outputs": [
    {
     "name": "stdout",
     "output_type": "stream",
     "text": [
      "('Pepe', 'Juan', 'Luis', 'Pepe', 'Octavio', 'asdf')\n",
      "Salut Pepe\n",
      "Salut Juan\n",
      "Salut Luis\n",
      "Salut Pepe\n",
      "Salut Octavio\n",
      "Salut asdf\n"
     ]
    }
   ],
   "source": [
    "def saludaMultiple(*personas, lang=\"es\"):\n",
    "    print(personas)\n",
    "    for p in personas:\n",
    "        if lang == \"es\":\n",
    "            print(\"Hola {}\".format(p))\n",
    "        elif lang == \"fr\":\n",
    "            print(\"Salut {}\".format(p))\n",
    "        else:\n",
    "            print(\"No se ha definido el idioma\")\n",
    "\n",
    "            \n",
    "paraSaludar = [\"Pepe\",\"Juan\",\"Luis\", \"Pepe\",\"Octavio\",\"asdf\"]            \n",
    "saludaMultiple(*paraSaludar, lang=\"fr\")"
   ]
  },
  {
   "cell_type": "code",
   "execution_count": 52,
   "metadata": {},
   "outputs": [
    {
     "name": "stdout",
     "output_type": "stream",
     "text": [
      "{'nombre': 'Juan', 'edad': '29', 'ciudadOrigen': 'Oviedo'}\n",
      "<class 'dict'>\n",
      "Hola Juan, tienes 29 años y eres de Oviedo\n"
     ]
    }
   ],
   "source": [
    "def saludaDetalle(**persona):\n",
    "    print(persona)\n",
    "    print(type(persona))\n",
    "    m = [persona[\"nombre\"], persona[\"edad\"], persona[\"ciudadOrigen\"]]\n",
    "    print(\"Hola {}, tienes {} años y eres de {}\".format(*m))\n",
    "\n",
    "persona = {\n",
    "    \"nombre\": \"Juan\",\n",
    "    \"edad\": \"29\",\n",
    "    \"ciudadOrigen\": \"Oviedo\"\n",
    "}\n",
    "    \n",
    "saludaDetalle(**persona)\n"
   ]
  },
  {
   "cell_type": "code",
   "execution_count": 53,
   "metadata": {},
   "outputs": [
    {
     "name": "stdout",
     "output_type": "stream",
     "text": [
      "()\n",
      "{'hola': 'Hola'}\n"
     ]
    }
   ],
   "source": [
    "def saludaDetalleTotal(*args,**kwargs):\n",
    "    print(args)\n",
    "    print(kwargs)\n",
    "    \n",
    "\n",
    "saludaDetalleTotal(hola=\"Hola\")"
   ]
  },
  {
   "cell_type": "code",
   "execution_count": null,
   "metadata": {},
   "outputs": [],
   "source": []
  }
 ],
 "metadata": {
  "kernelspec": {
   "display_name": "Python 3",
   "language": "python",
   "name": "python3"
  },
  "language_info": {
   "codemirror_mode": {
    "name": "ipython",
    "version": 3
   },
   "file_extension": ".py",
   "mimetype": "text/x-python",
   "name": "python",
   "nbconvert_exporter": "python",
   "pygments_lexer": "ipython3",
   "version": "3.7.2"
  }
 },
 "nbformat": 4,
 "nbformat_minor": 2
}
