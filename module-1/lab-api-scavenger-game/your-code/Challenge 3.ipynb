{
 "cells": [
  {
   "cell_type": "markdown",
   "metadata": {},
   "source": [
    "# Challenge 3"
   ]
  },
  {
   "cell_type": "code",
   "execution_count": 1,
   "metadata": {},
   "outputs": [],
   "source": [
    "import requests\n",
    "import pandas as pd\n",
    "import json"
   ]
  },
  {
   "cell_type": "code",
   "execution_count": 2,
   "metadata": {},
   "outputs": [],
   "source": [
    "with open('.env') as file:\n",
    "    token = file.read()\n",
    "user = 'pipen319'"
   ]
  },
  {
   "cell_type": "code",
   "execution_count": 3,
   "metadata": {},
   "outputs": [
    {
     "data": {
      "text/plain": [
       "[{'name': '.gitignore',\n",
       "  'path': '.gitignore',\n",
       "  'sha': 'b6f92d85fc0b30eb091cf506d1d8559f28f7aa01',\n",
       "  'size': 41,\n",
       "  'url': 'https://api.github.com/repos/ironhack-datalabs/datamad0419/contents/.gitignore?ref=master',\n",
       "  'html_url': 'https://github.com/ironhack-datalabs/datamad0419/blob/master/.gitignore',\n",
       "  'git_url': 'https://api.github.com/repos/ironhack-datalabs/datamad0419/git/blobs/b6f92d85fc0b30eb091cf506d1d8559f28f7aa01',\n",
       "  'download_url': 'https://raw.githubusercontent.com/ironhack-datalabs/datamad0419/master/.gitignore',\n",
       "  'type': 'file',\n",
       "  '_links': {'self': 'https://api.github.com/repos/ironhack-datalabs/datamad0419/contents/.gitignore?ref=master',\n",
       "   'git': 'https://api.github.com/repos/ironhack-datalabs/datamad0419/git/blobs/b6f92d85fc0b30eb091cf506d1d8559f28f7aa01',\n",
       "   'html': 'https://github.com/ironhack-datalabs/datamad0419/blob/master/.gitignore'}},\n",
       " {'name': 'LICENSE',\n",
       "  'path': 'LICENSE',\n",
       "  'sha': '0ad25db4bd1d86c452db3f9602ccdbe172438f52',\n",
       "  'size': 34523,\n",
       "  'url': 'https://api.github.com/repos/ironhack-datalabs/datamad0419/contents/LICENSE?ref=master',\n",
       "  'html_url': 'https://github.com/ironhack-datalabs/datamad0419/blob/master/LICENSE',\n",
       "  'git_url': 'https://api.github.com/repos/ironhack-datalabs/datamad0419/git/blobs/0ad25db4bd1d86c452db3f9602ccdbe172438f52',\n",
       "  'download_url': 'https://raw.githubusercontent.com/ironhack-datalabs/datamad0419/master/LICENSE',\n",
       "  'type': 'file',\n",
       "  '_links': {'self': 'https://api.github.com/repos/ironhack-datalabs/datamad0419/contents/LICENSE?ref=master',\n",
       "   'git': 'https://api.github.com/repos/ironhack-datalabs/datamad0419/git/blobs/0ad25db4bd1d86c452db3f9602ccdbe172438f52',\n",
       "   'html': 'https://github.com/ironhack-datalabs/datamad0419/blob/master/LICENSE'}},\n",
       " {'name': 'README.md',\n",
       "  'path': 'README.md',\n",
       "  'sha': '8cddd170fce1648718f4e0c0fda5d9b2e63d35a6',\n",
       "  'size': 6142,\n",
       "  'url': 'https://api.github.com/repos/ironhack-datalabs/datamad0419/contents/README.md?ref=master',\n",
       "  'html_url': 'https://github.com/ironhack-datalabs/datamad0419/blob/master/README.md',\n",
       "  'git_url': 'https://api.github.com/repos/ironhack-datalabs/datamad0419/git/blobs/8cddd170fce1648718f4e0c0fda5d9b2e63d35a6',\n",
       "  'download_url': 'https://raw.githubusercontent.com/ironhack-datalabs/datamad0419/master/README.md',\n",
       "  'type': 'file',\n",
       "  '_links': {'self': 'https://api.github.com/repos/ironhack-datalabs/datamad0419/contents/README.md?ref=master',\n",
       "   'git': 'https://api.github.com/repos/ironhack-datalabs/datamad0419/git/blobs/8cddd170fce1648718f4e0c0fda5d9b2e63d35a6',\n",
       "   'html': 'https://github.com/ironhack-datalabs/datamad0419/blob/master/README.md'}},\n",
       " {'name': 'final-project',\n",
       "  'path': 'final-project',\n",
       "  'sha': 'adbdb2b862098b57dd30e1ba89b96e52f3016420',\n",
       "  'size': 0,\n",
       "  'url': 'https://api.github.com/repos/ironhack-datalabs/datamad0419/contents/final-project?ref=master',\n",
       "  'html_url': 'https://github.com/ironhack-datalabs/datamad0419/tree/master/final-project',\n",
       "  'git_url': 'https://api.github.com/repos/ironhack-datalabs/datamad0419/git/trees/adbdb2b862098b57dd30e1ba89b96e52f3016420',\n",
       "  'download_url': None,\n",
       "  'type': 'dir',\n",
       "  '_links': {'self': 'https://api.github.com/repos/ironhack-datalabs/datamad0419/contents/final-project?ref=master',\n",
       "   'git': 'https://api.github.com/repos/ironhack-datalabs/datamad0419/git/trees/adbdb2b862098b57dd30e1ba89b96e52f3016420',\n",
       "   'html': 'https://github.com/ironhack-datalabs/datamad0419/tree/master/final-project'}},\n",
       " {'name': 'images',\n",
       "  'path': 'images',\n",
       "  'sha': '7aadc225975208cacba61a657b50bec523085e85',\n",
       "  'size': 0,\n",
       "  'url': 'https://api.github.com/repos/ironhack-datalabs/datamad0419/contents/images?ref=master',\n",
       "  'html_url': 'https://github.com/ironhack-datalabs/datamad0419/tree/master/images',\n",
       "  'git_url': 'https://api.github.com/repos/ironhack-datalabs/datamad0419/git/trees/7aadc225975208cacba61a657b50bec523085e85',\n",
       "  'download_url': None,\n",
       "  'type': 'dir',\n",
       "  '_links': {'self': 'https://api.github.com/repos/ironhack-datalabs/datamad0419/contents/images?ref=master',\n",
       "   'git': 'https://api.github.com/repos/ironhack-datalabs/datamad0419/git/trees/7aadc225975208cacba61a657b50bec523085e85',\n",
       "   'html': 'https://github.com/ironhack-datalabs/datamad0419/tree/master/images'}},\n",
       " {'name': 'module-1',\n",
       "  'path': 'module-1',\n",
       "  'sha': '219ee482d5f6bb78a744a61c977b0d1a1e1d0813',\n",
       "  'size': 0,\n",
       "  'url': 'https://api.github.com/repos/ironhack-datalabs/datamad0419/contents/module-1?ref=master',\n",
       "  'html_url': 'https://github.com/ironhack-datalabs/datamad0419/tree/master/module-1',\n",
       "  'git_url': 'https://api.github.com/repos/ironhack-datalabs/datamad0419/git/trees/219ee482d5f6bb78a744a61c977b0d1a1e1d0813',\n",
       "  'download_url': None,\n",
       "  'type': 'dir',\n",
       "  '_links': {'self': 'https://api.github.com/repos/ironhack-datalabs/datamad0419/contents/module-1?ref=master',\n",
       "   'git': 'https://api.github.com/repos/ironhack-datalabs/datamad0419/git/trees/219ee482d5f6bb78a744a61c977b0d1a1e1d0813',\n",
       "   'html': 'https://github.com/ironhack-datalabs/datamad0419/tree/master/module-1'}},\n",
       " {'name': 'module-2',\n",
       "  'path': 'module-2',\n",
       "  'sha': 'e56d21fb58985749f36679fb81b3233e8589e500',\n",
       "  'size': 0,\n",
       "  'url': 'https://api.github.com/repos/ironhack-datalabs/datamad0419/contents/module-2?ref=master',\n",
       "  'html_url': 'https://github.com/ironhack-datalabs/datamad0419/tree/master/module-2',\n",
       "  'git_url': 'https://api.github.com/repos/ironhack-datalabs/datamad0419/git/trees/e56d21fb58985749f36679fb81b3233e8589e500',\n",
       "  'download_url': None,\n",
       "  'type': 'dir',\n",
       "  '_links': {'self': 'https://api.github.com/repos/ironhack-datalabs/datamad0419/contents/module-2?ref=master',\n",
       "   'git': 'https://api.github.com/repos/ironhack-datalabs/datamad0419/git/trees/e56d21fb58985749f36679fb81b3233e8589e500',\n",
       "   'html': 'https://github.com/ironhack-datalabs/datamad0419/tree/master/module-2'}},\n",
       " {'name': 'module-3',\n",
       "  'path': 'module-3',\n",
       "  'sha': 'ba58078049f0a74043ef8cf541e334ae509a325b',\n",
       "  'size': 0,\n",
       "  'url': 'https://api.github.com/repos/ironhack-datalabs/datamad0419/contents/module-3?ref=master',\n",
       "  'html_url': 'https://github.com/ironhack-datalabs/datamad0419/tree/master/module-3',\n",
       "  'git_url': 'https://api.github.com/repos/ironhack-datalabs/datamad0419/git/trees/ba58078049f0a74043ef8cf541e334ae509a325b',\n",
       "  'download_url': None,\n",
       "  'type': 'dir',\n",
       "  '_links': {'self': 'https://api.github.com/repos/ironhack-datalabs/datamad0419/contents/module-3?ref=master',\n",
       "   'git': 'https://api.github.com/repos/ironhack-datalabs/datamad0419/git/trees/ba58078049f0a74043ef8cf541e334ae509a325b',\n",
       "   'html': 'https://github.com/ironhack-datalabs/datamad0419/tree/master/module-3'}}]"
      ]
     },
     "execution_count": 3,
     "metadata": {},
     "output_type": "execute_result"
    }
   ],
   "source": [
    "response = requests.get(\"https://api.github.com/repos/ironhack-datalabs/datamad0419/contents\", auth=(user,token))\n",
    "results = response.json()\n",
    "results\n"
   ]
  },
  {
   "cell_type": "code",
   "execution_count": null,
   "metadata": {},
   "outputs": [],
   "source": []
  }
 ],
 "metadata": {
  "kernelspec": {
   "display_name": "Python 3",
   "language": "python",
   "name": "python3"
  },
  "language_info": {
   "codemirror_mode": {
    "name": "ipython",
    "version": 3
   },
   "file_extension": ".py",
   "mimetype": "text/x-python",
   "name": "python",
   "nbconvert_exporter": "python",
   "pygments_lexer": "ipython3",
   "version": "3.7.2"
  }
 },
 "nbformat": 4,
 "nbformat_minor": 2
}
