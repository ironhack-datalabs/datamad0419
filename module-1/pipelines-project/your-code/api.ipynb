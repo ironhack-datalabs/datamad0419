{
 "cells": [
  {
   "cell_type": "code",
   "execution_count": 12,
   "metadata": {},
   "outputs": [],
   "source": [
    "import json\n",
    "import requests\n",
    "import pandas as pd\n",
    "\n",
    "url = 'https://api.harvardartmuseums.org/person?q=gender:male&apikey=90d53660-6a9e-11e9-9b9e-216b7438ac22'\n",
    "response = requests.get(url)\n",
    "datos = response.json()\n",
    "\n"
   ]
  },
  {
   "cell_type": "code",
   "execution_count": 13,
   "metadata": {},
   "outputs": [
    {
     "name": "stdout",
     "output_type": "stream",
     "text": [
      "<class 'dict'>\n"
     ]
    }
   ],
   "source": [
    "datos\n",
    "print(type(datos))"
   ]
  },
  {
   "cell_type": "code",
   "execution_count": 15,
   "metadata": {},
   "outputs": [
    {
     "ename": "AttributeError",
     "evalue": "'list' object has no attribute 'items'",
     "output_type": "error",
     "traceback": [
      "\u001b[0;31m---------------------------------------------------------------------------\u001b[0m",
      "\u001b[0;31mAttributeError\u001b[0m                            Traceback (most recent call last)",
      "\u001b[0;32m<ipython-input-15-4353d8be9240>\u001b[0m in \u001b[0;36m<module>\u001b[0;34m\u001b[0m\n\u001b[0;32m----> 1\u001b[0;31m \u001b[0mdat\u001b[0m \u001b[0;34m=\u001b[0m \u001b[0mpd\u001b[0m\u001b[0;34m.\u001b[0m\u001b[0mDataFrame\u001b[0m\u001b[0;34m.\u001b[0m\u001b[0mfrom_dict\u001b[0m\u001b[0;34m(\u001b[0m\u001b[0mdatos\u001b[0m\u001b[0;34m,\u001b[0m\u001b[0morient\u001b[0m\u001b[0;34m=\u001b[0m\u001b[0;34m'index'\u001b[0m\u001b[0;34m)\u001b[0m\u001b[0;34m\u001b[0m\u001b[0m\n\u001b[0m",
      "\u001b[0;32m~/.local/lib/python3.5/site-packages/pandas/core/frame.py\u001b[0m in \u001b[0;36mfrom_dict\u001b[0;34m(cls, data, orient, dtype, columns)\u001b[0m\n\u001b[1;32m   1126\u001b[0m                 \u001b[0;31m# TODO speed up Series case\u001b[0m\u001b[0;34m\u001b[0m\u001b[0;34m\u001b[0m\u001b[0m\n\u001b[1;32m   1127\u001b[0m                 \u001b[0;32mif\u001b[0m \u001b[0misinstance\u001b[0m\u001b[0;34m(\u001b[0m\u001b[0mlist\u001b[0m\u001b[0;34m(\u001b[0m\u001b[0mdata\u001b[0m\u001b[0;34m.\u001b[0m\u001b[0mvalues\u001b[0m\u001b[0;34m(\u001b[0m\u001b[0;34m)\u001b[0m\u001b[0;34m)\u001b[0m\u001b[0;34m[\u001b[0m\u001b[0;36m0\u001b[0m\u001b[0;34m]\u001b[0m\u001b[0;34m,\u001b[0m \u001b[0;34m(\u001b[0m\u001b[0mSeries\u001b[0m\u001b[0;34m,\u001b[0m \u001b[0mdict\u001b[0m\u001b[0;34m)\u001b[0m\u001b[0;34m)\u001b[0m\u001b[0;34m:\u001b[0m\u001b[0;34m\u001b[0m\u001b[0m\n\u001b[0;32m-> 1128\u001b[0;31m                     \u001b[0mdata\u001b[0m \u001b[0;34m=\u001b[0m \u001b[0m_from_nested_dict\u001b[0m\u001b[0;34m(\u001b[0m\u001b[0mdata\u001b[0m\u001b[0;34m)\u001b[0m\u001b[0;34m\u001b[0m\u001b[0m\n\u001b[0m\u001b[1;32m   1129\u001b[0m                 \u001b[0;32melse\u001b[0m\u001b[0;34m:\u001b[0m\u001b[0;34m\u001b[0m\u001b[0m\n\u001b[1;32m   1130\u001b[0m                     \u001b[0mdata\u001b[0m\u001b[0;34m,\u001b[0m \u001b[0mindex\u001b[0m \u001b[0;34m=\u001b[0m \u001b[0mlist\u001b[0m\u001b[0;34m(\u001b[0m\u001b[0mdata\u001b[0m\u001b[0;34m.\u001b[0m\u001b[0mvalues\u001b[0m\u001b[0;34m(\u001b[0m\u001b[0;34m)\u001b[0m\u001b[0;34m)\u001b[0m\u001b[0;34m,\u001b[0m \u001b[0mlist\u001b[0m\u001b[0;34m(\u001b[0m\u001b[0mdata\u001b[0m\u001b[0;34m.\u001b[0m\u001b[0mkeys\u001b[0m\u001b[0;34m(\u001b[0m\u001b[0;34m)\u001b[0m\u001b[0;34m)\u001b[0m\u001b[0;34m\u001b[0m\u001b[0m\n",
      "\u001b[0;32m~/.local/lib/python3.5/site-packages/pandas/core/frame.py\u001b[0m in \u001b[0;36m_from_nested_dict\u001b[0;34m(data)\u001b[0m\n\u001b[1;32m   7967\u001b[0m     \u001b[0mnew_data\u001b[0m \u001b[0;34m=\u001b[0m \u001b[0mOrderedDict\u001b[0m\u001b[0;34m(\u001b[0m\u001b[0;34m)\u001b[0m\u001b[0;34m\u001b[0m\u001b[0m\n\u001b[1;32m   7968\u001b[0m     \u001b[0;32mfor\u001b[0m \u001b[0mindex\u001b[0m\u001b[0;34m,\u001b[0m \u001b[0ms\u001b[0m \u001b[0;32min\u001b[0m \u001b[0mcompat\u001b[0m\u001b[0;34m.\u001b[0m\u001b[0miteritems\u001b[0m\u001b[0;34m(\u001b[0m\u001b[0mdata\u001b[0m\u001b[0;34m)\u001b[0m\u001b[0;34m:\u001b[0m\u001b[0;34m\u001b[0m\u001b[0m\n\u001b[0;32m-> 7969\u001b[0;31m         \u001b[0;32mfor\u001b[0m \u001b[0mcol\u001b[0m\u001b[0;34m,\u001b[0m \u001b[0mv\u001b[0m \u001b[0;32min\u001b[0m \u001b[0mcompat\u001b[0m\u001b[0;34m.\u001b[0m\u001b[0miteritems\u001b[0m\u001b[0;34m(\u001b[0m\u001b[0ms\u001b[0m\u001b[0;34m)\u001b[0m\u001b[0;34m:\u001b[0m\u001b[0;34m\u001b[0m\u001b[0m\n\u001b[0m\u001b[1;32m   7970\u001b[0m             \u001b[0mnew_data\u001b[0m\u001b[0;34m[\u001b[0m\u001b[0mcol\u001b[0m\u001b[0;34m]\u001b[0m \u001b[0;34m=\u001b[0m \u001b[0mnew_data\u001b[0m\u001b[0;34m.\u001b[0m\u001b[0mget\u001b[0m\u001b[0;34m(\u001b[0m\u001b[0mcol\u001b[0m\u001b[0;34m,\u001b[0m \u001b[0mOrderedDict\u001b[0m\u001b[0;34m(\u001b[0m\u001b[0;34m)\u001b[0m\u001b[0;34m)\u001b[0m\u001b[0;34m\u001b[0m\u001b[0m\n\u001b[1;32m   7971\u001b[0m             \u001b[0mnew_data\u001b[0m\u001b[0;34m[\u001b[0m\u001b[0mcol\u001b[0m\u001b[0;34m]\u001b[0m\u001b[0;34m[\u001b[0m\u001b[0mindex\u001b[0m\u001b[0;34m]\u001b[0m \u001b[0;34m=\u001b[0m \u001b[0mv\u001b[0m\u001b[0;34m\u001b[0m\u001b[0m\n",
      "\u001b[0;32m~/.local/lib/python3.5/site-packages/pandas/compat/__init__.py\u001b[0m in \u001b[0;36miteritems\u001b[0;34m(obj, **kw)\u001b[0m\n\u001b[1;32m    220\u001b[0m \u001b[0;32melse\u001b[0m\u001b[0;34m:\u001b[0m\u001b[0;34m\u001b[0m\u001b[0m\n\u001b[1;32m    221\u001b[0m     \u001b[0;32mdef\u001b[0m \u001b[0miteritems\u001b[0m\u001b[0;34m(\u001b[0m\u001b[0mobj\u001b[0m\u001b[0;34m,\u001b[0m \u001b[0;34m**\u001b[0m\u001b[0mkw\u001b[0m\u001b[0;34m)\u001b[0m\u001b[0;34m:\u001b[0m\u001b[0;34m\u001b[0m\u001b[0m\n\u001b[0;32m--> 222\u001b[0;31m         \u001b[0;32mreturn\u001b[0m \u001b[0miter\u001b[0m\u001b[0;34m(\u001b[0m\u001b[0mobj\u001b[0m\u001b[0;34m.\u001b[0m\u001b[0mitems\u001b[0m\u001b[0;34m(\u001b[0m\u001b[0;34m**\u001b[0m\u001b[0mkw\u001b[0m\u001b[0;34m)\u001b[0m\u001b[0;34m)\u001b[0m\u001b[0;34m\u001b[0m\u001b[0m\n\u001b[0m\u001b[1;32m    223\u001b[0m \u001b[0;34m\u001b[0m\u001b[0m\n\u001b[1;32m    224\u001b[0m     \u001b[0;32mdef\u001b[0m \u001b[0miterkeys\u001b[0m\u001b[0;34m(\u001b[0m\u001b[0mobj\u001b[0m\u001b[0;34m,\u001b[0m \u001b[0;34m**\u001b[0m\u001b[0mkw\u001b[0m\u001b[0;34m)\u001b[0m\u001b[0;34m:\u001b[0m\u001b[0;34m\u001b[0m\u001b[0m\n",
      "\u001b[0;31mAttributeError\u001b[0m: 'list' object has no attribute 'items'"
     ]
    }
   ],
   "source": [
    "dat = pd.DataFrame.from_dict(datos,orient='index')"
   ]
  },
  {
   "cell_type": "code",
   "execution_count": 9,
   "metadata": {},
   "outputs": [
    {
     "data": {
      "text/plain": [
       "'{\"info\": {\"pages\": 305, \"totalrecordsperquery\": 10, \"next\": \"https://api.harvardartmuseums.org/person?q=gender%3Amale&apikey=90d53660-6a9e-11e9-9b9e-216b7438ac22&page=2\", \"page\": 1, \"totalrecords\": 3049}, \"records\": [{\"wikipedia_id\": \"32424583\", \"url\": \"https://www.harvardartmuseums.org/collections/person/7446\", \"gender\": \"male\", \"birthplace\": \"Sarajevo, Bosnia and Herzegovina (Yugoslavia)\", \"alphasort\": \"Poskovic, Endi\", \"dateend\": 9999, \"viaf_id\": \"34421750\", \"deathplace\": null, \"culture\": \"American\", \"objectcount\": 1, \"datebegin\": 1969, \"id\": 7446, \"lastupdate\": \"2019-04-22T03:18:23-0400\", \"displayname\": \"Endi Poskovic\", \"personid\": 7446, \"displaydate\": \"born 1969\"}, {\"url\": \"https://www.harvardartmuseums.org/collections/person/5486\", \"gender\": \"male\", \"birthplace\": null, \"alphasort\": \"Dacey, Kevin Patrick\", \"dateend\": 9999, \"deathplace\": null, \"culture\": \"American\", \"objectcount\": 4, \"datebegin\": 1966, \"id\": 5486, \"lastupdate\": \"2019-04-22T03:18:30-0400\", \"displayname\": \"Kevin Dacey\", \"personid\": 5486, \"displaydate\": \"born 1966\"}, {\"wikipedia_id\": \"52745438\", \"url\": \"https://www.harvardartmuseums.org/collections/person/15378\", \"gender\": \"male\", \"birthplace\": null, \"alphasort\": \"Escholier, Raymond\", \"dateend\": 1971, \"viaf_id\": \"109485477\", \"deathplace\": null, \"culture\": null, \"objectcount\": 0, \"datebegin\": 1882, \"id\": 15378, \"lastupdate\": \"2019-04-22T03:18:34-0400\", \"displayname\": \"Raymond Escholier\", \"personid\": 15378, \"displaydate\": null}, {\"wikipedia_id\": \"2950880\", \"url\": \"https://www.harvardartmuseums.org/collections/person/18818\", \"gender\": \"male\", \"birthplace\": \"L\\\\u00fcbeck\", \"alphasort\": \"Skreber, Dirk\", \"ulan_id\": \"500330021\", \"dateend\": 0, \"viaf_id\": \"273751902\", \"deathplace\": null, \"culture\": \"German\", \"objectcount\": 1, \"datebegin\": 1961, \"id\": 18818, \"lastupdate\": \"2019-04-22T03:18:39-0400\", \"displayname\": \"Dirk Skreber\", \"personid\": 18818, \"displaydate\": \"born 1961\"}, {\"url\": \"https://www.harvardartmuseums.org/collections/person/18982\", \"gender\": \"male\", \"birthplace\": null, \"alphasort\": \"L\\\\u00e9k\\\\u00e9gian, G.\", \"ulan_id\": \"500036512\", \"dateend\": 1899, \"viaf_id\": \"95909644\", \"deathplace\": null, \"culture\": \"French\", \"objectcount\": 21, \"datebegin\": 1860, \"id\": 18982, \"lastupdate\": \"2019-04-22T03:18:39-0400\", \"displayname\": \"G. L\\\\u00e9k\\\\u00e9gian\", \"personid\": 18982, \"displaydate\": \"active Egypt 1860s-1890s\"}, {\"url\": \"https://www.harvardartmuseums.org/collections/person/18537\", \"gender\": \"male\", \"birthplace\": null, \"alphasort\": \"Iwasa, Matabei\", \"dateend\": 1650, \"deathplace\": \"Edo\", \"culture\": \"Japanese\", \"objectcount\": 2, \"datebegin\": 1578, \"id\": 18537, \"lastupdate\": \"2019-04-22T03:18:39-0400\", \"displayname\": \"Iwasa Matabei\", \"personid\": 18537, \"displaydate\": \"1578 - 1650\"}, {\"url\": \"https://www.harvardartmuseums.org/collections/person/18639\", \"gender\": \"male\", \"birthplace\": \"Canig, Germany\", \"alphasort\": \"Drewes, Werner\", \"ulan_id\": \"500013191\", \"dateend\": 1985, \"viaf_id\": \"39650723\", \"deathplace\": \"Reston, Virginia, USA\", \"culture\": \"German\", \"objectcount\": 9, \"datebegin\": 1899, \"id\": 18639, \"lastupdate\": \"2019-04-22T03:18:40-0400\", \"displayname\": \"Werner Drewes\", \"personid\": 18639, \"displaydate\": \"1899 - 1985\"}, {\"url\": \"https://www.harvardartmuseums.org/collections/person/9239\", \"gender\": \"male\", \"birthplace\": null, \"alphasort\": \"Wick, Peter A.\", \"dateend\": 0, \"deathplace\": null, \"culture\": null, \"objectcount\": 0, \"datebegin\": 0, \"id\": 9239, \"lastupdate\": \"2019-04-22T03:18:42-0400\", \"displayname\": \"Peter A. Wick\", \"personid\": 9239, \"displaydate\": null}, {\"url\": \"https://www.harvardartmuseums.org/collections/person/19040\", \"gender\": \"male\", \"birthplace\": null, \"alphasort\": \"Kojima, S\\\\u014dshin\", \"dateend\": 1655, \"deathplace\": null, \"culture\": \"Japanese\", \"objectcount\": 0, \"datebegin\": 1580, \"id\": 19040, \"lastupdate\": \"2019-04-22T03:18:42-0400\", \"displayname\": \"Kojima S\\\\u014dshin\", \"personid\": 19040, \"displaydate\": \"1580 - circa 1655\"}, {\"url\": \"https://www.harvardartmuseums.org/collections/person/19144\", \"gender\": \"male\", \"birthplace\": null, \"alphasort\": \"Kantor, Jordan\", \"dateend\": 0, \"viaf_id\": \"95339102\", \"deathplace\": null, \"culture\": \"American\", \"objectcount\": 5, \"datebegin\": 1972, \"id\": 19144, \"lastupdate\": \"2019-04-22T03:18:42-0400\", \"displayname\": \"Jordan Kantor\", \"personid\": 19144, \"displaydate\": \"born 1972\"}]}'"
      ]
     },
     "execution_count": 9,
     "metadata": {},
     "output_type": "execute_result"
    }
   ],
   "source": [
    "data= json.dumps(datos)\n",
    "data"
   ]
  },
  {
   "cell_type": "code",
   "execution_count": null,
   "metadata": {},
   "outputs": [],
   "source": []
  }
 ],
 "metadata": {
  "kernelspec": {
   "display_name": "Python 3",
   "language": "python",
   "name": "python3"
  },
  "language_info": {
   "codemirror_mode": {
    "name": "ipython",
    "version": 3
   },
   "file_extension": ".py",
   "mimetype": "text/x-python",
   "name": "python",
   "nbconvert_exporter": "python",
   "pygments_lexer": "ipython3",
   "version": "3.5.2"
  }
 },
 "nbformat": 4,
 "nbformat_minor": 2
}
