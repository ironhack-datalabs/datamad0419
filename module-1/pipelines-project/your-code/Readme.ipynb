{
 "cells": [
  {
   "cell_type": "markdown",
   "metadata": {},
   "source": [
    "Readme\n",
    "\n",
    "\n",
    "El presente trabajo tratará de poner en vigencia una de las principales reinvidicaciones que realizaron y que siguen ejerciendo el colectivo Guerrilla Girl.\n",
    "\n",
    "Este colectivo (https://www.guerrillagirls.com/) surgió en 1985 en respuesta a una exposición que se realizó en el MoMa, en la cual se presentó una exposición con los artistas mas importantes del siglo XX y no participaba ninguna mujer.\n"
   ]
  },
  {
   "cell_type": "code",
   "execution_count": null,
   "metadata": {},
   "outputs": [],
   "source": [
    "![alt text](mujeresmuseo.jpeg \"mujeres museo\")"
   ]
  },
  {
   "cell_type": "markdown",
   "metadata": {},
   "source": [
    "Una de las reinvindicaciones por las cuales surgió y que perdura en la actualidad es el bajo número de mujeres artistas que se encuentran en los museos.\n",
    "En este trabajo se va a intentar verificar si las reinvindicación de que solamente un 5% de las artistas en el MoMa son mujeres y si esta lucha por parte de este colectivo ha tenido una influencia en el mundo de los museos de arte"
   ]
  },
  {
   "cell_type": "markdown",
   "metadata": {},
   "source": [
    "Por ello en un primer momento tomaremos desde la base de datos del museo, los  artistas y obras que se encuentran en su catálogo, en esto es bueno señalar que en exposición se suele tener un número de obras pero en los almacenes "
   ]
  }
 ],
 "metadata": {
  "kernelspec": {
   "display_name": "Python 3",
   "language": "python",
   "name": "python3"
  },
  "language_info": {
   "codemirror_mode": {
    "name": "ipython",
    "version": 3
   },
   "file_extension": ".py",
   "mimetype": "text/x-python",
   "name": "python",
   "nbconvert_exporter": "python",
   "pygments_lexer": "ipython3",
   "version": "3.5.2"
  }
 },
 "nbformat": 4,
 "nbformat_minor": 2
}
