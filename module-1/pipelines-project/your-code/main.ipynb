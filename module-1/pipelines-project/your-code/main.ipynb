{
 "cells": [
  {
   "cell_type": "code",
   "execution_count": 1,
   "metadata": {},
   "outputs": [
    {
     "name": "stdout",
     "output_type": "stream",
     "text": [
      "Using matplotlib backend: Qt5Agg\n"
     ]
    }
   ],
   "source": [
    "%matplotlib\n",
    "import pandas as pd\n",
    "import numpy as np\n",
    "import re\n",
    "import matplotlib.pyplot as plt\n",
    "import seaborn as sns"
   ]
  },
  {
   "cell_type": "markdown",
   "metadata": {},
   "source": [
    "## Acquisition"
   ]
  },
  {
   "cell_type": "code",
   "execution_count": 7,
   "metadata": {
    "scrolled": true
   },
   "outputs": [
    {
     "data": {
      "text/html": [
       "<div>\n",
       "<style scoped>\n",
       "    .dataframe tbody tr th:only-of-type {\n",
       "        vertical-align: middle;\n",
       "    }\n",
       "\n",
       "    .dataframe tbody tr th {\n",
       "        vertical-align: top;\n",
       "    }\n",
       "\n",
       "    .dataframe thead th {\n",
       "        text-align: right;\n",
       "    }\n",
       "</style>\n",
       "<table border=\"1\" class=\"dataframe\">\n",
       "  <thead>\n",
       "    <tr style=\"text-align: right;\">\n",
       "      <th></th>\n",
       "      <th>Area Abbreviation</th>\n",
       "      <th>Area Code</th>\n",
       "      <th>Area</th>\n",
       "      <th>Item Code</th>\n",
       "      <th>Item</th>\n",
       "      <th>Element Code</th>\n",
       "      <th>Element</th>\n",
       "      <th>Unit</th>\n",
       "      <th>latitude</th>\n",
       "      <th>longitude</th>\n",
       "      <th>...</th>\n",
       "      <th>Y2004</th>\n",
       "      <th>Y2005</th>\n",
       "      <th>Y2006</th>\n",
       "      <th>Y2007</th>\n",
       "      <th>Y2008</th>\n",
       "      <th>Y2009</th>\n",
       "      <th>Y2010</th>\n",
       "      <th>Y2011</th>\n",
       "      <th>Y2012</th>\n",
       "      <th>Y2013</th>\n",
       "    </tr>\n",
       "  </thead>\n",
       "  <tbody>\n",
       "    <tr>\n",
       "      <th>0</th>\n",
       "      <td>AFG</td>\n",
       "      <td>2</td>\n",
       "      <td>Afghanistan</td>\n",
       "      <td>2511</td>\n",
       "      <td>Wheat and products</td>\n",
       "      <td>5142</td>\n",
       "      <td>Food</td>\n",
       "      <td>1000 tonnes</td>\n",
       "      <td>33.94</td>\n",
       "      <td>67.71</td>\n",
       "      <td>...</td>\n",
       "      <td>3249.0</td>\n",
       "      <td>3486.0</td>\n",
       "      <td>3704.0</td>\n",
       "      <td>4164.0</td>\n",
       "      <td>4252.0</td>\n",
       "      <td>4538.0</td>\n",
       "      <td>4605.0</td>\n",
       "      <td>4711.0</td>\n",
       "      <td>4810</td>\n",
       "      <td>4895</td>\n",
       "    </tr>\n",
       "    <tr>\n",
       "      <th>1</th>\n",
       "      <td>AFG</td>\n",
       "      <td>2</td>\n",
       "      <td>Afghanistan</td>\n",
       "      <td>2805</td>\n",
       "      <td>Rice (Milled Equivalent)</td>\n",
       "      <td>5142</td>\n",
       "      <td>Food</td>\n",
       "      <td>1000 tonnes</td>\n",
       "      <td>33.94</td>\n",
       "      <td>67.71</td>\n",
       "      <td>...</td>\n",
       "      <td>419.0</td>\n",
       "      <td>445.0</td>\n",
       "      <td>546.0</td>\n",
       "      <td>455.0</td>\n",
       "      <td>490.0</td>\n",
       "      <td>415.0</td>\n",
       "      <td>442.0</td>\n",
       "      <td>476.0</td>\n",
       "      <td>425</td>\n",
       "      <td>422</td>\n",
       "    </tr>\n",
       "    <tr>\n",
       "      <th>2</th>\n",
       "      <td>AFG</td>\n",
       "      <td>2</td>\n",
       "      <td>Afghanistan</td>\n",
       "      <td>2513</td>\n",
       "      <td>Barley and products</td>\n",
       "      <td>5521</td>\n",
       "      <td>Feed</td>\n",
       "      <td>1000 tonnes</td>\n",
       "      <td>33.94</td>\n",
       "      <td>67.71</td>\n",
       "      <td>...</td>\n",
       "      <td>58.0</td>\n",
       "      <td>236.0</td>\n",
       "      <td>262.0</td>\n",
       "      <td>263.0</td>\n",
       "      <td>230.0</td>\n",
       "      <td>379.0</td>\n",
       "      <td>315.0</td>\n",
       "      <td>203.0</td>\n",
       "      <td>367</td>\n",
       "      <td>360</td>\n",
       "    </tr>\n",
       "    <tr>\n",
       "      <th>3</th>\n",
       "      <td>AFG</td>\n",
       "      <td>2</td>\n",
       "      <td>Afghanistan</td>\n",
       "      <td>2513</td>\n",
       "      <td>Barley and products</td>\n",
       "      <td>5142</td>\n",
       "      <td>Food</td>\n",
       "      <td>1000 tonnes</td>\n",
       "      <td>33.94</td>\n",
       "      <td>67.71</td>\n",
       "      <td>...</td>\n",
       "      <td>185.0</td>\n",
       "      <td>43.0</td>\n",
       "      <td>44.0</td>\n",
       "      <td>48.0</td>\n",
       "      <td>62.0</td>\n",
       "      <td>55.0</td>\n",
       "      <td>60.0</td>\n",
       "      <td>72.0</td>\n",
       "      <td>78</td>\n",
       "      <td>89</td>\n",
       "    </tr>\n",
       "    <tr>\n",
       "      <th>4</th>\n",
       "      <td>AFG</td>\n",
       "      <td>2</td>\n",
       "      <td>Afghanistan</td>\n",
       "      <td>2514</td>\n",
       "      <td>Maize and products</td>\n",
       "      <td>5521</td>\n",
       "      <td>Feed</td>\n",
       "      <td>1000 tonnes</td>\n",
       "      <td>33.94</td>\n",
       "      <td>67.71</td>\n",
       "      <td>...</td>\n",
       "      <td>120.0</td>\n",
       "      <td>208.0</td>\n",
       "      <td>233.0</td>\n",
       "      <td>249.0</td>\n",
       "      <td>247.0</td>\n",
       "      <td>195.0</td>\n",
       "      <td>178.0</td>\n",
       "      <td>191.0</td>\n",
       "      <td>200</td>\n",
       "      <td>200</td>\n",
       "    </tr>\n",
       "  </tbody>\n",
       "</table>\n",
       "<p>5 rows × 63 columns</p>\n",
       "</div>"
      ],
      "text/plain": [
       "  Area Abbreviation  Area Code         Area  Item Code  \\\n",
       "0               AFG          2  Afghanistan       2511   \n",
       "1               AFG          2  Afghanistan       2805   \n",
       "2               AFG          2  Afghanistan       2513   \n",
       "3               AFG          2  Afghanistan       2513   \n",
       "4               AFG          2  Afghanistan       2514   \n",
       "\n",
       "                       Item  Element Code Element         Unit  latitude  \\\n",
       "0        Wheat and products          5142    Food  1000 tonnes     33.94   \n",
       "1  Rice (Milled Equivalent)          5142    Food  1000 tonnes     33.94   \n",
       "2       Barley and products          5521    Feed  1000 tonnes     33.94   \n",
       "3       Barley and products          5142    Food  1000 tonnes     33.94   \n",
       "4        Maize and products          5521    Feed  1000 tonnes     33.94   \n",
       "\n",
       "   longitude  ...   Y2004   Y2005   Y2006   Y2007   Y2008   Y2009   Y2010  \\\n",
       "0      67.71  ...  3249.0  3486.0  3704.0  4164.0  4252.0  4538.0  4605.0   \n",
       "1      67.71  ...   419.0   445.0   546.0   455.0   490.0   415.0   442.0   \n",
       "2      67.71  ...    58.0   236.0   262.0   263.0   230.0   379.0   315.0   \n",
       "3      67.71  ...   185.0    43.0    44.0    48.0    62.0    55.0    60.0   \n",
       "4      67.71  ...   120.0   208.0   233.0   249.0   247.0   195.0   178.0   \n",
       "\n",
       "    Y2011  Y2012  Y2013  \n",
       "0  4711.0   4810   4895  \n",
       "1   476.0    425    422  \n",
       "2   203.0    367    360  \n",
       "3    72.0     78     89  \n",
       "4   191.0    200    200  \n",
       "\n",
       "[5 rows x 63 columns]"
      ]
     },
     "execution_count": 7,
     "metadata": {},
     "output_type": "execute_result"
    }
   ],
   "source": [
    "data = pd.read_csv('./data/FAO.csv', encoding='latin1')\n",
    "data.head()"
   ]
  },
  {
   "cell_type": "markdown",
   "metadata": {},
   "source": [
    "## Wrangling\n",
    "Consultamos la información del dataframe"
   ]
  },
  {
   "cell_type": "code",
   "execution_count": 14,
   "metadata": {},
   "outputs": [
    {
     "name": "stdout",
     "output_type": "stream",
     "text": [
      "<class 'pandas.core.frame.DataFrame'>\n",
      "RangeIndex: 21477 entries, 0 to 21476\n",
      "Data columns (total 63 columns):\n",
      "Area Abbreviation    21477 non-null object\n",
      "Area Code            21477 non-null int64\n",
      "Area                 21477 non-null object\n",
      "Item Code            21477 non-null int64\n",
      "Item                 21477 non-null object\n",
      "Element Code         21477 non-null int64\n",
      "Element              21477 non-null object\n",
      "Unit                 21477 non-null object\n",
      "latitude             21477 non-null float64\n",
      "longitude            21477 non-null float64\n",
      "Y1961                17938 non-null float64\n",
      "Y1962                17938 non-null float64\n",
      "Y1963                17938 non-null float64\n",
      "Y1964                17938 non-null float64\n",
      "Y1965                17938 non-null float64\n",
      "Y1966                17938 non-null float64\n",
      "Y1967                17938 non-null float64\n",
      "Y1968                17938 non-null float64\n",
      "Y1969                17938 non-null float64\n",
      "Y1970                17938 non-null float64\n",
      "Y1971                17938 non-null float64\n",
      "Y1972                17938 non-null float64\n",
      "Y1973                17938 non-null float64\n",
      "Y1974                17938 non-null float64\n",
      "Y1975                17938 non-null float64\n",
      "Y1976                17938 non-null float64\n",
      "Y1977                17938 non-null float64\n",
      "Y1978                17938 non-null float64\n",
      "Y1979                17938 non-null float64\n",
      "Y1980                17938 non-null float64\n",
      "Y1981                17938 non-null float64\n",
      "Y1982                17938 non-null float64\n",
      "Y1983                17938 non-null float64\n",
      "Y1984                17938 non-null float64\n",
      "Y1985                17938 non-null float64\n",
      "Y1986                17938 non-null float64\n",
      "Y1987                17938 non-null float64\n",
      "Y1988                17938 non-null float64\n",
      "Y1989                17938 non-null float64\n",
      "Y1990                18062 non-null float64\n",
      "Y1991                18062 non-null float64\n",
      "Y1992                20490 non-null float64\n",
      "Y1993                20865 non-null float64\n",
      "Y1994                20865 non-null float64\n",
      "Y1995                20865 non-null float64\n",
      "Y1996                20865 non-null float64\n",
      "Y1997                20865 non-null float64\n",
      "Y1998                20865 non-null float64\n",
      "Y1999                20865 non-null float64\n",
      "Y2000                21128 non-null float64\n",
      "Y2001                21128 non-null float64\n",
      "Y2002                21128 non-null float64\n",
      "Y2003                21128 non-null float64\n",
      "Y2004                21128 non-null float64\n",
      "Y2005                21128 non-null float64\n",
      "Y2006                21373 non-null float64\n",
      "Y2007                21373 non-null float64\n",
      "Y2008                21373 non-null float64\n",
      "Y2009                21373 non-null float64\n",
      "Y2010                21373 non-null float64\n",
      "Y2011                21373 non-null float64\n",
      "Y2012                21477 non-null int64\n",
      "Y2013                21477 non-null int64\n",
      "dtypes: float64(53), int64(5), object(5)\n",
      "memory usage: 10.3+ MB\n"
     ]
    }
   ],
   "source": [
    "data.info()"
   ]
  },
  {
   "cell_type": "code",
   "execution_count": 10,
   "metadata": {},
   "outputs": [
    {
     "data": {
      "text/plain": [
       "['Area Abbreviation',\n",
       " 'Area Code',\n",
       " 'Area',\n",
       " 'Item Code',\n",
       " 'Item',\n",
       " 'Element Code',\n",
       " 'Element',\n",
       " 'Unit',\n",
       " 'latitude',\n",
       " 'longitude',\n",
       " '1961',\n",
       " '1962',\n",
       " '1963',\n",
       " '1964',\n",
       " '1965',\n",
       " '1966',\n",
       " '1967',\n",
       " '1968',\n",
       " '1969',\n",
       " '1970',\n",
       " '1971',\n",
       " '1972',\n",
       " '1973',\n",
       " '1974',\n",
       " '1975',\n",
       " '1976',\n",
       " '1977',\n",
       " '1978',\n",
       " '1979',\n",
       " '1980',\n",
       " '1981',\n",
       " '1982',\n",
       " '1983',\n",
       " '1984',\n",
       " '1985',\n",
       " '1986',\n",
       " '1987',\n",
       " '1988',\n",
       " '1989',\n",
       " '1990',\n",
       " '1991',\n",
       " '1992',\n",
       " '1993',\n",
       " '1994',\n",
       " '1995',\n",
       " '1996',\n",
       " '1997',\n",
       " '1998',\n",
       " '1999',\n",
       " '2000',\n",
       " '2001',\n",
       " '2002',\n",
       " '2003',\n",
       " '2004',\n",
       " '2005',\n",
       " '2006',\n",
       " '2007',\n",
       " '2008',\n",
       " '2009',\n",
       " '2010',\n",
       " '2011',\n",
       " '2012',\n",
       " '2013']"
      ]
     },
     "execution_count": 10,
     "metadata": {},
     "output_type": "execute_result"
    }
   ],
   "source": [
    "#Podemos ver que las columnas comienzan con 'Y', vamos a elimminar este caracter para que la columna sea unicamente el año.\n",
    "def renombra_columnas_year(c):\n",
    "    if re.match('^(?=.*[0-9])', c):\n",
    "        return c[1:]\n",
    "    else:\n",
    "        return c\n",
    "\n",
    "data_columns = [renombra_columnas_year(c) for c in data.columns]\n",
    "data_columns"
   ]
  },
  {
   "cell_type": "code",
   "execution_count": null,
   "metadata": {},
   "outputs": [],
   "source": [
    "\n"
   ]
  },
  {
   "cell_type": "code",
   "execution_count": null,
   "metadata": {},
   "outputs": [],
   "source": []
  },
  {
   "cell_type": "code",
   "execution_count": 12,
   "metadata": {},
   "outputs": [
    {
     "name": "stdout",
     "output_type": "stream",
     "text": [
      "Registros duplicados eliminados: 0\n"
     ]
    }
   ],
   "source": [
    "def remover_duplicados(dataframe, columnas = []):\n",
    "    antes = len(dataframe)\n",
    "    dataframe = dataframe[columnas].drop_duplicates()\n",
    "    despues = len(dataframe)\n",
    "    total = antes - despues\n",
    "    print('Registros duplicados eliminados: {}'.format(total))\n",
    "    return dataframe\n",
    "\n",
    "temporal = remover_duplicados(data)"
   ]
  },
  {
   "cell_type": "code",
   "execution_count": 15,
   "metadata": {},
   "outputs": [
    {
     "name": "stdout",
     "output_type": "stream",
     "text": [
      "Y1961    3539\n",
      "Y1962    3539\n",
      "Y1963    3539\n",
      "Y1964    3539\n",
      "Y1965    3539\n",
      "Y1966    3539\n",
      "Y1967    3539\n",
      "Y1968    3539\n",
      "Y1969    3539\n",
      "Y1970    3539\n",
      "Y1971    3539\n",
      "Y1972    3539\n",
      "Y1973    3539\n",
      "Y1974    3539\n",
      "Y1975    3539\n",
      "Y1976    3539\n",
      "Y1977    3539\n",
      "Y1978    3539\n",
      "Y1979    3539\n",
      "Y1980    3539\n",
      "Y1981    3539\n",
      "Y1982    3539\n",
      "Y1983    3539\n",
      "Y1984    3539\n",
      "Y1985    3539\n",
      "Y1986    3539\n",
      "Y1987    3539\n",
      "Y1988    3539\n",
      "Y1989    3539\n",
      "Y1990    3415\n",
      "Y1991    3415\n",
      "Y1992     987\n",
      "Y1993     612\n",
      "Y1994     612\n",
      "Y1995     612\n",
      "Y1996     612\n",
      "Y1997     612\n",
      "Y1998     612\n",
      "Y1999     612\n",
      "Y2000     349\n",
      "Y2001     349\n",
      "Y2002     349\n",
      "Y2003     349\n",
      "Y2004     349\n",
      "Y2005     349\n",
      "Y2006     104\n",
      "Y2007     104\n",
      "Y2008     104\n",
      "Y2009     104\n",
      "Y2010     104\n",
      "Y2011     104\n",
      "dtype: int64\n"
     ]
    }
   ],
   "source": [
    "def nulos(dataframe):\n",
    "    null_cols = dataframe.isnull().sum()\n",
    "    print(null_cols[null_cols > 0])\n",
    "    return null_cols\n",
    "\n",
    "#Vemos que los nulos están en las columnas de años\n",
    "null_cols = nulos(data)"
   ]
  },
  {
   "cell_type": "code",
   "execution_count": null,
   "metadata": {},
   "outputs": [],
   "source": [
    "data.info() #mostramos la información de todas las columnas"
   ]
  },
  {
   "cell_type": "code",
   "execution_count": null,
   "metadata": {},
   "outputs": [],
   "source": [
    "#Crea una función para comprobar los nulos\n",
    "def nulos(dataframe):\n",
    "    null_cols = dataframe.isnull().sum()\n",
    "    print(null_cols[null_cols > 0])\n",
    "    return null_cols\n",
    "\n",
    "#Vemos que los nulos están en las columnas de años\n",
    "null_cols = nulos(data)"
   ]
  },
  {
   "cell_type": "code",
   "execution_count": null,
   "metadata": {},
   "outputs": [],
   "source": [
    "data.describe()"
   ]
  },
  {
   "cell_type": "code",
   "execution_count": null,
   "metadata": {},
   "outputs": [],
   "source": [
    "null_cols = data.isnull().sum()\n",
    "null_cols[null_cols > 0]"
   ]
  },
  {
   "cell_type": "code",
   "execution_count": null,
   "metadata": {},
   "outputs": [],
   "source": [
    "set(data['Element'])"
   ]
  },
  {
   "cell_type": "code",
   "execution_count": null,
   "metadata": {},
   "outputs": [],
   "source": [
    "set(data['Area'])"
   ]
  },
  {
   "cell_type": "code",
   "execution_count": null,
   "metadata": {},
   "outputs": [],
   "source": [
    "set(data['Unit'])\n",
    "data['Unit'].value_counts()"
   ]
  },
  {
   "cell_type": "markdown",
   "metadata": {},
   "source": [
    "## Analysis"
   ]
  },
  {
   "cell_type": "code",
   "execution_count": null,
   "metadata": {},
   "outputs": [],
   "source": []
  },
  {
   "cell_type": "code",
   "execution_count": null,
   "metadata": {},
   "outputs": [],
   "source": []
  },
  {
   "cell_type": "markdown",
   "metadata": {},
   "source": [
    "## Reporting"
   ]
  },
  {
   "cell_type": "code",
   "execution_count": null,
   "metadata": {},
   "outputs": [],
   "source": []
  }
 ],
 "metadata": {
  "kernelspec": {
   "display_name": "Python 3",
   "language": "python",
   "name": "python3"
  },
  "language_info": {
   "codemirror_mode": {
    "name": "ipython",
    "version": 3
   },
   "file_extension": ".py",
   "mimetype": "text/x-python",
   "name": "python",
   "nbconvert_exporter": "python",
   "pygments_lexer": "ipython3",
   "version": "3.7.3"
  }
 },
 "nbformat": 4,
 "nbformat_minor": 2
}
