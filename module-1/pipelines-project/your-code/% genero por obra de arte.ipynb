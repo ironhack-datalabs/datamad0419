{
 "cells": [
  {
   "cell_type": "markdown",
   "metadata": {},
   "source": [
    "![alt text](29984_guerrilla-girls.jpg \"Title\")"
   ]
  },
  {
   "cell_type": "code",
   "execution_count": 1,
   "metadata": {},
   "outputs": [],
   "source": [
    "import numpy as np\n",
    "import pandas as pd"
   ]
  },
  {
   "cell_type": "code",
   "execution_count": 2,
   "metadata": {},
   "outputs": [],
   "source": [
    "#abrir bases de datos\n",
    "artista = pd.read_csv('artists.csv')\n",
    "obras= pd.read_csv('artworks.csv')"
   ]
  },
  {
   "cell_type": "code",
   "execution_count": 3,
   "metadata": {},
   "outputs": [],
   "source": [
    "#renombrarmos una columnas para mejor comprension futura\n",
    "obras=obras.rename(columns={\"Artist ID\":'Artist_ID'})\n",
    "artista=artista.rename(columns={\"Artist ID\":'Artist_ID'})\n"
   ]
  },
  {
   "cell_type": "code",
   "execution_count": 4,
   "metadata": {},
   "outputs": [
    {
     "name": "stdout",
     "output_type": "stream",
     "text": [
      "<class 'pandas.core.frame.DataFrame'>\n",
      "RangeIndex: 15091 entries, 0 to 15090\n",
      "Data columns (total 6 columns):\n",
      "Artist_ID      15091 non-null int64\n",
      "Name           15091 non-null object\n",
      "Nationality    12603 non-null object\n",
      "Gender         12019 non-null object\n",
      "Birth Year     11237 non-null float64\n",
      "Death Year     4579 non-null float64\n",
      "dtypes: float64(2), int64(1), object(3)\n",
      "memory usage: 707.5+ KB\n",
      "None\n",
      "<class 'pandas.core.frame.DataFrame'>\n",
      "RangeIndex: 130262 entries, 0 to 130261\n",
      "Data columns (total 21 columns):\n",
      "Artwork ID            130262 non-null int64\n",
      "Title                 130210 non-null object\n",
      "Artist_ID             128802 non-null object\n",
      "Name                  128802 non-null object\n",
      "Date                  127950 non-null object\n",
      "Medium                118343 non-null object\n",
      "Dimensions            118799 non-null object\n",
      "Acquisition Date      124799 non-null object\n",
      "Credit                127192 non-null object\n",
      "Catalogue             130262 non-null object\n",
      "Department            130262 non-null object\n",
      "Classification        130262 non-null object\n",
      "Object Number         130262 non-null object\n",
      "Diameter (cm)         1399 non-null float64\n",
      "Circumference (cm)    10 non-null float64\n",
      "Height (cm)           111893 non-null float64\n",
      "Length (cm)           736 non-null float64\n",
      "Width (cm)            111003 non-null float64\n",
      "Depth (cm)            11443 non-null float64\n",
      "Weight (kg)           298 non-null float64\n",
      "Duration (s)          3084 non-null float64\n",
      "dtypes: float64(8), int64(1), object(12)\n",
      "memory usage: 20.9+ MB\n",
      "None\n"
     ]
    }
   ],
   "source": [
    "#vemos como es la informacion \n",
    "print(artista.info())\n",
    "print(obras.info())"
   ]
  },
  {
   "cell_type": "code",
   "execution_count": 5,
   "metadata": {},
   "outputs": [
    {
     "name": "stdout",
     "output_type": "stream",
     "text": [
      "<class 'pandas.core.frame.DataFrame'>\n",
      "RangeIndex: 130262 entries, 0 to 130261\n",
      "Data columns (total 21 columns):\n",
      "Artwork ID            130262 non-null int64\n",
      "Title                 130210 non-null object\n",
      "Artist_ID             130262 non-null int64\n",
      "Name                  128802 non-null object\n",
      "Date                  127950 non-null object\n",
      "Medium                118343 non-null object\n",
      "Dimensions            118799 non-null object\n",
      "Acquisition Date      124799 non-null object\n",
      "Credit                127192 non-null object\n",
      "Catalogue             130262 non-null object\n",
      "Department            130262 non-null object\n",
      "Classification        130262 non-null object\n",
      "Object Number         130262 non-null object\n",
      "Diameter (cm)         1399 non-null float64\n",
      "Circumference (cm)    10 non-null float64\n",
      "Height (cm)           111893 non-null float64\n",
      "Length (cm)           736 non-null float64\n",
      "Width (cm)            111003 non-null float64\n",
      "Depth (cm)            11443 non-null float64\n",
      "Weight (kg)           298 non-null float64\n",
      "Duration (s)          3084 non-null float64\n",
      "dtypes: float64(8), int64(2), object(11)\n",
      "memory usage: 20.9+ MB\n"
     ]
    }
   ],
   "source": [
    "#limpiamos la variable Artist_ID\n",
    "obras['Artist_ID'] = obras['Artist_ID'].fillna(0)\n",
    "lista=[]\n",
    "for a in obras['Artist_ID']:\n",
    "    if len(list(str(a).split(','))) >= 2:\n",
    "        lista.append(0)\n",
    "    else:\n",
    "        lista.append(a)\n",
    "obras=obras.assign(Artist_ID=lista)\n",
    "obras['Artist_ID'] = obras[\"Artist_ID\"].astype(int)\n",
    "obras.info()"
   ]
  },
  {
   "cell_type": "code",
   "execution_count": 6,
   "metadata": {},
   "outputs": [],
   "source": [
    "#unimos las bases de datos\n",
    "moma = pd.merge(obras, artista, on='Artist_ID',how='inner')"
   ]
  },
  {
   "cell_type": "code",
   "execution_count": 7,
   "metadata": {},
   "outputs": [
    {
     "name": "stdout",
     "output_type": "stream",
     "text": [
      "<class 'pandas.core.frame.DataFrame'>\n",
      "Int64Index: 122373 entries, 0 to 122372\n",
      "Data columns (total 26 columns):\n",
      "Artwork ID            122373 non-null int64\n",
      "Title                 122349 non-null object\n",
      "Artist_ID             122373 non-null int64\n",
      "Name_x                122373 non-null object\n",
      "Date                  120682 non-null object\n",
      "Medium                111144 non-null object\n",
      "Dimensions            112025 non-null object\n",
      "Acquisition Date      117243 non-null object\n",
      "Credit                119698 non-null object\n",
      "Catalogue             122373 non-null object\n",
      "Department            122373 non-null object\n",
      "Classification        122373 non-null object\n",
      "Object Number         122373 non-null object\n",
      "Diameter (cm)         1275 non-null float64\n",
      "Circumference (cm)    9 non-null float64\n",
      "Height (cm)           105524 non-null float64\n",
      "Length (cm)           669 non-null float64\n",
      "Width (cm)            104714 non-null float64\n",
      "Depth (cm)            9281 non-null float64\n",
      "Weight (kg)           291 non-null float64\n",
      "Duration (s)          2566 non-null float64\n",
      "Name_y                122373 non-null object\n",
      "Nationality           119063 non-null object\n",
      "Gender                116177 non-null object\n",
      "Birth Year            115218 non-null float64\n",
      "Death Year            77162 non-null float64\n",
      "dtypes: float64(10), int64(2), object(14)\n",
      "memory usage: 25.2+ MB\n"
     ]
    }
   ],
   "source": [
    "moma.info()"
   ]
  },
  {
   "cell_type": "code",
   "execution_count": 30,
   "metadata": {},
   "outputs": [],
   "source": [
    "#limpiamos variable genero y calculamos % del genero de los artistas\n",
    "def Genero_autores(moma):\n",
    "    moma['Gender'] = moma['Gender'].str.replace('male', 'Male')\n",
    "    moma['Gender'] = moma['Gender'].str.replace('FeMale', 'Female')\n",
    "    moma['Gender'] = moma['Gender'].fillna('Unknown')\n",
    "    Unknown=(moma[(moma[\"Gender\"]==\"Unknown\")][\"Gender\"].value_counts()/len(moma[\"Gender\"])*100)\n",
    "    Unknown=\"% .2f\" %Unknown[0]\n",
    "    Male=(moma[(moma[\"Gender\"]==\"Male\")][\"Gender\"].value_counts()/len(moma[\"Gender\"])*100)\n",
    "    Male=\"% .2f\"%Male[0]\n",
    "    Female=(moma[(moma[\"Gender\"]==\"Female\")][\"Gender\"].value_counts()/len(moma[\"Gender\"])*100)\n",
    "    Female=\"% .2f\"%Female[0]\n",
    "    porcentaje= {\"Unknown\":[Unknown],\"Male\":[Male],\"Female\":[Female]}\n",
    "    Total=pd.DataFrame(data=porcentaje).T\n",
    "    Total2=Total.rename(columns={0:'%Gender_authors'})\n",
    "    return Total2"
   ]
  },
  {
   "cell_type": "code",
   "execution_count": 31,
   "metadata": {},
   "outputs": [
    {
     "data": {
      "text/html": [
       "<div>\n",
       "<style scoped>\n",
       "    .dataframe tbody tr th:only-of-type {\n",
       "        vertical-align: middle;\n",
       "    }\n",
       "\n",
       "    .dataframe tbody tr th {\n",
       "        vertical-align: top;\n",
       "    }\n",
       "\n",
       "    .dataframe thead th {\n",
       "        text-align: right;\n",
       "    }\n",
       "</style>\n",
       "<table border=\"1\" class=\"dataframe\">\n",
       "  <thead>\n",
       "    <tr style=\"text-align: right;\">\n",
       "      <th></th>\n",
       "      <th>%Gender_authors</th>\n",
       "    </tr>\n",
       "  </thead>\n",
       "  <tbody>\n",
       "    <tr>\n",
       "      <th>Female</th>\n",
       "      <td>13.23</td>\n",
       "    </tr>\n",
       "    <tr>\n",
       "      <th>Male</th>\n",
       "      <td>81.70</td>\n",
       "    </tr>\n",
       "    <tr>\n",
       "      <th>Unknown</th>\n",
       "      <td>5.06</td>\n",
       "    </tr>\n",
       "  </tbody>\n",
       "</table>\n",
       "</div>"
      ],
      "text/plain": [
       "        %Gender_authors\n",
       "Female            13.23\n",
       "Male              81.70\n",
       "Unknown            5.06"
      ]
     },
     "execution_count": 31,
     "metadata": {},
     "output_type": "execute_result"
    }
   ],
   "source": [
    "Genero_autores(moma)"
   ]
  },
  {
   "cell_type": "code",
   "execution_count": 32,
   "metadata": {},
   "outputs": [],
   "source": [
    "#ahora sin contabilizar los desconocidos\n",
    "def genero_autoressindesc(moma):\n",
    "    GenderList = [x for x in moma[\"Gender\"] if str(x) != 'Unknown']\n",
    "    z = pd.DataFrame(GenderList)\n",
    "    Malez=(z[(z[0]==\"Male\")][0].value_counts()/len(z[0])*100)\n",
    "    Malez=\"% .2f\"%Malez[0]\n",
    "    Femalez=(z[(z[0]==\"Female\")][0].value_counts()/len(z[0])*100)\n",
    "    Femalez=\"% .2f\"%Femalez[0]\n",
    "    porcentajez= {\"Male\":[Malez],\"Female\":[Femalez]}\n",
    "    Totalz=pd.DataFrame(data=porcentajez).T\n",
    "    Total2z=Totalz.rename(columns={0:'%Gender_authors'})\n",
    "    return Total2z"
   ]
  },
  {
   "cell_type": "code",
   "execution_count": 33,
   "metadata": {},
   "outputs": [
    {
     "data": {
      "text/html": [
       "<div>\n",
       "<style scoped>\n",
       "    .dataframe tbody tr th:only-of-type {\n",
       "        vertical-align: middle;\n",
       "    }\n",
       "\n",
       "    .dataframe tbody tr th {\n",
       "        vertical-align: top;\n",
       "    }\n",
       "\n",
       "    .dataframe thead th {\n",
       "        text-align: right;\n",
       "    }\n",
       "</style>\n",
       "<table border=\"1\" class=\"dataframe\">\n",
       "  <thead>\n",
       "    <tr style=\"text-align: right;\">\n",
       "      <th></th>\n",
       "      <th>%Gender_authors</th>\n",
       "    </tr>\n",
       "  </thead>\n",
       "  <tbody>\n",
       "    <tr>\n",
       "      <th>Female</th>\n",
       "      <td>13.94</td>\n",
       "    </tr>\n",
       "    <tr>\n",
       "      <th>Male</th>\n",
       "      <td>86.06</td>\n",
       "    </tr>\n",
       "  </tbody>\n",
       "</table>\n",
       "</div>"
      ],
      "text/plain": [
       "       %Gender_authors\n",
       "Female           13.94\n",
       "Male             86.06"
      ]
     },
     "execution_count": 33,
     "metadata": {},
     "output_type": "execute_result"
    }
   ],
   "source": [
    "genero_autoressindesc(moma)"
   ]
  },
  {
   "cell_type": "code",
   "execution_count": 12,
   "metadata": {},
   "outputs": [
    {
     "name": "stdout",
     "output_type": "stream",
     "text": [
      "Eugène Atget                     5050\n",
      "Ludwig Mies van der Rohe         2566\n",
      "Jean Dubuffet                    1435\n",
      "Lee Friedlander                  1317\n",
      "Pablo Picasso                    1310\n",
      "Marc Chagall                     1162\n",
      "Henri Matisse                    1063\n",
      "Pierre Bonnard                    894\n",
      "Frank Lloyd Wright                799\n",
      "George Maciunas                   762\n",
      "August Sander                     749\n",
      "Georges Rouault                   632\n",
      "Émile Bernard                     631\n",
      "Ben Kinmont                       597\n",
      "Aristide Maillol                  579\n",
      "André Derain                      573\n",
      "Sol LeWitt                        557\n",
      "Raoul Dufy                        545\n",
      "Maurice Denis                     504\n",
      "Joan Miró                         462\n",
      "Pierre Alechinsky                 429\n",
      "Jan Dibbets                       426\n",
      "Jasper Johns                      412\n",
      "Jim Dine                          401\n",
      "Walker Evans                      361\n",
      "Garry Winogrand                   359\n",
      "Jules Pascin                      350\n",
      "Robert Rauschenberg               336\n",
      "Thomas Bewick                     324\n",
      "André Masson                      305\n",
      "                                 ... \n",
      "Bernard Schultze                    1\n",
      "Jay McCafferty                      1\n",
      "Charles Simart                      1\n",
      "Vladimir Akulinin                   1\n",
      "Leonard Pytlak                      1\n",
      "Amar Kanwar                         1\n",
      "Neville de Almeida                  1\n",
      "Paul Kos                            1\n",
      "Richard Rogers                      1\n",
      "Ralph Baer                          1\n",
      "Victor Semenovich Vilner            1\n",
      "Naghi Nemati                        1\n",
      "Naoki Yoshimoto                     1\n",
      "Julian Rosefeldt                    1\n",
      "Christopher Giglio                  1\n",
      "Francisco Rivero Gil                1\n",
      "Sergei Podgaevskii                  1\n",
      "R. M. Fischer                       1\n",
      "Bashir Zivari                       1\n",
      "John Lasseter                       1\n",
      "Gustav K. Beck                      1\n",
      "Adolf Rambold                       1\n",
      "Antoine-Francois-Jean Claudet       1\n",
      "Martín Ruiz de Azúa                 1\n",
      "Byung Hoon Choi                     1\n",
      "Yves José Zimmerman                 1\n",
      "Tony Conrad                         1\n",
      "Zeilinger                           1\n",
      "Henri Chopin                        1\n",
      "Robert Cowan                        1\n",
      "Name: Name_x, Length: 8335, dtype: int64\n"
     ]
    }
   ],
   "source": [
    "#funcion para conocer los artistas por el género\n",
    "def obrasartista(Genero):\n",
    "    obrasgenero= moma[moma['Gender'] == Genero]\n",
    "    return (obrasgenero.Name_x.value_counts())\n",
    "\n",
    "print(obrasartista(\"Male\"))\n",
    "\n"
   ]
  },
  {
   "cell_type": "code",
   "execution_count": 13,
   "metadata": {},
   "outputs": [],
   "source": [
    "#funcion para conocer nacionalidad con mas obras\n",
    "def nacionalidadartista(nacionalidad):\n",
    "    obrasgenero= moma[moma['Nationality'] == nacionalidad]\n",
    "    return (obrasgenero.Name.value_counts())"
   ]
  },
  {
   "cell_type": "code",
   "execution_count": 14,
   "metadata": {},
   "outputs": [],
   "source": [
    "#funcion para conocer por genero y nacionalidad \n",
    "def gennacartista(Genero,nacionalidad):\n",
    "    obrasgenero= moma[(moma['Gender'] == Genero) & (moma['Nationality'] == nacionalidad)] \n",
    "   \n",
    "    return (obrasgenero.Name_x.value_counts())"
   ]
  },
  {
   "cell_type": "code",
   "execution_count": 15,
   "metadata": {},
   "outputs": [
    {
     "data": {
      "text/plain": [
       "Pablo Picasso                       1310\n",
       "Joan Miró                            462\n",
       "Francisco de Goya                    181\n",
       "Antoni Tàpies                        170\n",
       "Antonio Saura                        114\n",
       "Salvador Dalí                         77\n",
       "Juan Gris                             59\n",
       "Juan Hidalgo                          55\n",
       "Fernando Martín Menis                 33\n",
       "Eduardo Chillida                      30\n",
       "Rafael Canogar                        29\n",
       "Julio González                        27\n",
       "Luis Buñuel                           22\n",
       "Juan Uslé                             21\n",
       "Pablo Palazuelo                       20\n",
       "Pedro Almodóvar                       18\n",
       "Ricardo Bofill                        16\n",
       "Ernesto Caivano                       15\n",
       "Vincente Rojo                         14\n",
       "Manolo (Manuel Martínez Hugué)        13\n",
       "Antonio Muntadas                      13\n",
       "Rafael Alberti                        12\n",
       "Manuel Angeles Ortiz                  10\n",
       "Chema Cobo                             9\n",
       "José Pla-Narbona                       9\n",
       "Zush (Alberto Porta)                   8\n",
       "Marcel Giró                            8\n",
       "Joan Fontcuberta                       7\n",
       "Victor Mira                            7\n",
       "Juan Muñoz                             6\n",
       "                                    ... \n",
       "Bigas Luna                             1\n",
       "Francisco Rivero Gil                   1\n",
       "Eduardo Arroyo                         1\n",
       "Juvenal Sansó                          1\n",
       "Antoni Miralda                         1\n",
       "Mariano Fortuny Y Madrazo              1\n",
       "Jaume Juez i Castella (Xirinius)       1\n",
       "Joan Josep Tharrats                    1\n",
       "José Echavé                            1\n",
       "Lorenzo Goñi                           1\n",
       "Juan Antonio Morales                   1\n",
       "Enric Bernat i Fontlladosa             1\n",
       "Pere Catala Pic                        1\n",
       "Juan Vila Vilacasas                    1\n",
       "Juan Domingo Santos                    1\n",
       "Doroteo Arnaiz                         1\n",
       "Joan Ponç                              1\n",
       "Andrés Jaque                           1\n",
       "Pablo Serrano                          1\n",
       "Ismael González de la Serna            1\n",
       "Josep Subirats Samora                  1\n",
       "Federico Guzmán                        1\n",
       "Modest Cuixart                         1\n",
       "Francisco Borès                        1\n",
       "Francesc Torres                        1\n",
       "Pablo Gargallo                         1\n",
       "Jesús Lozano                           1\n",
       "Javier Carvajal                        1\n",
       "Enric Ricart                           1\n",
       "Marti Cormand                          1\n",
       "Name: Name_x, Length: 99, dtype: int64"
      ]
     },
     "execution_count": 15,
     "metadata": {},
     "output_type": "execute_result"
    }
   ],
   "source": [
    "gennacartista(\"Male\",\"Spanish\")"
   ]
  },
  {
   "cell_type": "code",
   "execution_count": 16,
   "metadata": {},
   "outputs": [],
   "source": [
    "#ver repercusion del pensamiento de las guerrilla \n",
    "moma=moma.rename(columns={\"Acquisition Date\":'Acquisition_Date'})\n",
    "moma['Acquisition_Date'] = moma['Acquisition_Date'].fillna(\"0\")"
   ]
  },
  {
   "cell_type": "code",
   "execution_count": 17,
   "metadata": {},
   "outputs": [],
   "source": [
    "import re \n",
    "def nuevaadquisicion(Acquisition_Date):\n",
    "    parametro= \"\\-+\\d*\"\n",
    "    new_acquisition= re.sub(parametro,\"\",Acquisition_Date)\n",
    "    return new_acquisition"
   ]
  },
  {
   "cell_type": "code",
   "execution_count": 18,
   "metadata": {},
   "outputs": [],
   "source": [
    "moma['Acquisition_Date']= moma.Acquisition_Date.apply(nuevaadquisicion)\n"
   ]
  },
  {
   "cell_type": "code",
   "execution_count": 19,
   "metadata": {},
   "outputs": [],
   "source": [
    "moma['Acquisition_Date'] = moma[\"Acquisition_Date\"].astype(int)"
   ]
  },
  {
   "cell_type": "code",
   "execution_count": 20,
   "metadata": {},
   "outputs": [
    {
     "data": {
      "text/plain": [
       "0         1996\n",
       "1         1978\n",
       "2         1978\n",
       "3         2001\n",
       "4         1995\n",
       "5         2013\n",
       "6         2013\n",
       "7         2013\n",
       "8         2013\n",
       "9         2013\n",
       "10        2013\n",
       "11        2013\n",
       "12        2013\n",
       "13        2013\n",
       "14        2013\n",
       "15        2013\n",
       "16        2013\n",
       "17        2013\n",
       "18        2013\n",
       "19        2013\n",
       "20        2013\n",
       "21        2013\n",
       "22        2013\n",
       "23        2013\n",
       "24        2013\n",
       "25        1997\n",
       "26        1997\n",
       "27        1995\n",
       "28        1995\n",
       "29        1995\n",
       "          ... \n",
       "122343    2016\n",
       "122344    2016\n",
       "122345    2016\n",
       "122346    2016\n",
       "122347    2016\n",
       "122348    2016\n",
       "122349    2016\n",
       "122350    2016\n",
       "122351    2016\n",
       "122352    2016\n",
       "122353    2016\n",
       "122354    2016\n",
       "122355    2016\n",
       "122356    2016\n",
       "122357    2016\n",
       "122358    2016\n",
       "122359    2016\n",
       "122360    2016\n",
       "122361    2016\n",
       "122362    2016\n",
       "122363    2016\n",
       "122364    2016\n",
       "122365    2016\n",
       "122366    2016\n",
       "122367       0\n",
       "122368    2016\n",
       "122369       0\n",
       "122370       0\n",
       "122371    2008\n",
       "122372    2008\n",
       "Name: Acquisition_Date, Length: 122373, dtype: int64"
      ]
     },
     "execution_count": 20,
     "metadata": {},
     "output_type": "execute_result"
    }
   ],
   "source": [
    "moma['Acquisition_Date']"
   ]
  },
  {
   "cell_type": "code",
   "execution_count": 21,
   "metadata": {},
   "outputs": [],
   "source": [
    "etiquetas= ['desconocido','preguerrilla','postguerrilla']\n",
    "cortes = [-1,1925,1985,2019]\n",
    "moma['Acquisition_Datenew'] = pd.cut(moma['Acquisition_Date'],cortes, labels=etiquetas)"
   ]
  },
  {
   "cell_type": "code",
   "execution_count": 34,
   "metadata": {},
   "outputs": [],
   "source": [
    "def impactoguerrilla(periodo):\n",
    "    generoperiodo= moma[moma['Acquisition_Datenew'] == periodo]\n",
    "    return genero_autoressindesc(generoperiodo)\n",
    "        "
   ]
  },
  {
   "cell_type": "code",
   "execution_count": 35,
   "metadata": {},
   "outputs": [
    {
     "data": {
      "text/html": [
       "<div>\n",
       "<style scoped>\n",
       "    .dataframe tbody tr th:only-of-type {\n",
       "        vertical-align: middle;\n",
       "    }\n",
       "\n",
       "    .dataframe tbody tr th {\n",
       "        vertical-align: top;\n",
       "    }\n",
       "\n",
       "    .dataframe thead th {\n",
       "        text-align: right;\n",
       "    }\n",
       "</style>\n",
       "<table border=\"1\" class=\"dataframe\">\n",
       "  <thead>\n",
       "    <tr style=\"text-align: right;\">\n",
       "      <th></th>\n",
       "      <th>%Gender_authors</th>\n",
       "    </tr>\n",
       "  </thead>\n",
       "  <tbody>\n",
       "    <tr>\n",
       "      <th>Female</th>\n",
       "      <td>6.48</td>\n",
       "    </tr>\n",
       "    <tr>\n",
       "      <th>Male</th>\n",
       "      <td>93.52</td>\n",
       "    </tr>\n",
       "  </tbody>\n",
       "</table>\n",
       "</div>"
      ],
      "text/plain": [
       "       %Gender_authors\n",
       "Female            6.48\n",
       "Male             93.52"
      ]
     },
     "execution_count": 35,
     "metadata": {},
     "output_type": "execute_result"
    }
   ],
   "source": [
    "impactoguerrilla(\"preguerrilla\")"
   ]
  },
  {
   "cell_type": "code",
   "execution_count": 36,
   "metadata": {},
   "outputs": [
    {
     "data": {
      "text/html": [
       "<div>\n",
       "<style scoped>\n",
       "    .dataframe tbody tr th:only-of-type {\n",
       "        vertical-align: middle;\n",
       "    }\n",
       "\n",
       "    .dataframe tbody tr th {\n",
       "        vertical-align: top;\n",
       "    }\n",
       "\n",
       "    .dataframe thead th {\n",
       "        text-align: right;\n",
       "    }\n",
       "</style>\n",
       "<table border=\"1\" class=\"dataframe\">\n",
       "  <thead>\n",
       "    <tr style=\"text-align: right;\">\n",
       "      <th></th>\n",
       "      <th>%Gender_authors</th>\n",
       "    </tr>\n",
       "  </thead>\n",
       "  <tbody>\n",
       "    <tr>\n",
       "      <th>Female</th>\n",
       "      <td>22.43</td>\n",
       "    </tr>\n",
       "    <tr>\n",
       "      <th>Male</th>\n",
       "      <td>77.57</td>\n",
       "    </tr>\n",
       "  </tbody>\n",
       "</table>\n",
       "</div>"
      ],
      "text/plain": [
       "       %Gender_authors\n",
       "Female           22.43\n",
       "Male             77.57"
      ]
     },
     "execution_count": 36,
     "metadata": {},
     "output_type": "execute_result"
    }
   ],
   "source": [
    "impactoguerrilla(\"postguerrilla\")"
   ]
  },
  {
   "cell_type": "code",
   "execution_count": null,
   "metadata": {},
   "outputs": [],
   "source": []
  }
 ],
 "metadata": {
  "kernelspec": {
   "display_name": "Python 3",
   "language": "python",
   "name": "python3"
  },
  "language_info": {
   "codemirror_mode": {
    "name": "ipython",
    "version": 3
   },
   "file_extension": ".py",
   "mimetype": "text/x-python",
   "name": "python",
   "nbconvert_exporter": "python",
   "pygments_lexer": "ipython3",
   "version": "3.5.2"
  }
 },
 "nbformat": 4,
 "nbformat_minor": 2
}
