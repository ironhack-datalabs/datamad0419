{
 "cells": [
  {
   "cell_type": "markdown",
   "metadata": {},
   "source": [
    "### Importing library"
   ]
  },
  {
   "cell_type": "code",
   "execution_count": 6,
   "metadata": {},
   "outputs": [],
   "source": [
    "import pandas as pd\n",
    "import numpy as np\n",
    "import seaborn as sns\n",
    "import json\n",
    "import requests\n",
    "import matplotlib.pyplot as plt\n",
    "import seaborn as sns"
   ]
  },
  {
   "cell_type": "markdown",
   "metadata": {},
   "source": [
    "#### ACQUISITION"
   ]
  },
  {
   "cell_type": "code",
   "execution_count": 1,
   "metadata": {},
   "outputs": [],
   "source": [
    "def acquire():\n",
    "    df = pd.read_csv(\"flavors_of_cacao.csv\")\n",
    "    return df"
   ]
  },
  {
   "cell_type": "markdown",
   "metadata": {},
   "source": [
    "#### WRANGLING"
   ]
  },
  {
   "cell_type": "code",
   "execution_count": 2,
   "metadata": {},
   "outputs": [],
   "source": [
    "def wrangle(df):\n",
    "    old_colnames = df.columns\n",
    "    new_colnames = ['company','origin','ref','review_date','cocoa_percentage',\n",
    "                'company_location','rating','bean_type','country']\n",
    "    df = df.rename(columns=dict(zip(old_colnames, new_colnames)))\n",
    "    df = df.drop(['company','company_location','ref', 'review_date'], axis=1)\n",
    "    df = df.dropna()\n",
    "    \n",
    "    rating_level=['Unpleasant','Disappointing','Satisfactory','Premium','Elite']\n",
    "    bins = pd.cut(df['rating'], 5, labels = rating_level)\n",
    "    df['quality_bin'] = bins\n",
    "    binned_data = df\n",
    "    df = binned_data\n",
    "    \n",
    "    country_count = df.country.value_counts()\n",
    "    countries_to_drop = list(country_count[(country_count < 10) | (country_count == 73)].index)\n",
    "    return df\n",
    "\n",
    "\n",
    "def api():\n",
    "    response = requests.get('https://restcountries.eu/rest/v2/all?fields=name;subregion')\n",
    "    results = response.json()\n",
    "    new_data = pd.DataFrame(results)\n",
    "    new_data = new_data.reindex_axis(['subregion', 'name'], axis=1)\n",
    "    new_data['name']= new_data['name'].str.replace('Venezuela (Bolivarian Republic of)','Venezuela', regex=False)\n",
    "    return new_data\n",
    "\n",
    "\n",
    "def func(country):\n",
    "    region = new_data.loc[new_data['name'] == country]\n",
    "    subregion = list(region['subregion'])[0]\n",
    "    return subregion\n",
    "    \n",
    "\n",
    "#def unifying_api_data(new_data):\n",
    "    \n",
    "    #for country_dataframe in df['country']:\n",
    "        #for country_api in new_data['name']:\n",
    "           #if country_api == country_dataframe:\n",
    "                #df['subregion'] = new_data['subregion']\n",
    "    #return df\n",
    "\n",
    "def change_col_with_api(df):\n",
    "    df = df[['subregion', 'country', 'origin', 'bean_type',\n",
    "            'cocoa_percentage', 'rating', 'quality_bin']]\n",
    "    return df\n",
    "    \n",
    "   "
   ]
  },
  {
   "cell_type": "markdown",
   "metadata": {},
   "source": [
    "### ANALYSIS"
   ]
  },
  {
   "cell_type": "code",
   "execution_count": 3,
   "metadata": {},
   "outputs": [],
   "source": [
    "def mean_subregion(df):\n",
    "    regions_mean = df.groupby('subregion')['rating'].mean()\n",
    "    regions_mean = regions_mean.sort_values(ascending=False)\n",
    "    results = regions_mean\n",
    "    return results"
   ]
  },
  {
   "cell_type": "markdown",
   "metadata": {},
   "source": [
    "### REPORTING"
   ]
  },
  {
   "cell_type": "code",
   "execution_count": 4,
   "metadata": {},
   "outputs": [],
   "source": [
    "#def visualize(results):\n",
    "    #fig, ax = plt.subplots(figsize = (9,8))\n",
    "    #barchart = sns.barplot(data = results, x = \"{}\".format(tweet_type), y = \"Price_Change\")\n",
    "    #plt.title(title + \"\\n\", fontsize = 20)\n",
    "    #return barchart\n",
    "\n",
    "#def save_viz(barchart):\n",
    "    #fig = barchart.get_figure()\n",
    "    #fig.savefig(title + '.png')"
   ]
  },
  {
   "cell_type": "code",
   "execution_count": 7,
   "metadata": {},
   "outputs": [
    {
     "name": "stderr",
     "output_type": "stream",
     "text": [
      "/usr/local/lib/python3.7/site-packages/ipykernel_launcher.py:24: FutureWarning: '.reindex_axis' is deprecated and will be removed in a future version. Use '.reindex' instead.\n"
     ]
    },
    {
     "ename": "NameError",
     "evalue": "name 'unifying_api_data' is not defined",
     "output_type": "error",
     "traceback": [
      "\u001b[0;31m---------------------------------------------------------------------------\u001b[0m",
      "\u001b[0;31mNameError\u001b[0m                                 Traceback (most recent call last)",
      "\u001b[0;32m<ipython-input-7-5c193c6d9882>\u001b[0m in \u001b[0;36m<module>\u001b[0;34m\u001b[0m\n\u001b[1;32m      4\u001b[0m     \u001b[0mnew_data\u001b[0m \u001b[0;34m=\u001b[0m \u001b[0mapi\u001b[0m\u001b[0;34m(\u001b[0m\u001b[0;34m)\u001b[0m\u001b[0;34m\u001b[0m\u001b[0;34m\u001b[0m\u001b[0m\n\u001b[1;32m      5\u001b[0m     \u001b[0;31m#df['subregion']=df['country'].apply(func)\u001b[0m\u001b[0;34m\u001b[0m\u001b[0;34m\u001b[0m\u001b[0;34m\u001b[0m\u001b[0m\n\u001b[0;32m----> 6\u001b[0;31m     \u001b[0mdf\u001b[0m \u001b[0;34m=\u001b[0m \u001b[0munifying_api_data\u001b[0m\u001b[0;34m(\u001b[0m\u001b[0mnew_data\u001b[0m\u001b[0;34m)\u001b[0m\u001b[0;34m\u001b[0m\u001b[0;34m\u001b[0m\u001b[0m\n\u001b[0m\u001b[1;32m      7\u001b[0m     \u001b[0mdf\u001b[0m \u001b[0;34m=\u001b[0m \u001b[0mchange_col_with_api\u001b[0m\u001b[0;34m(\u001b[0m\u001b[0mdf\u001b[0m\u001b[0;34m)\u001b[0m\u001b[0;34m\u001b[0m\u001b[0;34m\u001b[0m\u001b[0m\n\u001b[1;32m      8\u001b[0m     \u001b[0mresults\u001b[0m \u001b[0;34m=\u001b[0m \u001b[0mmean_subregion\u001b[0m\u001b[0;34m(\u001b[0m\u001b[0mdf\u001b[0m\u001b[0;34m)\u001b[0m\u001b[0;34m\u001b[0m\u001b[0;34m\u001b[0m\u001b[0m\n",
      "\u001b[0;31mNameError\u001b[0m: name 'unifying_api_data' is not defined"
     ]
    }
   ],
   "source": [
    "if __name__ == '__main__':\n",
    "    df = acquire()\n",
    "    df = wrangle(df)\n",
    "    new_data = api()\n",
    "    #df['subregion']=df['country'].apply(func)\n",
    "    df = unifying_api_data(new_data)\n",
    "    df = change_col_with_api(df)\n",
    "    results = mean_subregion(df)"
   ]
  },
  {
   "cell_type": "code",
   "execution_count": null,
   "metadata": {},
   "outputs": [],
   "source": [
    "#df.head()\n",
    "#new_data.head()\n",
    "#print(subregion)\n",
    "results.head()"
   ]
  },
  {
   "cell_type": "code",
   "execution_count": 8,
   "metadata": {},
   "outputs": [
    {
     "ename": "NameError",
     "evalue": "name 'results' is not defined",
     "output_type": "error",
     "traceback": [
      "\u001b[0;31m---------------------------------------------------------------------------\u001b[0m",
      "\u001b[0;31mNameError\u001b[0m                                 Traceback (most recent call last)",
      "\u001b[0;32m<ipython-input-8-c7b3573bd981>\u001b[0m in \u001b[0;36m<module>\u001b[0;34m\u001b[0m\n\u001b[0;32m----> 1\u001b[0;31m \u001b[0mresults\u001b[0m\u001b[0;34m.\u001b[0m\u001b[0mplot\u001b[0m\u001b[0;34m.\u001b[0m\u001b[0mbar\u001b[0m\u001b[0;34m(\u001b[0m\u001b[0;34m)\u001b[0m\u001b[0;34m\u001b[0m\u001b[0;34m\u001b[0m\u001b[0m\n\u001b[0m",
      "\u001b[0;31mNameError\u001b[0m: name 'results' is not defined"
     ]
    }
   ],
   "source": [
    "results.plot.bar()"
   ]
  },
  {
   "cell_type": "code",
   "execution_count": null,
   "metadata": {},
   "outputs": [],
   "source": []
  }
 ],
 "metadata": {
  "kernelspec": {
   "display_name": "Python 3",
   "language": "python",
   "name": "python3"
  },
  "language_info": {
   "codemirror_mode": {
    "name": "ipython",
    "version": 3
   },
   "file_extension": ".py",
   "mimetype": "text/x-python",
   "name": "python",
   "nbconvert_exporter": "python",
   "pygments_lexer": "ipython3",
   "version": "3.7.2"
  }
 },
 "nbformat": 4,
 "nbformat_minor": 2
}
