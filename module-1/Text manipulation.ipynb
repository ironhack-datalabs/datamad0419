{
 "cells": [
  {
   "cell_type": "code",
   "execution_count": 14,
   "metadata": {},
   "outputs": [
    {
     "name": "stdout",
     "output_type": "stream",
     "text": [
      "['Hola', 'que', 'tal']\n",
      "Esta frase tiene 3 palabras\n"
     ]
    },
    {
     "data": {
      "text/plain": [
       "'Hola que tal'"
      ]
     },
     "execution_count": 14,
     "metadata": {},
     "output_type": "execute_result"
    }
   ],
   "source": [
    "a = \"Hola que tal\"\n",
    "\n",
    "palabras = a.split(\" \")\n",
    "print(palabras)\n",
    "print(\"Esta frase tiene {} palabras\".format(len(palabras)))\n",
    "\n",
    "' '.join(palabras)\n",
    "\n"
   ]
  },
  {
   "cell_type": "code",
   "execution_count": 1,
   "metadata": {},
   "outputs": [
    {
     "name": "stdout",
     "output_type": "stream",
     "text": [
      "249 153\n",
      "['', 'La', 'catedral', 'de', 'Nuestra', 'Señora', '(en', 'francés,', 'Cathédrale', 'Notre-Dame)', 'es', 'una', 'catedral', '', 'de', 'culto', 'católico,', 'sede', 'de', 'la', 'archidiócesis', 'de', 'París,', 'la', 'capital', 'de', 'Francia.', '', 'Dedicada', 'a', 'María,', 'madre', 'de', 'Jesucristo,', 'se', 'sitúa', 'en', 'la', 'pequeña', 'isla', 'de', 'la', 'Cité,', 'rodeada', 'por', 'las', 'aguas', 'del', 'río', 'Sena.', 'Es', 'uno', 'de', 'los', 'monumentos', 'más', 'populares', 'de', '', 'la', 'capital', 'francesa.', 'Se', 'trata', 'de', 'uno', 'de', 'los', 'edificios', 'más', 'señeros', 'y', 'antiguos', 'de', 'cuantos', 'se', 'construyeron', 'en', 'estilo', 'gótico.', 'El', 'uso', 'innovador', 'de', 'la', 'bóveda', 'de', 'crucería', 'y', 'del', 'arbotante,', '', 'los', 'enormes', 'y', 'coloridos', 'rosetones', 'y', 'el', 'naturalismo', 'y', 'la', 'abundancia', 'de', 'decoración', '', 'escultórica', 'lo', 'diferencian', 'de', 'la', 'arquitectura', 'románica.', 'Su', 'edificación', 'comenzó', 'en', 'el', 'año', '1163', 'y,', 'para', '1260,', 'ya', 'estaba', 'completada', 'en', '', 'su', 'mayor', 'parte,', 'aunque', 'se', 'terminó', 'en', 'el', 'año', '1345', 'y', 'se', 'modificó', 'de', 'manera', '', 'frecuente', 'a', 'lo', 'largo', 'de', 'los', 'siglos', 'siguientes.', 'Durante', 'la', 'década', 'de', '1790,', 'tras', 'la', 'Revolución', 'francesa,', 'Notre', 'Dame', 'sufrió', 'la', 'profanación', 'de', 'parte', 'de', 'su', 'imaginería', 'religiosa,', 'que', 'quedó', 'dañada', 'o', 'destruida.', 'La', 'publicación', 'de', 'Nuestra', 'Señora', 'de', 'París', 'por', 'Victor', 'Hugo,', '', 'no', 'obstante,', 'reavivó', 'el', 'interés', 'popular', 'por', 'ella.', 'Eugène', 'Viollet-le-Duc', 'encabezó', '', 'un', 'proyecto', 'de', 'restauración', 'que', 'comenzó', 'en', '1845', 'y', 'se', 'prolongó', 'durante', 'un', 'cuarto', 'de', 'siglo.', 'Asimismo,', 'en', '1963', 'se', 'procedió', 'a', 'limpiar', 'de', 'hollín', 'la', 'fachada', 'y', 'se', 'recuperó', 'su', 'color', 'original.', 'Entre', '1991', 'y', '2000', 'se', 'llevó', 'a', 'cabo', 'una', 'nueva', 'campaña', 'de', 'limpieza', 'y', 'restauración.', '']\n"
     ]
    }
   ],
   "source": [
    "texto = \"\"\"\n",
    "La catedral de Nuestra Señora (en francés, Cathédrale Notre-Dame) es una catedral \n",
    "de culto católico, sede de la archidiócesis de París, la capital de Francia. \n",
    "Dedicada a María, madre de Jesucristo, se sitúa en la pequeña isla de la Cité,\n",
    "rodeada por las aguas del río Sena. Es uno de los monumentos más populares de \n",
    "la capital francesa.\n",
    "Se trata de uno de los edificios más señeros y antiguos de cuantos se construyeron\n",
    "en estilo gótico. El uso innovador de la bóveda de crucería y del arbotante, \n",
    "los enormes y coloridos rosetones y el naturalismo y la abundancia de decoración \n",
    "escultórica lo diferencian de la arquitectura románica.\n",
    "Su edificación comenzó en el año 1163 y, para 1260, ya estaba completada en \n",
    "su mayor parte, aunque se terminó en el año 1345 y se modificó de manera \n",
    "frecuente a lo largo de los siglos siguientes. Durante la década de 1790, tras la\n",
    "Revolución francesa, Notre Dame sufrió la profanación de parte de su imaginería religiosa,\n",
    "que quedó dañada o destruida. La publicación de Nuestra Señora de París por Victor Hugo, \n",
    "no obstante, reavivó el interés popular por ella. Eugène Viollet-le-Duc encabezó \n",
    "un proyecto de restauración que comenzó en 1845 y se prolongó durante un cuarto de siglo.\n",
    "Asimismo, en 1963 se procedió a limpiar de hollín la fachada y se recuperó su color\n",
    "original. Entre 1991 y 2000 se llevó a cabo una nueva campaña de limpieza y restauración.\n",
    "\"\"\"\n",
    "\n",
    "words = \" \".join(texto.split(\"\\n\")).split(' ')\n",
    "unique_words = set(words)\n",
    "print(len(words), len(unique_words))\n",
    "print (words)\n",
    "\n"
   ]
  },
  {
   "cell_type": "code",
   "execution_count": null,
   "metadata": {},
   "outputs": [],
   "source": []
  }
 ],
 "metadata": {
  "kernelspec": {
   "display_name": "Python 3",
   "language": "python",
   "name": "python3"
  },
  "language_info": {
   "codemirror_mode": {
    "name": "ipython",
    "version": 3
   },
   "file_extension": ".py",
   "mimetype": "text/x-python",
   "name": "python",
   "nbconvert_exporter": "python",
   "pygments_lexer": "ipython3",
   "version": "3.7.2"
  }
 },
 "nbformat": 4,
 "nbformat_minor": 2
}
