{
 "cells": [
  {
   "cell_type": "markdown",
   "metadata": {},
   "source": [
    "# Working with RSS Feeds Lab\n",
    "\n",
    "Complete the following set of exercises to solidify your knowledge of parsing RSS feeds and extracting information from them."
   ]
  },
  {
   "cell_type": "code",
   "execution_count": 1,
   "metadata": {},
   "outputs": [],
   "source": [
    "import feedparser"
   ]
  },
  {
   "cell_type": "markdown",
   "metadata": {},
   "source": [
    "### 1. Use feedparser to parse the following RSS feed URL."
   ]
  },
  {
   "cell_type": "code",
   "execution_count": 2,
   "metadata": {},
   "outputs": [],
   "source": [
    "url='http://feeds.feedburner.com/oreilly/radar/atom'"
   ]
  },
  {
   "cell_type": "code",
   "execution_count": 3,
   "metadata": {},
   "outputs": [
    {
     "name": "stdout",
     "output_type": "stream",
     "text": [
      "<class 'feedparser.FeedParserDict'>\n"
     ]
    }
   ],
   "source": [
    "res=feedparser.parse(url)\n",
    "print (type(res))"
   ]
  },
  {
   "cell_type": "markdown",
   "metadata": {},
   "source": [
    "### 2. Obtain a list of components (keys) that are available for this feed."
   ]
  },
  {
   "cell_type": "code",
   "execution_count": 4,
   "metadata": {},
   "outputs": [
    {
     "name": "stdout",
     "output_type": "stream",
     "text": [
      "['feed', 'entries', 'bozo', 'headers', 'etag', 'updated', 'updated_parsed', 'href', 'status', 'encoding', 'version', 'namespaces']\n"
     ]
    }
   ],
   "source": [
    "list_parse=list(res.keys())\n",
    "print (list_parse)"
   ]
  },
  {
   "cell_type": "markdown",
   "metadata": {},
   "source": [
    "### 3. Obtain a list of components (keys) that are available for the *feed* component of this RSS feed."
   ]
  },
  {
   "cell_type": "code",
   "execution_count": 5,
   "metadata": {},
   "outputs": [
    {
     "name": "stdout",
     "output_type": "stream",
     "text": [
      "[dict_keys(['title', 'title_detail', 'id', 'guidislink', 'link', 'updated', 'updated_parsed', 'subtitle', 'subtitle_detail', 'links', 'authors', 'author_detail', 'author', 'feedburner_info', 'geo_lat', 'geo_long', 'feedburner_emailserviceid', 'feedburner_feedburnerhostname'])]\n"
     ]
    }
   ],
   "source": [
    "list_feed=[res['feed'].keys()]\n",
    "print (list_feed)"
   ]
  },
  {
   "cell_type": "markdown",
   "metadata": {},
   "source": [
    "### 4. Extract and print the feed title, subtitle, author, and link."
   ]
  },
  {
   "cell_type": "code",
   "execution_count": 6,
   "metadata": {},
   "outputs": [
    {
     "name": "stdout",
     "output_type": "stream",
     "text": [
      "All - O'Reilly Media\n",
      "All of our Ideas and Learning material from all of our topics.\n",
      "O'Reilly Media\n",
      "https://www.oreilly.com\n"
     ]
    }
   ],
   "source": [
    "print (res['feed']['title'])\n",
    "print (res['feed']['subtitle'])\n",
    "print (res['feed']['author'])\n",
    "print (res['feed']['link'])"
   ]
  },
  {
   "cell_type": "markdown",
   "metadata": {},
   "source": [
    "### 5. Count the number of entries that are contained in this RSS feed."
   ]
  },
  {
   "cell_type": "code",
   "execution_count": 7,
   "metadata": {},
   "outputs": [
    {
     "name": "stdout",
     "output_type": "stream",
     "text": [
      "60\n"
     ]
    }
   ],
   "source": [
    "print (len(res['entries']))"
   ]
  },
  {
   "cell_type": "markdown",
   "metadata": {},
   "source": [
    "### 6. Obtain a list of components (keys) available for an entry.\n",
    "\n",
    "*Hint: Remember to index first before requesting the keys*"
   ]
  },
  {
   "cell_type": "code",
   "execution_count": 8,
   "metadata": {},
   "outputs": [
    {
     "name": "stdout",
     "output_type": "stream",
     "text": [
      "[dict_keys(['title', 'title_detail', 'updated', 'updated_parsed', 'id', 'guidislink', 'link', 'content', 'summary', 'links', 'authors', 'author_detail', 'author', 'feedburner_origlink'])]\n"
     ]
    }
   ],
   "source": [
    "list_components=[res['entries'][0].keys()]\n",
    "print (list_components)"
   ]
  },
  {
   "cell_type": "markdown",
   "metadata": {},
   "source": [
    "### 7. Extract a list of entry titles."
   ]
  },
  {
   "cell_type": "code",
   "execution_count": 9,
   "metadata": {},
   "outputs": [
    {
     "name": "stdout",
     "output_type": "stream",
     "text": [
      "['Why companies are in need of data lineage solutions', 'Stablecoins: Solving the cryptocurrency volatility crisis', 'Four short links: 25 April 2019', 'Four short links: 24 April 2019', 'Four short links: 23 April 2019', 'Four short links: 22 April 2019', 'Four short links: 19 April 2019', 'Computational propaganda', 'Decoding the human genome with deep learning', 'Automation of AI: Accelerating the AI revolution', 'Simple, scalable, and sustainable: A methodical approach to AI adoption', 'Software 2.0 and Snorkel', 'Applied machine learning at Facebook', 'Artificial intelligence: The “refinery” for data', 'Making real-world distributed deep learning easy with Nauta', 'Four short links: 18 April 2019', 'Toward ethical AI: Inclusivity as a messy, difficult, but promising answer', 'Fast, flexible, and functional: 4 real-world AI deployments at enterprise scale', 'Machine learning for personalization', 'Automated ML: A journey from CRISPR.ML to Azure ML', 'Checking in on AI tools', 'How AI adaptive technology can upgrade education', \"Highlights from the O'Reilly Artificial Intelligence Conference in New York 2019\", 'AI and the robotics revolution', 'Is AI human-ready?', 'Data fueling AI of the future', 'Four short links: 17 April 2019', 'Four short links: 16 April 2019', 'Four short links: 15 April 2019', 'Strata San Francisco, 2019: Opportunities and Risks', 'Four short links: 12 April 2019', 'What data scientists and data engineers can do with current generation serverless technologies', 'Four short links: 11 April 2019', 'Four short links: 10 April 2019', 'Four short links: 9 April 2019', 'Why a data scientist is not a data engineer', 'Four short links: 8 April 2019', 'Four short links: 5 April 2019', 'Four short links: 4 April 2019', '150+ live online training courses opened for April and May', 'Four short links: 3 April 2019', 'De-biasing language', 'Specialized tools for machine learning development and model governance are becoming essential', 'Four short links: 2 April 2019', 'Four short links: 1 April 2019', 'Four short links: 29 March 2019', 'Highlights from the Strata Data Conference in San Francisco 2019', 'Chatting with machines: Strange things 60 billion bot logs say about human nature', 'The enterprise data cloud', 'Winners of the Strata Data Awards 2019', 'Data warehousing is not a use case', 'Hacking the vote: The neuropolitical universe', 'Forecasting uncertainty at Airbnb', 'Likewar: How social media is changing the world and how the world is changing social media.', 'It’s time for data scientists to collaborate with researchers in other disciplines', 'Four short links: 28 March 2019', 'Streamlining your data assets: A strategy for the journey to AI', 'The journey to the data-driven enterprise from the edge to AI', 'Scoring your business in the AI matrix', 'AI and cryptography: Challenges and opportunities']\n"
     ]
    }
   ],
   "source": [
    "list_titles=[res['entries'][i]['title'] for i in range(len(res['entries']))]\n",
    "print (list_titles)"
   ]
  },
  {
   "cell_type": "markdown",
   "metadata": {},
   "source": [
    "### 8. Calculate the percentage of \"Four short links\" entry titles."
   ]
  },
  {
   "cell_type": "code",
   "execution_count": 10,
   "metadata": {},
   "outputs": [
    {
     "name": "stdout",
     "output_type": "stream",
     "text": [
      "35.0 %\n"
     ]
    }
   ],
   "source": [
    "count=len([i for i in range(len(list_titles)) if 'Four short links' in list_titles[i]])\n",
    "print (count*100/(len(res['entries'])), '%')"
   ]
  },
  {
   "cell_type": "markdown",
   "metadata": {},
   "source": [
    "### 9. Create a Pandas data frame from the feed's entries."
   ]
  },
  {
   "cell_type": "code",
   "execution_count": 11,
   "metadata": {},
   "outputs": [],
   "source": [
    "import pandas as pd"
   ]
  },
  {
   "cell_type": "code",
   "execution_count": 12,
   "metadata": {},
   "outputs": [
    {
     "data": {
      "text/html": [
       "<div>\n",
       "<style scoped>\n",
       "    .dataframe tbody tr th:only-of-type {\n",
       "        vertical-align: middle;\n",
       "    }\n",
       "\n",
       "    .dataframe tbody tr th {\n",
       "        vertical-align: top;\n",
       "    }\n",
       "\n",
       "    .dataframe thead th {\n",
       "        text-align: right;\n",
       "    }\n",
       "</style>\n",
       "<table border=\"1\" class=\"dataframe\">\n",
       "  <thead>\n",
       "    <tr style=\"text-align: right;\">\n",
       "      <th></th>\n",
       "      <th>author</th>\n",
       "      <th>author_detail</th>\n",
       "      <th>authors</th>\n",
       "      <th>content</th>\n",
       "      <th>feedburner_origlink</th>\n",
       "      <th>guidislink</th>\n",
       "      <th>id</th>\n",
       "      <th>link</th>\n",
       "      <th>links</th>\n",
       "      <th>summary</th>\n",
       "      <th>title</th>\n",
       "      <th>title_detail</th>\n",
       "      <th>updated</th>\n",
       "      <th>updated_parsed</th>\n",
       "    </tr>\n",
       "  </thead>\n",
       "  <tbody>\n",
       "    <tr>\n",
       "      <th>0</th>\n",
       "      <td>Ben Lorica</td>\n",
       "      <td>{'name': 'Ben Lorica'}</td>\n",
       "      <td>[{'name': 'Ben Lorica'}]</td>\n",
       "      <td>[{'type': 'text/html', 'language': None, 'base...</td>\n",
       "      <td>https://www.oreilly.com/ideas/why-companies-ar...</td>\n",
       "      <td>True</td>\n",
       "      <td>tag:www.oreilly.com,2019-04-25:/ideas/why-comp...</td>\n",
       "      <td>http://feedproxy.google.com/~r/oreilly/radar/a...</td>\n",
       "      <td>[{'href': 'http://feedproxy.google.com/~r/orei...</td>\n",
       "      <td>&lt;p&gt;&lt;img src='https://d3ucjech6zwjp8.cloudfront...</td>\n",
       "      <td>Why companies are in need of data lineage solu...</td>\n",
       "      <td>{'type': 'text/plain', 'language': None, 'base...</td>\n",
       "      <td>2019-04-25T11:15:00Z</td>\n",
       "      <td>(2019, 4, 25, 11, 15, 0, 3, 115, 0)</td>\n",
       "    </tr>\n",
       "    <tr>\n",
       "      <th>1</th>\n",
       "      <td>Wayne Chang, Gregory Rocco, Jacob Blish</td>\n",
       "      <td>{'name': 'Wayne Chang, Gregory Rocco, Jacob Bl...</td>\n",
       "      <td>[{'name': 'Wayne Chang, Gregory Rocco, Jacob B...</td>\n",
       "      <td>[{'type': 'text/html', 'language': None, 'base...</td>\n",
       "      <td>https://www.oreilly.com/ideas/stablecoins-solv...</td>\n",
       "      <td>True</td>\n",
       "      <td>tag:www.oreilly.com,2019-04-25:/ideas/stableco...</td>\n",
       "      <td>http://feedproxy.google.com/~r/oreilly/radar/a...</td>\n",
       "      <td>[{'href': 'http://feedproxy.google.com/~r/orei...</td>\n",
       "      <td>&lt;p&gt;&lt;img src='https://d3ucjech6zwjp8.cloudfront...</td>\n",
       "      <td>Stablecoins: Solving the cryptocurrency volati...</td>\n",
       "      <td>{'type': 'text/plain', 'language': None, 'base...</td>\n",
       "      <td>2019-04-25T11:00:00Z</td>\n",
       "      <td>(2019, 4, 25, 11, 0, 0, 3, 115, 0)</td>\n",
       "    </tr>\n",
       "    <tr>\n",
       "      <th>2</th>\n",
       "      <td>Nat Torkington</td>\n",
       "      <td>{'name': 'Nat Torkington'}</td>\n",
       "      <td>[{'name': 'Nat Torkington'}]</td>\n",
       "      <td>[{'type': 'text/html', 'language': None, 'base...</td>\n",
       "      <td>https://www.oreilly.com/ideas/four-short-links...</td>\n",
       "      <td>True</td>\n",
       "      <td>tag:www.oreilly.com,2019-04-25:/ideas/four-sho...</td>\n",
       "      <td>http://feedproxy.google.com/~r/oreilly/radar/a...</td>\n",
       "      <td>[{'href': 'http://feedproxy.google.com/~r/orei...</td>\n",
       "      <td>&lt;p&gt;&lt;em&gt;Values Risk, Brain Interface, Hacking S...</td>\n",
       "      <td>Four short links: 25 April 2019</td>\n",
       "      <td>{'type': 'text/plain', 'language': None, 'base...</td>\n",
       "      <td>2019-04-25T10:50:00Z</td>\n",
       "      <td>(2019, 4, 25, 10, 50, 0, 3, 115, 0)</td>\n",
       "    </tr>\n",
       "    <tr>\n",
       "      <th>3</th>\n",
       "      <td>Nat Torkington</td>\n",
       "      <td>{'name': 'Nat Torkington'}</td>\n",
       "      <td>[{'name': 'Nat Torkington'}]</td>\n",
       "      <td>[{'type': 'text/html', 'language': None, 'base...</td>\n",
       "      <td>https://www.oreilly.com/ideas/four-short-links...</td>\n",
       "      <td>True</td>\n",
       "      <td>tag:www.oreilly.com,2019-04-24:/ideas/four-sho...</td>\n",
       "      <td>http://feedproxy.google.com/~r/oreilly/radar/a...</td>\n",
       "      <td>[{'href': 'http://feedproxy.google.com/~r/orei...</td>\n",
       "      <td>&lt;p&gt;&lt;em&gt;Control is a Shrug, Glitch Languages, S...</td>\n",
       "      <td>Four short links: 24 April 2019</td>\n",
       "      <td>{'type': 'text/plain', 'language': None, 'base...</td>\n",
       "      <td>2019-04-24T10:55:00Z</td>\n",
       "      <td>(2019, 4, 24, 10, 55, 0, 2, 114, 0)</td>\n",
       "    </tr>\n",
       "    <tr>\n",
       "      <th>4</th>\n",
       "      <td>Nat Torkington</td>\n",
       "      <td>{'name': 'Nat Torkington'}</td>\n",
       "      <td>[{'name': 'Nat Torkington'}]</td>\n",
       "      <td>[{'type': 'text/html', 'language': None, 'base...</td>\n",
       "      <td>https://www.oreilly.com/ideas/four-short-links...</td>\n",
       "      <td>True</td>\n",
       "      <td>tag:www.oreilly.com,2019-04-23:/ideas/four-sho...</td>\n",
       "      <td>http://feedproxy.google.com/~r/oreilly/radar/a...</td>\n",
       "      <td>[{'href': 'http://feedproxy.google.com/~r/orei...</td>\n",
       "      <td>&lt;p&gt;&lt;em&gt;Worker-run Gig Factories, Persistence o...</td>\n",
       "      <td>Four short links: 23 April 2019</td>\n",
       "      <td>{'type': 'text/plain', 'language': None, 'base...</td>\n",
       "      <td>2019-04-23T12:25:00Z</td>\n",
       "      <td>(2019, 4, 23, 12, 25, 0, 1, 113, 0)</td>\n",
       "    </tr>\n",
       "  </tbody>\n",
       "</table>\n",
       "</div>"
      ],
      "text/plain": [
       "                                    author  \\\n",
       "0                               Ben Lorica   \n",
       "1  Wayne Chang, Gregory Rocco, Jacob Blish   \n",
       "2                           Nat Torkington   \n",
       "3                           Nat Torkington   \n",
       "4                           Nat Torkington   \n",
       "\n",
       "                                       author_detail  \\\n",
       "0                             {'name': 'Ben Lorica'}   \n",
       "1  {'name': 'Wayne Chang, Gregory Rocco, Jacob Bl...   \n",
       "2                         {'name': 'Nat Torkington'}   \n",
       "3                         {'name': 'Nat Torkington'}   \n",
       "4                         {'name': 'Nat Torkington'}   \n",
       "\n",
       "                                             authors  \\\n",
       "0                           [{'name': 'Ben Lorica'}]   \n",
       "1  [{'name': 'Wayne Chang, Gregory Rocco, Jacob B...   \n",
       "2                       [{'name': 'Nat Torkington'}]   \n",
       "3                       [{'name': 'Nat Torkington'}]   \n",
       "4                       [{'name': 'Nat Torkington'}]   \n",
       "\n",
       "                                             content  \\\n",
       "0  [{'type': 'text/html', 'language': None, 'base...   \n",
       "1  [{'type': 'text/html', 'language': None, 'base...   \n",
       "2  [{'type': 'text/html', 'language': None, 'base...   \n",
       "3  [{'type': 'text/html', 'language': None, 'base...   \n",
       "4  [{'type': 'text/html', 'language': None, 'base...   \n",
       "\n",
       "                                 feedburner_origlink  guidislink  \\\n",
       "0  https://www.oreilly.com/ideas/why-companies-ar...        True   \n",
       "1  https://www.oreilly.com/ideas/stablecoins-solv...        True   \n",
       "2  https://www.oreilly.com/ideas/four-short-links...        True   \n",
       "3  https://www.oreilly.com/ideas/four-short-links...        True   \n",
       "4  https://www.oreilly.com/ideas/four-short-links...        True   \n",
       "\n",
       "                                                  id  \\\n",
       "0  tag:www.oreilly.com,2019-04-25:/ideas/why-comp...   \n",
       "1  tag:www.oreilly.com,2019-04-25:/ideas/stableco...   \n",
       "2  tag:www.oreilly.com,2019-04-25:/ideas/four-sho...   \n",
       "3  tag:www.oreilly.com,2019-04-24:/ideas/four-sho...   \n",
       "4  tag:www.oreilly.com,2019-04-23:/ideas/four-sho...   \n",
       "\n",
       "                                                link  \\\n",
       "0  http://feedproxy.google.com/~r/oreilly/radar/a...   \n",
       "1  http://feedproxy.google.com/~r/oreilly/radar/a...   \n",
       "2  http://feedproxy.google.com/~r/oreilly/radar/a...   \n",
       "3  http://feedproxy.google.com/~r/oreilly/radar/a...   \n",
       "4  http://feedproxy.google.com/~r/oreilly/radar/a...   \n",
       "\n",
       "                                               links  \\\n",
       "0  [{'href': 'http://feedproxy.google.com/~r/orei...   \n",
       "1  [{'href': 'http://feedproxy.google.com/~r/orei...   \n",
       "2  [{'href': 'http://feedproxy.google.com/~r/orei...   \n",
       "3  [{'href': 'http://feedproxy.google.com/~r/orei...   \n",
       "4  [{'href': 'http://feedproxy.google.com/~r/orei...   \n",
       "\n",
       "                                             summary  \\\n",
       "0  <p><img src='https://d3ucjech6zwjp8.cloudfront...   \n",
       "1  <p><img src='https://d3ucjech6zwjp8.cloudfront...   \n",
       "2  <p><em>Values Risk, Brain Interface, Hacking S...   \n",
       "3  <p><em>Control is a Shrug, Glitch Languages, S...   \n",
       "4  <p><em>Worker-run Gig Factories, Persistence o...   \n",
       "\n",
       "                                               title  \\\n",
       "0  Why companies are in need of data lineage solu...   \n",
       "1  Stablecoins: Solving the cryptocurrency volati...   \n",
       "2                    Four short links: 25 April 2019   \n",
       "3                    Four short links: 24 April 2019   \n",
       "4                    Four short links: 23 April 2019   \n",
       "\n",
       "                                        title_detail               updated  \\\n",
       "0  {'type': 'text/plain', 'language': None, 'base...  2019-04-25T11:15:00Z   \n",
       "1  {'type': 'text/plain', 'language': None, 'base...  2019-04-25T11:00:00Z   \n",
       "2  {'type': 'text/plain', 'language': None, 'base...  2019-04-25T10:50:00Z   \n",
       "3  {'type': 'text/plain', 'language': None, 'base...  2019-04-24T10:55:00Z   \n",
       "4  {'type': 'text/plain', 'language': None, 'base...  2019-04-23T12:25:00Z   \n",
       "\n",
       "                        updated_parsed  \n",
       "0  (2019, 4, 25, 11, 15, 0, 3, 115, 0)  \n",
       "1   (2019, 4, 25, 11, 0, 0, 3, 115, 0)  \n",
       "2  (2019, 4, 25, 10, 50, 0, 3, 115, 0)  \n",
       "3  (2019, 4, 24, 10, 55, 0, 2, 114, 0)  \n",
       "4  (2019, 4, 23, 12, 25, 0, 1, 113, 0)  "
      ]
     },
     "metadata": {},
     "output_type": "display_data"
    }
   ],
   "source": [
    "entry=pd.DataFrame.from_dict(res['entries'])\n",
    "display (entry.head())"
   ]
  },
  {
   "cell_type": "markdown",
   "metadata": {},
   "source": [
    "### 10. Count the number of entries per author and sort them in descending order."
   ]
  },
  {
   "cell_type": "code",
   "execution_count": 13,
   "metadata": {},
   "outputs": [
    {
     "data": {
      "text/plain": [
       "Nat Torkington    21\n",
       "Ben Lorica         3\n",
       "Mike Loukides      2\n",
       "Mac Slocum         2\n",
       "Chris Ré           1\n",
       "Name: author, dtype: int64"
      ]
     },
     "metadata": {},
     "output_type": "display_data"
    }
   ],
   "source": [
    "author=entry['author'].value_counts()\n",
    "display (author.head())"
   ]
  },
  {
   "cell_type": "markdown",
   "metadata": {},
   "source": [
    "### 11. Add a new column to the data frame that contains the length (number of characters) of each entry title. Return a data frame that contains the title, author, and title length of each entry in descending order (longest title length at the top)."
   ]
  },
  {
   "cell_type": "code",
   "execution_count": 14,
   "metadata": {},
   "outputs": [
    {
     "data": {
      "text/html": [
       "<div>\n",
       "<style scoped>\n",
       "    .dataframe tbody tr th:only-of-type {\n",
       "        vertical-align: middle;\n",
       "    }\n",
       "\n",
       "    .dataframe tbody tr th {\n",
       "        vertical-align: top;\n",
       "    }\n",
       "\n",
       "    .dataframe thead th {\n",
       "        text-align: right;\n",
       "    }\n",
       "</style>\n",
       "<table border=\"1\" class=\"dataframe\">\n",
       "  <thead>\n",
       "    <tr style=\"text-align: right;\">\n",
       "      <th></th>\n",
       "      <th>author</th>\n",
       "      <th>author_detail</th>\n",
       "      <th>authors</th>\n",
       "      <th>content</th>\n",
       "      <th>feedburner_origlink</th>\n",
       "      <th>guidislink</th>\n",
       "      <th>id</th>\n",
       "      <th>link</th>\n",
       "      <th>links</th>\n",
       "      <th>summary</th>\n",
       "      <th>title</th>\n",
       "      <th>title_detail</th>\n",
       "      <th>updated</th>\n",
       "      <th>updated_parsed</th>\n",
       "      <th>len_title</th>\n",
       "    </tr>\n",
       "  </thead>\n",
       "  <tbody>\n",
       "    <tr>\n",
       "      <th>0</th>\n",
       "      <td>Ben Lorica</td>\n",
       "      <td>{'name': 'Ben Lorica'}</td>\n",
       "      <td>[{'name': 'Ben Lorica'}]</td>\n",
       "      <td>[{'type': 'text/html', 'language': None, 'base...</td>\n",
       "      <td>https://www.oreilly.com/ideas/why-companies-ar...</td>\n",
       "      <td>True</td>\n",
       "      <td>tag:www.oreilly.com,2019-04-25:/ideas/why-comp...</td>\n",
       "      <td>http://feedproxy.google.com/~r/oreilly/radar/a...</td>\n",
       "      <td>[{'href': 'http://feedproxy.google.com/~r/orei...</td>\n",
       "      <td>&lt;p&gt;&lt;img src='https://d3ucjech6zwjp8.cloudfront...</td>\n",
       "      <td>Why companies are in need of data lineage solu...</td>\n",
       "      <td>{'type': 'text/plain', 'language': None, 'base...</td>\n",
       "      <td>2019-04-25T11:15:00Z</td>\n",
       "      <td>(2019, 4, 25, 11, 15, 0, 3, 115, 0)</td>\n",
       "      <td>51</td>\n",
       "    </tr>\n",
       "    <tr>\n",
       "      <th>1</th>\n",
       "      <td>Wayne Chang, Gregory Rocco, Jacob Blish</td>\n",
       "      <td>{'name': 'Wayne Chang, Gregory Rocco, Jacob Bl...</td>\n",
       "      <td>[{'name': 'Wayne Chang, Gregory Rocco, Jacob B...</td>\n",
       "      <td>[{'type': 'text/html', 'language': None, 'base...</td>\n",
       "      <td>https://www.oreilly.com/ideas/stablecoins-solv...</td>\n",
       "      <td>True</td>\n",
       "      <td>tag:www.oreilly.com,2019-04-25:/ideas/stableco...</td>\n",
       "      <td>http://feedproxy.google.com/~r/oreilly/radar/a...</td>\n",
       "      <td>[{'href': 'http://feedproxy.google.com/~r/orei...</td>\n",
       "      <td>&lt;p&gt;&lt;img src='https://d3ucjech6zwjp8.cloudfront...</td>\n",
       "      <td>Stablecoins: Solving the cryptocurrency volati...</td>\n",
       "      <td>{'type': 'text/plain', 'language': None, 'base...</td>\n",
       "      <td>2019-04-25T11:00:00Z</td>\n",
       "      <td>(2019, 4, 25, 11, 0, 0, 3, 115, 0)</td>\n",
       "      <td>57</td>\n",
       "    </tr>\n",
       "    <tr>\n",
       "      <th>2</th>\n",
       "      <td>Nat Torkington</td>\n",
       "      <td>{'name': 'Nat Torkington'}</td>\n",
       "      <td>[{'name': 'Nat Torkington'}]</td>\n",
       "      <td>[{'type': 'text/html', 'language': None, 'base...</td>\n",
       "      <td>https://www.oreilly.com/ideas/four-short-links...</td>\n",
       "      <td>True</td>\n",
       "      <td>tag:www.oreilly.com,2019-04-25:/ideas/four-sho...</td>\n",
       "      <td>http://feedproxy.google.com/~r/oreilly/radar/a...</td>\n",
       "      <td>[{'href': 'http://feedproxy.google.com/~r/orei...</td>\n",
       "      <td>&lt;p&gt;&lt;em&gt;Values Risk, Brain Interface, Hacking S...</td>\n",
       "      <td>Four short links: 25 April 2019</td>\n",
       "      <td>{'type': 'text/plain', 'language': None, 'base...</td>\n",
       "      <td>2019-04-25T10:50:00Z</td>\n",
       "      <td>(2019, 4, 25, 10, 50, 0, 3, 115, 0)</td>\n",
       "      <td>31</td>\n",
       "    </tr>\n",
       "    <tr>\n",
       "      <th>3</th>\n",
       "      <td>Nat Torkington</td>\n",
       "      <td>{'name': 'Nat Torkington'}</td>\n",
       "      <td>[{'name': 'Nat Torkington'}]</td>\n",
       "      <td>[{'type': 'text/html', 'language': None, 'base...</td>\n",
       "      <td>https://www.oreilly.com/ideas/four-short-links...</td>\n",
       "      <td>True</td>\n",
       "      <td>tag:www.oreilly.com,2019-04-24:/ideas/four-sho...</td>\n",
       "      <td>http://feedproxy.google.com/~r/oreilly/radar/a...</td>\n",
       "      <td>[{'href': 'http://feedproxy.google.com/~r/orei...</td>\n",
       "      <td>&lt;p&gt;&lt;em&gt;Control is a Shrug, Glitch Languages, S...</td>\n",
       "      <td>Four short links: 24 April 2019</td>\n",
       "      <td>{'type': 'text/plain', 'language': None, 'base...</td>\n",
       "      <td>2019-04-24T10:55:00Z</td>\n",
       "      <td>(2019, 4, 24, 10, 55, 0, 2, 114, 0)</td>\n",
       "      <td>31</td>\n",
       "    </tr>\n",
       "    <tr>\n",
       "      <th>4</th>\n",
       "      <td>Nat Torkington</td>\n",
       "      <td>{'name': 'Nat Torkington'}</td>\n",
       "      <td>[{'name': 'Nat Torkington'}]</td>\n",
       "      <td>[{'type': 'text/html', 'language': None, 'base...</td>\n",
       "      <td>https://www.oreilly.com/ideas/four-short-links...</td>\n",
       "      <td>True</td>\n",
       "      <td>tag:www.oreilly.com,2019-04-23:/ideas/four-sho...</td>\n",
       "      <td>http://feedproxy.google.com/~r/oreilly/radar/a...</td>\n",
       "      <td>[{'href': 'http://feedproxy.google.com/~r/orei...</td>\n",
       "      <td>&lt;p&gt;&lt;em&gt;Worker-run Gig Factories, Persistence o...</td>\n",
       "      <td>Four short links: 23 April 2019</td>\n",
       "      <td>{'type': 'text/plain', 'language': None, 'base...</td>\n",
       "      <td>2019-04-23T12:25:00Z</td>\n",
       "      <td>(2019, 4, 23, 12, 25, 0, 1, 113, 0)</td>\n",
       "      <td>31</td>\n",
       "    </tr>\n",
       "  </tbody>\n",
       "</table>\n",
       "</div>"
      ],
      "text/plain": [
       "                                    author  \\\n",
       "0                               Ben Lorica   \n",
       "1  Wayne Chang, Gregory Rocco, Jacob Blish   \n",
       "2                           Nat Torkington   \n",
       "3                           Nat Torkington   \n",
       "4                           Nat Torkington   \n",
       "\n",
       "                                       author_detail  \\\n",
       "0                             {'name': 'Ben Lorica'}   \n",
       "1  {'name': 'Wayne Chang, Gregory Rocco, Jacob Bl...   \n",
       "2                         {'name': 'Nat Torkington'}   \n",
       "3                         {'name': 'Nat Torkington'}   \n",
       "4                         {'name': 'Nat Torkington'}   \n",
       "\n",
       "                                             authors  \\\n",
       "0                           [{'name': 'Ben Lorica'}]   \n",
       "1  [{'name': 'Wayne Chang, Gregory Rocco, Jacob B...   \n",
       "2                       [{'name': 'Nat Torkington'}]   \n",
       "3                       [{'name': 'Nat Torkington'}]   \n",
       "4                       [{'name': 'Nat Torkington'}]   \n",
       "\n",
       "                                             content  \\\n",
       "0  [{'type': 'text/html', 'language': None, 'base...   \n",
       "1  [{'type': 'text/html', 'language': None, 'base...   \n",
       "2  [{'type': 'text/html', 'language': None, 'base...   \n",
       "3  [{'type': 'text/html', 'language': None, 'base...   \n",
       "4  [{'type': 'text/html', 'language': None, 'base...   \n",
       "\n",
       "                                 feedburner_origlink  guidislink  \\\n",
       "0  https://www.oreilly.com/ideas/why-companies-ar...        True   \n",
       "1  https://www.oreilly.com/ideas/stablecoins-solv...        True   \n",
       "2  https://www.oreilly.com/ideas/four-short-links...        True   \n",
       "3  https://www.oreilly.com/ideas/four-short-links...        True   \n",
       "4  https://www.oreilly.com/ideas/four-short-links...        True   \n",
       "\n",
       "                                                  id  \\\n",
       "0  tag:www.oreilly.com,2019-04-25:/ideas/why-comp...   \n",
       "1  tag:www.oreilly.com,2019-04-25:/ideas/stableco...   \n",
       "2  tag:www.oreilly.com,2019-04-25:/ideas/four-sho...   \n",
       "3  tag:www.oreilly.com,2019-04-24:/ideas/four-sho...   \n",
       "4  tag:www.oreilly.com,2019-04-23:/ideas/four-sho...   \n",
       "\n",
       "                                                link  \\\n",
       "0  http://feedproxy.google.com/~r/oreilly/radar/a...   \n",
       "1  http://feedproxy.google.com/~r/oreilly/radar/a...   \n",
       "2  http://feedproxy.google.com/~r/oreilly/radar/a...   \n",
       "3  http://feedproxy.google.com/~r/oreilly/radar/a...   \n",
       "4  http://feedproxy.google.com/~r/oreilly/radar/a...   \n",
       "\n",
       "                                               links  \\\n",
       "0  [{'href': 'http://feedproxy.google.com/~r/orei...   \n",
       "1  [{'href': 'http://feedproxy.google.com/~r/orei...   \n",
       "2  [{'href': 'http://feedproxy.google.com/~r/orei...   \n",
       "3  [{'href': 'http://feedproxy.google.com/~r/orei...   \n",
       "4  [{'href': 'http://feedproxy.google.com/~r/orei...   \n",
       "\n",
       "                                             summary  \\\n",
       "0  <p><img src='https://d3ucjech6zwjp8.cloudfront...   \n",
       "1  <p><img src='https://d3ucjech6zwjp8.cloudfront...   \n",
       "2  <p><em>Values Risk, Brain Interface, Hacking S...   \n",
       "3  <p><em>Control is a Shrug, Glitch Languages, S...   \n",
       "4  <p><em>Worker-run Gig Factories, Persistence o...   \n",
       "\n",
       "                                               title  \\\n",
       "0  Why companies are in need of data lineage solu...   \n",
       "1  Stablecoins: Solving the cryptocurrency volati...   \n",
       "2                    Four short links: 25 April 2019   \n",
       "3                    Four short links: 24 April 2019   \n",
       "4                    Four short links: 23 April 2019   \n",
       "\n",
       "                                        title_detail               updated  \\\n",
       "0  {'type': 'text/plain', 'language': None, 'base...  2019-04-25T11:15:00Z   \n",
       "1  {'type': 'text/plain', 'language': None, 'base...  2019-04-25T11:00:00Z   \n",
       "2  {'type': 'text/plain', 'language': None, 'base...  2019-04-25T10:50:00Z   \n",
       "3  {'type': 'text/plain', 'language': None, 'base...  2019-04-24T10:55:00Z   \n",
       "4  {'type': 'text/plain', 'language': None, 'base...  2019-04-23T12:25:00Z   \n",
       "\n",
       "                        updated_parsed  len_title  \n",
       "0  (2019, 4, 25, 11, 15, 0, 3, 115, 0)         51  \n",
       "1   (2019, 4, 25, 11, 0, 0, 3, 115, 0)         57  \n",
       "2  (2019, 4, 25, 10, 50, 0, 3, 115, 0)         31  \n",
       "3  (2019, 4, 24, 10, 55, 0, 2, 114, 0)         31  \n",
       "4  (2019, 4, 23, 12, 25, 0, 1, 113, 0)         31  "
      ]
     },
     "metadata": {},
     "output_type": "display_data"
    }
   ],
   "source": [
    "len_title=[len(entry['title'][i]) for i in range(len(entry))]\n",
    "entry['len_title']=len_title\n",
    "display (entry.head())"
   ]
  },
  {
   "cell_type": "markdown",
   "metadata": {},
   "source": [
    "### 12. Create a list of entry titles whose summary includes the phrase \"machine learning.\""
   ]
  },
  {
   "cell_type": "code",
   "execution_count": 15,
   "metadata": {},
   "outputs": [
    {
     "name": "stdout",
     "output_type": "stream",
     "text": [
      "['Why companies are in need of data lineage solutions', 'Decoding the human genome with deep learning', 'Applied machine learning at Facebook', \"Highlights from the O'Reilly Artificial Intelligence Conference in New York 2019\", 'Strata San Francisco, 2019: Opportunities and Risks', 'Why a data scientist is not a data engineer', '150+ live online training courses opened for April and May', 'De-biasing language', 'Specialized tools for machine learning development and model governance are becoming essential', 'Highlights from the Strata Data Conference in San Francisco 2019', 'It’s time for data scientists to collaborate with researchers in other disciplines', 'Four short links: 28 March 2019', 'AI and cryptography: Challenges and opportunities']\n"
     ]
    }
   ],
   "source": [
    "ML=[entry['title'][i] for i in range(len(entry)) if 'machine learning' in entry['summary'][i]]\n",
    "print (ML)"
   ]
  },
  {
   "cell_type": "code",
   "execution_count": null,
   "metadata": {},
   "outputs": [],
   "source": []
  }
 ],
 "metadata": {
  "kernelspec": {
   "display_name": "Python 3",
   "language": "python",
   "name": "python3"
  },
  "language_info": {
   "codemirror_mode": {
    "name": "ipython",
    "version": 3
   },
   "file_extension": ".py",
   "mimetype": "text/x-python",
   "name": "python",
   "nbconvert_exporter": "python",
   "pygments_lexer": "ipython3",
   "version": "3.7.2"
  }
 },
 "nbformat": 4,
 "nbformat_minor": 2
}
