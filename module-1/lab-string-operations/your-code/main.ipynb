{
 "cells": [
  {
   "cell_type": "markdown",
   "metadata": {},
   "source": [
    "# Before your start:\n",
    "- Read the README.md file\n",
    "- Comment as much as you can and use the resources in the README.md file\n",
    "- Happy learning!"
   ]
  },
  {
   "cell_type": "code",
   "execution_count": 119,
   "metadata": {},
   "outputs": [],
   "source": [
    "import re"
   ]
  },
  {
   "cell_type": "markdown",
   "metadata": {},
   "source": [
    "# Challenge 1 - Combining Strings\n",
    "\n",
    "Combining strings is an important skill to acquire. There are multiple ways of combining strings in Python, as well as combining strings with variables. We will explore this in the first challenge. In the cell below, combine the strings in the list and add spaces between the strings (do not add a space after the last string). Insert a period after the last string."
   ]
  },
  {
   "cell_type": "code",
   "execution_count": 13,
   "metadata": {},
   "outputs": [
    {
     "data": {
      "text/plain": [
       "'Durante un tiempo no estuvo segura de si su marido era su marido.'"
      ]
     },
     "execution_count": 13,
     "metadata": {},
     "output_type": "execute_result"
    }
   ],
   "source": [
    "str_list = ['Durante', 'un', 'tiempo', 'no', 'estuvo', 'segura', 'de', 'si', 'su', 'marido', 'era', 'su', 'marido']\n",
    "# Your code here:\n",
    "a= ' '.join(str_list) + \".\"\n",
    "a"
   ]
  },
  {
   "cell_type": "markdown",
   "metadata": {},
   "source": [
    "In the cell below, use the list of strings to create a grocery list. Start the list with the string `Grocery list: ` and include a comma and a space between each item except for the last one. Include a period at the end. Only include foods in the list that start with the letter 'b' and ensure all foods are lower case."
   ]
  },
  {
   "cell_type": "code",
   "execution_count": 65,
   "metadata": {},
   "outputs": [
    {
     "data": {
      "text/plain": [
       "'bananas , bread , brownie mix , broccoli.'"
      ]
     },
     "execution_count": 65,
     "metadata": {},
     "output_type": "execute_result"
    }
   ],
   "source": [
    "food_list = ['Bananas', 'Chocolate', 'bread', 'diapers', 'Ice Cream', 'Brownie Mix', 'broccoli']\n",
    "# Your code here:\n",
    "Grocery_list=[]\n",
    "for a in food_list:\n",
    "    if a.startswith('b') == True:\n",
    "        Grocery_list.append(a)\n",
    "    if a.startswith('B') == True:\n",
    "         Grocery_list.append(a)\n",
    "Grocery_list = \" , \".join(Grocery_list) + \".\"\n",
    "Grocery_list = Grocery_list.lower()\n",
    "Grocery_list"
   ]
  },
  {
   "cell_type": "markdown",
   "metadata": {},
   "source": [
    "In the cell below, write a function that computes the area of a circle using its radius. Compute the area of the circle and insert the radius and the area between the two strings. Make sure to include spaces between the variable and the strings. \n",
    "\n",
    "Note: You can use the techniques we have learned so far or use f-strings. F-strings allow us to embed code inside strings. You can read more about f-strings [here](https://www.python.org/dev/peps/pep-0498/)."
   ]
  },
  {
   "cell_type": "code",
   "execution_count": 70,
   "metadata": {},
   "outputs": [
    {
     "data": {
      "text/plain": [
       "'The area of the circle with radius: 5 is: 78.53981633974483'"
      ]
     },
     "execution_count": 70,
     "metadata": {},
     "output_type": "execute_result"
    }
   ],
   "source": [
    "import math\n",
    "\n",
    "string1 = \"The area of the circle with radius:\"\n",
    "string2  = \"is:\"\n",
    "radius = 4.5\n",
    "\n",
    "def area(x, pi = math.pi):\n",
    "    ar = math.pi *x*x\n",
    "    string1 = \"The area of the circle with radius:\"\n",
    "    string2  = \"is:\"\n",
    "    return \"{} {} {} {}\".format(string1,x,string2,ar)\n",
    "    \n",
    "\n",
    "area(5)\n",
    "\n",
    "    \n",
    "    # This function takes a radius and returns the area of a circle. We also pass a default value for pi.\n",
    "    # Input: Float (and default value for pi)\n",
    "    # Output: Float\n",
    "    \n",
    "    # Sample input: 5.0\n",
    "    # Sample Output: 78.53981633\n",
    "    \n",
    "    # Your code here:\n",
    "    \n",
    "    \n",
    "# Your output string here:"
   ]
  },
  {
   "cell_type": "markdown",
   "metadata": {},
   "source": [
    "# Challenge 2 - Splitting Strings\n",
    "\n",
    "We have first looked at combining strings into one long string. There are times where we need to do the opposite and split the string into smaller components for further analysis. \n",
    "\n",
    "In the cell below, split the string into a list of strings using the space delimiter. Count the frequency of each word in the string in a dictionary. Strip the periods, line breaks and commas from the text. Make sure to remove empty strings from your dictionary."
   ]
  },
  {
   "cell_type": "code",
   "execution_count": 74,
   "metadata": {},
   "outputs": [
    {
     "data": {
      "text/plain": [
       "{'And': 1,\n",
       " 'But': 1,\n",
       " 'From': 1,\n",
       " 'I': 4,\n",
       " 'Is': 1,\n",
       " 'Some': 2,\n",
       " 'To': 1,\n",
       " 'also': 1,\n",
       " 'desire': 1,\n",
       " 'destruction': 1,\n",
       " 'end': 1,\n",
       " 'enough': 1,\n",
       " 'favor': 1,\n",
       " 'fire': 2,\n",
       " 'for': 1,\n",
       " 'great': 1,\n",
       " 'had': 1,\n",
       " 'hate': 1,\n",
       " 'hold': 1,\n",
       " 'ice': 2,\n",
       " 'if': 1,\n",
       " 'in': 2,\n",
       " 'it': 1,\n",
       " 'know': 1,\n",
       " 'of': 2,\n",
       " 'perish': 1,\n",
       " 'say': 3,\n",
       " 'suffice': 1,\n",
       " 'tasted': 1,\n",
       " 'that': 1,\n",
       " 'the': 1,\n",
       " 'think': 1,\n",
       " 'those': 1,\n",
       " 'to': 1,\n",
       " 'twice': 1,\n",
       " 've': 1,\n",
       " 'what': 1,\n",
       " 'who': 1,\n",
       " 'will': 1,\n",
       " 'with': 1,\n",
       " 'world': 1,\n",
       " 'would': 1}"
      ]
     },
     "execution_count": 74,
     "metadata": {},
     "output_type": "execute_result"
    }
   ],
   "source": [
    "poem = \"\"\"Some say the world will end in fire,\n",
    "Some say in ice.\n",
    "From what I’ve tasted of desire\n",
    "I hold with those who favor fire.\n",
    "But if it had to perish twice,\n",
    "I think I know enough of hate\n",
    "To say that for destruction ice\n",
    "Is also great\n",
    "And would suffice.\"\"\"\n",
    "poem = poem.replace(\",\", \"\").replace(\".\", \"\").replace(\"\\n\",\" \").replace(\"’\", \" \")\n",
    "poem = poem.split(\" \")\n",
    "diccionario ={}\n",
    "\n",
    "for a in poem:\n",
    "    b= poem.count(a)\n",
    "    diccionario[a]=b\n",
    "    \n",
    "diccionario\n",
    "\n",
    "    \n",
    "\n",
    "\n",
    "\n",
    "    \n",
    "\n"
   ]
  },
  {
   "cell_type": "markdown",
   "metadata": {},
   "source": [
    "In the cell below, find all the words that appear in the text and do not appear in the blacklist. You must parse the string but can choose any data structure you wish for the words that do not appear in the blacklist. Remove all non letter characters and convert all words to lower case."
   ]
  },
  {
   "cell_type": "code",
   "execution_count": 152,
   "metadata": {},
   "outputs": [
    {
     "data": {
      "text/plain": [
       "['i',\n",
       " 'was',\n",
       " 'angry',\n",
       " 'with',\n",
       " 'my',\n",
       " 'friend',\n",
       " 'i',\n",
       " 'told',\n",
       " 'my',\n",
       " 'wrath',\n",
       " 'my',\n",
       " 'wrath',\n",
       " 'did',\n",
       " 'endi',\n",
       " 'was',\n",
       " 'angry',\n",
       " 'with',\n",
       " 'my',\n",
       " 'foe',\n",
       " 'i',\n",
       " 'told',\n",
       " 'not',\n",
       " 'my',\n",
       " 'wrath',\n",
       " 'did',\n",
       " 'grow',\n",
       " 'i',\n",
       " 'waterd',\n",
       " 'fearsnight',\n",
       " '&',\n",
       " 'morning',\n",
       " 'with',\n",
       " 'my',\n",
       " 'tears',\n",
       " 'i',\n",
       " 'sunned',\n",
       " 'with',\n",
       " 'smilesand',\n",
       " 'with',\n",
       " 'soft',\n",
       " 'deceitful',\n",
       " 'wiles',\n",
       " 'grew',\n",
       " 'both',\n",
       " 'day',\n",
       " 'night',\n",
       " 'till',\n",
       " 'bore',\n",
       " 'apple',\n",
       " 'bright',\n",
       " 'my',\n",
       " 'foe',\n",
       " 'beheld',\n",
       " 'shineand',\n",
       " 'he',\n",
       " 'knew',\n",
       " 'that',\n",
       " 'was',\n",
       " 'mine',\n",
       " 'into',\n",
       " 'my',\n",
       " 'garden',\n",
       " 'stole',\n",
       " 'when',\n",
       " 'night',\n",
       " 'had',\n",
       " 'veild',\n",
       " 'pole',\n",
       " 'morning',\n",
       " 'glad',\n",
       " 'i',\n",
       " 'see',\n",
       " 'my',\n",
       " 'foe',\n",
       " 'outstretched',\n",
       " 'beneath',\n",
       " 'tree']"
      ]
     },
     "execution_count": 152,
     "metadata": {},
     "output_type": "execute_result"
    }
   ],
   "source": [
    "blacklist = ['and', 'as', 'an', 'a', 'the', 'in', 'it']\n",
    "\n",
    "poem = \"\"\"I was angry with my friend; \n",
    "I told my wrath, my wrath did end.\n",
    "I was angry with my foe: \n",
    "I told it not, my wrath did grow. \n",
    "\n",
    "And I waterd it in fears,\n",
    "Night & morning with my tears: \n",
    "And I sunned it with smiles,\n",
    "And with soft deceitful wiles. \n",
    "\n",
    "And it grew both day and night. \n",
    "Till it bore an apple bright. \n",
    "And my foe beheld it shine,\n",
    "And he knew that it was mine. \n",
    "\n",
    "And into my garden stole, \n",
    "When the night had veild the pole; \n",
    "In the morning glad I see; \n",
    "My foe outstretched beneath the tree.\"\"\"\n",
    "\n",
    "poem = poem.replace(\",\", \"\").replace(\".\", \"\").replace(\"\\n\",\"\").replace(\"’\", \"\").replace(\";\",\"\").replace(\":\",\"\")\n",
    "poem = poem.lower().split(\" \")\n",
    "nueva=[]\n",
    "for a in poem:\n",
    "    if a not in blacklist :\n",
    "        nueva.append(a)\n",
    "nueva\n",
    "\n"
   ]
  },
  {
   "cell_type": "code",
   "execution_count": 90,
   "metadata": {},
   "outputs": [],
   "source": []
  },
  {
   "cell_type": "markdown",
   "metadata": {},
   "source": [
    "# Challenge 3 - Regular Expressions\n",
    "\n",
    "Sometimes, we would like to perform more complex manipulations of our string. This is where regular expressions come in handy. In the cell below, return all characters that are upper case from the string specified below."
   ]
  },
  {
   "cell_type": "code",
   "execution_count": 113,
   "metadata": {},
   "outputs": [
    {
     "name": "stdout",
     "output_type": "stream",
     "text": [
      "THE APPARITION OF THESE FACES IN THE CROWD;\n",
      "PETALS ON A WET, BLACK BOUGH.\n"
     ]
    }
   ],
   "source": [
    "poem = \"\"\"The apparition of these faces in the crowd;\n",
    "Petals on a wet, black bough.\"\"\"\n",
    "\n",
    "print(poem.upper())\n",
    "\n",
    "\n"
   ]
  },
  {
   "cell_type": "markdown",
   "metadata": {},
   "source": [
    "In the cell below, filter the list provided and return all elements of the list containing a number. To filter the list, use the `re.search` function. Check if the function does not return `None`. You can read more about the `re.search` function [here](https://docs.python.org/3/library/re.html)."
   ]
  },
  {
   "cell_type": "code",
   "execution_count": 137,
   "metadata": {},
   "outputs": [
    {
     "data": {
      "text/plain": [
       "['123abc', 'abc123', 'JohnSmith1', 'ABBY4']"
      ]
     },
     "execution_count": 137,
     "metadata": {},
     "output_type": "execute_result"
    }
   ],
   "source": [
    "data = ['123abc', 'abc123', 'JohnSmith1', 'ABBY4', 'JANE']\n",
    "data2 = []\n",
    "for b in data:\n",
    "    if re.search('[0-9]',b):\n",
    "        data2.append(b)\n",
    "data2\n",
    "        "
   ]
  },
  {
   "cell_type": "markdown",
   "metadata": {},
   "source": [
    "# Bonus Challenge - Regular Expressions II\n",
    "\n",
    "In the cell below, filter the list provided to keep only strings containing at least one digit and at least one lower case letter. As in the previous question, use the `re.search` function and check that the result is not `None`.\n",
    "\n",
    "To read more about regular expressions, check out [this link](https://developers.google.com/edu/python/regular-expressions)."
   ]
  },
  {
   "cell_type": "code",
   "execution_count": 144,
   "metadata": {},
   "outputs": [
    {
     "data": {
      "text/plain": [
       "['123abc', 'abc123', 'JohnSmith1']"
      ]
     },
     "execution_count": 144,
     "metadata": {},
     "output_type": "execute_result"
    }
   ],
   "source": [
    "data = ['123abc', 'abc123', 'JohnSmith1', 'ABBY4', 'JANE']\n",
    "data3 = []\n",
    "for b in data:\n",
    "    if re.search('[0-9]',b) and re.search('[a-z]',b):\n",
    "        data3.append(b)\n",
    "data3\n"
   ]
  },
  {
   "cell_type": "code",
   "execution_count": null,
   "metadata": {},
   "outputs": [],
   "source": []
  }
 ],
 "metadata": {
  "kernelspec": {
   "display_name": "Python 3",
   "language": "python",
   "name": "python3"
  },
  "language_info": {
   "codemirror_mode": {
    "name": "ipython",
    "version": 3
   },
   "file_extension": ".py",
   "mimetype": "text/x-python",
   "name": "python",
   "nbconvert_exporter": "python",
   "pygments_lexer": "ipython3",
   "version": "3.5.2"
  }
 },
 "nbformat": 4,
 "nbformat_minor": 2
}
